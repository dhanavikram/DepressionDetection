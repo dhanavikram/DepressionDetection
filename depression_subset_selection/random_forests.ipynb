{
 "cells": [
  {
   "cell_type": "code",
   "execution_count": 2,
   "metadata": {},
   "outputs": [],
   "source": [
    "import pandas as pd\n",
    "from sklearn.preprocessing import StandardScaler\n",
    "from sklearn.ensemble import RandomForestClassifier\n",
    "from utils import *"
   ]
  },
  {
   "cell_type": "code",
   "execution_count": 3,
   "metadata": {},
   "outputs": [
    {
     "name": "stdout",
     "output_type": "stream",
     "text": [
      "Train data shape: (13056, 91)\n",
      "Test data shape: (3091, 91)\n"
     ]
    }
   ],
   "source": [
    "PATH_TRAIN = \"../processed_data/cleaned_data/clean_data.csv\"\n",
    "PATH_TEST = \"../processed_data/cleaned_data/clean_test_data.csv\"\n",
    "\n",
    "train_df = pd.read_csv(PATH_TRAIN)\n",
    "test_df = pd.read_csv(PATH_TEST)\n",
    "\n",
    "print(\"Train data shape:\", train_df.shape)\n",
    "print(\"Test data shape:\", test_df.shape)"
   ]
  },
  {
   "cell_type": "code",
   "execution_count": 4,
   "metadata": {},
   "outputs": [],
   "source": [
    "X_train = train_df.drop([\"Participant_ID\", \"Depression\"], axis=1)\n",
    "y_train = train_df[[\"Participant_ID\", \"Depression\", \"Gender\"]]\n",
    "\n",
    "X_test = test_df.drop([\"Participant_ID\", \"Depression\"], axis=1)\n",
    "y_test = test_df[[\"Participant_ID\", \"Depression\", \"Gender\"]]"
   ]
  },
  {
   "cell_type": "code",
   "execution_count": 5,
   "metadata": {},
   "outputs": [],
   "source": [
    "sc = StandardScaler()\n",
    "X_train_scaled = sc.fit_transform(X_train)\n",
    "X_test_scaled = sc.transform(X_test)"
   ]
  },
  {
   "cell_type": "code",
   "execution_count": 6,
   "metadata": {},
   "outputs": [
    {
     "name": "stderr",
     "output_type": "stream",
     "text": [
      "/Users/vikram/anaconda3/lib/python3.11/site-packages/sklearn/base.py:432: UserWarning: X has feature names, but RandomForestClassifier was fitted without feature names\n",
      "  warnings.warn(\n",
      "/var/folders/6m/wg76ryq57fnb356nt5xwlbl80000gn/T/ipykernel_35255/411549496.py:5: SettingWithCopyWarning: \n",
      "A value is trying to be set on a copy of a slice from a DataFrame.\n",
      "Try using .loc[row_indexer,col_indexer] = value instead\n",
      "\n",
      "See the caveats in the documentation: https://pandas.pydata.org/pandas-docs/stable/user_guide/indexing.html#returning-a-view-versus-a-copy\n",
      "  y_test[\"Depression_predicted\"] = predicted\n"
     ]
    }
   ],
   "source": [
    "model = RandomForestClassifier(max_depth=100, random_state=42, n_estimators=50, \n",
    "                               class_weight=calculate_class_weights(y_train, \"Depression\"))\n",
    "model.fit(X_train_scaled,y_train[\"Depression\"])\n",
    "predicted = model.predict(X_test)\n",
    "y_test[\"Depression_predicted\"] = predicted"
   ]
  },
  {
   "cell_type": "code",
   "execution_count": 7,
   "metadata": {},
   "outputs": [
    {
     "name": "stdout",
     "output_type": "stream",
     "text": [
      "Accuracy: 0.7\n",
      "Balanced Accuracy: 0.5\n",
      "Equality of Opportunity: 1.0\n"
     ]
    },
    {
     "data": {
      "image/png": "[encoded data removed]",
      "text/plain": [
       "<Figure size 600x600 with 1 Axes>"
      ]
     },
     "metadata": {},
     "output_type": "display_data"
    }
   ],
   "source": [
    "acc, bal_acc, eo_score = compute_metrics(y_test, eo=True)\n",
    "\n",
    "print(f\"Accuracy: {acc}\")\n",
    "print(f\"Balanced Accuracy: {bal_acc}\")\n",
    "print(f\"Equality of Opportunity: {eo_score}\")\n",
    "\n",
    "show_conf_matrix(y_test)"
   ]
  },
  {
   "cell_type": "markdown",
   "metadata": {},
   "source": [
    "## Imblearn's Balanced Random Forests"
   ]
  },
  {
   "cell_type": "code",
   "execution_count": 8,
   "metadata": {},
   "outputs": [],
   "source": [
    "from imblearn.ensemble import BalancedRandomForestClassifier"
   ]
  },
  {
   "cell_type": "code",
   "execution_count": 32,
   "metadata": {},
   "outputs": [
    {
     "name": "stderr",
     "output_type": "stream",
     "text": [
      "/Users/vikram/anaconda3/lib/python3.11/site-packages/imblearn/ensemble/_forest.py:546: FutureWarning: The default of `sampling_strategy` will change from `'auto'` to `'all'` in version 0.13. This change will follow the implementation proposed in the original paper. Set to `'all'` to silence this warning and adopt the future behaviour.\n",
      "  warn(\n",
      "/Users/vikram/anaconda3/lib/python3.11/site-packages/imblearn/ensemble/_forest.py:558: FutureWarning: The default of `replacement` will change from `False` to `True` in version 0.13. This change will follow the implementation proposed in the original paper. Set to `True` to silence this warning and adopt the future behaviour.\n",
      "  warn(\n",
      "/var/folders/6m/wg76ryq57fnb356nt5xwlbl80000gn/T/ipykernel_35255/3937183986.py:5: SettingWithCopyWarning: \n",
      "A value is trying to be set on a copy of a slice from a DataFrame.\n",
      "Try using .loc[row_indexer,col_indexer] = value instead\n",
      "\n",
      "See the caveats in the documentation: https://pandas.pydata.org/pandas-docs/stable/user_guide/indexing.html#returning-a-view-versus-a-copy\n",
      "  y_test[\"Depression_predicted\"] = predicted\n"
     ]
    }
   ],
   "source": [
    "model = BalancedRandomForestClassifier(max_depth=500, random_state=42, n_estimators=500)\n",
    "                               #class_weight=calculate_class_weights(y_train, \"Depression\"))\n",
    "model.fit(X_train_scaled,y_train[\"Depression\"])\n",
    "predicted = model.predict(X_test_scaled)\n",
    "y_test[\"Depression_predicted\"] = predicted"
   ]
  },
  {
   "cell_type": "code",
   "execution_count": 33,
   "metadata": {},
   "outputs": [
    {
     "name": "stdout",
     "output_type": "stream",
     "text": [
      "Accuracy: 0.6\n",
      "Balanced Accuracy: 0.5714285714285714\n",
      "Equality of Opportunity: 0.4\n"
     ]
    },
    {
     "data": {
      "image/png": "[encoded data removed]",
      "text/plain": [
       "<Figure size 600x600 with 1 Axes>"
      ]
     },
     "metadata": {},
     "output_type": "display_data"
    }
   ],
   "source": [
    "acc, bal_acc, eo_score = compute_metrics(y_test, eo=True)\n",
    "\n",
    "print(f\"Accuracy: {acc}\")\n",
    "print(f\"Balanced Accuracy: {bal_acc}\")\n",
    "print(f\"Equality of Opportunity: {eo_score}\")\n",
    "\n",
    "show_conf_matrix(y_test, model_name= \"Balanced Random Forests\")"
   ]
  },
  {
   "cell_type": "code",
   "execution_count": 13,
   "metadata": {},
   "outputs": [
    {
     "data": {
      "text/html": [
       "<div>\n",
       "<style scoped>\n",
       "    .dataframe tbody tr th:only-of-type {\n",
       "        vertical-align: middle;\n",
       "    }\n",
       "\n",
       "    .dataframe tbody tr th {\n",
       "        vertical-align: top;\n",
       "    }\n",
       "\n",
       "    .dataframe thead th {\n",
       "        text-align: right;\n",
       "    }\n",
       "</style>\n",
       "<table border=\"1\" class=\"dataframe\">\n",
       "  <thead>\n",
       "    <tr style=\"text-align: right;\">\n",
       "      <th></th>\n",
       "      <th>columns</th>\n",
       "      <th>importance</th>\n",
       "    </tr>\n",
       "  </thead>\n",
       "  <tbody>\n",
       "    <tr>\n",
       "      <th>0</th>\n",
       "      <td>F0semitoneFrom27.5Hz_sma3nz_amean</td>\n",
       "      <td>0.022120</td>\n",
       "    </tr>\n",
       "    <tr>\n",
       "      <th>1</th>\n",
       "      <td>F0semitoneFrom27.5Hz_sma3nz_stddevNorm</td>\n",
       "      <td>0.009885</td>\n",
       "    </tr>\n",
       "    <tr>\n",
       "      <th>2</th>\n",
       "      <td>F0semitoneFrom27.5Hz_sma3nz_percentile20.0</td>\n",
       "      <td>0.021200</td>\n",
       "    </tr>\n",
       "    <tr>\n",
       "      <th>3</th>\n",
       "      <td>F0semitoneFrom27.5Hz_sma3nz_percentile50.0</td>\n",
       "      <td>0.023912</td>\n",
       "    </tr>\n",
       "    <tr>\n",
       "      <th>4</th>\n",
       "      <td>F0semitoneFrom27.5Hz_sma3nz_percentile80.0</td>\n",
       "      <td>0.023719</td>\n",
       "    </tr>\n",
       "  </tbody>\n",
       "</table>\n",
       "</div>"
      ],
      "text/plain": [
       "                                      columns  importance\n",
       "0           F0semitoneFrom27.5Hz_sma3nz_amean    0.022120\n",
       "1      F0semitoneFrom27.5Hz_sma3nz_stddevNorm    0.009885\n",
       "2  F0semitoneFrom27.5Hz_sma3nz_percentile20.0    0.021200\n",
       "3  F0semitoneFrom27.5Hz_sma3nz_percentile50.0    0.023912\n",
       "4  F0semitoneFrom27.5Hz_sma3nz_percentile80.0    0.023719"
      ]
     },
     "execution_count": 13,
     "metadata": {},
     "output_type": "execute_result"
    }
   ],
   "source": [
    "n_best_features = pd.DataFrame({'columns': X_train.columns, 'importance': model.feature_importances_})\n",
    "n_best_features.head()"
   ]
  },
  {
   "cell_type": "code",
   "execution_count": 16,
   "metadata": {},
   "outputs": [
    {
     "data": {
      "text/html": [
       "<div>\n",
       "<style scoped>\n",
       "    .dataframe tbody tr th:only-of-type {\n",
       "        vertical-align: middle;\n",
       "    }\n",
       "\n",
       "    .dataframe tbody tr th {\n",
       "        vertical-align: top;\n",
       "    }\n",
       "\n",
       "    .dataframe thead th {\n",
       "        text-align: right;\n",
       "    }\n",
       "</style>\n",
       "<table border=\"1\" class=\"dataframe\">\n",
       "  <thead>\n",
       "    <tr style=\"text-align: right;\">\n",
       "      <th></th>\n",
       "      <th>columns</th>\n",
       "      <th>importance</th>\n",
       "    </tr>\n",
       "  </thead>\n",
       "  <tbody>\n",
       "    <tr>\n",
       "      <th>14</th>\n",
       "      <td>loudness_sma3_percentile80.0</td>\n",
       "      <td>0.024137</td>\n",
       "    </tr>\n",
       "    <tr>\n",
       "      <th>87</th>\n",
       "      <td>equivalentSoundLevel_dBp</td>\n",
       "      <td>0.024108</td>\n",
       "    </tr>\n",
       "    <tr>\n",
       "      <th>3</th>\n",
       "      <td>F0semitoneFrom27.5Hz_sma3nz_percentile50.0</td>\n",
       "      <td>0.023912</td>\n",
       "    </tr>\n",
       "    <tr>\n",
       "      <th>10</th>\n",
       "      <td>loudness_sma3_amean</td>\n",
       "      <td>0.023779</td>\n",
       "    </tr>\n",
       "    <tr>\n",
       "      <th>4</th>\n",
       "      <td>F0semitoneFrom27.5Hz_sma3nz_percentile80.0</td>\n",
       "      <td>0.023719</td>\n",
       "    </tr>\n",
       "  </tbody>\n",
       "</table>\n",
       "</div>"
      ],
      "text/plain": [
       "                                       columns  importance\n",
       "14                loudness_sma3_percentile80.0    0.024137\n",
       "87                    equivalentSoundLevel_dBp    0.024108\n",
       "3   F0semitoneFrom27.5Hz_sma3nz_percentile50.0    0.023912\n",
       "10                         loudness_sma3_amean    0.023779\n",
       "4   F0semitoneFrom27.5Hz_sma3nz_percentile80.0    0.023719"
      ]
     },
     "execution_count": 16,
     "metadata": {},
     "output_type": "execute_result"
    }
   ],
   "source": [
    "n_best_features = n_best_features.sort_values(by='importance', ascending=False)\n",
    "n_best_features.head()"
   ]
  },
  {
   "cell_type": "code",
   "execution_count": 59,
   "metadata": {},
   "outputs": [
    {
     "data": {
      "image/png": "[encoded data removed]",
      "text/plain": [
       "<Figure size 1500x400 with 3 Axes>"
      ]
     },
     "metadata": {},
     "output_type": "display_data"
    }
   ],
   "source": [
    "import warnings\n",
    "warnings.filterwarnings(\"ignore\")\n",
    "\n",
    "n_values = list(range(10, 91, 10))\n",
    "eo_scores = []\n",
    "acc_scores = []\n",
    "bal_acc_scores = []\n",
    "\n",
    "for n in n_values:\n",
    "    features = list(n_best_features.iloc[:n, 0].values)\n",
    "    X_train_subset = X_train[features]\n",
    "    X_test_subset = X_test[features]\n",
    "    sc = StandardScaler()\n",
    "    X_train_subset_scaled = sc.fit_transform(X_train_subset)\n",
    "    X_test_subset_scaled = sc.transform(X_test_subset)\n",
    "    model = BalancedRandomForestClassifier(max_depth=200, random_state=42, n_estimators=300)\n",
    "    model.fit(X_train_subset_scaled,y_train[\"Depression\"])\n",
    "    predicted = model.predict(X_test_subset_scaled)\n",
    "    y_test[\"Depression_predicted\"] = predicted\n",
    "\n",
    "    acc, bal_acc, eo_score = compute_metrics(y_test, eo=True)\n",
    "\n",
    "    eo_scores.append(eo_score)\n",
    "    acc_scores.append(acc)\n",
    "    bal_acc_scores.append(bal_acc)\n",
    "\n",
    "fig, ax = plt.subplots(nrows=1, ncols=3, figsize=(15, 4))\n",
    "ax = ax.flatten()\n",
    "\n",
    "ax[0].plot(n_values, eo_scores)\n",
    "ax[0].set_xlabel(\"Number of features\")\n",
    "ax[0].set_ylabel(\"EO score\")\n",
    "\n",
    "ax[1].plot(n_values, acc_scores)\n",
    "ax[1].set_xlabel(\"Number of features\")\n",
    "ax[1].set_ylabel(\"Accuracy\")\n",
    "\n",
    "ax[2].plot(n_values, bal_acc_scores)\n",
    "ax[2].set_xlabel(\"Number of features\")\n",
    "ax[2].set_ylabel(\"Balanced Accuracy\")\n",
    "\n",
    "plt.show()"
   ]
  },
  {
   "cell_type": "code",
   "execution_count": null,
   "metadata": {},
   "outputs": [],
   "source": []
  }
 ],
 "metadata": {
  "kernelspec": {
   "display_name": "base",
   "language": "python",
   "name": "python3"
  },
  "language_info": {
   "codemirror_mode": {
    "name": "ipython",
    "version": 3
   },
   "file_extension": ".py",
   "mimetype": "text/x-python",
   "name": "python",
   "nbconvert_exporter": "python",
   "pygments_lexer": "ipython3",
   "version": "3.11.7"
  }
 },
 "nbformat": 4,
 "nbformat_minor": 2
}
