{
 "cells": [
  {
   "cell_type": "code",
   "execution_count": 1,
   "metadata": {},
   "outputs": [],
   "source": [
    "# Import libraries\n",
    "import matplotlib.pyplot as plt\n",
    "import numpy as np\n",
    "import pandas as pd\n",
    "from utils import *\n",
    "from sklearn.preprocessing import StandardScaler\n",
    "import tensorflow as tf\n",
    "from tensorflow.keras.models import Sequential\n",
    "from tensorflow.keras.layers import Dense, Dropout\n",
    "from tensorflow.keras.optimizers import Adam, Nadam\n",
    "from keras import regularizers\n",
    "from keras import utils"
   ]
  },
  {
   "cell_type": "code",
   "execution_count": 2,
   "metadata": {},
   "outputs": [
    {
     "name": "stdout",
     "output_type": "stream",
     "text": [
      "Train data shape: (13056, 91)\n",
      "Test data shape: (3091, 91)\n"
     ]
    }
   ],
   "source": [
    "PATH_TRAIN = \"../processed_data/cleaned_data/clean_data.csv\"\n",
    "PATH_TEST = \"../processed_data/cleaned_data/clean_test_data.csv\"\n",
    "\n",
    "train_df = pd.read_csv(PATH_TRAIN)\n",
    "test_df = pd.read_csv(PATH_TEST)\n",
    "\n",
    "print(\"Train data shape:\", train_df.shape)\n",
    "print(\"Test data shape:\", test_df.shape)"
   ]
  },
  {
   "cell_type": "code",
   "execution_count": 3,
   "metadata": {},
   "outputs": [],
   "source": [
    "X_train_total = train_df.drop([\"Participant_ID\", \"Depression\"], axis=1)\n",
    "y_train_total = train_df[[\"Participant_ID\", \"Depression\", \"Gender\"]]\n",
    "\n",
    "X_test = test_df.drop([\"Participant_ID\", \"Depression\"], axis=1)\n",
    "y_test = test_df[[\"Participant_ID\", \"Depression\", \"Gender\"]]"
   ]
  },
  {
   "cell_type": "code",
   "execution_count": 4,
   "metadata": {},
   "outputs": [],
   "source": [
    "split_train = train_df[train_df['Participant_ID']<=460]\n",
    "splt_val = train_df[train_df['Participant_ID']>460]\n",
    "\n",
    "X_train = split_train.drop([\"Participant_ID\", \"Depression\"], axis=1)\n",
    "y_train = split_train[[\"Participant_ID\", \"Depression\", \"Gender\"]]\n",
    "\n",
    "X_val = splt_val.drop([\"Participant_ID\", \"Depression\"], axis=1)\n",
    "y_val = splt_val[[\"Participant_ID\", \"Depression\", \"Gender\"]]"
   ]
  },
  {
   "cell_type": "code",
   "execution_count": 5,
   "metadata": {},
   "outputs": [],
   "source": [
    "scaler = StandardScaler()\n",
    "X_scaled = scaler.fit_transform(X_train)\n",
    "X_scaled_val = scaler.transform(X_val)"
   ]
  },
  {
   "cell_type": "code",
   "execution_count": 6,
   "metadata": {},
   "outputs": [
    {
     "name": "stdout",
     "output_type": "stream",
     "text": [
      "Model: \"sequential\"\n",
      "_________________________________________________________________\n",
      " Layer (type)                Output Shape              Param #   \n",
      "=================================================================\n",
      " dense (Dense)               (None, 32)                2880      \n",
      "                                                                 \n",
      " dense_1 (Dense)             (None, 32)                1056      \n",
      "                                                                 \n",
      " dense_2 (Dense)             (None, 16)                528       \n",
      "                                                                 \n",
      " dense_3 (Dense)             (None, 1)                 17        \n",
      "                                                                 \n",
      "=================================================================\n",
      "Total params: 4481 (17.50 KB)\n",
      "Trainable params: 4481 (17.50 KB)\n",
      "Non-trainable params: 0 (0.00 Byte)\n",
      "_________________________________________________________________\n"
     ]
    },
    {
     "name": "stderr",
     "output_type": "stream",
     "text": [
      "WARNING:absl:At this time, the v2.11+ optimizer `tf.keras.optimizers.Adam` runs slowly on M1/M2 Macs, please use the legacy Keras optimizer instead, located at `tf.keras.optimizers.legacy.Adam`.\n"
     ]
    },
    {
     "name": "stdout",
     "output_type": "stream",
     "text": [
      "Epoch 1/25\n",
      "703/703 [==============================] - 1s 541us/step - loss: 0.1921 - accuracy: 0.9533 - val_loss: 0.4959 - val_accuracy: 0.9956\n",
      "Epoch 2/25\n",
      "703/703 [==============================] - 0s 441us/step - loss: 0.0582 - accuracy: 0.9984 - val_loss: 0.3150 - val_accuracy: 0.9989\n",
      "Epoch 3/25\n",
      "703/703 [==============================] - 0s 507us/step - loss: 0.0399 - accuracy: 1.0000 - val_loss: 0.3564 - val_accuracy: 0.9983\n",
      "Epoch 4/25\n",
      "703/703 [==============================] - 0s 437us/step - loss: 0.0286 - accuracy: 1.0000 - val_loss: 0.2550 - val_accuracy: 0.9983\n",
      "Epoch 5/25\n",
      "703/703 [==============================] - 0s 501us/step - loss: 0.0197 - accuracy: 1.0000 - val_loss: 0.1745 - val_accuracy: 0.9983\n",
      "Epoch 6/25\n",
      "703/703 [==============================] - 0s 441us/step - loss: 0.0196 - accuracy: 0.9987 - val_loss: 0.1990 - val_accuracy: 0.9972\n",
      "Epoch 7/25\n",
      "703/703 [==============================] - 0s 518us/step - loss: 0.0179 - accuracy: 0.9988 - val_loss: 0.1018 - val_accuracy: 0.9983\n",
      "Epoch 8/25\n",
      "703/703 [==============================] - 0s 441us/step - loss: 0.0122 - accuracy: 1.0000 - val_loss: 0.0612 - val_accuracy: 0.9983\n",
      "Epoch 9/25\n",
      "703/703 [==============================] - 0s 505us/step - loss: 0.0093 - accuracy: 1.0000 - val_loss: 0.0272 - val_accuracy: 0.9989\n",
      "Epoch 10/25\n",
      "703/703 [==============================] - 0s 438us/step - loss: 0.0072 - accuracy: 1.0000 - val_loss: 0.0065 - val_accuracy: 1.0000\n",
      "Epoch 11/25\n",
      "703/703 [==============================] - 0s 503us/step - loss: 0.0056 - accuracy: 1.0000 - val_loss: 0.0096 - val_accuracy: 0.9989\n",
      "Epoch 12/25\n",
      "703/703 [==============================] - 0s 439us/step - loss: 0.0172 - accuracy: 0.9978 - val_loss: 0.1159 - val_accuracy: 0.9983\n",
      "Epoch 13/25\n",
      "703/703 [==============================] - 0s 501us/step - loss: 0.0090 - accuracy: 0.9998 - val_loss: 0.0926 - val_accuracy: 0.9989\n",
      "Epoch 14/25\n",
      "703/703 [==============================] - 0s 442us/step - loss: 0.0065 - accuracy: 0.9999 - val_loss: 0.0931 - val_accuracy: 0.9994\n",
      "Epoch 15/25\n",
      "703/703 [==============================] - 0s 506us/step - loss: 0.0061 - accuracy: 0.9997 - val_loss: 0.1064 - val_accuracy: 0.9994\n",
      "Epoch 16/25\n",
      "703/703 [==============================] - 0s 443us/step - loss: 0.0046 - accuracy: 1.0000 - val_loss: 0.0804 - val_accuracy: 0.9994\n",
      "Epoch 17/25\n",
      "703/703 [==============================] - 0s 498us/step - loss: 0.0135 - accuracy: 0.9980 - val_loss: 0.1214 - val_accuracy: 0.9983\n",
      "Epoch 18/25\n",
      "703/703 [==============================] - 0s 453us/step - loss: 0.0099 - accuracy: 0.9993 - val_loss: 0.0987 - val_accuracy: 0.9983\n",
      "Epoch 19/25\n",
      "703/703 [==============================] - 0s 502us/step - loss: 0.0061 - accuracy: 1.0000 - val_loss: 0.0888 - val_accuracy: 0.9983\n",
      "Epoch 20/25\n",
      "703/703 [==============================] - 0s 440us/step - loss: 0.0049 - accuracy: 1.0000 - val_loss: 0.0726 - val_accuracy: 0.9983\n",
      "Epoch 21/25\n",
      "703/703 [==============================] - 0s 514us/step - loss: 0.0041 - accuracy: 1.0000 - val_loss: 0.0516 - val_accuracy: 0.9983\n",
      "Epoch 22/25\n",
      "703/703 [==============================] - 0s 441us/step - loss: 0.0052 - accuracy: 0.9998 - val_loss: 0.0120 - val_accuracy: 0.9989\n",
      "Epoch 23/25\n",
      "703/703 [==============================] - 0s 499us/step - loss: 0.0051 - accuracy: 0.9997 - val_loss: 0.0053 - val_accuracy: 0.9994\n",
      "Epoch 24/25\n",
      "703/703 [==============================] - 0s 441us/step - loss: 0.0034 - accuracy: 1.0000 - val_loss: 0.0045 - val_accuracy: 0.9994\n",
      "Epoch 25/25\n",
      "703/703 [==============================] - 0s 499us/step - loss: 0.0132 - accuracy: 0.9978 - val_loss: 0.0091 - val_accuracy: 0.9989\n"
     ]
    }
   ],
   "source": [
    "utils.set_random_seed(3)\n",
    "model3 = Sequential()\n",
    "model3.add(Dense(32, activation='relu', input_shape=(X_train.shape[1],),kernel_regularizer=regularizers.L2(0.001)))\n",
    "model3.add(Dense(32, activation='relu',kernel_regularizer=regularizers.L2(0.0005)))\n",
    "# model3.add(Dense(16, activation='relu',kernel_regularizer=regularizers.L2(0.01)))\n",
    "model3.add(Dense(16, activation='relu',kernel_regularizer=regularizers.L2(0.0001)))\n",
    "model3.add(Dense(1, activation=\"sigmoid\"))\n",
    "model3.summary()\n",
    "model3.compile(loss=\"binary_crossentropy\", optimizer = Adam(learning_rate=0.001),metrics=[\"accuracy\"])\n",
    "trained_model = model3.fit(X_scaled, np.array(y_train[\"Gender\"]), \n",
    "                           epochs=25,batch_size=16, \n",
    "                           validation_data=(X_scaled_val, np.array(y_val[\"Gender\"])),\n",
    "                           class_weight = {0: 0.7, 1: 2})\n"
   ]
  },
  {
   "cell_type": "code",
   "execution_count": 7,
   "metadata": {},
   "outputs": [
    {
     "data": {
      "image/png": "[encoded data removed]",
      "text/plain": [
       "<Figure size 600x400 with 1 Axes>"
      ]
     },
     "metadata": {},
     "output_type": "display_data"
    }
   ],
   "source": [
    "fig, ax = plt.subplots(figsize=(6, 4))\n",
    "plt.plot(trained_model.history[\"accuracy\"], label=\"accuracy\")\n",
    "plt.plot(trained_model.history[\"val_accuracy\"], label=\"val_accuracy\")\n",
    "plt.xlabel(\"Epochs\")\n",
    "plt.ylabel(\"Accuracy\")\n",
    "plt.legend()\n",
    "plt.show()"
   ]
  },
  {
   "cell_type": "markdown",
   "metadata": {},
   "source": [
    "# Test data performance"
   ]
  },
  {
   "cell_type": "code",
   "execution_count": 8,
   "metadata": {},
   "outputs": [],
   "source": [
    "scaler = StandardScaler()\n",
    "X_scaled_total = scaler.fit_transform(X_train_total)\n",
    "X_scaled_test = scaler.transform(X_test)"
   ]
  },
  {
   "cell_type": "code",
   "execution_count": 9,
   "metadata": {},
   "outputs": [
    {
     "name": "stdout",
     "output_type": "stream",
     "text": [
      "Model: \"sequential_1\"\n",
      "_________________________________________________________________\n",
      " Layer (type)                Output Shape              Param #   \n",
      "=================================================================\n",
      " dense_4 (Dense)             (None, 32)                2880      \n",
      "                                                                 \n",
      " dense_5 (Dense)             (None, 32)                1056      \n",
      "                                                                 \n",
      " dense_6 (Dense)             (None, 16)                528       \n",
      "                                                                 \n",
      " dense_7 (Dense)             (None, 1)                 17        \n",
      "                                                                 \n",
      "=================================================================\n",
      "Total params: 4481 (17.50 KB)\n",
      "Trainable params: 4481 (17.50 KB)\n",
      "Non-trainable params: 0 (0.00 Byte)\n",
      "_________________________________________________________________\n"
     ]
    },
    {
     "name": "stderr",
     "output_type": "stream",
     "text": [
      "WARNING:absl:At this time, the v2.11+ optimizer `tf.keras.optimizers.Adam` runs slowly on M1/M2 Macs, please use the legacy Keras optimizer instead, located at `tf.keras.optimizers.legacy.Adam`.\n"
     ]
    },
    {
     "name": "stdout",
     "output_type": "stream",
     "text": [
      "Epoch 1/25\n",
      "816/816 [==============================] - 1s 389us/step - loss: 0.1732 - accuracy: 0.9600\n",
      "Epoch 2/25\n",
      "816/816 [==============================] - 0s 367us/step - loss: 0.0533 - accuracy: 0.9992\n",
      "Epoch 3/25\n",
      "816/816 [==============================] - 0s 420us/step - loss: 0.0381 - accuracy: 0.9995\n",
      "Epoch 4/25\n",
      "816/816 [==============================] - 0s 369us/step - loss: 0.0285 - accuracy: 0.9998\n",
      "Epoch 5/25\n",
      "816/816 [==============================] - 0s 419us/step - loss: 0.0243 - accuracy: 0.9991\n",
      "Epoch 6/25\n",
      "816/816 [==============================] - 0s 367us/step - loss: 0.0185 - accuracy: 0.9997\n",
      "Epoch 7/25\n",
      "816/816 [==============================] - 0s 423us/step - loss: 0.0125 - accuracy: 1.0000\n",
      "Epoch 8/25\n",
      "816/816 [==============================] - 0s 367us/step - loss: 0.0138 - accuracy: 0.9991\n",
      "Epoch 9/25\n",
      "816/816 [==============================] - 0s 431us/step - loss: 0.0165 - accuracy: 0.9988\n",
      "Epoch 10/25\n",
      "816/816 [==============================] - 0s 366us/step - loss: 0.0102 - accuracy: 0.9999\n",
      "Epoch 11/25\n",
      "816/816 [==============================] - 0s 419us/step - loss: 0.0075 - accuracy: 1.0000\n",
      "Epoch 12/25\n",
      "816/816 [==============================] - 0s 367us/step - loss: 0.0062 - accuracy: 0.9999\n",
      "Epoch 13/25\n",
      "816/816 [==============================] - 0s 426us/step - loss: 0.0122 - accuracy: 0.9989\n",
      "Epoch 14/25\n",
      "816/816 [==============================] - 0s 367us/step - loss: 0.0096 - accuracy: 0.9992\n",
      "Epoch 15/25\n",
      "816/816 [==============================] - 0s 420us/step - loss: 0.0073 - accuracy: 0.9999\n",
      "Epoch 16/25\n",
      "816/816 [==============================] - 0s 366us/step - loss: 0.0060 - accuracy: 0.9999\n",
      "Epoch 17/25\n",
      "816/816 [==============================] - 0s 413us/step - loss: 0.0065 - accuracy: 0.9998\n",
      "Epoch 18/25\n",
      "816/816 [==============================] - 0s 367us/step - loss: 0.0045 - accuracy: 1.0000\n",
      "Epoch 19/25\n",
      "816/816 [==============================] - 0s 419us/step - loss: 0.0035 - accuracy: 1.0000\n",
      "Epoch 20/25\n",
      "816/816 [==============================] - 0s 374us/step - loss: 0.0117 - accuracy: 0.9985\n",
      "Epoch 21/25\n",
      "816/816 [==============================] - 0s 419us/step - loss: 0.0057 - accuracy: 0.9998\n",
      "Epoch 22/25\n",
      "816/816 [==============================] - 0s 370us/step - loss: 0.0043 - accuracy: 1.0000\n",
      "Epoch 23/25\n",
      "816/816 [==============================] - 0s 418us/step - loss: 0.0035 - accuracy: 1.0000\n",
      "Epoch 24/25\n",
      "816/816 [==============================] - 0s 367us/step - loss: 0.0030 - accuracy: 1.0000\n",
      "Epoch 25/25\n",
      "816/816 [==============================] - 0s 417us/step - loss: 0.0094 - accuracy: 0.9989\n"
     ]
    }
   ],
   "source": [
    "utils.set_random_seed(3)\n",
    "model3 = Sequential()\n",
    "model3.add(Dense(32, activation='relu', input_shape=(X_train.shape[1],),kernel_regularizer=regularizers.L2(0.001)))\n",
    "model3.add(Dense(32, activation='relu',kernel_regularizer=regularizers.L2(0.0005)))\n",
    "# model3.add(Dense(16, activation='relu',kernel_regularizer=regularizers.L2(0.01)))\n",
    "model3.add(Dense(16, activation='relu',kernel_regularizer=regularizers.L2(0.0001)))\n",
    "model3.add(Dense(1, activation=\"sigmoid\"))\n",
    "model3.summary()\n",
    "model3.compile(loss=\"binary_crossentropy\", optimizer = Adam(learning_rate=0.001),metrics=[\"accuracy\"])\n",
    "trained_model = model3.fit(X_scaled_total, np.array(y_train_total[\"Gender\"]), \n",
    "                           epochs=25,batch_size=16,\n",
    "                           class_weight = {0: 0.7, 1: 2})"
   ]
  },
  {
   "cell_type": "code",
   "execution_count": 10,
   "metadata": {},
   "outputs": [
    {
     "name": "stdout",
     "output_type": "stream",
     "text": [
      "97/97 [==============================] - 0s 275us/step\n"
     ]
    },
    {
     "name": "stderr",
     "output_type": "stream",
     "text": [
      "/var/folders/6m/wg76ryq57fnb356nt5xwlbl80000gn/T/ipykernel_10217/4191948966.py:2: SettingWithCopyWarning: \n",
      "A value is trying to be set on a copy of a slice from a DataFrame.\n",
      "Try using .loc[row_indexer,col_indexer] = value instead\n",
      "\n",
      "See the caveats in the documentation: https://pandas.pydata.org/pandas-docs/stable/user_guide/indexing.html#returning-a-view-versus-a-copy\n",
      "  y_test[\"Gender_predicted\"] = np.where(y_pred>=0.5,1,0)\n"
     ]
    }
   ],
   "source": [
    "y_pred = model3.predict(X_scaled_test)\n",
    "y_test[\"Gender_predicted\"] = np.where(y_pred>=0.5,1,0)"
   ]
  },
  {
   "cell_type": "code",
   "execution_count": 11,
   "metadata": {},
   "outputs": [
    {
     "data": {
      "text/html": [
       "<div>\n",
       "<style scoped>\n",
       "    .dataframe tbody tr th:only-of-type {\n",
       "        vertical-align: middle;\n",
       "    }\n",
       "\n",
       "    .dataframe tbody tr th {\n",
       "        vertical-align: top;\n",
       "    }\n",
       "\n",
       "    .dataframe thead th {\n",
       "        text-align: right;\n",
       "    }\n",
       "</style>\n",
       "<table border=\"1\" class=\"dataframe\">\n",
       "  <thead>\n",
       "    <tr style=\"text-align: right;\">\n",
       "      <th></th>\n",
       "      <th>Participant_ID</th>\n",
       "      <th>Depression</th>\n",
       "      <th>Gender</th>\n",
       "      <th>Gender_predicted</th>\n",
       "    </tr>\n",
       "  </thead>\n",
       "  <tbody>\n",
       "    <tr>\n",
       "      <th>0</th>\n",
       "      <td>474</td>\n",
       "      <td>0</td>\n",
       "      <td>1</td>\n",
       "      <td>1</td>\n",
       "    </tr>\n",
       "    <tr>\n",
       "      <th>1</th>\n",
       "      <td>474</td>\n",
       "      <td>0</td>\n",
       "      <td>1</td>\n",
       "      <td>1</td>\n",
       "    </tr>\n",
       "    <tr>\n",
       "      <th>2</th>\n",
       "      <td>474</td>\n",
       "      <td>0</td>\n",
       "      <td>1</td>\n",
       "      <td>1</td>\n",
       "    </tr>\n",
       "    <tr>\n",
       "      <th>3</th>\n",
       "      <td>474</td>\n",
       "      <td>0</td>\n",
       "      <td>1</td>\n",
       "      <td>1</td>\n",
       "    </tr>\n",
       "    <tr>\n",
       "      <th>4</th>\n",
       "      <td>474</td>\n",
       "      <td>0</td>\n",
       "      <td>1</td>\n",
       "      <td>1</td>\n",
       "    </tr>\n",
       "    <tr>\n",
       "      <th>...</th>\n",
       "      <td>...</td>\n",
       "      <td>...</td>\n",
       "      <td>...</td>\n",
       "      <td>...</td>\n",
       "    </tr>\n",
       "    <tr>\n",
       "      <th>3086</th>\n",
       "      <td>479</td>\n",
       "      <td>0</td>\n",
       "      <td>1</td>\n",
       "      <td>1</td>\n",
       "    </tr>\n",
       "    <tr>\n",
       "      <th>3087</th>\n",
       "      <td>479</td>\n",
       "      <td>0</td>\n",
       "      <td>1</td>\n",
       "      <td>1</td>\n",
       "    </tr>\n",
       "    <tr>\n",
       "      <th>3088</th>\n",
       "      <td>479</td>\n",
       "      <td>0</td>\n",
       "      <td>1</td>\n",
       "      <td>1</td>\n",
       "    </tr>\n",
       "    <tr>\n",
       "      <th>3089</th>\n",
       "      <td>479</td>\n",
       "      <td>0</td>\n",
       "      <td>1</td>\n",
       "      <td>1</td>\n",
       "    </tr>\n",
       "    <tr>\n",
       "      <th>3090</th>\n",
       "      <td>479</td>\n",
       "      <td>0</td>\n",
       "      <td>1</td>\n",
       "      <td>1</td>\n",
       "    </tr>\n",
       "  </tbody>\n",
       "</table>\n",
       "<p>3091 rows × 4 columns</p>\n",
       "</div>"
      ],
      "text/plain": [
       "      Participant_ID  Depression  Gender  Gender_predicted\n",
       "0                474           0       1                 1\n",
       "1                474           0       1                 1\n",
       "2                474           0       1                 1\n",
       "3                474           0       1                 1\n",
       "4                474           0       1                 1\n",
       "...              ...         ...     ...               ...\n",
       "3086             479           0       1                 1\n",
       "3087             479           0       1                 1\n",
       "3088             479           0       1                 1\n",
       "3089             479           0       1                 1\n",
       "3090             479           0       1                 1\n",
       "\n",
       "[3091 rows x 4 columns]"
      ]
     },
     "execution_count": 11,
     "metadata": {},
     "output_type": "execute_result"
    }
   ],
   "source": [
    "y_test"
   ]
  },
  {
   "cell_type": "code",
   "execution_count": 12,
   "metadata": {},
   "outputs": [
    {
     "name": "stdout",
     "output_type": "stream",
     "text": [
      "Accuracy: 1.0\n",
      "Balanced Accuracy: 1.0\n"
     ]
    },
    {
     "data": {
      "image/png": "[encoded data removed]",
      "text/plain": [
       "<Figure size 600x600 with 1 Axes>"
      ]
     },
     "metadata": {},
     "output_type": "display_data"
    }
   ],
   "source": [
    "acc, bal_acc = compute_metrics(y_test)\n",
    "print(f\"Accuracy: {acc}\")\n",
    "print(f\"Balanced Accuracy: {bal_acc}\")\n",
    "show_conf_matrix(y_test)"
   ]
  }
 ],
 "metadata": {
  "kernelspec": {
   "display_name": "base",
   "language": "python",
   "name": "python3"
  },
  "language_info": {
   "codemirror_mode": {
    "name": "ipython",
    "version": 3
   },
   "file_extension": ".py",
   "mimetype": "text/x-python",
   "name": "python",
   "nbconvert_exporter": "python",
   "pygments_lexer": "ipython3",
   "version": "3.11.7"
  }
 },
 "nbformat": 4,
 "nbformat_minor": 2
}
