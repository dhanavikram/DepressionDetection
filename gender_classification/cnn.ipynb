{
 "cells": [
  {
   "cell_type": "code",
   "execution_count": 156,
   "metadata": {},
   "outputs": [],
   "source": [
    "from utils import *\n",
    "import tensorflow as tf\n",
    "from keras.optimizers import Adam\n",
    "from keras import utils"
   ]
  },
  {
   "cell_type": "code",
   "execution_count": 157,
   "metadata": {},
   "outputs": [
    {
     "name": "stdout",
     "output_type": "stream",
     "text": [
      "Removing null values present in spk_402.csv\n"
     ]
    }
   ],
   "source": [
    "df_dict , max_rows, num_features = read_conv(train=True)\n",
    "features, depression_labels, gender_labels = prep_conv_data(df_dict, max_rows, num_features)"
   ]
  },
  {
   "cell_type": "code",
   "execution_count": 158,
   "metadata": {},
   "outputs": [
    {
     "name": "stderr",
     "output_type": "stream",
     "text": [
      "WARNING:absl:At this time, the v2.11+ optimizer `tf.keras.optimizers.Adam` runs slowly on M1/M2 Macs, please use the legacy Keras optimizer instead, located at `tf.keras.optimizers.legacy.Adam`.\n"
     ]
    },
    {
     "name": "stdout",
     "output_type": "stream",
     "text": [
      "Model: \"sequential_15\"\n",
      "_________________________________________________________________\n",
      " Layer (type)                Output Shape              Param #   \n",
      "=================================================================\n",
      " conv2d_33 (Conv2D)          (None, 378, 88, 8)        2056      \n",
      "                                                                 \n",
      " max_pooling2d_33 (MaxPooli  (None, 189, 44, 8)        0         \n",
      " ng2D)                                                           \n",
      "                                                                 \n",
      " conv2d_34 (Conv2D)          (None, 182, 37, 16)       8208      \n",
      "                                                                 \n",
      " max_pooling2d_34 (MaxPooli  (None, 91, 18, 16)        0         \n",
      " ng2D)                                                           \n",
      "                                                                 \n",
      " flatten_15 (Flatten)        (None, 26208)             0         \n",
      "                                                                 \n",
      " dense_30 (Dense)            (None, 128)               3354752   \n",
      "                                                                 \n",
      " dropout_17 (Dropout)        (None, 128)               0         \n",
      "                                                                 \n",
      " dense_31 (Dense)            (None, 1)                 129       \n",
      "                                                                 \n",
      "=================================================================\n",
      "Total params: 3365145 (12.84 MB)\n",
      "Trainable params: 3365145 (12.84 MB)\n",
      "Non-trainable params: 0 (0.00 Byte)\n",
      "_________________________________________________________________\n",
      "None\n"
     ]
    }
   ],
   "source": [
    "# define and train CNN Model\n",
    "utils.set_random_seed(3)\n",
    "model = tf.keras.Sequential([\n",
    "    tf.keras.layers.Conv2D(8, (16, 16), padding=\"same\", use_bias = True, activation='relu',\n",
    "                           input_shape=(378, 88, 1),\n",
    "                           kernel_regularizer=tf.keras.regularizers.L2(l2=0.001)),\n",
    "    tf.keras.layers.MaxPooling2D((2, 2)),\n",
    "    tf.keras.layers.Conv2D(16, (8, 8),use_bias = True, activation='relu',\n",
    "                           kernel_regularizer=tf.keras.regularizers.L2(l2=0.001)),\n",
    "    tf.keras.layers.MaxPooling2D((2, 2)),\n",
    "    tf.keras.layers.Flatten(),\n",
    "    tf.keras.layers.Dense(128, activation='relu'),\n",
    "    tf.keras.layers.Dropout(0.4),\n",
    "    tf.keras.layers.Dense(1, activation='sigmoid')\n",
    "])\n",
    "\n",
    "model.compile(optimizer=Adam(learning_rate=0.0001), loss='binary_crossentropy', metrics=['accuracy'])\n",
    "print(model.summary())"
   ]
  },
  {
   "cell_type": "code",
   "execution_count": 159,
   "metadata": {},
   "outputs": [],
   "source": [
    "unique_classes, class_counts = np.unique(gender_labels, return_counts=True)\n",
    "total_samples = gender_labels.shape[0]\n",
    "class_weights = {}\n",
    "\n",
    "for class_label, class_count in zip(unique_classes, class_counts):\n",
    "    class_weight = total_samples / (2.0 * class_count)\n",
    "    class_weights[class_label] = class_weight"
   ]
  },
  {
   "cell_type": "code",
   "execution_count": 160,
   "metadata": {},
   "outputs": [
    {
     "name": "stdout",
     "output_type": "stream",
     "text": [
      "Epoch 1/25\n",
      "10/10 [==============================] - 4s 321ms/step - loss: 102.7472 - accuracy: 0.5616 - val_loss: 80.8861 - val_accuracy: 0.2857\n",
      "Epoch 2/25\n",
      "10/10 [==============================] - 3s 312ms/step - loss: 97.6077 - accuracy: 0.4795 - val_loss: 80.6218 - val_accuracy: 0.1429\n",
      "Epoch 3/25\n",
      "10/10 [==============================] - 3s 313ms/step - loss: 49.7099 - accuracy: 0.6164 - val_loss: 68.6232 - val_accuracy: 0.1429\n",
      "Epoch 4/25\n",
      "10/10 [==============================] - 3s 307ms/step - loss: 33.5472 - accuracy: 0.6849 - val_loss: 42.7334 - val_accuracy: 0.5714\n",
      "Epoch 5/25\n",
      "10/10 [==============================] - 3s 305ms/step - loss: 27.3546 - accuracy: 0.6712 - val_loss: 50.8645 - val_accuracy: 0.2857\n",
      "Epoch 6/25\n",
      "10/10 [==============================] - 3s 307ms/step - loss: 14.5911 - accuracy: 0.7123 - val_loss: 13.5581 - val_accuracy: 0.2857\n",
      "Epoch 7/25\n",
      "10/10 [==============================] - 3s 307ms/step - loss: 10.9187 - accuracy: 0.6849 - val_loss: 19.6094 - val_accuracy: 0.2143\n",
      "Epoch 8/25\n",
      "10/10 [==============================] - 3s 306ms/step - loss: 5.5667 - accuracy: 0.7534 - val_loss: 10.1751 - val_accuracy: 0.1429\n",
      "Epoch 9/25\n",
      "10/10 [==============================] - 3s 307ms/step - loss: 2.2032 - accuracy: 0.8356 - val_loss: 9.7780 - val_accuracy: 0.2857\n",
      "Epoch 10/25\n",
      "10/10 [==============================] - 3s 307ms/step - loss: 2.1836 - accuracy: 0.8630 - val_loss: 9.8480 - val_accuracy: 0.2857\n",
      "Epoch 11/25\n",
      "10/10 [==============================] - 3s 305ms/step - loss: 0.3342 - accuracy: 0.9178 - val_loss: 9.6238 - val_accuracy: 0.4286\n",
      "Epoch 12/25\n",
      "10/10 [==============================] - 3s 307ms/step - loss: 0.5586 - accuracy: 0.9452 - val_loss: 10.2027 - val_accuracy: 0.2143\n",
      "Epoch 13/25\n",
      "10/10 [==============================] - 3s 306ms/step - loss: 0.6809 - accuracy: 0.9178 - val_loss: 9.2753 - val_accuracy: 0.2143\n",
      "Epoch 14/25\n",
      "10/10 [==============================] - 3s 308ms/step - loss: 0.2678 - accuracy: 0.9452 - val_loss: 8.3183 - val_accuracy: 0.2857\n",
      "Epoch 15/25\n",
      "10/10 [==============================] - 3s 306ms/step - loss: 1.0033 - accuracy: 0.9178 - val_loss: 10.4343 - val_accuracy: 0.2143\n",
      "Epoch 16/25\n",
      "10/10 [==============================] - 3s 306ms/step - loss: 0.5464 - accuracy: 0.9178 - val_loss: 7.2121 - val_accuracy: 0.5000\n",
      "Epoch 17/25\n",
      "10/10 [==============================] - 3s 307ms/step - loss: 1.0716 - accuracy: 0.8767 - val_loss: 7.4335 - val_accuracy: 0.5714\n",
      "Epoch 18/25\n",
      "10/10 [==============================] - 3s 306ms/step - loss: 0.8313 - accuracy: 0.8767 - val_loss: 8.6466 - val_accuracy: 0.2143\n",
      "Epoch 19/25\n",
      "10/10 [==============================] - 3s 306ms/step - loss: 0.8413 - accuracy: 0.8356 - val_loss: 7.2832 - val_accuracy: 0.2143\n",
      "Epoch 20/25\n",
      "10/10 [==============================] - 3s 309ms/step - loss: 0.2822 - accuracy: 0.9315 - val_loss: 6.1229 - val_accuracy: 0.2143\n",
      "Epoch 21/25\n",
      "10/10 [==============================] - 3s 306ms/step - loss: 0.2681 - accuracy: 0.9452 - val_loss: 5.3194 - val_accuracy: 0.2857\n",
      "Epoch 22/25\n",
      "10/10 [==============================] - 3s 306ms/step - loss: 0.0580 - accuracy: 0.9863 - val_loss: 5.1909 - val_accuracy: 0.2857\n",
      "Epoch 23/25\n",
      "10/10 [==============================] - 3s 306ms/step - loss: 0.1652 - accuracy: 0.9315 - val_loss: 4.9526 - val_accuracy: 0.2857\n",
      "Epoch 24/25\n",
      "10/10 [==============================] - 3s 306ms/step - loss: 0.1623 - accuracy: 0.9726 - val_loss: 4.8717 - val_accuracy: 0.2857\n",
      "Epoch 25/25\n",
      "10/10 [==============================] - 3s 309ms/step - loss: 0.1674 - accuracy: 0.9726 - val_loss: 4.7249 - val_accuracy: 0.2857\n"
     ]
    }
   ],
   "source": [
    "#callback = tf.keras.callbacks.EarlyStopping(monitor='loss',\n",
    "#                                              patience=3)\n",
    "history = model.fit(features, gender_labels, epochs=25, batch_size=8, \n",
    "                    #callbacks=[callback],\n",
    "                    validation_split=0.15,\n",
    "                    class_weight=class_weights)"
   ]
  },
  {
   "cell_type": "code",
   "execution_count": 161,
   "metadata": {},
   "outputs": [
    {
     "data": {
      "image/png": "[encoded data removed]",
      "text/plain": [
       "<Figure size 600x400 with 1 Axes>"
      ]
     },
     "metadata": {},
     "output_type": "display_data"
    }
   ],
   "source": [
    "fig, ax = plt.subplots(figsize=(6, 4))\n",
    "plt.plot(history.history[\"accuracy\"], label=\"accuracy\")\n",
    "plt.plot(history.history[\"val_accuracy\"], label=\"val_accuracy\")\n",
    "plt.title(\"Learning Rate = 0.001\")\n",
    "plt.xlabel(\"Epochs\")\n",
    "plt.ylabel(\"Accuracy\")\n",
    "plt.legend()\n",
    "plt.show()"
   ]
  },
  {
   "cell_type": "code",
   "execution_count": 162,
   "metadata": {},
   "outputs": [],
   "source": [
    "test_df_dict , _, _ = read_conv(train=False)\n",
    "test_features, test_depression_labels, test_gender_labels = prep_conv_data(test_df_dict, max_rows, num_features)"
   ]
  },
  {
   "cell_type": "code",
   "execution_count": 163,
   "metadata": {},
   "outputs": [
    {
     "name": "stdout",
     "output_type": "stream",
     "text": [
      "1/1 [==============================] - 0s 73ms/step - loss: 1.0681 - accuracy: 0.8000\n",
      "Test loss:  1.0681278705596924\n",
      "Test accuracy:  0.800000011920929\n"
     ]
    }
   ],
   "source": [
    "test_loss, test_acc = model.evaluate(test_features,  test_gender_labels)\n",
    "print(\"Test loss: \", test_loss)\n",
    "print(\"Test accuracy: \", test_acc)"
   ]
  },
  {
   "cell_type": "code",
   "execution_count": 164,
   "metadata": {},
   "outputs": [
    {
     "data": {
      "text/html": [
       "<div>\n",
       "<style scoped>\n",
       "    .dataframe tbody tr th:only-of-type {\n",
       "        vertical-align: middle;\n",
       "    }\n",
       "\n",
       "    .dataframe tbody tr th {\n",
       "        vertical-align: top;\n",
       "    }\n",
       "\n",
       "    .dataframe thead th {\n",
       "        text-align: right;\n",
       "    }\n",
       "</style>\n",
       "<table border=\"1\" class=\"dataframe\">\n",
       "  <thead>\n",
       "    <tr style=\"text-align: right;\">\n",
       "      <th></th>\n",
       "      <th>Participant_ID</th>\n",
       "      <th>Depression</th>\n",
       "      <th>Gender</th>\n",
       "    </tr>\n",
       "  </thead>\n",
       "  <tbody>\n",
       "    <tr>\n",
       "      <th>0</th>\n",
       "      <td>305</td>\n",
       "      <td>0</td>\n",
       "      <td>1</td>\n",
       "    </tr>\n",
       "    <tr>\n",
       "      <th>1</th>\n",
       "      <td>312</td>\n",
       "      <td>0</td>\n",
       "      <td>1</td>\n",
       "    </tr>\n",
       "    <tr>\n",
       "      <th>2</th>\n",
       "      <td>315</td>\n",
       "      <td>0</td>\n",
       "      <td>1</td>\n",
       "    </tr>\n",
       "    <tr>\n",
       "      <th>3</th>\n",
       "      <td>320</td>\n",
       "      <td>1</td>\n",
       "      <td>0</td>\n",
       "    </tr>\n",
       "    <tr>\n",
       "      <th>4</th>\n",
       "      <td>321</td>\n",
       "      <td>1</td>\n",
       "      <td>0</td>\n",
       "    </tr>\n",
       "  </tbody>\n",
       "</table>\n",
       "</div>"
      ],
      "text/plain": [
       "   Participant_ID  Depression  Gender\n",
       "0             305           0       1\n",
       "1             312           0       1\n",
       "2             315           0       1\n",
       "3             320           1       0\n",
       "4             321           1       0"
      ]
     },
     "execution_count": 164,
     "metadata": {},
     "output_type": "execute_result"
    }
   ],
   "source": [
    "PATH_TEST = \"../processed_data/cleaned_data/clean_test_data.csv\"\n",
    "test_df = pd.read_csv(PATH_TEST)\n",
    "y_test = test_df[[\"Participant_ID\", \"Depression\", \"Gender\"]]\n",
    "y_test = y_test.groupby(\"Participant_ID\").agg({\"Depression\":\"max\", \"Gender\":\"max\"}).reset_index()\n",
    "y_test.head()"
   ]
  },
  {
   "cell_type": "code",
   "execution_count": 165,
   "metadata": {},
   "outputs": [
    {
     "name": "stdout",
     "output_type": "stream",
     "text": [
      "1/1 [==============================] - 0s 91ms/step\n"
     ]
    }
   ],
   "source": [
    "y_test[\"Gender_predicted\"] = model.predict(test_features)\n",
    "y_test['Gender_predicted'] = np.where(y_test['Gender_predicted']>=0.5, 1, 0)"
   ]
  },
  {
   "cell_type": "code",
   "execution_count": 166,
   "metadata": {},
   "outputs": [
    {
     "name": "stdout",
     "output_type": "stream",
     "text": [
      "Accuracy: 0.7\n",
      "Balanced Accuracy: 0.6666666666666667\n"
     ]
    },
    {
     "data": {
      "image/png": "[encoded data removed]",
      "text/plain": [
       "<Figure size 600x600 with 1 Axes>"
      ]
     },
     "metadata": {},
     "output_type": "display_data"
    }
   ],
   "source": [
    "# Compute metrics\n",
    "accuracy = accuracy_score(y_test['Gender'], y_test['Gender_predicted'])\n",
    "bal_accuracy = balanced_accuracy_score(y_test['Gender'], y_test['Gender_predicted'])\n",
    "\n",
    "print(f\"Accuracy: {accuracy}\")\n",
    "print(f\"Balanced Accuracy: {bal_accuracy}\")\n",
    "conf_matrix = confusion_matrix(y_test['Gender'], y_test['Gender_predicted'])\n",
    "#Visualizing the confusion matrix\n",
    "plt.rcParams['figure.figsize'] = (6, 6)\n",
    "display_c_m = ConfusionMatrixDisplay(conf_matrix)\n",
    "display_c_m.plot(cmap='YlOrBr', colorbar=False)\n",
    "plt.show()"
   ]
  }
 ],
 "metadata": {
  "kernelspec": {
   "display_name": "base",
   "language": "python",
   "name": "python3"
  },
  "language_info": {
   "codemirror_mode": {
    "name": "ipython",
    "version": 3
   },
   "file_extension": ".py",
   "mimetype": "text/x-python",
   "name": "python",
   "nbconvert_exporter": "python",
   "pygments_lexer": "ipython3",
   "version": "3.11.7"
  }
 },
 "nbformat": 4,
 "nbformat_minor": 2
}
