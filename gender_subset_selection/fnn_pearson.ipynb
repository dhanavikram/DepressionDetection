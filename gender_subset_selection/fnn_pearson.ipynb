{
 "cells": [
  {
   "cell_type": "code",
   "execution_count": 1,
   "metadata": {},
   "outputs": [],
   "source": [
    "# Import libraries\n",
    "import matplotlib.pyplot as plt\n",
    "import numpy as np\n",
    "import pandas as pd\n",
    "from utils import *\n",
    "from sklearn.preprocessing import StandardScaler\n",
    "import tensorflow as tf\n",
    "from tensorflow.keras.models import Sequential\n",
    "from tensorflow.keras.layers import Dense, Dropout\n",
    "from tensorflow.keras.optimizers import Adam, Nadam\n",
    "from keras import regularizers\n",
    "from keras import utils"
   ]
  },
  {
   "cell_type": "code",
   "execution_count": 2,
   "metadata": {},
   "outputs": [
    {
     "name": "stdout",
     "output_type": "stream",
     "text": [
      "Train data shape: (13056, 91)\n",
      "Test data shape: (3091, 91)\n"
     ]
    }
   ],
   "source": [
    "PATH_TRAIN = \"../processed_data/cleaned_data/clean_data.csv\"\n",
    "PATH_TEST = \"../processed_data/cleaned_data/clean_test_data.csv\"\n",
    "\n",
    "train_df = pd.read_csv(PATH_TRAIN)\n",
    "test_df = pd.read_csv(PATH_TEST)\n",
    "\n",
    "print(\"Train data shape:\", train_df.shape)\n",
    "print(\"Test data shape:\", test_df.shape)"
   ]
  },
  {
   "cell_type": "code",
   "execution_count": 3,
   "metadata": {},
   "outputs": [],
   "source": [
    "X_train_total = train_df.drop([\"Participant_ID\", \"Depression\"], axis=1)\n",
    "y_train_total = train_df[[\"Participant_ID\", \"Depression\", \"Gender\"]]\n",
    "\n",
    "X_test = test_df.drop([\"Participant_ID\", \"Depression\"], axis=1)\n",
    "y_test = test_df[[\"Participant_ID\", \"Depression\", \"Gender\"]]"
   ]
  },
  {
   "cell_type": "code",
   "execution_count": 40,
   "metadata": {},
   "outputs": [],
   "source": [
    "selection_df = pd.read_csv(\"../outputs/correlation.csv\")\n",
    "\n",
    "corr_sorted = selection_df[\"g_corr\"].sort_values(ascending=False)\n",
    "features_sorted = selection_df.iloc[corr_sorted.index][\"features\"]\n",
    "\n",
    "n_features_list = list(range(5, 90, 5))\n",
    "Bacc_lst = []\n",
    "acc_lst = []"
   ]
  },
  {
   "cell_type": "code",
   "execution_count": 41,
   "metadata": {},
   "outputs": [
    {
     "name": "stderr",
     "output_type": "stream",
     "text": [
      "WARNING:absl:At this time, the v2.11+ optimizer `tf.keras.optimizers.Nadam` runs slowly on M1/M2 Macs, please use the legacy Keras optimizer instead, located at `tf.keras.optimizers.legacy.Nadam`.\n"
     ]
    },
    {
     "name": "stdout",
     "output_type": "stream",
     "text": [
      "Model complete for n:  5\n",
      "97/97 [==============================] - 0s 283us/step\n"
     ]
    },
    {
     "name": "stderr",
     "output_type": "stream",
     "text": [
      "/var/folders/6m/wg76ryq57fnb356nt5xwlbl80000gn/T/ipykernel_1672/986595626.py:30: SettingWithCopyWarning: \n",
      "A value is trying to be set on a copy of a slice from a DataFrame.\n",
      "Try using .loc[row_indexer,col_indexer] = value instead\n",
      "\n",
      "See the caveats in the documentation: https://pandas.pydata.org/pandas-docs/stable/user_guide/indexing.html#returning-a-view-versus-a-copy\n",
      "  y_test[\"Gender_predicted\"] = np.where(y_pred>=0.5,1,0)\n",
      "WARNING:absl:At this time, the v2.11+ optimizer `tf.keras.optimizers.Nadam` runs slowly on M1/M2 Macs, please use the legacy Keras optimizer instead, located at `tf.keras.optimizers.legacy.Nadam`.\n"
     ]
    },
    {
     "name": "stdout",
     "output_type": "stream",
     "text": [
      "Model complete for n:  10\n",
      "97/97 [==============================] - 0s 277us/step\n"
     ]
    },
    {
     "name": "stderr",
     "output_type": "stream",
     "text": [
      "/var/folders/6m/wg76ryq57fnb356nt5xwlbl80000gn/T/ipykernel_1672/986595626.py:30: SettingWithCopyWarning: \n",
      "A value is trying to be set on a copy of a slice from a DataFrame.\n",
      "Try using .loc[row_indexer,col_indexer] = value instead\n",
      "\n",
      "See the caveats in the documentation: https://pandas.pydata.org/pandas-docs/stable/user_guide/indexing.html#returning-a-view-versus-a-copy\n",
      "  y_test[\"Gender_predicted\"] = np.where(y_pred>=0.5,1,0)\n",
      "WARNING:absl:At this time, the v2.11+ optimizer `tf.keras.optimizers.Nadam` runs slowly on M1/M2 Macs, please use the legacy Keras optimizer instead, located at `tf.keras.optimizers.legacy.Nadam`.\n"
     ]
    },
    {
     "name": "stdout",
     "output_type": "stream",
     "text": [
      "Model complete for n:  15\n",
      "97/97 [==============================] - 0s 275us/step\n"
     ]
    },
    {
     "name": "stderr",
     "output_type": "stream",
     "text": [
      "/var/folders/6m/wg76ryq57fnb356nt5xwlbl80000gn/T/ipykernel_1672/986595626.py:30: SettingWithCopyWarning: \n",
      "A value is trying to be set on a copy of a slice from a DataFrame.\n",
      "Try using .loc[row_indexer,col_indexer] = value instead\n",
      "\n",
      "See the caveats in the documentation: https://pandas.pydata.org/pandas-docs/stable/user_guide/indexing.html#returning-a-view-versus-a-copy\n",
      "  y_test[\"Gender_predicted\"] = np.where(y_pred>=0.5,1,0)\n",
      "WARNING:absl:At this time, the v2.11+ optimizer `tf.keras.optimizers.Nadam` runs slowly on M1/M2 Macs, please use the legacy Keras optimizer instead, located at `tf.keras.optimizers.legacy.Nadam`.\n"
     ]
    },
    {
     "name": "stdout",
     "output_type": "stream",
     "text": [
      "Model complete for n:  20\n",
      "97/97 [==============================] - 0s 277us/step\n"
     ]
    },
    {
     "name": "stderr",
     "output_type": "stream",
     "text": [
      "/var/folders/6m/wg76ryq57fnb356nt5xwlbl80000gn/T/ipykernel_1672/986595626.py:30: SettingWithCopyWarning: \n",
      "A value is trying to be set on a copy of a slice from a DataFrame.\n",
      "Try using .loc[row_indexer,col_indexer] = value instead\n",
      "\n",
      "See the caveats in the documentation: https://pandas.pydata.org/pandas-docs/stable/user_guide/indexing.html#returning-a-view-versus-a-copy\n",
      "  y_test[\"Gender_predicted\"] = np.where(y_pred>=0.5,1,0)\n",
      "WARNING:absl:At this time, the v2.11+ optimizer `tf.keras.optimizers.Nadam` runs slowly on M1/M2 Macs, please use the legacy Keras optimizer instead, located at `tf.keras.optimizers.legacy.Nadam`.\n"
     ]
    },
    {
     "name": "stdout",
     "output_type": "stream",
     "text": [
      "Model complete for n:  25\n",
      "97/97 [==============================] - 0s 273us/step\n"
     ]
    },
    {
     "name": "stderr",
     "output_type": "stream",
     "text": [
      "/var/folders/6m/wg76ryq57fnb356nt5xwlbl80000gn/T/ipykernel_1672/986595626.py:30: SettingWithCopyWarning: \n",
      "A value is trying to be set on a copy of a slice from a DataFrame.\n",
      "Try using .loc[row_indexer,col_indexer] = value instead\n",
      "\n",
      "See the caveats in the documentation: https://pandas.pydata.org/pandas-docs/stable/user_guide/indexing.html#returning-a-view-versus-a-copy\n",
      "  y_test[\"Gender_predicted\"] = np.where(y_pred>=0.5,1,0)\n",
      "WARNING:absl:At this time, the v2.11+ optimizer `tf.keras.optimizers.Nadam` runs slowly on M1/M2 Macs, please use the legacy Keras optimizer instead, located at `tf.keras.optimizers.legacy.Nadam`.\n"
     ]
    },
    {
     "name": "stdout",
     "output_type": "stream",
     "text": [
      "Model complete for n:  30\n",
      "97/97 [==============================] - 0s 284us/step\n"
     ]
    },
    {
     "name": "stderr",
     "output_type": "stream",
     "text": [
      "/var/folders/6m/wg76ryq57fnb356nt5xwlbl80000gn/T/ipykernel_1672/986595626.py:30: SettingWithCopyWarning: \n",
      "A value is trying to be set on a copy of a slice from a DataFrame.\n",
      "Try using .loc[row_indexer,col_indexer] = value instead\n",
      "\n",
      "See the caveats in the documentation: https://pandas.pydata.org/pandas-docs/stable/user_guide/indexing.html#returning-a-view-versus-a-copy\n",
      "  y_test[\"Gender_predicted\"] = np.where(y_pred>=0.5,1,0)\n",
      "WARNING:absl:At this time, the v2.11+ optimizer `tf.keras.optimizers.Nadam` runs slowly on M1/M2 Macs, please use the legacy Keras optimizer instead, located at `tf.keras.optimizers.legacy.Nadam`.\n"
     ]
    },
    {
     "name": "stdout",
     "output_type": "stream",
     "text": [
      "Model complete for n:  35\n",
      "97/97 [==============================] - 0s 277us/step\n"
     ]
    },
    {
     "name": "stderr",
     "output_type": "stream",
     "text": [
      "/var/folders/6m/wg76ryq57fnb356nt5xwlbl80000gn/T/ipykernel_1672/986595626.py:30: SettingWithCopyWarning: \n",
      "A value is trying to be set on a copy of a slice from a DataFrame.\n",
      "Try using .loc[row_indexer,col_indexer] = value instead\n",
      "\n",
      "See the caveats in the documentation: https://pandas.pydata.org/pandas-docs/stable/user_guide/indexing.html#returning-a-view-versus-a-copy\n",
      "  y_test[\"Gender_predicted\"] = np.where(y_pred>=0.5,1,0)\n",
      "WARNING:absl:At this time, the v2.11+ optimizer `tf.keras.optimizers.Nadam` runs slowly on M1/M2 Macs, please use the legacy Keras optimizer instead, located at `tf.keras.optimizers.legacy.Nadam`.\n"
     ]
    },
    {
     "name": "stdout",
     "output_type": "stream",
     "text": [
      "Model complete for n:  40\n",
      "97/97 [==============================] - 0s 277us/step\n"
     ]
    },
    {
     "name": "stderr",
     "output_type": "stream",
     "text": [
      "/var/folders/6m/wg76ryq57fnb356nt5xwlbl80000gn/T/ipykernel_1672/986595626.py:30: SettingWithCopyWarning: \n",
      "A value is trying to be set on a copy of a slice from a DataFrame.\n",
      "Try using .loc[row_indexer,col_indexer] = value instead\n",
      "\n",
      "See the caveats in the documentation: https://pandas.pydata.org/pandas-docs/stable/user_guide/indexing.html#returning-a-view-versus-a-copy\n",
      "  y_test[\"Gender_predicted\"] = np.where(y_pred>=0.5,1,0)\n",
      "WARNING:absl:At this time, the v2.11+ optimizer `tf.keras.optimizers.Nadam` runs slowly on M1/M2 Macs, please use the legacy Keras optimizer instead, located at `tf.keras.optimizers.legacy.Nadam`.\n"
     ]
    },
    {
     "name": "stdout",
     "output_type": "stream",
     "text": [
      "Model complete for n:  45\n",
      "97/97 [==============================] - 0s 265us/step\n"
     ]
    },
    {
     "name": "stderr",
     "output_type": "stream",
     "text": [
      "/var/folders/6m/wg76ryq57fnb356nt5xwlbl80000gn/T/ipykernel_1672/986595626.py:30: SettingWithCopyWarning: \n",
      "A value is trying to be set on a copy of a slice from a DataFrame.\n",
      "Try using .loc[row_indexer,col_indexer] = value instead\n",
      "\n",
      "See the caveats in the documentation: https://pandas.pydata.org/pandas-docs/stable/user_guide/indexing.html#returning-a-view-versus-a-copy\n",
      "  y_test[\"Gender_predicted\"] = np.where(y_pred>=0.5,1,0)\n",
      "WARNING:absl:At this time, the v2.11+ optimizer `tf.keras.optimizers.Nadam` runs slowly on M1/M2 Macs, please use the legacy Keras optimizer instead, located at `tf.keras.optimizers.legacy.Nadam`.\n"
     ]
    },
    {
     "name": "stdout",
     "output_type": "stream",
     "text": [
      "Model complete for n:  50\n",
      "97/97 [==============================] - 0s 277us/step\n"
     ]
    },
    {
     "name": "stderr",
     "output_type": "stream",
     "text": [
      "/var/folders/6m/wg76ryq57fnb356nt5xwlbl80000gn/T/ipykernel_1672/986595626.py:30: SettingWithCopyWarning: \n",
      "A value is trying to be set on a copy of a slice from a DataFrame.\n",
      "Try using .loc[row_indexer,col_indexer] = value instead\n",
      "\n",
      "See the caveats in the documentation: https://pandas.pydata.org/pandas-docs/stable/user_guide/indexing.html#returning-a-view-versus-a-copy\n",
      "  y_test[\"Gender_predicted\"] = np.where(y_pred>=0.5,1,0)\n",
      "WARNING:absl:At this time, the v2.11+ optimizer `tf.keras.optimizers.Nadam` runs slowly on M1/M2 Macs, please use the legacy Keras optimizer instead, located at `tf.keras.optimizers.legacy.Nadam`.\n"
     ]
    },
    {
     "name": "stdout",
     "output_type": "stream",
     "text": [
      "Model complete for n:  55\n",
      "97/97 [==============================] - 0s 268us/step\n"
     ]
    },
    {
     "name": "stderr",
     "output_type": "stream",
     "text": [
      "/var/folders/6m/wg76ryq57fnb356nt5xwlbl80000gn/T/ipykernel_1672/986595626.py:30: SettingWithCopyWarning: \n",
      "A value is trying to be set on a copy of a slice from a DataFrame.\n",
      "Try using .loc[row_indexer,col_indexer] = value instead\n",
      "\n",
      "See the caveats in the documentation: https://pandas.pydata.org/pandas-docs/stable/user_guide/indexing.html#returning-a-view-versus-a-copy\n",
      "  y_test[\"Gender_predicted\"] = np.where(y_pred>=0.5,1,0)\n",
      "WARNING:absl:At this time, the v2.11+ optimizer `tf.keras.optimizers.Nadam` runs slowly on M1/M2 Macs, please use the legacy Keras optimizer instead, located at `tf.keras.optimizers.legacy.Nadam`.\n"
     ]
    },
    {
     "name": "stdout",
     "output_type": "stream",
     "text": [
      "Model complete for n:  60\n",
      "97/97 [==============================] - 0s 267us/step\n"
     ]
    },
    {
     "name": "stderr",
     "output_type": "stream",
     "text": [
      "/var/folders/6m/wg76ryq57fnb356nt5xwlbl80000gn/T/ipykernel_1672/986595626.py:30: SettingWithCopyWarning: \n",
      "A value is trying to be set on a copy of a slice from a DataFrame.\n",
      "Try using .loc[row_indexer,col_indexer] = value instead\n",
      "\n",
      "See the caveats in the documentation: https://pandas.pydata.org/pandas-docs/stable/user_guide/indexing.html#returning-a-view-versus-a-copy\n",
      "  y_test[\"Gender_predicted\"] = np.where(y_pred>=0.5,1,0)\n",
      "WARNING:absl:At this time, the v2.11+ optimizer `tf.keras.optimizers.Nadam` runs slowly on M1/M2 Macs, please use the legacy Keras optimizer instead, located at `tf.keras.optimizers.legacy.Nadam`.\n"
     ]
    },
    {
     "name": "stdout",
     "output_type": "stream",
     "text": [
      "Model complete for n:  65\n",
      "97/97 [==============================] - 0s 272us/step\n"
     ]
    },
    {
     "name": "stderr",
     "output_type": "stream",
     "text": [
      "/var/folders/6m/wg76ryq57fnb356nt5xwlbl80000gn/T/ipykernel_1672/986595626.py:30: SettingWithCopyWarning: \n",
      "A value is trying to be set on a copy of a slice from a DataFrame.\n",
      "Try using .loc[row_indexer,col_indexer] = value instead\n",
      "\n",
      "See the caveats in the documentation: https://pandas.pydata.org/pandas-docs/stable/user_guide/indexing.html#returning-a-view-versus-a-copy\n",
      "  y_test[\"Gender_predicted\"] = np.where(y_pred>=0.5,1,0)\n",
      "WARNING:absl:At this time, the v2.11+ optimizer `tf.keras.optimizers.Nadam` runs slowly on M1/M2 Macs, please use the legacy Keras optimizer instead, located at `tf.keras.optimizers.legacy.Nadam`.\n"
     ]
    },
    {
     "name": "stdout",
     "output_type": "stream",
     "text": [
      "Model complete for n:  70\n",
      "97/97 [==============================] - 0s 275us/step\n"
     ]
    },
    {
     "name": "stderr",
     "output_type": "stream",
     "text": [
      "/var/folders/6m/wg76ryq57fnb356nt5xwlbl80000gn/T/ipykernel_1672/986595626.py:30: SettingWithCopyWarning: \n",
      "A value is trying to be set on a copy of a slice from a DataFrame.\n",
      "Try using .loc[row_indexer,col_indexer] = value instead\n",
      "\n",
      "See the caveats in the documentation: https://pandas.pydata.org/pandas-docs/stable/user_guide/indexing.html#returning-a-view-versus-a-copy\n",
      "  y_test[\"Gender_predicted\"] = np.where(y_pred>=0.5,1,0)\n",
      "WARNING:absl:At this time, the v2.11+ optimizer `tf.keras.optimizers.Nadam` runs slowly on M1/M2 Macs, please use the legacy Keras optimizer instead, located at `tf.keras.optimizers.legacy.Nadam`.\n"
     ]
    },
    {
     "name": "stdout",
     "output_type": "stream",
     "text": [
      "Model complete for n:  75\n",
      "97/97 [==============================] - 0s 269us/step\n"
     ]
    },
    {
     "name": "stderr",
     "output_type": "stream",
     "text": [
      "/var/folders/6m/wg76ryq57fnb356nt5xwlbl80000gn/T/ipykernel_1672/986595626.py:30: SettingWithCopyWarning: \n",
      "A value is trying to be set on a copy of a slice from a DataFrame.\n",
      "Try using .loc[row_indexer,col_indexer] = value instead\n",
      "\n",
      "See the caveats in the documentation: https://pandas.pydata.org/pandas-docs/stable/user_guide/indexing.html#returning-a-view-versus-a-copy\n",
      "  y_test[\"Gender_predicted\"] = np.where(y_pred>=0.5,1,0)\n",
      "WARNING:absl:At this time, the v2.11+ optimizer `tf.keras.optimizers.Nadam` runs slowly on M1/M2 Macs, please use the legacy Keras optimizer instead, located at `tf.keras.optimizers.legacy.Nadam`.\n"
     ]
    },
    {
     "name": "stdout",
     "output_type": "stream",
     "text": [
      "Model complete for n:  80\n",
      "97/97 [==============================] - 0s 271us/step\n"
     ]
    },
    {
     "name": "stderr",
     "output_type": "stream",
     "text": [
      "/var/folders/6m/wg76ryq57fnb356nt5xwlbl80000gn/T/ipykernel_1672/986595626.py:30: SettingWithCopyWarning: \n",
      "A value is trying to be set on a copy of a slice from a DataFrame.\n",
      "Try using .loc[row_indexer,col_indexer] = value instead\n",
      "\n",
      "See the caveats in the documentation: https://pandas.pydata.org/pandas-docs/stable/user_guide/indexing.html#returning-a-view-versus-a-copy\n",
      "  y_test[\"Gender_predicted\"] = np.where(y_pred>=0.5,1,0)\n",
      "WARNING:absl:At this time, the v2.11+ optimizer `tf.keras.optimizers.Nadam` runs slowly on M1/M2 Macs, please use the legacy Keras optimizer instead, located at `tf.keras.optimizers.legacy.Nadam`.\n"
     ]
    },
    {
     "name": "stdout",
     "output_type": "stream",
     "text": [
      "Model complete for n:  85\n",
      "97/97 [==============================] - 0s 278us/step\n"
     ]
    },
    {
     "name": "stderr",
     "output_type": "stream",
     "text": [
      "/var/folders/6m/wg76ryq57fnb356nt5xwlbl80000gn/T/ipykernel_1672/986595626.py:30: SettingWithCopyWarning: \n",
      "A value is trying to be set on a copy of a slice from a DataFrame.\n",
      "Try using .loc[row_indexer,col_indexer] = value instead\n",
      "\n",
      "See the caveats in the documentation: https://pandas.pydata.org/pandas-docs/stable/user_guide/indexing.html#returning-a-view-versus-a-copy\n",
      "  y_test[\"Gender_predicted\"] = np.where(y_pred>=0.5,1,0)\n"
     ]
    }
   ],
   "source": [
    "for n in n_features_list:\n",
    "    \n",
    "     # remove the features that aren't selected\n",
    "    n_sorted_1 = features_sorted[:int(n/2)].values\n",
    "    n_sorted_2 = features_sorted[-int(np.ceil(n/2)):].values\n",
    "    n_sorted = np.concatenate([n_sorted_1, n_sorted_2])\n",
    "    columns_to_remove = [feature for feature in features_sorted if feature not in n_sorted] + ['Gender'] \n",
    "\n",
    "    train_subset = X_train_total.drop(columns_to_remove, axis=1)\n",
    "    \n",
    "    scaler = StandardScaler()\n",
    "    X_scaled_total = scaler.fit_transform(train_subset)\n",
    "    X_scaled_test = scaler.transform(X_test.drop(columns_to_remove, axis=1))\n",
    "\n",
    "    utils.set_random_seed(3)\n",
    "    model3 = Sequential()\n",
    "    model3.add(Dense(32, activation='relu', input_shape=(X_scaled_total.shape[1],),kernel_regularizer=regularizers.L2(0.0001)))\n",
    "    # model3.add(Dense(32, activation='relu',kernel_regularizer=regularizers.L2(0.0001)))\n",
    "    model3.add(Dense(16, activation='relu',kernel_regularizer=regularizers.L2(0.0001)))\n",
    "    model3.add(Dense(8, activation='relu',kernel_regularizer=regularizers.L2(0.0001)))\n",
    "    # model3.add(Dense(8, activation='relu',kernel_regularizer=regularizers.L2(0.0001)))\n",
    "    model3.add(Dense(1, activation=\"sigmoid\"))\n",
    "    model3.compile(loss=\"binary_crossentropy\", optimizer = Nadam(learning_rate=0.001),metrics=[\"accuracy\"])\n",
    "    trained_model = model3.fit(X_scaled_total, np.array(y_train_total[\"Gender\"]), \n",
    "                           epochs=20,batch_size=16, \n",
    "                           class_weight = {0: 1, 1: 4},\n",
    "                           verbose=0)\n",
    "    print(\"Model complete for n: \", n)\n",
    "    y_pred = model3.predict(X_scaled_test)\n",
    "    y_test[\"Gender_predicted\"] = np.where(y_pred>=0.5,1,0)\n",
    "    acc, bal_acc = compute_metrics(y_test)\n",
    "    acc_lst.append(acc)\n",
    "    Bacc_lst.append(bal_acc)\n"
   ]
  },
  {
   "cell_type": "code",
   "execution_count": 42,
   "metadata": {},
   "outputs": [
    {
     "data": {
      "text/plain": [
       "[]"
      ]
     },
     "execution_count": 42,
     "metadata": {},
     "output_type": "execute_result"
    },
    {
     "data": {
      "image/png": "[encoded data removed]",
      "text/plain": [
       "<Figure size 1200x800 with 1 Axes>"
      ]
     },
     "metadata": {},
     "output_type": "display_data"
    }
   ],
   "source": [
    "plt.figure(figsize=(12, 8))\n",
    "plt.plot(n_features_list, acc_lst , 'bo-',  label=\"Accuracy\")\n",
    "plt.plot(n_features_list, Bacc_lst , 'ro-',  label=\"Balanced Accuracy\")\n",
    "plt.xlabel(\"Number of features\", fontsize = 16)\n",
    "plt.ylabel(\"Metric/Score\", fontsize = 16)\n",
    "plt.legend(fontsize = 13)\n",
    "plt.grid()\n",
    "plt.plot()"
   ]
  },
  {
   "cell_type": "code",
   "execution_count": null,
   "metadata": {},
   "outputs": [],
   "source": []
  }
 ],
 "metadata": {
  "kernelspec": {
   "display_name": "base",
   "language": "python",
   "name": "python3"
  },
  "language_info": {
   "codemirror_mode": {
    "name": "ipython",
    "version": 3
   },
   "file_extension": ".py",
   "mimetype": "text/x-python",
   "name": "python",
   "nbconvert_exporter": "python",
   "pygments_lexer": "ipython3",
   "version": "3.11.7"
  }
 },
 "nbformat": 4,
 "nbformat_minor": 2
}
