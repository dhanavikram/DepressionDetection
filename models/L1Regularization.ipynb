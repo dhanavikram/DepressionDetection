{
 "cells": [
  {
   "cell_type": "code",
   "execution_count": 13,
   "id": "a4b78299-c027-4f82-939d-b300a541aebd",
   "metadata": {},
   "outputs": [],
   "source": [
    "import pandas as pd\n",
    "import numpy as np\n",
    "import matplotlib.pyplot as plt\n",
    "from sklearn.linear_model import LassoCV\n",
    "from sklearn.model_selection import train_test_split, cross_val_score\n",
    "from sklearn.preprocessing import StandardScaler\n",
    "from statistics import mean"
   ]
  },
  {
   "cell_type": "code",
   "execution_count": 15,
   "id": "662ecac8-6cc2-4d2b-8488-830a5d8eb8f9",
   "metadata": {},
   "outputs": [],
   "source": [
    "df = pd.read_csv('clean_df.csv')\n",
    "\n",
    "# Extract X variables\n",
    "X = df.drop(columns=[\"Depression\", \"Gender\", \"Participant_ID\"])\n",
    "\n",
    "# Extract y variables\n",
    "# y = df[[\"Depression\", \"Gender\", \"Participant_ID\"]]\n",
    "y = df[[\"Depression\"]]"
   ]
  },
  {
   "cell_type": "code",
   "execution_count": 16,
   "id": "80f6046a-a321-4932-b2ec-5fcad3b01a2a",
   "metadata": {},
   "outputs": [
    {
     "name": "stderr",
     "output_type": "stream",
     "text": [
      "/Library/Frameworks/Python.framework/Versions/3.9/lib/python3.9/site-packages/sklearn/linear_model/_coordinate_descent.py:1568: DataConversionWarning: A column-vector y was passed when a 1d array was expected. Please change the shape of y to (n_samples, ), for example using ravel().\n",
      "  y = column_or_1d(y, warn=True)\n",
      "/Library/Frameworks/Python.framework/Versions/3.9/lib/python3.9/site-packages/sklearn/linear_model/_coordinate_descent.py:617: ConvergenceWarning: Objective did not converge. You might want to increase the number of iterations. Duality gap: 0.6273903718301881, tolerance: 0.2420458684367112\n",
      "  model = cd_fast.enet_coordinate_descent_gram(\n",
      "/Library/Frameworks/Python.framework/Versions/3.9/lib/python3.9/site-packages/sklearn/linear_model/_coordinate_descent.py:617: ConvergenceWarning: Objective did not converge. You might want to increase the number of iterations. Duality gap: 0.7259436416959488, tolerance: 0.2420458684367112\n",
      "  model = cd_fast.enet_coordinate_descent_gram(\n",
      "/Library/Frameworks/Python.framework/Versions/3.9/lib/python3.9/site-packages/sklearn/linear_model/_coordinate_descent.py:617: ConvergenceWarning: Objective did not converge. You might want to increase the number of iterations. Duality gap: 0.5279510373525227, tolerance: 0.2420458684367112\n",
      "  model = cd_fast.enet_coordinate_descent_gram(\n"
     ]
    },
    {
     "name": "stdout",
     "output_type": "stream",
     "text": [
      "Best Alpha: 0.07994229125564253\n"
     ]
    },
    {
     "name": "stderr",
     "output_type": "stream",
     "text": [
      "/Library/Frameworks/Python.framework/Versions/3.9/lib/python3.9/site-packages/sklearn/linear_model/_coordinate_descent.py:617: ConvergenceWarning: Objective did not converge. You might want to increase the number of iterations. Duality gap: 0.39027026992971514, tolerance: 0.2539055399540529\n",
      "  model = cd_fast.enet_coordinate_descent_gram(\n",
      "/Library/Frameworks/Python.framework/Versions/3.9/lib/python3.9/site-packages/sklearn/linear_model/_coordinate_descent.py:617: ConvergenceWarning: Objective did not converge. You might want to increase the number of iterations. Duality gap: 0.9043664917116985, tolerance: 0.2539055399540529\n",
      "  model = cd_fast.enet_coordinate_descent_gram(\n",
      "/Library/Frameworks/Python.framework/Versions/3.9/lib/python3.9/site-packages/sklearn/linear_model/_coordinate_descent.py:617: ConvergenceWarning: Objective did not converge. You might want to increase the number of iterations. Duality gap: 1.0483293161209986, tolerance: 0.2539055399540529\n",
      "  model = cd_fast.enet_coordinate_descent_gram(\n",
      "/Library/Frameworks/Python.framework/Versions/3.9/lib/python3.9/site-packages/sklearn/linear_model/_coordinate_descent.py:617: ConvergenceWarning: Objective did not converge. You might want to increase the number of iterations. Duality gap: 1.0792518018688497, tolerance: 0.2539055399540529\n",
      "  model = cd_fast.enet_coordinate_descent_gram(\n",
      "/Library/Frameworks/Python.framework/Versions/3.9/lib/python3.9/site-packages/sklearn/linear_model/_coordinate_descent.py:617: ConvergenceWarning: Objective did not converge. You might want to increase the number of iterations. Duality gap: 1.0846263550683943, tolerance: 0.2539055399540529\n",
      "  model = cd_fast.enet_coordinate_descent_gram(\n",
      "/Library/Frameworks/Python.framework/Versions/3.9/lib/python3.9/site-packages/sklearn/linear_model/_coordinate_descent.py:617: ConvergenceWarning: Objective did not converge. You might want to increase the number of iterations. Duality gap: 1.0710388840361702, tolerance: 0.2539055399540529\n",
      "  model = cd_fast.enet_coordinate_descent_gram(\n"
     ]
    }
   ],
   "source": [
    "# Step 2: Preprocess Data\n",
    "scaler = StandardScaler()\n",
    "X = scaler.fit_transform(X)\n",
    "\n",
    "# Step 3: Define Model\n",
    "model = LassoCV(cv=10)  # 10-fold cross-validation is used internally\n",
    "\n",
    "# Step 4: Train Model\n",
    "model.fit(X, y)\n",
    "\n",
    "# Step 5: Get Optimal Alpha\n",
    "print(\"Best Alpha:\", model.alpha_)\n"
   ]
  },
  {
   "cell_type": "code",
   "execution_count": 23,
   "id": "03f4a69e-5e3d-4d05-8f3b-358e1157555f",
   "metadata": {},
   "outputs": [
    {
     "data": {
      "text/plain": [
       "array([ 0., -0.,  0.,  0.,  0.,  0.,  0.,  0.,  0.,  0.,  0.,  0.,  0.,\n",
       "        0.,  0.,  0.,  0.,  0.,  0.,  0.,  0.,  0., -0.,  0., -0.,  0.,\n",
       "       -0.,  0., -0.,  0., -0.,  0., -0.,  0.,  0., -0.,  0., -0., -0.,\n",
       "       -0.,  0., -0., -0.,  0.,  0., -0.,  0., -0., -0.,  0.,  0., -0.,\n",
       "        0., -0., -0.,  0.,  0., -0.,  0., -0.,  0.,  0.,  0.,  0.,  0.,\n",
       "       -0.,  0.,  0., -0.,  0., -0.,  0., -0., -0., -0.,  0.,  0., -0.,\n",
       "        0., -0.,  0., -0., -0.,  0.,  0., -0., -0.,  0.])"
      ]
     },
     "execution_count": 23,
     "metadata": {},
     "output_type": "execute_result"
    }
   ],
   "source": [
    "model.coef_"
   ]
  },
  {
   "cell_type": "code",
   "execution_count": null,
   "id": "d1887327-87c4-42f3-a1ea-0efdd3fe03b8",
   "metadata": {},
   "outputs": [],
   "source": []
  }
 ],
 "metadata": {
  "kernelspec": {
   "display_name": "Python 3 (ipykernel)",
   "language": "python",
   "name": "python3"
  },
  "language_info": {
   "codemirror_mode": {
    "name": "ipython",
    "version": 3
   },
   "file_extension": ".py",
   "mimetype": "text/x-python",
   "name": "python",
   "nbconvert_exporter": "python",
   "pygments_lexer": "ipython3",
   "version": "3.9.7"
  }
 },
 "nbformat": 4,
 "nbformat_minor": 5
}
