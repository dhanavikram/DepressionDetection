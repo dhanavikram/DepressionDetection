{
 "cells": [
  {
   "cell_type": "code",
   "execution_count": 1,
   "metadata": {},
   "outputs": [],
   "source": [
    "import numpy as np\n",
    "import pandas as pd\n",
    "import matplotlib.pyplot as plt\n",
    "\n",
    "from sklearn import metrics\n",
    "from sklearn.ensemble import RandomForestClassifier\n",
    "from sklearn.feature_selection import SelectKBest"
   ]
  },
  {
   "cell_type": "code",
   "execution_count": 2,
   "metadata": {},
   "outputs": [],
   "source": [
    "PROCESSED_TRAIN = \"../processed_data/feature_selection/selected_train.csv\"\n",
    "PROCESSED_TEST = \"../processed_data/feature_selection/selected_test.csv\""
   ]
  },
  {
   "cell_type": "code",
   "execution_count": 3,
   "metadata": {},
   "outputs": [],
   "source": [
    "train_df = pd.read_csv(PROCESSED_TRAIN)\n",
    "test_df = pd.read_csv(PROCESSED_TEST)"
   ]
  },
  {
   "cell_type": "code",
   "execution_count": 4,
   "metadata": {},
   "outputs": [
    {
     "data": {
      "text/html": [
       "<div>\n",
       "<style scoped>\n",
       "    .dataframe tbody tr th:only-of-type {\n",
       "        vertical-align: middle;\n",
       "    }\n",
       "\n",
       "    .dataframe tbody tr th {\n",
       "        vertical-align: top;\n",
       "    }\n",
       "\n",
       "    .dataframe thead th {\n",
       "        text-align: right;\n",
       "    }\n",
       "</style>\n",
       "<table border=\"1\" class=\"dataframe\">\n",
       "  <thead>\n",
       "    <tr style=\"text-align: right;\">\n",
       "      <th></th>\n",
       "      <th>F0semitoneFrom27.5Hz_sma3nz_stddevNorm</th>\n",
       "      <th>F0semitoneFrom27.5Hz_sma3nz_pctlrange0-2</th>\n",
       "      <th>F0semitoneFrom27.5Hz_sma3nz_meanRisingSlope</th>\n",
       "      <th>F0semitoneFrom27.5Hz_sma3nz_stddevRisingSlope</th>\n",
       "      <th>F0semitoneFrom27.5Hz_sma3nz_meanFallingSlope</th>\n",
       "      <th>F0semitoneFrom27.5Hz_sma3nz_stddevFallingSlope</th>\n",
       "      <th>loudness_sma3_stddevNorm</th>\n",
       "      <th>loudness_sma3_percentile20.0</th>\n",
       "      <th>loudness_sma3_pctlrange0-2</th>\n",
       "      <th>loudness_sma3_meanRisingSlope</th>\n",
       "      <th>...</th>\n",
       "      <th>loudnessPeaksPerSec</th>\n",
       "      <th>VoicedSegmentsPerSec</th>\n",
       "      <th>MeanVoicedSegmentLengthSec</th>\n",
       "      <th>StddevVoicedSegmentLengthSec</th>\n",
       "      <th>MeanUnvoicedSegmentLength</th>\n",
       "      <th>StddevUnvoicedSegmentLength</th>\n",
       "      <th>equivalentSoundLevel_dBp</th>\n",
       "      <th>Participant_ID</th>\n",
       "      <th>Depression</th>\n",
       "      <th>Gender</th>\n",
       "    </tr>\n",
       "  </thead>\n",
       "  <tbody>\n",
       "    <tr>\n",
       "      <th>0</th>\n",
       "      <td>0.188470</td>\n",
       "      <td>0.039394</td>\n",
       "      <td>39.990345</td>\n",
       "      <td>28.040092</td>\n",
       "      <td>100.798780</td>\n",
       "      <td>0.000000</td>\n",
       "      <td>0.409571</td>\n",
       "      <td>0.021770</td>\n",
       "      <td>0.040200</td>\n",
       "      <td>0.111894</td>\n",
       "      <td>...</td>\n",
       "      <td>1.960784</td>\n",
       "      <td>2.061856</td>\n",
       "      <td>0.240000</td>\n",
       "      <td>0.010000</td>\n",
       "      <td>0.225</td>\n",
       "      <td>0.005000</td>\n",
       "      <td>-53.529380</td>\n",
       "      <td>448</td>\n",
       "      <td>1</td>\n",
       "      <td>1</td>\n",
       "    </tr>\n",
       "    <tr>\n",
       "      <th>1</th>\n",
       "      <td>0.015231</td>\n",
       "      <td>0.716394</td>\n",
       "      <td>0.000000</td>\n",
       "      <td>0.000000</td>\n",
       "      <td>-0.109734</td>\n",
       "      <td>0.000000</td>\n",
       "      <td>0.619798</td>\n",
       "      <td>0.023697</td>\n",
       "      <td>0.087469</td>\n",
       "      <td>0.726745</td>\n",
       "      <td>...</td>\n",
       "      <td>3.703704</td>\n",
       "      <td>2.040816</td>\n",
       "      <td>0.080000</td>\n",
       "      <td>0.000000</td>\n",
       "      <td>0.380</td>\n",
       "      <td>0.000000</td>\n",
       "      <td>-47.326970</td>\n",
       "      <td>448</td>\n",
       "      <td>1</td>\n",
       "      <td>1</td>\n",
       "    </tr>\n",
       "    <tr>\n",
       "      <th>2</th>\n",
       "      <td>0.095594</td>\n",
       "      <td>4.741592</td>\n",
       "      <td>61.829530</td>\n",
       "      <td>67.673560</td>\n",
       "      <td>20.461290</td>\n",
       "      <td>11.705440</td>\n",
       "      <td>0.568298</td>\n",
       "      <td>0.055555</td>\n",
       "      <td>0.159467</td>\n",
       "      <td>2.278548</td>\n",
       "      <td>...</td>\n",
       "      <td>3.131991</td>\n",
       "      <td>2.036199</td>\n",
       "      <td>0.344444</td>\n",
       "      <td>0.235472</td>\n",
       "      <td>0.115</td>\n",
       "      <td>0.087321</td>\n",
       "      <td>-41.121784</td>\n",
       "      <td>448</td>\n",
       "      <td>1</td>\n",
       "      <td>1</td>\n",
       "    </tr>\n",
       "    <tr>\n",
       "      <th>3</th>\n",
       "      <td>0.000000</td>\n",
       "      <td>0.000000</td>\n",
       "      <td>0.000000</td>\n",
       "      <td>0.000000</td>\n",
       "      <td>0.000000</td>\n",
       "      <td>0.000000</td>\n",
       "      <td>0.283180</td>\n",
       "      <td>0.038853</td>\n",
       "      <td>0.013890</td>\n",
       "      <td>0.450482</td>\n",
       "      <td>...</td>\n",
       "      <td>3.333334</td>\n",
       "      <td>0.000000</td>\n",
       "      <td>0.000000</td>\n",
       "      <td>0.000000</td>\n",
       "      <td>0.240</td>\n",
       "      <td>0.000000</td>\n",
       "      <td>-56.265000</td>\n",
       "      <td>448</td>\n",
       "      <td>1</td>\n",
       "      <td>1</td>\n",
       "    </tr>\n",
       "    <tr>\n",
       "      <th>4</th>\n",
       "      <td>0.005980</td>\n",
       "      <td>0.330532</td>\n",
       "      <td>8.279264</td>\n",
       "      <td>5.828207</td>\n",
       "      <td>8.208370</td>\n",
       "      <td>6.596444</td>\n",
       "      <td>0.654023</td>\n",
       "      <td>0.083247</td>\n",
       "      <td>0.377850</td>\n",
       "      <td>2.854341</td>\n",
       "      <td>...</td>\n",
       "      <td>5.084746</td>\n",
       "      <td>1.886793</td>\n",
       "      <td>0.420000</td>\n",
       "      <td>0.000000</td>\n",
       "      <td>0.040</td>\n",
       "      <td>0.020000</td>\n",
       "      <td>-33.531155</td>\n",
       "      <td>448</td>\n",
       "      <td>1</td>\n",
       "      <td>1</td>\n",
       "    </tr>\n",
       "  </tbody>\n",
       "</table>\n",
       "<p>5 rows × 64 columns</p>\n",
       "</div>"
      ],
      "text/plain": [
       "   F0semitoneFrom27.5Hz_sma3nz_stddevNorm  \\\n",
       "0                                0.188470   \n",
       "1                                0.015231   \n",
       "2                                0.095594   \n",
       "3                                0.000000   \n",
       "4                                0.005980   \n",
       "\n",
       "   F0semitoneFrom27.5Hz_sma3nz_pctlrange0-2  \\\n",
       "0                                  0.039394   \n",
       "1                                  0.716394   \n",
       "2                                  4.741592   \n",
       "3                                  0.000000   \n",
       "4                                  0.330532   \n",
       "\n",
       "   F0semitoneFrom27.5Hz_sma3nz_meanRisingSlope  \\\n",
       "0                                    39.990345   \n",
       "1                                     0.000000   \n",
       "2                                    61.829530   \n",
       "3                                     0.000000   \n",
       "4                                     8.279264   \n",
       "\n",
       "   F0semitoneFrom27.5Hz_sma3nz_stddevRisingSlope  \\\n",
       "0                                      28.040092   \n",
       "1                                       0.000000   \n",
       "2                                      67.673560   \n",
       "3                                       0.000000   \n",
       "4                                       5.828207   \n",
       "\n",
       "   F0semitoneFrom27.5Hz_sma3nz_meanFallingSlope  \\\n",
       "0                                    100.798780   \n",
       "1                                     -0.109734   \n",
       "2                                     20.461290   \n",
       "3                                      0.000000   \n",
       "4                                      8.208370   \n",
       "\n",
       "   F0semitoneFrom27.5Hz_sma3nz_stddevFallingSlope  loudness_sma3_stddevNorm  \\\n",
       "0                                        0.000000                  0.409571   \n",
       "1                                        0.000000                  0.619798   \n",
       "2                                       11.705440                  0.568298   \n",
       "3                                        0.000000                  0.283180   \n",
       "4                                        6.596444                  0.654023   \n",
       "\n",
       "   loudness_sma3_percentile20.0  loudness_sma3_pctlrange0-2  \\\n",
       "0                      0.021770                    0.040200   \n",
       "1                      0.023697                    0.087469   \n",
       "2                      0.055555                    0.159467   \n",
       "3                      0.038853                    0.013890   \n",
       "4                      0.083247                    0.377850   \n",
       "\n",
       "   loudness_sma3_meanRisingSlope  ...  loudnessPeaksPerSec  \\\n",
       "0                       0.111894  ...             1.960784   \n",
       "1                       0.726745  ...             3.703704   \n",
       "2                       2.278548  ...             3.131991   \n",
       "3                       0.450482  ...             3.333334   \n",
       "4                       2.854341  ...             5.084746   \n",
       "\n",
       "   VoicedSegmentsPerSec  MeanVoicedSegmentLengthSec  \\\n",
       "0              2.061856                    0.240000   \n",
       "1              2.040816                    0.080000   \n",
       "2              2.036199                    0.344444   \n",
       "3              0.000000                    0.000000   \n",
       "4              1.886793                    0.420000   \n",
       "\n",
       "   StddevVoicedSegmentLengthSec  MeanUnvoicedSegmentLength  \\\n",
       "0                      0.010000                      0.225   \n",
       "1                      0.000000                      0.380   \n",
       "2                      0.235472                      0.115   \n",
       "3                      0.000000                      0.240   \n",
       "4                      0.000000                      0.040   \n",
       "\n",
       "   StddevUnvoicedSegmentLength  equivalentSoundLevel_dBp  Participant_ID  \\\n",
       "0                     0.005000                -53.529380             448   \n",
       "1                     0.000000                -47.326970             448   \n",
       "2                     0.087321                -41.121784             448   \n",
       "3                     0.000000                -56.265000             448   \n",
       "4                     0.020000                -33.531155             448   \n",
       "\n",
       "   Depression  Gender  \n",
       "0           1       1  \n",
       "1           1       1  \n",
       "2           1       1  \n",
       "3           1       1  \n",
       "4           1       1  \n",
       "\n",
       "[5 rows x 64 columns]"
      ]
     },
     "execution_count": 4,
     "metadata": {},
     "output_type": "execute_result"
    }
   ],
   "source": [
    "train_df.head()"
   ]
  },
  {
   "cell_type": "code",
   "execution_count": 5,
   "metadata": {},
   "outputs": [],
   "source": [
    "train_df = train_df.dropna()\n",
    "test_df = test_df.dropna()"
   ]
  },
  {
   "cell_type": "code",
   "execution_count": 6,
   "metadata": {},
   "outputs": [],
   "source": [
    "target_col = [\"Participant_ID\", \"Depression\", \"Gender\"]\n",
    "# target_col = \"Depression\"\n",
    "feature_cols = list(set(train_df.columns) - set(target_col))"
   ]
  },
  {
   "cell_type": "code",
   "execution_count": 7,
   "metadata": {},
   "outputs": [],
   "source": [
    "X_train = train_df[feature_cols]\n",
    "y_train = train_df[target_col]"
   ]
  },
  {
   "cell_type": "code",
   "execution_count": 8,
   "metadata": {},
   "outputs": [],
   "source": [
    "X_test = test_df[feature_cols]\n",
    "y_test = test_df[target_col]"
   ]
  },
  {
   "cell_type": "code",
   "execution_count": 9,
   "metadata": {},
   "outputs": [],
   "source": [
    "to_classify=\"Depression\""
   ]
  },
  {
   "cell_type": "code",
   "execution_count": 10,
   "metadata": {},
   "outputs": [],
   "source": [
    "def run_tree(x_train, y_train, x_test, y_test, classify=\"Depression\"):\n",
    "    \n",
    "    model = RandomForestClassifier(max_depth=63, random_state=14)\n",
    "    model.fit(x_train,y_train[classify])\n",
    "     \n",
    "    y_test['Predicted'] = model.predict(x_test)\n",
    "    y_actual = y_test.groupby(\"Participant_ID\").agg({classify:\"max\"})[classify]\n",
    "    y_pred = y_test.groupby(\"Participant_ID\").agg(Predicted=('Predicted', lambda x: x.mode()[0]))[\"Predicted\"]\n",
    "    \n",
    "    # Print Metrics\n",
    "    print(f\"Accuracy: {metrics.accuracy_score(y_actual, y_pred)}\")\n",
    "    print(f\"Balanced_accuracy: {metrics.balanced_accuracy_score(y_actual, y_pred)}\")\n",
    "    print(f\"Precision: {metrics.precision_score(y_actual, y_pred)}\")\n",
    "    print(f\"Recall: {metrics.recall_score(y_actual, y_pred)}\")\n",
    "    print(f\"F1 Score: {metrics.f1_score(y_actual, y_pred)}\")\n",
    "    conf_matrix = metrics.confusion_matrix(y_actual, y_pred)\n",
    "    #Visualizing the confusion matrix\n",
    "    plt.rcParams['figure.figsize'] = (6, 6)\n",
    "    display_c_m = metrics.ConfusionMatrixDisplay(conf_matrix)\n",
    "    display_c_m.plot(cmap='Greens', xticks_rotation=50)\n",
    "    plt.title('Confusion Matrix')\n",
    "    plt.show()"
   ]
  },
  {
   "cell_type": "code",
   "execution_count": 11,
   "metadata": {},
   "outputs": [
    {
     "name": "stdout",
     "output_type": "stream",
     "text": [
      "Shape of X before SelectKBest: (13625, 61)\n",
      "Shape of X after SelectKBest: (13625, 20)\n"
     ]
    }
   ],
   "source": [
    "# Apply SelectKBest with chi2\n",
    "skb = SelectKBest(k=20)\n",
    "X_train_new = skb.fit_transform(X_train, y_train[to_classify])\n",
    "\n",
    "print(\"Shape of X before SelectKBest:\", X_train.shape)\n",
    "print(\"Shape of X after SelectKBest:\", X_train_new.shape)"
   ]
  },
  {
   "cell_type": "code",
   "execution_count": 12,
   "metadata": {},
   "outputs": [
    {
     "name": "stdout",
     "output_type": "stream",
     "text": [
      "Selected features:  Index(['mfcc3_sma3_amean', 'HNRdBACF_sma3nz_amean',\n",
      "       'loudness_sma3_pctlrange0-2', 'spectralFluxV_sma3nz_amean',\n",
      "       'F3bandwidth_sma3nz_stddevNorm', 'loudness_sma3_stddevFallingSlope',\n",
      "       'loudness_sma3_meanRisingSlope', 'mfcc4V_sma3nz_amean',\n",
      "       'F1frequency_sma3nz_amean', 'spectralFlux_sma3_stddevNorm',\n",
      "       'slopeV0-500_sma3nz_amean', 'jitterLocal_sma3nz_stddevNorm',\n",
      "       'spectralFluxV_sma3nz_stddevNorm', 'loudness_sma3_stddevRisingSlope',\n",
      "       'equivalentSoundLevel_dBp', 'loudness_sma3_meanFallingSlope',\n",
      "       'loudness_sma3_percentile20.0', 'logRelF0-H1-H2_sma3nz_amean',\n",
      "       'shimmerLocaldB_sma3nz_stddevNorm', 'loudness_sma3_stddevNorm'],\n",
      "      dtype='object')\n"
     ]
    }
   ],
   "source": [
    "selected_features = skb.get_support()\n",
    "selected_features = X_train.keys()[selected_features]\n",
    "print(f\"Selected features: \", selected_features)"
   ]
  },
  {
   "cell_type": "code",
   "execution_count": 13,
   "metadata": {},
   "outputs": [
    {
     "name": "stdout",
     "output_type": "stream",
     "text": [
      "Accuracy: 0.65\n",
      "Balanced_accuracy: 0.4642857142857143\n",
      "Precision: 0.0\n",
      "Recall: 0.0\n",
      "F1 Score: 0.0\n"
     ]
    },
    {
     "name": "stderr",
     "output_type": "stream",
     "text": [
      "/var/folders/6m/wg76ryq57fnb356nt5xwlbl80000gn/T/ipykernel_85630/4154977297.py:6: SettingWithCopyWarning: \n",
      "A value is trying to be set on a copy of a slice from a DataFrame.\n",
      "Try using .loc[row_indexer,col_indexer] = value instead\n",
      "\n",
      "See the caveats in the documentation: https://pandas.pydata.org/pandas-docs/stable/user_guide/indexing.html#returning-a-view-versus-a-copy\n",
      "  y_test['Predicted'] = model.predict(x_test)\n"
     ]
    },
    {
     "data": {
      "image/png": "[encoded data removed]",
      "text/plain": [
       "<Figure size 600x600 with 2 Axes>"
      ]
     },
     "metadata": {},
     "output_type": "display_data"
    }
   ],
   "source": [
    "run_tree(X_train, y_train, X_test, y_test, to_classify)"
   ]
  },
  {
   "cell_type": "code",
   "execution_count": 14,
   "metadata": {},
   "outputs": [
    {
     "name": "stdout",
     "output_type": "stream",
     "text": [
      "Accuracy: 0.65\n",
      "Balanced_accuracy: 0.4642857142857143\n",
      "Precision: 0.0\n",
      "Recall: 0.0\n",
      "F1 Score: 0.0\n"
     ]
    },
    {
     "name": "stderr",
     "output_type": "stream",
     "text": [
      "/Users/vikram/anaconda3/lib/python3.11/site-packages/sklearn/base.py:432: UserWarning: X has feature names, but RandomForestClassifier was fitted without feature names\n",
      "  warnings.warn(\n",
      "/var/folders/6m/wg76ryq57fnb356nt5xwlbl80000gn/T/ipykernel_85630/4154977297.py:6: SettingWithCopyWarning: \n",
      "A value is trying to be set on a copy of a slice from a DataFrame.\n",
      "Try using .loc[row_indexer,col_indexer] = value instead\n",
      "\n",
      "See the caveats in the documentation: https://pandas.pydata.org/pandas-docs/stable/user_guide/indexing.html#returning-a-view-versus-a-copy\n",
      "  y_test['Predicted'] = model.predict(x_test)\n"
     ]
    },
    {
     "data": {
      "image/png": "[encoded data removed]",
      "text/plain": [
       "<Figure size 600x600 with 2 Axes>"
      ]
     },
     "metadata": {},
     "output_type": "display_data"
    }
   ],
   "source": [
    "run_tree(X_train_new, y_train, X_test[selected_features], y_test)"
   ]
  }
 ],
 "metadata": {
  "kernelspec": {
   "display_name": "base",
   "language": "python",
   "name": "python3"
  },
  "language_info": {
   "codemirror_mode": {
    "name": "ipython",
    "version": 3
   },
   "file_extension": ".py",
   "mimetype": "text/x-python",
   "name": "python",
   "nbconvert_exporter": "python",
   "pygments_lexer": "ipython3",
   "version": "3.11.7"
  }
 },
 "nbformat": 4,
 "nbformat_minor": 2
}
