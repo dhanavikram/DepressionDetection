{
 "cells": [
  {
   "cell_type": "code",
   "execution_count": 2,
   "metadata": {},
   "outputs": [],
   "source": [
    "import os\n",
    "\n",
    "import numpy as np\n",
    "import pandas as pd\n",
    "import matplotlib.pyplot as plt\n",
    "\n",
    "import tensorflow as tf"
   ]
  },
  {
   "cell_type": "code",
   "execution_count": 3,
   "metadata": {},
   "outputs": [],
   "source": [
    "# Paths of folders containing train and test data\n",
    "TRAIN_FOLDER_PATH = \"features_train\"\n",
    "TEST_FOLDER_PATH = \"features_test\""
   ]
  },
  {
   "cell_type": "code",
   "execution_count": 4,
   "metadata": {},
   "outputs": [],
   "source": [
    "# Names of features based on GeMAPS feature set\n",
    "meta_data = pd.read_csv('feature_description.csv', encoding='ISO-8859-1', header=None)\n",
    "col_names = list(meta_data[0])"
   ]
  },
  {
   "cell_type": "code",
   "execution_count": 5,
   "metadata": {},
   "outputs": [
    {
     "name": "stdout",
     "output_type": "stream",
     "text": [
      "Removing null values present in spk_402.csv\n"
     ]
    }
   ],
   "source": [
    "df_dict = {'Participant_ID': [], 'features': []}  # Dict to store values\n",
    "max_rows = 0  # Max number of rows present in the data (used for padding)\n",
    "\n",
    "for file in os.listdir(TRAIN_FOLDER_PATH):\n",
    "    \n",
    "    file_name_split = file.split('.')\n",
    "    file_type = file_name_split[1]\n",
    "    file_name = file_name_split[0]\n",
    "\n",
    "    if file_type == 'csv':\n",
    "        # Fetch participant ID\n",
    "        id = int(file_name.split('_')[1])\n",
    "        df_dict['Participant_ID'].append(id)\n",
    "\n",
    "        # Fetch data\n",
    "        temp_df = pd.read_csv(TRAIN_FOLDER_PATH + '/' + file, names=col_names)\n",
    "\n",
    "        # Remove null values\n",
    "        if temp_df.isna().sum().values[0]>0:\n",
    "            print(f\"Removing null values present in {file}\")\n",
    "            temp_df = temp_df.dropna(axis=0)\n",
    "        \n",
    "        # Filter out rows where more than half of the feature values are zero\n",
    "        zero_percentages = (temp_df == 0).mean(axis=1)  # Calculate the percentage of zero values in each row\n",
    "        threshold = 0.5  # More than half\n",
    "        temp_df = temp_df[zero_percentages <= threshold]\n",
    "        \n",
    "        # Add the features to dict\n",
    "        df_dict['features'].append(temp_df)\n",
    "        \n",
    "        # Update max rows\n",
    "        if temp_df.shape[0]>max_rows:\n",
    "            max_rows = temp_df.shape[0] "
   ]
  },
  {
   "cell_type": "code",
   "execution_count": 6,
   "metadata": {},
   "outputs": [
    {
     "data": {
      "text/plain": [
       "378"
      ]
     },
     "execution_count": 6,
     "metadata": {},
     "output_type": "execute_result"
    }
   ],
   "source": [
    "max_rows"
   ]
  },
  {
   "cell_type": "code",
   "execution_count": 7,
   "metadata": {},
   "outputs": [],
   "source": [
    "# Pad zeroes\n",
    "for i in range(len(df_dict['features'])):\n",
    "    df_dict['features'][i] = df_dict['features'][i].reindex(np.arange(max_rows), fill_value=0).values"
   ]
  },
  {
   "cell_type": "code",
   "execution_count": 8,
   "metadata": {},
   "outputs": [],
   "source": [
    "# Convert the dict into dataframe\n",
    "df_features = pd.DataFrame(df_dict)"
   ]
  },
  {
   "cell_type": "code",
   "execution_count": 9,
   "metadata": {},
   "outputs": [
    {
     "data": {
      "text/html": [
       "<div>\n",
       "<style scoped>\n",
       "    .dataframe tbody tr th:only-of-type {\n",
       "        vertical-align: middle;\n",
       "    }\n",
       "\n",
       "    .dataframe tbody tr th {\n",
       "        vertical-align: top;\n",
       "    }\n",
       "\n",
       "    .dataframe thead th {\n",
       "        text-align: right;\n",
       "    }\n",
       "</style>\n",
       "<table border=\"1\" class=\"dataframe\">\n",
       "  <thead>\n",
       "    <tr style=\"text-align: right;\">\n",
       "      <th></th>\n",
       "      <th>Participant_ID</th>\n",
       "      <th>Depression</th>\n",
       "      <th>Gender</th>\n",
       "    </tr>\n",
       "  </thead>\n",
       "  <tbody>\n",
       "    <tr>\n",
       "      <th>0</th>\n",
       "      <td>303</td>\n",
       "      <td>0</td>\n",
       "      <td>0</td>\n",
       "    </tr>\n",
       "    <tr>\n",
       "      <th>1</th>\n",
       "      <td>304</td>\n",
       "      <td>0</td>\n",
       "      <td>0</td>\n",
       "    </tr>\n",
       "    <tr>\n",
       "      <th>2</th>\n",
       "      <td>305</td>\n",
       "      <td>0</td>\n",
       "      <td>1</td>\n",
       "    </tr>\n",
       "    <tr>\n",
       "      <th>3</th>\n",
       "      <td>310</td>\n",
       "      <td>0</td>\n",
       "      <td>1</td>\n",
       "    </tr>\n",
       "    <tr>\n",
       "      <th>4</th>\n",
       "      <td>312</td>\n",
       "      <td>0</td>\n",
       "      <td>1</td>\n",
       "    </tr>\n",
       "  </tbody>\n",
       "</table>\n",
       "</div>"
      ],
      "text/plain": [
       "   Participant_ID  Depression  Gender\n",
       "0             303           0       0\n",
       "1             304           0       0\n",
       "2             305           0       1\n",
       "3             310           0       1\n",
       "4             312           0       1"
      ]
     },
     "execution_count": 9,
     "metadata": {},
     "output_type": "execute_result"
    }
   ],
   "source": [
    "# Read labels dict\n",
    "df_labels = pd.read_csv('labels.csv', skipfooter=1, engine='python')\n",
    "df_labels['Participant_ID'] = df_labels['Participant_ID'].astype(int)\n",
    "df_labels.head()"
   ]
  },
  {
   "cell_type": "code",
   "execution_count": 10,
   "metadata": {},
   "outputs": [],
   "source": [
    "merged_df = pd.merge(df_features, df_labels, on='Participant_ID')"
   ]
  },
  {
   "cell_type": "code",
   "execution_count": 11,
   "metadata": {},
   "outputs": [
    {
     "data": {
      "text/html": [
       "<div>\n",
       "<style scoped>\n",
       "    .dataframe tbody tr th:only-of-type {\n",
       "        vertical-align: middle;\n",
       "    }\n",
       "\n",
       "    .dataframe tbody tr th {\n",
       "        vertical-align: top;\n",
       "    }\n",
       "\n",
       "    .dataframe thead th {\n",
       "        text-align: right;\n",
       "    }\n",
       "</style>\n",
       "<table border=\"1\" class=\"dataframe\">\n",
       "  <thead>\n",
       "    <tr style=\"text-align: right;\">\n",
       "      <th></th>\n",
       "      <th>Participant_ID</th>\n",
       "      <th>features</th>\n",
       "      <th>Depression</th>\n",
       "      <th>Gender</th>\n",
       "    </tr>\n",
       "  </thead>\n",
       "  <tbody>\n",
       "    <tr>\n",
       "      <th>0</th>\n",
       "      <td>448</td>\n",
       "      <td>[[33.88331, 0.18847024, 31.197649, 31.198807, ...</td>\n",
       "      <td>1</td>\n",
       "      <td>1</td>\n",
       "    </tr>\n",
       "    <tr>\n",
       "      <th>1</th>\n",
       "      <td>475</td>\n",
       "      <td>[[0.0, 0.0, 0.0, 0.0, 0.0, 0.0, 0.0, 0.0, 0.0,...</td>\n",
       "      <td>0</td>\n",
       "      <td>1</td>\n",
       "    </tr>\n",
       "    <tr>\n",
       "      <th>2</th>\n",
       "      <td>313</td>\n",
       "      <td>[[22.360157, 0.071260795, 20.776451, 22.337982...</td>\n",
       "      <td>0</td>\n",
       "      <td>1</td>\n",
       "    </tr>\n",
       "    <tr>\n",
       "      <th>3</th>\n",
       "      <td>449</td>\n",
       "      <td>[[31.251434, 0.008560931, 31.196766, 31.198511...</td>\n",
       "      <td>0</td>\n",
       "      <td>0</td>\n",
       "    </tr>\n",
       "    <tr>\n",
       "      <th>4</th>\n",
       "      <td>339</td>\n",
       "      <td>[[19.374094, 0.07061678, 18.158512, 18.906977,...</td>\n",
       "      <td>1</td>\n",
       "      <td>1</td>\n",
       "    </tr>\n",
       "  </tbody>\n",
       "</table>\n",
       "</div>"
      ],
      "text/plain": [
       "   Participant_ID                                           features  \\\n",
       "0             448  [[33.88331, 0.18847024, 31.197649, 31.198807, ...   \n",
       "1             475  [[0.0, 0.0, 0.0, 0.0, 0.0, 0.0, 0.0, 0.0, 0.0,...   \n",
       "2             313  [[22.360157, 0.071260795, 20.776451, 22.337982...   \n",
       "3             449  [[31.251434, 0.008560931, 31.196766, 31.198511...   \n",
       "4             339  [[19.374094, 0.07061678, 18.158512, 18.906977,...   \n",
       "\n",
       "   Depression  Gender  \n",
       "0           1       1  \n",
       "1           0       1  \n",
       "2           0       1  \n",
       "3           0       0  \n",
       "4           1       1  "
      ]
     },
     "execution_count": 11,
     "metadata": {},
     "output_type": "execute_result"
    }
   ],
   "source": [
    "merged_df.head()"
   ]
  },
  {
   "cell_type": "code",
   "execution_count": 12,
   "metadata": {},
   "outputs": [],
   "source": [
    "# Extract Features and Labels for tensorflow\n",
    "features = merged_df['features'].to_list()\n",
    "depression_labels = merged_df['Depression'].values\n",
    "gender_labels = merged_df['Gender'].values"
   ]
  },
  {
   "cell_type": "code",
   "execution_count": 13,
   "metadata": {},
   "outputs": [],
   "source": [
    "# Convert features to tensor object\n",
    "features_tensor = tf.convert_to_tensor(features, dtype=tf.float32)\n",
    "features = np.array(features_tensor).reshape(87, 378, 88, 1)\n",
    "\n",
    "# Convert labels to proper shape\n",
    "depression_labels = np.asarray(depression_labels).astype('float32').reshape((-1,1))\n",
    "gender_labels = np.asarray(gender_labels).astype('float32').reshape((-1,1))"
   ]
  },
  {
   "cell_type": "code",
   "execution_count": 14,
   "metadata": {},
   "outputs": [
    {
     "data": {
      "text/plain": [
       "(87, 378, 88, 1)"
      ]
     },
     "execution_count": 14,
     "metadata": {},
     "output_type": "execute_result"
    }
   ],
   "source": [
    "features.shape"
   ]
  },
  {
   "cell_type": "code",
   "execution_count": 15,
   "metadata": {},
   "outputs": [
    {
     "name": "stdout",
     "output_type": "stream",
     "text": [
      "Epoch 1/50\n",
      "3/3 [==============================] - 1s 97ms/step - loss: 251.2788 - accuracy: 0.4658 - val_loss: 48.6884 - val_accuracy: 0.8571\n",
      "Epoch 2/50\n",
      "3/3 [==============================] - 0s 65ms/step - loss: 96.9179 - accuracy: 0.6986 - val_loss: 0.9363 - val_accuracy: 0.2857\n",
      "Epoch 3/50\n",
      "3/3 [==============================] - 0s 64ms/step - loss: 0.7405 - accuracy: 0.4658 - val_loss: 0.7338 - val_accuracy: 0.8571\n",
      "Epoch 4/50\n",
      "3/3 [==============================] - 0s 65ms/step - loss: 0.7343 - accuracy: 0.5890 - val_loss: 0.5760 - val_accuracy: 0.8571\n",
      "Epoch 5/50\n",
      "3/3 [==============================] - 0s 63ms/step - loss: 1.3181 - accuracy: 0.5890 - val_loss: 0.5356 - val_accuracy: 0.8571\n",
      "Epoch 6/50\n",
      "3/3 [==============================] - 0s 64ms/step - loss: 0.8127 - accuracy: 0.6986 - val_loss: 0.5694 - val_accuracy: 0.8571\n",
      "Epoch 7/50\n",
      "3/3 [==============================] - 0s 62ms/step - loss: 0.7286 - accuracy: 0.7123 - val_loss: 0.6424 - val_accuracy: 0.7857\n",
      "Epoch 8/50\n",
      "3/3 [==============================] - 0s 64ms/step - loss: 0.6174 - accuracy: 0.6712 - val_loss: 0.7114 - val_accuracy: 0.5000\n",
      "Epoch 9/50\n",
      "3/3 [==============================] - 0s 64ms/step - loss: 0.6658 - accuracy: 0.6164 - val_loss: 0.7352 - val_accuracy: 0.4286\n",
      "Epoch 10/50\n",
      "3/3 [==============================] - 0s 63ms/step - loss: 0.6731 - accuracy: 0.5753 - val_loss: 0.7354 - val_accuracy: 0.4286\n",
      "Epoch 11/50\n",
      "3/3 [==============================] - 0s 64ms/step - loss: 0.6622 - accuracy: 0.5890 - val_loss: 0.7244 - val_accuracy: 0.5000\n",
      "Epoch 12/50\n",
      "3/3 [==============================] - 0s 64ms/step - loss: 0.6393 - accuracy: 0.6164 - val_loss: 0.7029 - val_accuracy: 0.5714\n",
      "Epoch 13/50\n",
      "3/3 [==============================] - 0s 64ms/step - loss: 0.6234 - accuracy: 0.7260 - val_loss: 0.6879 - val_accuracy: 0.8571\n",
      "Epoch 14/50\n",
      "3/3 [==============================] - 0s 64ms/step - loss: 0.5684 - accuracy: 0.6986 - val_loss: 0.6576 - val_accuracy: 0.8571\n",
      "Epoch 15/50\n",
      "3/3 [==============================] - 0s 64ms/step - loss: 0.5487 - accuracy: 0.6986 - val_loss: 0.6077 - val_accuracy: 0.8571\n",
      "Epoch 16/50\n",
      "3/3 [==============================] - 0s 66ms/step - loss: 0.5421 - accuracy: 0.6986 - val_loss: 0.5866 - val_accuracy: 0.8571\n",
      "Epoch 17/50\n",
      "3/3 [==============================] - 0s 79ms/step - loss: 0.5023 - accuracy: 0.6986 - val_loss: 0.5760 - val_accuracy: 0.8571\n",
      "Epoch 18/50\n",
      "3/3 [==============================] - 0s 67ms/step - loss: 0.4614 - accuracy: 0.7808 - val_loss: 0.5688 - val_accuracy: 0.8571\n",
      "Epoch 19/50\n",
      "3/3 [==============================] - 0s 67ms/step - loss: 0.4453 - accuracy: 0.9041 - val_loss: 0.5494 - val_accuracy: 0.8571\n",
      "Epoch 20/50\n",
      "3/3 [==============================] - 0s 67ms/step - loss: 0.4233 - accuracy: 0.8904 - val_loss: 0.5121 - val_accuracy: 0.8571\n",
      "Epoch 21/50\n",
      "3/3 [==============================] - 0s 66ms/step - loss: 0.4226 - accuracy: 0.8219 - val_loss: 0.5077 - val_accuracy: 0.8571\n",
      "Epoch 22/50\n",
      "3/3 [==============================] - 0s 66ms/step - loss: 0.3928 - accuracy: 0.8767 - val_loss: 0.5499 - val_accuracy: 0.8571\n",
      "Epoch 23/50\n",
      "3/3 [==============================] - 0s 67ms/step - loss: 0.3948 - accuracy: 0.9452 - val_loss: 0.5413 - val_accuracy: 0.8571\n",
      "Epoch 24/50\n",
      "3/3 [==============================] - 0s 67ms/step - loss: 0.3701 - accuracy: 0.9452 - val_loss: 0.4956 - val_accuracy: 0.8571\n",
      "Epoch 25/50\n",
      "3/3 [==============================] - 0s 66ms/step - loss: 0.3503 - accuracy: 0.8630 - val_loss: 0.4964 - val_accuracy: 0.8571\n",
      "Epoch 26/50\n",
      "3/3 [==============================] - 0s 68ms/step - loss: 0.3486 - accuracy: 0.8493 - val_loss: 0.5006 - val_accuracy: 0.8571\n",
      "Epoch 27/50\n",
      "3/3 [==============================] - 0s 68ms/step - loss: 0.3281 - accuracy: 0.9589 - val_loss: 0.5295 - val_accuracy: 0.8571\n",
      "Epoch 28/50\n",
      "3/3 [==============================] - 0s 67ms/step - loss: 0.3316 - accuracy: 1.0000 - val_loss: 0.5213 - val_accuracy: 0.8571\n",
      "Epoch 29/50\n",
      "3/3 [==============================] - 0s 67ms/step - loss: 0.3133 - accuracy: 0.9863 - val_loss: 0.5319 - val_accuracy: 0.8571\n",
      "Epoch 30/50\n",
      "3/3 [==============================] - 0s 66ms/step - loss: 0.3183 - accuracy: 0.9041 - val_loss: 0.5418 - val_accuracy: 0.8571\n",
      "Epoch 31/50\n",
      "3/3 [==============================] - 0s 66ms/step - loss: 0.3039 - accuracy: 0.9452 - val_loss: 0.5255 - val_accuracy: 0.8571\n",
      "Epoch 32/50\n",
      "3/3 [==============================] - 0s 65ms/step - loss: 0.2997 - accuracy: 1.0000 - val_loss: 0.5164 - val_accuracy: 0.8571\n",
      "Epoch 33/50\n",
      "3/3 [==============================] - 0s 67ms/step - loss: 0.2990 - accuracy: 1.0000 - val_loss: 0.5188 - val_accuracy: 0.8571\n",
      "Epoch 34/50\n",
      "3/3 [==============================] - 0s 66ms/step - loss: 0.2944 - accuracy: 1.0000 - val_loss: 0.5430 - val_accuracy: 0.8571\n",
      "Epoch 35/50\n",
      "3/3 [==============================] - 0s 67ms/step - loss: 0.2927 - accuracy: 0.9589 - val_loss: 0.5601 - val_accuracy: 0.8571\n",
      "Epoch 36/50\n",
      "3/3 [==============================] - 0s 67ms/step - loss: 0.2906 - accuracy: 0.9726 - val_loss: 0.5453 - val_accuracy: 0.8571\n",
      "Epoch 37/50\n",
      "3/3 [==============================] - 0s 66ms/step - loss: 0.2897 - accuracy: 1.0000 - val_loss: 0.5459 - val_accuracy: 0.8571\n",
      "Epoch 38/50\n",
      "3/3 [==============================] - 0s 66ms/step - loss: 0.2891 - accuracy: 1.0000 - val_loss: 0.5595 - val_accuracy: 0.8571\n",
      "Epoch 39/50\n",
      "3/3 [==============================] - 0s 67ms/step - loss: 0.2872 - accuracy: 1.0000 - val_loss: 0.5857 - val_accuracy: 0.8571\n",
      "Epoch 40/50\n",
      "3/3 [==============================] - 0s 67ms/step - loss: 0.2850 - accuracy: 1.0000 - val_loss: 0.6148 - val_accuracy: 0.8571\n",
      "Epoch 41/50\n",
      "3/3 [==============================] - 0s 66ms/step - loss: 0.2864 - accuracy: 0.9726 - val_loss: 0.5876 - val_accuracy: 0.8571\n",
      "Epoch 42/50\n",
      "3/3 [==============================] - 0s 66ms/step - loss: 0.2837 - accuracy: 1.0000 - val_loss: 0.5712 - val_accuracy: 0.8571\n",
      "Epoch 43/50\n",
      "3/3 [==============================] - 0s 67ms/step - loss: 0.2833 - accuracy: 1.0000 - val_loss: 0.5705 - val_accuracy: 0.8571\n",
      "Epoch 44/50\n",
      "3/3 [==============================] - 0s 68ms/step - loss: 0.2825 - accuracy: 1.0000 - val_loss: 0.5807 - val_accuracy: 0.8571\n",
      "Epoch 45/50\n",
      "3/3 [==============================] - 0s 74ms/step - loss: 0.2815 - accuracy: 1.0000 - val_loss: 0.5842 - val_accuracy: 0.8571\n",
      "Epoch 46/50\n",
      "3/3 [==============================] - 0s 69ms/step - loss: 0.2807 - accuracy: 1.0000 - val_loss: 0.5908 - val_accuracy: 0.8571\n",
      "Epoch 47/50\n",
      "3/3 [==============================] - 0s 67ms/step - loss: 0.2799 - accuracy: 1.0000 - val_loss: 0.6068 - val_accuracy: 0.8571\n",
      "Epoch 48/50\n",
      "3/3 [==============================] - 0s 66ms/step - loss: 0.2794 - accuracy: 1.0000 - val_loss: 0.6070 - val_accuracy: 0.8571\n",
      "Epoch 49/50\n",
      "3/3 [==============================] - 0s 67ms/step - loss: 0.2786 - accuracy: 1.0000 - val_loss: 0.6170 - val_accuracy: 0.8571\n",
      "Epoch 50/50\n",
      "3/3 [==============================] - 0s 69ms/step - loss: 0.2778 - accuracy: 1.0000 - val_loss: 0.6345 - val_accuracy: 0.8571\n"
     ]
    }
   ],
   "source": [
    "# define and train CNN Model\n",
    "model = tf.keras.Sequential([\n",
    "    tf.keras.layers.Conv2D(32, (2, 2), padding = \"same\",strides = (1,1), activation='relu',\n",
    "                           kernel_regularizer=tf.keras.regularizers.L2(l2=0.001),\n",
    "                           input_shape=(378, 88, 1)),\n",
    "    tf.keras.layers.MaxPooling2D((2, 2)),\n",
    "    tf.keras.layers.Conv2D(16, (2, 2),  padding = \"same\",strides = (1,1),activation='relu',\n",
    "                           kernel_regularizer=tf.keras.regularizers.L2(l2=0.001)),\n",
    "    tf.keras.layers.MaxPooling2D((2, 2)),\n",
    "    # tf.keras.layers.Conv2D(4, (2, 2), activation='relu', padding = \"same\",strides = (1,1),\n",
    "    #                        kernel_regularizer=tf.keras.regularizers.L2(l2=0.001)),\n",
    "    # tf.keras.layers.MaxPooling2D((2, 2)),\n",
    "    tf.keras.layers.Flatten(),\n",
    "    tf.keras.layers.Dense(32, activation='relu',kernel_regularizer=tf.keras.regularizers.L2(l2=0.001)),\n",
    "   \n",
    "    tf.keras.layers.Dense(1, activation='sigmoid')\n",
    "])\n",
    "\n",
    "model.compile(optimizer='adam', loss='binary_crossentropy', metrics=['accuracy'])\n",
    "\n",
    "history = model.fit(features_tensor, depression_labels, epochs=50, batch_size=32, validation_split=0.15)"
   ]
  },
  {
   "cell_type": "code",
   "execution_count": 16,
   "metadata": {},
   "outputs": [
    {
     "data": {
      "image/png": "[encoded data removed]",
      "text/plain": [
       "<Figure size 600x400 with 1 Axes>"
      ]
     },
     "metadata": {},
     "output_type": "display_data"
    }
   ],
   "source": [
    "# plot the model\n",
    "fig, ax = plt.subplots(figsize=(6, 4))\n",
    "plt.plot(history.history[\"loss\"], label=\"loss\")\n",
    "plt.plot(history.history[\"val_loss\"], label=\"val_loss\")\n",
    "plt.title(\"Learning Rate = 0.001\")\n",
    "plt.xlabel(\"Epochs\")\n",
    "plt.ylabel(\"Cost\")\n",
    "plt.legend()\n",
    "plt.show()"
   ]
  },
  {
   "cell_type": "code",
   "execution_count": 17,
   "metadata": {},
   "outputs": [
    {
     "name": "stdout",
     "output_type": "stream",
     "text": [
      "Epoch 1/50\n",
      "3/3 [==============================] - 0s 71ms/step - loss: 349.3267 - accuracy: 0.4521 - val_loss: 39.8434 - val_accuracy: 0.8571\n",
      "Epoch 2/50\n",
      "3/3 [==============================] - 0s 48ms/step - loss: 88.7182 - accuracy: 0.6986 - val_loss: 1.6534 - val_accuracy: 0.8571\n",
      "Epoch 3/50\n",
      "3/3 [==============================] - 0s 48ms/step - loss: 1.8797 - accuracy: 0.6164 - val_loss: 0.6935 - val_accuracy: 0.1429\n",
      "Epoch 4/50\n",
      "3/3 [==============================] - 0s 51ms/step - loss: 0.6933 - accuracy: 0.3014 - val_loss: 0.6935 - val_accuracy: 0.1429\n",
      "Epoch 5/50\n",
      "3/3 [==============================] - 0s 47ms/step - loss: 0.6933 - accuracy: 0.3014 - val_loss: 0.6933 - val_accuracy: 0.1429\n",
      "Epoch 6/50\n",
      "3/3 [==============================] - 0s 47ms/step - loss: 0.6932 - accuracy: 0.3425 - val_loss: 0.6929 - val_accuracy: 0.8571\n",
      "Epoch 7/50\n",
      "3/3 [==============================] - 0s 48ms/step - loss: 0.6930 - accuracy: 0.6986 - val_loss: 0.6924 - val_accuracy: 0.8571\n",
      "Epoch 8/50\n",
      "3/3 [==============================] - 0s 46ms/step - loss: 0.6927 - accuracy: 0.6986 - val_loss: 0.6919 - val_accuracy: 0.8571\n",
      "Epoch 9/50\n",
      "3/3 [==============================] - 0s 47ms/step - loss: 0.6924 - accuracy: 0.6986 - val_loss: 0.6912 - val_accuracy: 0.8571\n",
      "Epoch 10/50\n",
      "3/3 [==============================] - 0s 47ms/step - loss: 0.6920 - accuracy: 0.6986 - val_loss: 0.6905 - val_accuracy: 0.8571\n",
      "Epoch 11/50\n",
      "3/3 [==============================] - 0s 47ms/step - loss: 0.6916 - accuracy: 0.6986 - val_loss: 0.6898 - val_accuracy: 0.8571\n",
      "Epoch 12/50\n",
      "3/3 [==============================] - 0s 46ms/step - loss: 0.6912 - accuracy: 0.6986 - val_loss: 0.6891 - val_accuracy: 0.8571\n",
      "Epoch 13/50\n",
      "3/3 [==============================] - 0s 50ms/step - loss: 0.6908 - accuracy: 0.6986 - val_loss: 0.6884 - val_accuracy: 0.8571\n",
      "Epoch 14/50\n",
      "3/3 [==============================] - 0s 49ms/step - loss: 0.6904 - accuracy: 0.6986 - val_loss: 0.6877 - val_accuracy: 0.8571\n",
      "Epoch 15/50\n",
      "3/3 [==============================] - 0s 48ms/step - loss: 0.6900 - accuracy: 0.6986 - val_loss: 0.6869 - val_accuracy: 0.8571\n",
      "Epoch 16/50\n",
      "3/3 [==============================] - 0s 50ms/step - loss: 0.6896 - accuracy: 0.6986 - val_loss: 0.6861 - val_accuracy: 0.8571\n",
      "Epoch 17/50\n",
      "3/3 [==============================] - 0s 53ms/step - loss: 0.6891 - accuracy: 0.6986 - val_loss: 0.6852 - val_accuracy: 0.8571\n",
      "Epoch 18/50\n",
      "3/3 [==============================] - 0s 47ms/step - loss: 0.6886 - accuracy: 0.6986 - val_loss: 0.6843 - val_accuracy: 0.8571\n",
      "Epoch 19/50\n",
      "3/3 [==============================] - 0s 49ms/step - loss: 0.6881 - accuracy: 0.6986 - val_loss: 0.6835 - val_accuracy: 0.8571\n",
      "Epoch 20/50\n",
      "3/3 [==============================] - 0s 48ms/step - loss: 0.6877 - accuracy: 0.6986 - val_loss: 0.6826 - val_accuracy: 0.8571\n",
      "Epoch 21/50\n",
      "3/3 [==============================] - 0s 51ms/step - loss: 0.6872 - accuracy: 0.6986 - val_loss: 0.6817 - val_accuracy: 0.8571\n",
      "Epoch 22/50\n",
      "3/3 [==============================] - 0s 51ms/step - loss: 0.6867 - accuracy: 0.6986 - val_loss: 0.6808 - val_accuracy: 0.8571\n",
      "Epoch 23/50\n",
      "3/3 [==============================] - 0s 47ms/step - loss: 0.6862 - accuracy: 0.6986 - val_loss: 0.6799 - val_accuracy: 0.8571\n",
      "Epoch 24/50\n",
      "3/3 [==============================] - 0s 60ms/step - loss: 0.6858 - accuracy: 0.6986 - val_loss: 0.6790 - val_accuracy: 0.8571\n",
      "Epoch 25/50\n",
      "3/3 [==============================] - 0s 52ms/step - loss: 0.6852 - accuracy: 0.6986 - val_loss: 0.6782 - val_accuracy: 0.8571\n",
      "Epoch 26/50\n",
      "3/3 [==============================] - 0s 52ms/step - loss: 0.6848 - accuracy: 0.6986 - val_loss: 0.6773 - val_accuracy: 0.8571\n",
      "Epoch 27/50\n",
      "3/3 [==============================] - 0s 47ms/step - loss: 0.6843 - accuracy: 0.6986 - val_loss: 0.6764 - val_accuracy: 0.8571\n",
      "Epoch 28/50\n",
      "3/3 [==============================] - 0s 47ms/step - loss: 0.6838 - accuracy: 0.6986 - val_loss: 0.6756 - val_accuracy: 0.8571\n",
      "Epoch 29/50\n",
      "3/3 [==============================] - 0s 47ms/step - loss: 0.6834 - accuracy: 0.6986 - val_loss: 0.6747 - val_accuracy: 0.8571\n",
      "Epoch 30/50\n",
      "3/3 [==============================] - 0s 46ms/step - loss: 0.6830 - accuracy: 0.6986 - val_loss: 0.6739 - val_accuracy: 0.8571\n",
      "Epoch 31/50\n",
      "3/3 [==============================] - 0s 47ms/step - loss: 0.6824 - accuracy: 0.6986 - val_loss: 0.6730 - val_accuracy: 0.8571\n",
      "Epoch 32/50\n",
      "3/3 [==============================] - 0s 46ms/step - loss: 0.6821 - accuracy: 0.6986 - val_loss: 0.6722 - val_accuracy: 0.8571\n",
      "Epoch 33/50\n",
      "3/3 [==============================] - 0s 50ms/step - loss: 0.6816 - accuracy: 0.6986 - val_loss: 0.6714 - val_accuracy: 0.8571\n",
      "Epoch 34/50\n",
      "3/3 [==============================] - 0s 54ms/step - loss: 0.6811 - accuracy: 0.6986 - val_loss: 0.6706 - val_accuracy: 0.8571\n",
      "Epoch 35/50\n",
      "3/3 [==============================] - 0s 52ms/step - loss: 0.6807 - accuracy: 0.6986 - val_loss: 0.6698 - val_accuracy: 0.8571\n",
      "Epoch 36/50\n",
      "3/3 [==============================] - 0s 52ms/step - loss: 0.6803 - accuracy: 0.6986 - val_loss: 0.6691 - val_accuracy: 0.8571\n",
      "Epoch 37/50\n",
      "3/3 [==============================] - 0s 53ms/step - loss: 0.6799 - accuracy: 0.6986 - val_loss: 0.6683 - val_accuracy: 0.8571\n",
      "Epoch 38/50\n",
      "3/3 [==============================] - 0s 49ms/step - loss: 0.6795 - accuracy: 0.6986 - val_loss: 0.6675 - val_accuracy: 0.8571\n",
      "Epoch 39/50\n",
      "3/3 [==============================] - 0s 49ms/step - loss: 0.6791 - accuracy: 0.6986 - val_loss: 0.6667 - val_accuracy: 0.8571\n",
      "Epoch 40/50\n",
      "3/3 [==============================] - 0s 49ms/step - loss: 0.6786 - accuracy: 0.6986 - val_loss: 0.6658 - val_accuracy: 0.8571\n",
      "Epoch 41/50\n",
      "3/3 [==============================] - 0s 49ms/step - loss: 0.6781 - accuracy: 0.6986 - val_loss: 0.6649 - val_accuracy: 0.8571\n",
      "Epoch 42/50\n",
      "3/3 [==============================] - 0s 49ms/step - loss: 0.6777 - accuracy: 0.6986 - val_loss: 0.6640 - val_accuracy: 0.8571\n",
      "Epoch 43/50\n",
      "3/3 [==============================] - 0s 49ms/step - loss: 0.6772 - accuracy: 0.6986 - val_loss: 0.6632 - val_accuracy: 0.8571\n",
      "Epoch 44/50\n",
      "3/3 [==============================] - 0s 49ms/step - loss: 0.6767 - accuracy: 0.6986 - val_loss: 0.6623 - val_accuracy: 0.8571\n",
      "Epoch 45/50\n",
      "3/3 [==============================] - 0s 51ms/step - loss: 0.6763 - accuracy: 0.6986 - val_loss: 0.6615 - val_accuracy: 0.8571\n",
      "Epoch 46/50\n",
      "3/3 [==============================] - 0s 54ms/step - loss: 0.6759 - accuracy: 0.6986 - val_loss: 0.6606 - val_accuracy: 0.8571\n",
      "Epoch 47/50\n",
      "3/3 [==============================] - 0s 51ms/step - loss: 0.6755 - accuracy: 0.6986 - val_loss: 0.6599 - val_accuracy: 0.8571\n",
      "Epoch 48/50\n",
      "3/3 [==============================] - 0s 48ms/step - loss: 0.6751 - accuracy: 0.6986 - val_loss: 0.6591 - val_accuracy: 0.8571\n",
      "Epoch 49/50\n",
      "3/3 [==============================] - 0s 49ms/step - loss: 0.6747 - accuracy: 0.6986 - val_loss: 0.6584 - val_accuracy: 0.8571\n",
      "Epoch 50/50\n",
      "3/3 [==============================] - 0s 61ms/step - loss: 0.6743 - accuracy: 0.6986 - val_loss: 0.6577 - val_accuracy: 0.8571\n"
     ]
    }
   ],
   "source": [
    "# define and train CNN Model\n",
    "model2 = tf.keras.Sequential([\n",
    "    tf.keras.layers.Conv2D(16, (2, 2), padding = \"same\",strides = (1,1), activation='relu',\n",
    "                           input_shape=(378, 88, 1)),\n",
    "    \n",
    "    tf.keras.layers.MaxPooling2D((2, 2)),\n",
    "    tf.keras.layers.Dropout(0.1),\n",
    "    tf.keras.layers.Conv2D(16, (2, 2),  padding = \"same\",strides = (1,1),activation='relu'),\n",
    "  \n",
    "    tf.keras.layers.MaxPooling2D((2, 2)),\n",
    "    tf.keras.layers.Dropout(0.1),\n",
    "    \n",
    "    # tf.keras.layers.Conv2D(4, (2, 2), activation='relu', padding = \"same\",strides = (1,1),\n",
    "    #                        kernel_regularizer=tf.keras.regularizers.L2(l2=0.001)),\n",
    "    # tf.keras.layers.MaxPooling2D((2, 2)),\n",
    "    tf.keras.layers.Flatten(),\n",
    "    tf.keras.layers.Dense(32, activation='relu'),\n",
    "    tf.keras.layers.Dropout(0.1),\n",
    "    tf.keras.layers.Dense(1, activation='sigmoid')\n",
    "])\n",
    "\n",
    "model2.compile(optimizer='adam', loss='binary_crossentropy', metrics=['accuracy'])\n",
    "\n",
    "history2 = model2.fit(features_tensor, depression_labels, epochs=50, batch_size=32, validation_split=0.15)"
   ]
  },
  {
   "cell_type": "code",
   "execution_count": 18,
   "metadata": {},
   "outputs": [
    {
     "data": {
      "image/png": "[encoded data removed]",
      "text/plain": [
       "<Figure size 600x400 with 1 Axes>"
      ]
     },
     "metadata": {},
     "output_type": "display_data"
    }
   ],
   "source": [
    "# plot the model\n",
    "fig, ax = plt.subplots(figsize=(6, 4))\n",
    "plt.plot(history2.history[\"loss\"], label=\"loss\")\n",
    "plt.plot(history2.history[\"val_loss\"], label=\"val_loss\")\n",
    "plt.title(\"Learning Rate = 0.001\")\n",
    "plt.xlabel(\"Epochs\")\n",
    "plt.ylabel(\"Cost\")\n",
    "plt.legend()\n",
    "plt.show()"
   ]
  },
  {
   "cell_type": "code",
   "execution_count": 19,
   "metadata": {},
   "outputs": [
    {
     "data": {
      "image/png": "[encoded data removed]",
      "text/plain": [
       "<Figure size 600x400 with 1 Axes>"
      ]
     },
     "metadata": {},
     "output_type": "display_data"
    }
   ],
   "source": [
    "fig, ax = plt.subplots(figsize=(6, 4))\n",
    "plt.plot(history2.history[\"accuracy\"], label=\"accuracy\")\n",
    "plt.plot(history2.history[\"val_accuracy\"], label=\"val_accuracy\")\n",
    "plt.title(\"Learning Rate = 0.001\")\n",
    "plt.xlabel(\"Epochs\")\n",
    "plt.ylabel(\"Accuracy\")\n",
    "plt.legend()\n",
    "plt.show()"
   ]
  },
  {
   "cell_type": "markdown",
   "metadata": {},
   "source": [
    "### Test Data"
   ]
  },
  {
   "cell_type": "code",
   "execution_count": 20,
   "metadata": {},
   "outputs": [],
   "source": [
    "test_df_dict = {'Participant_ID': [], 'features': []}  # Dict to store values\n",
    "max_rows = max_rows  # Max number of rows present in the training data (used for padding)\n",
    "\n",
    "for file in os.listdir(TEST_FOLDER_PATH):\n",
    "    \n",
    "    file_name_split = file.split('.')\n",
    "    file_type = file_name_split[1]\n",
    "    file_name = file_name_split[0]\n",
    "\n",
    "    if file_type == 'csv':\n",
    "        # Fetch participant ID\n",
    "        id = int(file_name.split('_')[1])\n",
    "        test_df_dict['Participant_ID'].append(id)\n",
    "\n",
    "        # Fetch data\n",
    "        temp_df = pd.read_csv(TEST_FOLDER_PATH + '/' + file, names=col_names)\n",
    "\n",
    "        # Remove null values\n",
    "        if temp_df.isna().sum().values[0]>0:\n",
    "            print(f\"Removing null values present in {file}\")\n",
    "            temp_df = temp_df.dropna(axis=0)\n",
    "        \n",
    "        # Filter out rows where more than half of the feature values are zero\n",
    "        zero_percentages = (temp_df == 0).mean(axis=1)  # Calculate the percentage of zero values in each row\n",
    "        threshold = 0.5  # More than half\n",
    "        temp_df = temp_df[zero_percentages <= threshold]\n",
    "        \n",
    "        # Add the features to dict\n",
    "        test_df_dict['features'].append(temp_df)"
   ]
  },
  {
   "cell_type": "code",
   "execution_count": 21,
   "metadata": {},
   "outputs": [],
   "source": [
    "# Pad zeroes\n",
    "for i in range(len(test_df_dict['features'])):\n",
    "    test_df_dict['features'][i] = test_df_dict['features'][i].reindex(np.arange(max_rows), fill_value=0).values"
   ]
  },
  {
   "cell_type": "code",
   "execution_count": 22,
   "metadata": {},
   "outputs": [],
   "source": [
    "# Convert the dict into dataframe\n",
    "test_features = pd.DataFrame(test_df_dict)"
   ]
  },
  {
   "cell_type": "code",
   "execution_count": 23,
   "metadata": {},
   "outputs": [
    {
     "data": {
      "text/html": [
       "<div>\n",
       "<style scoped>\n",
       "    .dataframe tbody tr th:only-of-type {\n",
       "        vertical-align: middle;\n",
       "    }\n",
       "\n",
       "    .dataframe tbody tr th {\n",
       "        vertical-align: top;\n",
       "    }\n",
       "\n",
       "    .dataframe thead th {\n",
       "        text-align: right;\n",
       "    }\n",
       "</style>\n",
       "<table border=\"1\" class=\"dataframe\">\n",
       "  <thead>\n",
       "    <tr style=\"text-align: right;\">\n",
       "      <th></th>\n",
       "      <th>Participant_ID</th>\n",
       "      <th>features</th>\n",
       "      <th>Depression</th>\n",
       "      <th>Gender</th>\n",
       "    </tr>\n",
       "  </thead>\n",
       "  <tbody>\n",
       "    <tr>\n",
       "      <th>0</th>\n",
       "      <td>474</td>\n",
       "      <td>[[31.240383, 0.007704522, 31.195211, 31.19749,...</td>\n",
       "      <td>0</td>\n",
       "      <td>1</td>\n",
       "    </tr>\n",
       "    <tr>\n",
       "      <th>1</th>\n",
       "      <td>312</td>\n",
       "      <td>[[59.940285, 0.025738925, 58.02941, 60.76215, ...</td>\n",
       "      <td>0</td>\n",
       "      <td>1</td>\n",
       "    </tr>\n",
       "    <tr>\n",
       "      <th>2</th>\n",
       "      <td>305</td>\n",
       "      <td>[[32.160255, 0.20058103, 23.145561, 35.63253, ...</td>\n",
       "      <td>0</td>\n",
       "      <td>1</td>\n",
       "    </tr>\n",
       "    <tr>\n",
       "      <th>3</th>\n",
       "      <td>315</td>\n",
       "      <td>[[13.185594, 0.018975748, 12.951183, 13.3119, ...</td>\n",
       "      <td>0</td>\n",
       "      <td>1</td>\n",
       "    </tr>\n",
       "    <tr>\n",
       "      <th>4</th>\n",
       "      <td>415</td>\n",
       "      <td>[[34.831165, 0.25052992, 31.193499, 31.198702,...</td>\n",
       "      <td>0</td>\n",
       "      <td>0</td>\n",
       "    </tr>\n",
       "  </tbody>\n",
       "</table>\n",
       "</div>"
      ],
      "text/plain": [
       "   Participant_ID                                           features  \\\n",
       "0             474  [[31.240383, 0.007704522, 31.195211, 31.19749,...   \n",
       "1             312  [[59.940285, 0.025738925, 58.02941, 60.76215, ...   \n",
       "2             305  [[32.160255, 0.20058103, 23.145561, 35.63253, ...   \n",
       "3             315  [[13.185594, 0.018975748, 12.951183, 13.3119, ...   \n",
       "4             415  [[34.831165, 0.25052992, 31.193499, 31.198702,...   \n",
       "\n",
       "   Depression  Gender  \n",
       "0           0       1  \n",
       "1           0       1  \n",
       "2           0       1  \n",
       "3           0       1  \n",
       "4           0       0  "
      ]
     },
     "execution_count": 23,
     "metadata": {},
     "output_type": "execute_result"
    }
   ],
   "source": [
    "test_merged_df = pd.merge(test_features, df_labels, on='Participant_ID')\n",
    "test_merged_df.head()"
   ]
  },
  {
   "cell_type": "code",
   "execution_count": 24,
   "metadata": {},
   "outputs": [],
   "source": [
    "# Extract Features and Labels for tensorflow\n",
    "test_features = test_merged_df['features'].to_list()\n",
    "test_depression_labels = test_merged_df['Depression'].values\n",
    "test_gender_labels = test_merged_df['Gender'].values"
   ]
  },
  {
   "cell_type": "code",
   "execution_count": 27,
   "metadata": {},
   "outputs": [],
   "source": [
    "# Convert features to tensor object\n",
    "test_features_tensor = tf.convert_to_tensor(test_features, dtype=tf.float32)\n",
    "test_features = np.array(test_features_tensor).reshape(20, 378, 88, 1)\n",
    "\n",
    "# Convert labels to proper shape\n",
    "test_depression_labels = np.asarray(test_depression_labels).astype('float32').reshape((-1,1))\n",
    "test_gender_labels = np.asarray(test_gender_labels).astype('float32').reshape((-1,1))"
   ]
  },
  {
   "cell_type": "code",
   "execution_count": 28,
   "metadata": {},
   "outputs": [
    {
     "data": {
      "text/plain": [
       "(20, 378, 88, 1)"
      ]
     },
     "execution_count": 28,
     "metadata": {},
     "output_type": "execute_result"
    }
   ],
   "source": [
    "test_features.shape"
   ]
  },
  {
   "cell_type": "code",
   "execution_count": 30,
   "metadata": {},
   "outputs": [
    {
     "name": "stdout",
     "output_type": "stream",
     "text": [
      "1/1 [==============================] - 0s 26ms/step - loss: 1.4746 - accuracy: 0.7000\n",
      "Test loss:  1.4745861291885376\n",
      "Test accuracy:  0.699999988079071\n"
     ]
    }
   ],
   "source": [
    "test_loss, test_acc = model.evaluate(test_features,  test_depression_labels)\n",
    "print(\"Test loss: \", test_loss)\n",
    "print(\"Test accuracy: \", test_acc)"
   ]
  },
  {
   "cell_type": "code",
   "execution_count": 31,
   "metadata": {},
   "outputs": [
    {
     "name": "stdout",
     "output_type": "stream",
     "text": [
      "1/1 [==============================] - 0s 76ms/step - loss: 0.6739 - accuracy: 0.7000\n",
      "Test loss:  0.6738673448562622\n",
      "Test accuracy:  0.699999988079071\n"
     ]
    }
   ],
   "source": [
    "test_loss_2, test_acc_2 = model2.evaluate(test_features,  test_depression_labels)\n",
    "print(\"Test loss: \", test_loss_2)\n",
    "print(\"Test accuracy: \", test_acc_2)"
   ]
  },
  {
   "cell_type": "code",
   "execution_count": 38,
   "metadata": {},
   "outputs": [
    {
     "name": "stdout",
     "output_type": "stream",
     "text": [
      "1/1 [==============================] - 0s 23ms/step\n",
      "Confusion Matrix \n",
      " [[14  0]\n",
      " [ 6  0]]\n"
     ]
    },
    {
     "data": {
      "image/png": "[encoded data removed]",
      "text/plain": [
       "<Figure size 600x600 with 2 Axes>"
      ]
     },
     "metadata": {},
     "output_type": "display_data"
    }
   ],
   "source": [
    "#Making predictions for the test set with the CNN model from b)\n",
    "from sklearn.metrics import classification_report, confusion_matrix, ConfusionMatrixDisplay\n",
    "y_pred = model2.predict(test_features)\n",
    "y_pred_classes = np.argmax(y_pred, axis=1)\n",
    "\n",
    "conf_matrix = confusion_matrix(test_depression_labels, y_pred_classes)\n",
    "print(\"Confusion Matrix \\n\", conf_matrix)\n",
    "\n",
    "#Visualizing the confusion matrix\n",
    "plt.rcParams['figure.figsize'] = (6, 6)\n",
    "display_c_m = ConfusionMatrixDisplay(conf_matrix)\n",
    "display_c_m.plot(cmap='Greens', xticks_rotation=50)\n",
    "plt.title('Confusion Matrix')\n",
    "plt.show()"
   ]
  }
 ],
 "metadata": {
  "kernelspec": {
   "display_name": "base",
   "language": "python",
   "name": "python3"
  },
  "language_info": {
   "codemirror_mode": {
    "name": "ipython",
    "version": 3
   },
   "file_extension": ".py",
   "mimetype": "text/x-python",
   "name": "python",
   "nbconvert_exporter": "python",
   "pygments_lexer": "ipython3",
   "version": "3.11.7"
  }
 },
 "nbformat": 4,
 "nbformat_minor": 2
}
