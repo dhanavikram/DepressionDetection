{
 "cells": [
  {
   "cell_type": "code",
   "execution_count": 153,
   "metadata": {},
   "outputs": [],
   "source": [
    "import os\n",
    "import time\n",
    "import numpy as np\n",
    "import pandas as pd\n",
    "import matplotlib.pyplot as plt\n",
    "from keras import utils\n",
    "import tensorflow as tf\n",
    "from tensorflow.keras.models import Sequential\n",
    "from tensorflow.keras.layers import Dense\n",
    "from tensorflow.keras.optimizers import Adam,Adagrad\n",
    "from keras import regularizers\n",
    "from sklearn.preprocessing import StandardScaler\n",
    "from sklearn.tree import DecisionTreeClassifier\n",
    "from sklearn.model_selection import cross_val_score\n",
    "from sklearn import metrics\n",
    "from sklearn.ensemble import RandomForestClassifier\n",
    "from sklearn.model_selection import RandomizedSearchCV\n",
    "from sklearn.model_selection import train_test_split\n",
    "import tensorflow"
   ]
  },
  {
   "cell_type": "code",
   "execution_count": 6,
   "metadata": {},
   "outputs": [],
   "source": [
    "# Paths of folders containing train and test data\n",
    "TRAIN_FOLDER_PATH = \"/Users/kalyanijaware/Documents/ML Project/features_train\"\n",
    "TEST_FOLDER_PATH = \"/Users/kalyanijaware/Documents/ML Project/features_test\""
   ]
  },
  {
   "cell_type": "code",
   "execution_count": 7,
   "metadata": {},
   "outputs": [],
   "source": [
    "# Names of features based on GeMAPS feature set\n",
    "meta_data = pd.read_csv('feature_description.csv', encoding='ISO-8859-1', header=None)\n",
    "col_names = list(meta_data[0])"
   ]
  },
  {
   "cell_type": "code",
   "execution_count": 8,
   "metadata": {},
   "outputs": [
    {
     "name": "stdout",
     "output_type": "stream",
     "text": [
      "Removing null values present in spk_402.csv\n"
     ]
    }
   ],
   "source": [
    "df_dict = {'Participant_ID': [], 'features': []}  # Dict to store values\n",
    "max_rows = 0  # Max number of rows present in the data (used for padding)\n",
    "\n",
    "for file in os.listdir(TRAIN_FOLDER_PATH):\n",
    "    \n",
    "    file_name_split = file.split('.')\n",
    "    file_type = file_name_split[1]\n",
    "    file_name = file_name_split[0]\n",
    "\n",
    "    if file_type == 'csv':\n",
    "        # Fetch participant ID\n",
    "        id = int(file_name.split('_')[1])\n",
    "        df_dict['Participant_ID'].append(id)\n",
    "\n",
    "        # Fetch data\n",
    "        temp_df = pd.read_csv(TRAIN_FOLDER_PATH + '/' + file, names=col_names)\n",
    "\n",
    "        # Remove null values\n",
    "        if temp_df.isna().sum().values[0]>0:\n",
    "            print(f\"Removing null values present in {file}\")\n",
    "            temp_df = temp_df.dropna(axis=0)\n",
    "        \n",
    "        # Filter out rows where more than half of the feature values are zero\n",
    "        zero_percentages = (temp_df == 0).mean(axis=1)  # Calculate the percentage of zero values in each row\n",
    "        threshold = 0.5  # More than half\n",
    "        temp_df = temp_df[zero_percentages <= threshold]\n",
    "        \n",
    "        # Add the features to dict\n",
    "        df_dict['features'].append(temp_df)\n",
    "        \n",
    "        # Update max rows\n",
    "        if temp_df.shape[0]>max_rows:\n",
    "            max_rows = temp_df.shape[0] "
   ]
  },
  {
   "cell_type": "code",
   "execution_count": 6,
   "metadata": {},
   "outputs": [
    {
     "data": {
      "text/plain": [
       "378"
      ]
     },
     "execution_count": 6,
     "metadata": {},
     "output_type": "execute_result"
    }
   ],
   "source": [
    "max_rows"
   ]
  },
  {
   "cell_type": "code",
   "execution_count": 9,
   "metadata": {},
   "outputs": [],
   "source": [
    "# Pad zeroes\n",
    "for i in range(len(df_dict['features'])):\n",
    "    df_dict['features'][i] = df_dict['features'][i].reindex(np.arange(max_rows), fill_value=0).values"
   ]
  },
  {
   "cell_type": "code",
   "execution_count": 10,
   "metadata": {},
   "outputs": [],
   "source": [
    "# Convert the dict into dataframe\n",
    "df_features = pd.DataFrame(df_dict)"
   ]
  },
  {
   "cell_type": "code",
   "execution_count": 11,
   "metadata": {},
   "outputs": [
    {
     "data": {
      "text/html": [
       "<div>\n",
       "<style scoped>\n",
       "    .dataframe tbody tr th:only-of-type {\n",
       "        vertical-align: middle;\n",
       "    }\n",
       "\n",
       "    .dataframe tbody tr th {\n",
       "        vertical-align: top;\n",
       "    }\n",
       "\n",
       "    .dataframe thead th {\n",
       "        text-align: right;\n",
       "    }\n",
       "</style>\n",
       "<table border=\"1\" class=\"dataframe\">\n",
       "  <thead>\n",
       "    <tr style=\"text-align: right;\">\n",
       "      <th></th>\n",
       "      <th>Participant_ID</th>\n",
       "      <th>Depression</th>\n",
       "      <th>Gender</th>\n",
       "    </tr>\n",
       "  </thead>\n",
       "  <tbody>\n",
       "    <tr>\n",
       "      <th>0</th>\n",
       "      <td>303</td>\n",
       "      <td>0</td>\n",
       "      <td>0</td>\n",
       "    </tr>\n",
       "    <tr>\n",
       "      <th>1</th>\n",
       "      <td>304</td>\n",
       "      <td>0</td>\n",
       "      <td>0</td>\n",
       "    </tr>\n",
       "    <tr>\n",
       "      <th>2</th>\n",
       "      <td>305</td>\n",
       "      <td>0</td>\n",
       "      <td>1</td>\n",
       "    </tr>\n",
       "    <tr>\n",
       "      <th>3</th>\n",
       "      <td>310</td>\n",
       "      <td>0</td>\n",
       "      <td>1</td>\n",
       "    </tr>\n",
       "    <tr>\n",
       "      <th>4</th>\n",
       "      <td>312</td>\n",
       "      <td>0</td>\n",
       "      <td>1</td>\n",
       "    </tr>\n",
       "  </tbody>\n",
       "</table>\n",
       "</div>"
      ],
      "text/plain": [
       "   Participant_ID  Depression  Gender\n",
       "0             303           0       0\n",
       "1             304           0       0\n",
       "2             305           0       1\n",
       "3             310           0       1\n",
       "4             312           0       1"
      ]
     },
     "execution_count": 11,
     "metadata": {},
     "output_type": "execute_result"
    }
   ],
   "source": [
    "# Read labels dict\n",
    "df_labels = pd.read_csv('labels.csv', skipfooter=1, engine='python')\n",
    "df_labels['Participant_ID'] = df_labels['Participant_ID'].astype(int)\n",
    "df_labels.head()"
   ]
  },
  {
   "cell_type": "code",
   "execution_count": 12,
   "metadata": {},
   "outputs": [],
   "source": [
    "merged_df = pd.merge(df_features, df_labels, on='Participant_ID')"
   ]
  },
  {
   "cell_type": "code",
   "execution_count": 13,
   "metadata": {},
   "outputs": [
    {
     "data": {
      "text/html": [
       "<div>\n",
       "<style scoped>\n",
       "    .dataframe tbody tr th:only-of-type {\n",
       "        vertical-align: middle;\n",
       "    }\n",
       "\n",
       "    .dataframe tbody tr th {\n",
       "        vertical-align: top;\n",
       "    }\n",
       "\n",
       "    .dataframe thead th {\n",
       "        text-align: right;\n",
       "    }\n",
       "</style>\n",
       "<table border=\"1\" class=\"dataframe\">\n",
       "  <thead>\n",
       "    <tr style=\"text-align: right;\">\n",
       "      <th></th>\n",
       "      <th>Participant_ID</th>\n",
       "      <th>features</th>\n",
       "      <th>Depression</th>\n",
       "      <th>Gender</th>\n",
       "    </tr>\n",
       "  </thead>\n",
       "  <tbody>\n",
       "    <tr>\n",
       "      <th>0</th>\n",
       "      <td>448</td>\n",
       "      <td>[[33.88331, 0.18847024, 31.197649, 31.198807, ...</td>\n",
       "      <td>1</td>\n",
       "      <td>1</td>\n",
       "    </tr>\n",
       "    <tr>\n",
       "      <th>1</th>\n",
       "      <td>475</td>\n",
       "      <td>[[0.0, 0.0, 0.0, 0.0, 0.0, 0.0, 0.0, 0.0, 0.0,...</td>\n",
       "      <td>0</td>\n",
       "      <td>1</td>\n",
       "    </tr>\n",
       "    <tr>\n",
       "      <th>2</th>\n",
       "      <td>313</td>\n",
       "      <td>[[22.360157, 0.071260795, 20.776451, 22.337982...</td>\n",
       "      <td>0</td>\n",
       "      <td>1</td>\n",
       "    </tr>\n",
       "    <tr>\n",
       "      <th>3</th>\n",
       "      <td>449</td>\n",
       "      <td>[[31.251434, 0.008560931, 31.196766, 31.198511...</td>\n",
       "      <td>0</td>\n",
       "      <td>0</td>\n",
       "    </tr>\n",
       "    <tr>\n",
       "      <th>4</th>\n",
       "      <td>339</td>\n",
       "      <td>[[19.374094, 0.07061678, 18.158512, 18.906977,...</td>\n",
       "      <td>1</td>\n",
       "      <td>1</td>\n",
       "    </tr>\n",
       "  </tbody>\n",
       "</table>\n",
       "</div>"
      ],
      "text/plain": [
       "   Participant_ID                                           features  \\\n",
       "0             448  [[33.88331, 0.18847024, 31.197649, 31.198807, ...   \n",
       "1             475  [[0.0, 0.0, 0.0, 0.0, 0.0, 0.0, 0.0, 0.0, 0.0,...   \n",
       "2             313  [[22.360157, 0.071260795, 20.776451, 22.337982...   \n",
       "3             449  [[31.251434, 0.008560931, 31.196766, 31.198511...   \n",
       "4             339  [[19.374094, 0.07061678, 18.158512, 18.906977,...   \n",
       "\n",
       "   Depression  Gender  \n",
       "0           1       1  \n",
       "1           0       1  \n",
       "2           0       1  \n",
       "3           0       0  \n",
       "4           1       1  "
      ]
     },
     "execution_count": 13,
     "metadata": {},
     "output_type": "execute_result"
    }
   ],
   "source": [
    "merged_df.head()"
   ]
  },
  {
   "cell_type": "code",
   "execution_count": 14,
   "metadata": {},
   "outputs": [],
   "source": [
    "# Extract Features and Labels for tensorflow\n",
    "features = merged_df['features'].to_list()\n",
    "depression_labels = merged_df['Depression'].values\n",
    "gender_labels = merged_df['Gender'].values"
   ]
  },
  {
   "cell_type": "code",
   "execution_count": 15,
   "metadata": {},
   "outputs": [],
   "source": [
    "# Convert features to tensor object\n",
    "features_tensor = tf.convert_to_tensor(features, dtype=tf.float32)\n",
    "features = np.array(features_tensor).reshape(87, 378, 88, 1)\n",
    "\n",
    "# Convert labels to proper shape\n",
    "depression_labels = np.asarray(depression_labels).astype('float32').reshape((-1,1))\n",
    "gender_labels = np.asarray(gender_labels).astype('float32').reshape((-1,1))"
   ]
  },
  {
   "cell_type": "code",
   "execution_count": 16,
   "metadata": {},
   "outputs": [
    {
     "data": {
      "text/plain": [
       "(87, 378, 88, 1)"
      ]
     },
     "execution_count": 16,
     "metadata": {},
     "output_type": "execute_result"
    }
   ],
   "source": [
    "features.shape"
   ]
  },
  {
   "cell_type": "code",
   "execution_count": 167,
   "metadata": {},
   "outputs": [
    {
     "name": "stderr",
     "output_type": "stream",
     "text": [
      "WARNING:absl:At this time, the v2.11+ optimizer `tf.keras.optimizers.Adam` runs slowly on M1/M2 Macs, please use the legacy Keras optimizer instead, located at `tf.keras.optimizers.legacy.Adam`.\n"
     ]
    },
    {
     "name": "stdout",
     "output_type": "stream",
     "text": [
      "Epoch 1/50\n",
      "3/3 [==============================] - 1s 110ms/step - loss: 319.4914 - accuracy: 0.4521 - val_loss: 57.7376 - val_accuracy: 0.8571\n",
      "Epoch 2/50\n",
      "3/3 [==============================] - 0s 70ms/step - loss: 130.4610 - accuracy: 0.6986 - val_loss: 112.8914 - val_accuracy: 0.1429\n",
      "Epoch 3/50\n",
      "3/3 [==============================] - 0s 68ms/step - loss: 92.0167 - accuracy: 0.3151 - val_loss: 22.4917 - val_accuracy: 0.2143\n",
      "Epoch 4/50\n",
      "3/3 [==============================] - 0s 68ms/step - loss: 16.5687 - accuracy: 0.7397 - val_loss: 16.5709 - val_accuracy: 0.8571\n",
      "Epoch 5/50\n",
      "3/3 [==============================] - 0s 73ms/step - loss: 36.5871 - accuracy: 0.6986 - val_loss: 14.9555 - val_accuracy: 0.8571\n",
      "Epoch 6/50\n",
      "3/3 [==============================] - 0s 72ms/step - loss: 18.9453 - accuracy: 0.7260 - val_loss: 7.8900 - val_accuracy: 0.8571\n",
      "Epoch 7/50\n",
      "3/3 [==============================] - 0s 67ms/step - loss: 2.7823 - accuracy: 0.8767 - val_loss: 9.7308 - val_accuracy: 0.3571\n",
      "Epoch 8/50\n",
      "3/3 [==============================] - 0s 70ms/step - loss: 3.9823 - accuracy: 0.8082 - val_loss: 18.9506 - val_accuracy: 0.2857\n",
      "Epoch 9/50\n",
      "3/3 [==============================] - 0s 66ms/step - loss: 5.9360 - accuracy: 0.7671 - val_loss: 10.2651 - val_accuracy: 0.1429\n",
      "Epoch 10/50\n",
      "3/3 [==============================] - 0s 66ms/step - loss: 1.0598 - accuracy: 0.9041 - val_loss: 5.0672 - val_accuracy: 0.8571\n",
      "Epoch 11/50\n",
      "3/3 [==============================] - 0s 69ms/step - loss: 0.5383 - accuracy: 0.9589 - val_loss: 7.2389 - val_accuracy: 0.8571\n",
      "Epoch 12/50\n",
      "3/3 [==============================] - 0s 74ms/step - loss: 1.0755 - accuracy: 0.9041 - val_loss: 4.3541 - val_accuracy: 0.8571\n",
      "Epoch 13/50\n",
      "3/3 [==============================] - 0s 70ms/step - loss: 0.0837 - accuracy: 1.0000 - val_loss: 3.0867 - val_accuracy: 0.6429\n",
      "Epoch 14/50\n",
      "3/3 [==============================] - 0s 70ms/step - loss: 0.0831 - accuracy: 1.0000 - val_loss: 3.8396 - val_accuracy: 0.5714\n",
      "Epoch 15/50\n",
      "3/3 [==============================] - 0s 79ms/step - loss: 0.0833 - accuracy: 1.0000 - val_loss: 4.3508 - val_accuracy: 0.5714\n",
      "Epoch 16/50\n",
      "3/3 [==============================] - 0s 74ms/step - loss: 0.0910 - accuracy: 1.0000 - val_loss: 4.8076 - val_accuracy: 0.5714\n",
      "Epoch 17/50\n",
      "3/3 [==============================] - 0s 73ms/step - loss: 0.0967 - accuracy: 0.9863 - val_loss: 4.9929 - val_accuracy: 0.5000\n",
      "Epoch 18/50\n",
      "3/3 [==============================] - 0s 65ms/step - loss: 0.0862 - accuracy: 1.0000 - val_loss: 5.0375 - val_accuracy: 0.5000\n",
      "Epoch 19/50\n",
      "3/3 [==============================] - 0s 69ms/step - loss: 0.0841 - accuracy: 1.0000 - val_loss: 4.9696 - val_accuracy: 0.5000\n",
      "Epoch 20/50\n",
      "3/3 [==============================] - 0s 71ms/step - loss: 0.0835 - accuracy: 1.0000 - val_loss: 4.8937 - val_accuracy: 0.5000\n",
      "Epoch 21/50\n",
      "3/3 [==============================] - 0s 68ms/step - loss: 0.0830 - accuracy: 1.0000 - val_loss: 4.8320 - val_accuracy: 0.5000\n",
      "Epoch 22/50\n",
      "3/3 [==============================] - 0s 65ms/step - loss: 0.0827 - accuracy: 1.0000 - val_loss: 4.7855 - val_accuracy: 0.4286\n",
      "Epoch 23/50\n",
      "3/3 [==============================] - 0s 66ms/step - loss: 0.0825 - accuracy: 1.0000 - val_loss: 4.7520 - val_accuracy: 0.4286\n",
      "Epoch 24/50\n",
      "3/3 [==============================] - 0s 65ms/step - loss: 0.0823 - accuracy: 1.0000 - val_loss: 4.7253 - val_accuracy: 0.4286\n",
      "Epoch 25/50\n",
      "3/3 [==============================] - 0s 77ms/step - loss: 0.0821 - accuracy: 1.0000 - val_loss: 4.7070 - val_accuracy: 0.4286\n",
      "Epoch 26/50\n",
      "3/3 [==============================] - 0s 114ms/step - loss: 0.0819 - accuracy: 1.0000 - val_loss: 4.6939 - val_accuracy: 0.4286\n",
      "Epoch 27/50\n",
      "3/3 [==============================] - 0s 70ms/step - loss: 0.0817 - accuracy: 1.0000 - val_loss: 4.6856 - val_accuracy: 0.4286\n",
      "Epoch 28/50\n",
      "3/3 [==============================] - 0s 69ms/step - loss: 0.0815 - accuracy: 1.0000 - val_loss: 4.6795 - val_accuracy: 0.4286\n",
      "Epoch 29/50\n",
      "3/3 [==============================] - 0s 70ms/step - loss: 0.0813 - accuracy: 1.0000 - val_loss: 4.6743 - val_accuracy: 0.5000\n",
      "Epoch 30/50\n",
      "3/3 [==============================] - 0s 67ms/step - loss: 0.0811 - accuracy: 1.0000 - val_loss: 4.6703 - val_accuracy: 0.5000\n",
      "Epoch 31/50\n",
      "3/3 [==============================] - 0s 66ms/step - loss: 0.0809 - accuracy: 1.0000 - val_loss: 4.6666 - val_accuracy: 0.5000\n",
      "Epoch 32/50\n",
      "3/3 [==============================] - 0s 68ms/step - loss: 0.0807 - accuracy: 1.0000 - val_loss: 4.6632 - val_accuracy: 0.5000\n",
      "Epoch 33/50\n",
      "3/3 [==============================] - 0s 66ms/step - loss: 0.0805 - accuracy: 1.0000 - val_loss: 4.6600 - val_accuracy: 0.5000\n",
      "Epoch 34/50\n",
      "3/3 [==============================] - 0s 67ms/step - loss: 0.0803 - accuracy: 1.0000 - val_loss: 4.6572 - val_accuracy: 0.5000\n",
      "Epoch 35/50\n",
      "3/3 [==============================] - 0s 67ms/step - loss: 0.0802 - accuracy: 1.0000 - val_loss: 4.6553 - val_accuracy: 0.5000\n",
      "Epoch 36/50\n",
      "3/3 [==============================] - 0s 67ms/step - loss: 0.0800 - accuracy: 1.0000 - val_loss: 4.6532 - val_accuracy: 0.5000\n",
      "Epoch 37/50\n",
      "3/3 [==============================] - 0s 68ms/step - loss: 0.0798 - accuracy: 1.0000 - val_loss: 4.6507 - val_accuracy: 0.5000\n",
      "Epoch 38/50\n",
      "3/3 [==============================] - 0s 68ms/step - loss: 0.0796 - accuracy: 1.0000 - val_loss: 4.6477 - val_accuracy: 0.5000\n",
      "Epoch 39/50\n",
      "3/3 [==============================] - 0s 67ms/step - loss: 0.0795 - accuracy: 1.0000 - val_loss: 4.6444 - val_accuracy: 0.5000\n",
      "Epoch 40/50\n",
      "3/3 [==============================] - 0s 67ms/step - loss: 0.0793 - accuracy: 1.0000 - val_loss: 4.6422 - val_accuracy: 0.5000\n",
      "Epoch 41/50\n",
      "3/3 [==============================] - 0s 66ms/step - loss: 0.0791 - accuracy: 1.0000 - val_loss: 4.6395 - val_accuracy: 0.5000\n",
      "Epoch 42/50\n",
      "3/3 [==============================] - 0s 67ms/step - loss: 0.0790 - accuracy: 1.0000 - val_loss: 4.6364 - val_accuracy: 0.5000\n",
      "Epoch 43/50\n",
      "3/3 [==============================] - 0s 67ms/step - loss: 0.0788 - accuracy: 1.0000 - val_loss: 4.6335 - val_accuracy: 0.5000\n",
      "Epoch 44/50\n",
      "3/3 [==============================] - 0s 68ms/step - loss: 0.0786 - accuracy: 1.0000 - val_loss: 4.6316 - val_accuracy: 0.5000\n",
      "Epoch 45/50\n",
      "3/3 [==============================] - 0s 68ms/step - loss: 0.0785 - accuracy: 1.0000 - val_loss: 4.6302 - val_accuracy: 0.5000\n",
      "Epoch 46/50\n",
      "3/3 [==============================] - 0s 70ms/step - loss: 0.0783 - accuracy: 1.0000 - val_loss: 4.6286 - val_accuracy: 0.5000\n",
      "Epoch 47/50\n",
      "3/3 [==============================] - 0s 68ms/step - loss: 0.0782 - accuracy: 1.0000 - val_loss: 4.6271 - val_accuracy: 0.5000\n",
      "Epoch 48/50\n",
      "3/3 [==============================] - 0s 68ms/step - loss: 0.0780 - accuracy: 1.0000 - val_loss: 4.6253 - val_accuracy: 0.5000\n",
      "Epoch 49/50\n",
      "3/3 [==============================] - 0s 67ms/step - loss: 0.0779 - accuracy: 1.0000 - val_loss: 4.6228 - val_accuracy: 0.5000\n",
      "Epoch 50/50\n",
      "3/3 [==============================] - 0s 68ms/step - loss: 0.0777 - accuracy: 1.0000 - val_loss: 4.6200 - val_accuracy: 0.5000\n"
     ]
    }
   ],
   "source": [
    "# define and train CNN Model\n",
    "utils.set_random_seed(10)\n",
    "model = tf.keras.Sequential([\n",
    "    tf.keras.layers.Conv2D(32, (2, 2), padding = \"same\",strides = (1,1), activation='relu',\n",
    "                           kernel_regularizer=tf.keras.regularizers.L2(l2=0.001),\n",
    "                           input_shape=(378, 88, 1)),\n",
    "    tf.keras.layers.MaxPooling2D((2, 2)),\n",
    "    tf.keras.layers.Conv2D(16, (2, 2),  padding = \"same\",strides = (1,1),activation='relu',\n",
    "                           kernel_regularizer=tf.keras.regularizers.L2(l2=0.001)),\n",
    "    tf.keras.layers.MaxPooling2D((2, 2)),\n",
    "    # tf.keras.layers.Conv2D(4, (2, 2), activation='relu', padding = \"same\",strides = (1,1),\n",
    "    #                        kernel_regularizer=tf.keras.regularizers.L2(l2=0.001)),\n",
    "    # tf.keras.layers.MaxPooling2D((2, 2)),\n",
    "    tf.keras.layers.Flatten(),\n",
    "    tf.keras.layers.Dense(32, activation='relu',kernel_regularizer=tf.keras.regularizers.L2(l2=0.001)),\n",
    "   \n",
    "    tf.keras.layers.Dense(1, activation='sigmoid')\n",
    "])\n",
    "\n",
    "model.compile(optimizer=Adam(learning_rate=0.001), loss='binary_crossentropy', metrics=['accuracy'])\n",
    "\n",
    "history = model.fit(features_tensor, depression_labels, epochs=50, batch_size=32, validation_split=0.15)"
   ]
  },
  {
   "cell_type": "code",
   "execution_count": 138,
   "metadata": {},
   "outputs": [
    {
     "data": {
      "image/png": "[encoded data removed]",
      "text/plain": [
       "<Figure size 600x400 with 1 Axes>"
      ]
     },
     "metadata": {},
     "output_type": "display_data"
    }
   ],
   "source": [
    "# plot the model\n",
    "fig, ax = plt.subplots(figsize=(6, 4))\n",
    "plt.plot(history.history[\"loss\"], label=\"loss\")\n",
    "plt.plot(history.history[\"val_loss\"], label=\"val_loss\")\n",
    "plt.title(\"Learning Rate = 0.001\")\n",
    "plt.xlabel(\"Epochs\")\n",
    "plt.ylabel(\"Cost\")\n",
    "plt.legend()\n",
    "plt.show()"
   ]
  },
  {
   "cell_type": "code",
   "execution_count": 108,
   "metadata": {},
   "outputs": [
    {
     "name": "stderr",
     "output_type": "stream",
     "text": [
      "WARNING:absl:At this time, the v2.11+ optimizer `tf.keras.optimizers.Adam` runs slowly on M1/M2 Macs, please use the legacy Keras optimizer instead, located at `tf.keras.optimizers.legacy.Adam`.\n"
     ]
    },
    {
     "name": "stdout",
     "output_type": "stream",
     "text": [
      "Epoch 1/50\n",
      "5/5 [==============================] - 1s 96ms/step - loss: 39.5273 - accuracy: 0.5616 - val_loss: 36.0873 - val_accuracy: 0.8571\n",
      "Epoch 2/50\n",
      "5/5 [==============================] - 0s 69ms/step - loss: 69.6699 - accuracy: 0.7123 - val_loss: 21.1629 - val_accuracy: 0.2857\n",
      "Epoch 3/50\n",
      "5/5 [==============================] - 0s 68ms/step - loss: 52.0888 - accuracy: 0.4247 - val_loss: 4.8748 - val_accuracy: 0.7857\n",
      "Epoch 4/50\n",
      "5/5 [==============================] - 0s 73ms/step - loss: 18.2459 - accuracy: 0.6575 - val_loss: 10.9750 - val_accuracy: 0.8571\n",
      "Epoch 5/50\n",
      "5/5 [==============================] - 0s 71ms/step - loss: 15.0818 - accuracy: 0.7397 - val_loss: 11.4148 - val_accuracy: 0.5000\n",
      "Epoch 6/50\n",
      "5/5 [==============================] - 0s 84ms/step - loss: 10.0316 - accuracy: 0.6986 - val_loss: 3.8906 - val_accuracy: 0.7857\n",
      "Epoch 7/50\n",
      "5/5 [==============================] - 0s 71ms/step - loss: 8.4943 - accuracy: 0.6712 - val_loss: 6.0255 - val_accuracy: 0.3571\n",
      "Epoch 8/50\n",
      "5/5 [==============================] - 0s 70ms/step - loss: 4.8559 - accuracy: 0.6301 - val_loss: 1.3823 - val_accuracy: 0.7857\n",
      "Epoch 9/50\n",
      "5/5 [==============================] - 0s 70ms/step - loss: 2.4436 - accuracy: 0.7397 - val_loss: 1.2845 - val_accuracy: 0.8571\n",
      "Epoch 10/50\n",
      "5/5 [==============================] - 0s 65ms/step - loss: 2.0665 - accuracy: 0.7123 - val_loss: 1.0598 - val_accuracy: 0.7143\n",
      "Epoch 11/50\n",
      "5/5 [==============================] - 0s 67ms/step - loss: 1.5600 - accuracy: 0.7671 - val_loss: 1.0515 - val_accuracy: 0.6429\n",
      "Epoch 12/50\n",
      "5/5 [==============================] - 0s 67ms/step - loss: 1.2824 - accuracy: 0.8219 - val_loss: 0.4786 - val_accuracy: 0.7857\n",
      "Epoch 13/50\n",
      "5/5 [==============================] - 0s 65ms/step - loss: 0.5694 - accuracy: 0.7945 - val_loss: 0.4658 - val_accuracy: 0.8571\n",
      "Epoch 14/50\n",
      "5/5 [==============================] - 0s 65ms/step - loss: 0.7538 - accuracy: 0.7808 - val_loss: 0.4785 - val_accuracy: 0.8571\n",
      "Epoch 15/50\n",
      "5/5 [==============================] - 0s 65ms/step - loss: 0.8851 - accuracy: 0.7397 - val_loss: 0.5419 - val_accuracy: 0.7857\n",
      "Epoch 16/50\n",
      "5/5 [==============================] - 0s 84ms/step - loss: 0.6825 - accuracy: 0.7671 - val_loss: 0.5847 - val_accuracy: 0.7857\n",
      "Epoch 17/50\n",
      "5/5 [==============================] - 0s 71ms/step - loss: 0.3387 - accuracy: 0.8493 - val_loss: 0.5628 - val_accuracy: 0.7857\n",
      "Epoch 18/50\n",
      "5/5 [==============================] - 0s 74ms/step - loss: 0.5505 - accuracy: 0.8493 - val_loss: 0.5732 - val_accuracy: 0.7857\n",
      "Epoch 19/50\n",
      "5/5 [==============================] - 0s 69ms/step - loss: 0.5309 - accuracy: 0.8082 - val_loss: 0.4775 - val_accuracy: 0.8571\n",
      "Epoch 20/50\n",
      "5/5 [==============================] - 0s 70ms/step - loss: 0.4604 - accuracy: 0.7808 - val_loss: 0.5387 - val_accuracy: 0.8571\n",
      "Epoch 21/50\n",
      "5/5 [==============================] - 0s 64ms/step - loss: 0.4520 - accuracy: 0.7671 - val_loss: 0.5806 - val_accuracy: 0.7857\n",
      "Epoch 22/50\n",
      "5/5 [==============================] - 0s 68ms/step - loss: 0.3729 - accuracy: 0.8356 - val_loss: 0.5478 - val_accuracy: 0.8571\n",
      "Epoch 23/50\n",
      "5/5 [==============================] - 0s 72ms/step - loss: 0.3866 - accuracy: 0.8356 - val_loss: 0.5218 - val_accuracy: 0.8571\n",
      "Epoch 24/50\n",
      "5/5 [==============================] - 0s 67ms/step - loss: 0.2720 - accuracy: 0.8767 - val_loss: 0.6202 - val_accuracy: 0.6429\n",
      "Epoch 25/50\n",
      "5/5 [==============================] - 0s 68ms/step - loss: 0.3110 - accuracy: 0.8767 - val_loss: 0.6948 - val_accuracy: 0.5714\n",
      "Epoch 26/50\n",
      "5/5 [==============================] - 0s 65ms/step - loss: 0.3005 - accuracy: 0.8767 - val_loss: 0.7173 - val_accuracy: 0.6429\n",
      "Epoch 27/50\n",
      "5/5 [==============================] - 0s 64ms/step - loss: 0.2730 - accuracy: 0.8630 - val_loss: 0.6231 - val_accuracy: 0.7857\n",
      "Epoch 28/50\n",
      "5/5 [==============================] - 0s 62ms/step - loss: 0.3066 - accuracy: 0.8356 - val_loss: 0.5331 - val_accuracy: 0.7857\n",
      "Epoch 29/50\n",
      "5/5 [==============================] - 0s 75ms/step - loss: 0.3267 - accuracy: 0.8904 - val_loss: 0.6009 - val_accuracy: 0.7857\n",
      "Epoch 30/50\n",
      "5/5 [==============================] - 0s 65ms/step - loss: 0.3548 - accuracy: 0.9178 - val_loss: 0.5415 - val_accuracy: 0.7857\n",
      "Epoch 31/50\n",
      "5/5 [==============================] - 0s 62ms/step - loss: 0.2754 - accuracy: 0.9041 - val_loss: 0.4773 - val_accuracy: 0.8571\n",
      "Epoch 32/50\n",
      "5/5 [==============================] - 0s 67ms/step - loss: 0.2165 - accuracy: 0.8767 - val_loss: 0.6639 - val_accuracy: 0.6429\n",
      "Epoch 33/50\n",
      "5/5 [==============================] - 0s 63ms/step - loss: 0.4254 - accuracy: 0.8219 - val_loss: 0.5069 - val_accuracy: 0.7857\n",
      "Epoch 34/50\n",
      "5/5 [==============================] - 0s 68ms/step - loss: 0.2600 - accuracy: 0.8767 - val_loss: 0.5000 - val_accuracy: 0.7857\n",
      "Epoch 35/50\n",
      "5/5 [==============================] - 0s 71ms/step - loss: 0.3150 - accuracy: 0.8767 - val_loss: 0.7079 - val_accuracy: 0.4286\n",
      "Epoch 36/50\n",
      "5/5 [==============================] - 0s 69ms/step - loss: 0.3236 - accuracy: 0.8493 - val_loss: 0.9204 - val_accuracy: 0.2143\n",
      "Epoch 37/50\n",
      "5/5 [==============================] - 0s 67ms/step - loss: 0.2567 - accuracy: 0.8767 - val_loss: 0.6142 - val_accuracy: 0.7143\n",
      "Epoch 38/50\n",
      "5/5 [==============================] - 0s 69ms/step - loss: 0.3678 - accuracy: 0.8767 - val_loss: 0.5420 - val_accuracy: 0.7857\n",
      "Epoch 39/50\n",
      "5/5 [==============================] - 0s 64ms/step - loss: 0.2862 - accuracy: 0.8493 - val_loss: 0.6585 - val_accuracy: 0.6429\n",
      "Epoch 40/50\n",
      "5/5 [==============================] - 0s 63ms/step - loss: 0.2504 - accuracy: 0.9041 - val_loss: 0.6543 - val_accuracy: 0.6429\n",
      "Epoch 41/50\n",
      "5/5 [==============================] - 0s 69ms/step - loss: 0.2709 - accuracy: 0.8904 - val_loss: 0.5075 - val_accuracy: 0.7857\n",
      "Epoch 42/50\n",
      "5/5 [==============================] - 0s 69ms/step - loss: 0.2633 - accuracy: 0.9041 - val_loss: 0.4882 - val_accuracy: 0.8571\n",
      "Epoch 43/50\n",
      "5/5 [==============================] - 0s 66ms/step - loss: 0.2828 - accuracy: 0.8904 - val_loss: 0.5769 - val_accuracy: 0.7143\n",
      "Epoch 44/50\n",
      "5/5 [==============================] - 0s 62ms/step - loss: 0.1664 - accuracy: 0.9178 - val_loss: 0.7413 - val_accuracy: 0.5714\n",
      "Epoch 45/50\n",
      "5/5 [==============================] - 0s 61ms/step - loss: 0.1960 - accuracy: 0.9452 - val_loss: 0.6432 - val_accuracy: 0.6429\n",
      "Epoch 46/50\n",
      "5/5 [==============================] - 0s 74ms/step - loss: 0.1665 - accuracy: 0.9041 - val_loss: 0.4877 - val_accuracy: 0.7857\n",
      "Epoch 47/50\n",
      "5/5 [==============================] - 0s 67ms/step - loss: 0.2986 - accuracy: 0.8904 - val_loss: 0.5641 - val_accuracy: 0.7857\n",
      "Epoch 48/50\n",
      "5/5 [==============================] - 0s 68ms/step - loss: 0.2235 - accuracy: 0.8904 - val_loss: 0.6211 - val_accuracy: 0.7143\n",
      "Epoch 49/50\n",
      "5/5 [==============================] - 0s 64ms/step - loss: 0.1933 - accuracy: 0.9315 - val_loss: 0.6086 - val_accuracy: 0.7857\n",
      "Epoch 50/50\n",
      "5/5 [==============================] - 0s 64ms/step - loss: 0.1421 - accuracy: 0.9589 - val_loss: 0.5959 - val_accuracy: 0.7857\n"
     ]
    }
   ],
   "source": [
    "# define and train CNN Model\n",
    "utils.set_random_seed(3)\n",
    "model2 = tf.keras.Sequential([\n",
    "    tf.keras.layers.Conv2D(32, (2, 2), padding = \"same\",use_bias = True,strides = (1,1), activation='relu',\n",
    "                           input_shape=(378, 88, 1)),\n",
    "    \n",
    "    tf.keras.layers.MaxPooling2D((2, 2)),\n",
    "    tf.keras.layers.Dropout(0.1),\n",
    "    tf.keras.layers.Conv2D(32, (2, 2),  padding = \"same\",use_bias = True,strides = (1,1),activation='relu'),\n",
    "  \n",
    "    tf.keras.layers.MaxPooling2D((2, 2)),\n",
    "    tf.keras.layers.Dropout(0.1),\n",
    "    \n",
    "    # tf.keras.layers.Conv2D(4, (2, 2), activation='relu', padding = \"same\",strides = (1,1),\n",
    "    #                        kernel_regularizer=tf.keras.regularizers.L2(l2=0.001)),\n",
    "    # tf.keras.layers.MaxPooling2D((2, 2)),\n",
    "    tf.keras.layers.Flatten(),\n",
    "    tf.keras.layers.Dense(64, activation='relu'),\n",
    "    tf.keras.layers.Dropout(0.3),\n",
    "    tf.keras.layers.Dense(1, activation='sigmoid')\n",
    "])\n",
    "\n",
    "model2.compile(optimizer=Adam(learning_rate=0.0001), loss='binary_crossentropy', metrics=['accuracy'])\n",
    "\n",
    "history2 = model2.fit(features_tensor, depression_labels, epochs=50, batch_size=16, validation_split=0.15)"
   ]
  },
  {
   "cell_type": "code",
   "execution_count": 109,
   "metadata": {},
   "outputs": [
    {
     "data": {
      "image/png": "[encoded data removed]",
      "text/plain": [
       "<Figure size 600x400 with 1 Axes>"
      ]
     },
     "metadata": {},
     "output_type": "display_data"
    }
   ],
   "source": [
    "# plot the model\n",
    "fig, ax = plt.subplots(figsize=(6, 4))\n",
    "plt.plot(history2.history[\"loss\"], label=\"loss\")\n",
    "plt.plot(history2.history[\"val_loss\"], label=\"val_loss\")\n",
    "plt.title(\"Learning Rate = 0.001\")\n",
    "plt.xlabel(\"Epochs\")\n",
    "plt.ylabel(\"Cost\")\n",
    "plt.legend()\n",
    "plt.show()"
   ]
  },
  {
   "cell_type": "code",
   "execution_count": 110,
   "metadata": {},
   "outputs": [
    {
     "data": {
      "image/png": "[encoded data removed]",
      "text/plain": [
       "<Figure size 600x400 with 1 Axes>"
      ]
     },
     "metadata": {},
     "output_type": "display_data"
    }
   ],
   "source": [
    "fig, ax = plt.subplots(figsize=(6, 4))\n",
    "plt.plot(history2.history[\"accuracy\"], label=\"accuracy\")\n",
    "plt.plot(history2.history[\"val_accuracy\"], label=\"val_accuracy\")\n",
    "plt.title(\"Learning Rate = 0.001\")\n",
    "plt.xlabel(\"Epochs\")\n",
    "plt.ylabel(\"Accuracy\")\n",
    "plt.legend()\n",
    "plt.show()"
   ]
  },
  {
   "cell_type": "markdown",
   "metadata": {},
   "source": [
    "### Test Data"
   ]
  },
  {
   "cell_type": "code",
   "execution_count": 173,
   "metadata": {},
   "outputs": [],
   "source": [
    "test_df_dict = {'Participant_ID': [], 'features': []}  # Dict to store values\n",
    "max_rows = max_rows  # Max number of rows present in the training data (used for padding)\n",
    "\n",
    "for file in os.listdir(TEST_FOLDER_PATH):\n",
    "    \n",
    "    file_name_split = file.split('.')\n",
    "    file_type = file_name_split[1]\n",
    "    file_name = file_name_split[0]\n",
    "\n",
    "    if file_type == 'csv':\n",
    "        # Fetch participant ID\n",
    "        id = int(file_name.split('_')[1])\n",
    "        test_df_dict['Participant_ID'].append(id)\n",
    "\n",
    "        # Fetch data\n",
    "        temp_df = pd.read_csv(TEST_FOLDER_PATH + '/' + file, names=col_names)\n",
    "\n",
    "        # Remove null values\n",
    "        if temp_df.isna().sum().values[0]>0:\n",
    "            print(f\"Removing null values present in {file}\")\n",
    "            temp_df = temp_df.dropna(axis=0)\n",
    "        \n",
    "        # Filter out rows where more than half of the feature values are zero\n",
    "        zero_percentages = (temp_df == 0).mean(axis=1)  # Calculate the percentage of zero values in each row\n",
    "        threshold = 0.5  # More than half\n",
    "        temp_df = temp_df[zero_percentages <= threshold]\n",
    "        \n",
    "        # Add the features to dict\n",
    "        test_df_dict['features'].append(temp_df)"
   ]
  },
  {
   "cell_type": "code",
   "execution_count": 174,
   "metadata": {},
   "outputs": [],
   "source": [
    "# Pad zeroes\n",
    "for i in range(len(test_df_dict['features'])):\n",
    "    test_df_dict['features'][i] = test_df_dict['features'][i].reindex(np.arange(max_rows), fill_value=0).values"
   ]
  },
  {
   "cell_type": "code",
   "execution_count": 175,
   "metadata": {},
   "outputs": [],
   "source": [
    "# Convert the dict into dataframe\n",
    "test_features = pd.DataFrame(test_df_dict)"
   ]
  },
  {
   "cell_type": "code",
   "execution_count": 176,
   "metadata": {},
   "outputs": [
    {
     "data": {
      "text/html": [
       "<div>\n",
       "<style scoped>\n",
       "    .dataframe tbody tr th:only-of-type {\n",
       "        vertical-align: middle;\n",
       "    }\n",
       "\n",
       "    .dataframe tbody tr th {\n",
       "        vertical-align: top;\n",
       "    }\n",
       "\n",
       "    .dataframe thead th {\n",
       "        text-align: right;\n",
       "    }\n",
       "</style>\n",
       "<table border=\"1\" class=\"dataframe\">\n",
       "  <thead>\n",
       "    <tr style=\"text-align: right;\">\n",
       "      <th></th>\n",
       "      <th>Participant_ID</th>\n",
       "      <th>features</th>\n",
       "      <th>Depression</th>\n",
       "      <th>Gender</th>\n",
       "    </tr>\n",
       "  </thead>\n",
       "  <tbody>\n",
       "    <tr>\n",
       "      <th>0</th>\n",
       "      <td>474</td>\n",
       "      <td>[[31.240383, 0.007704522, 31.195211, 31.19749,...</td>\n",
       "      <td>0</td>\n",
       "      <td>1</td>\n",
       "    </tr>\n",
       "    <tr>\n",
       "      <th>1</th>\n",
       "      <td>312</td>\n",
       "      <td>[[59.940285, 0.025738925, 58.02941, 60.76215, ...</td>\n",
       "      <td>0</td>\n",
       "      <td>1</td>\n",
       "    </tr>\n",
       "    <tr>\n",
       "      <th>2</th>\n",
       "      <td>305</td>\n",
       "      <td>[[32.160255, 0.20058103, 23.145561, 35.63253, ...</td>\n",
       "      <td>0</td>\n",
       "      <td>1</td>\n",
       "    </tr>\n",
       "    <tr>\n",
       "      <th>3</th>\n",
       "      <td>315</td>\n",
       "      <td>[[13.185594, 0.018975748, 12.951183, 13.3119, ...</td>\n",
       "      <td>0</td>\n",
       "      <td>1</td>\n",
       "    </tr>\n",
       "    <tr>\n",
       "      <th>4</th>\n",
       "      <td>415</td>\n",
       "      <td>[[34.831165, 0.25052992, 31.193499, 31.198702,...</td>\n",
       "      <td>0</td>\n",
       "      <td>0</td>\n",
       "    </tr>\n",
       "  </tbody>\n",
       "</table>\n",
       "</div>"
      ],
      "text/plain": [
       "   Participant_ID                                           features  \\\n",
       "0             474  [[31.240383, 0.007704522, 31.195211, 31.19749,...   \n",
       "1             312  [[59.940285, 0.025738925, 58.02941, 60.76215, ...   \n",
       "2             305  [[32.160255, 0.20058103, 23.145561, 35.63253, ...   \n",
       "3             315  [[13.185594, 0.018975748, 12.951183, 13.3119, ...   \n",
       "4             415  [[34.831165, 0.25052992, 31.193499, 31.198702,...   \n",
       "\n",
       "   Depression  Gender  \n",
       "0           0       1  \n",
       "1           0       1  \n",
       "2           0       1  \n",
       "3           0       1  \n",
       "4           0       0  "
      ]
     },
     "execution_count": 176,
     "metadata": {},
     "output_type": "execute_result"
    }
   ],
   "source": [
    "test_merged_df = pd.merge(test_features, df_labels, on='Participant_ID')\n",
    "test_merged_df.head()"
   ]
  },
  {
   "cell_type": "code",
   "execution_count": 177,
   "metadata": {},
   "outputs": [],
   "source": [
    "# Extract Features and Labels for tensorflow\n",
    "test_features = test_merged_df['features'].to_list()\n",
    "test_depression_labels = test_merged_df['Depression'].values\n",
    "test_gender_labels = test_merged_df['Gender'].values"
   ]
  },
  {
   "cell_type": "code",
   "execution_count": 178,
   "metadata": {},
   "outputs": [],
   "source": [
    "# Convert features to tensor object\n",
    "test_features_tensor = tf.convert_to_tensor(test_features, dtype=tf.float32)\n",
    "test_features = np.array(test_features_tensor).reshape(20, 378, 88, 1)\n",
    "\n",
    "# Convert labels to proper shape\n",
    "test_depression_labels = np.asarray(test_depression_labels).astype('float32').reshape((-1,1))\n",
    "test_gender_labels = np.asarray(test_gender_labels).astype('float32').reshape((-1,1))"
   ]
  },
  {
   "cell_type": "code",
   "execution_count": 179,
   "metadata": {},
   "outputs": [
    {
     "data": {
      "text/plain": [
       "(20, 378, 88, 1)"
      ]
     },
     "execution_count": 179,
     "metadata": {},
     "output_type": "execute_result"
    }
   ],
   "source": [
    "test_features.shape"
   ]
  },
  {
   "cell_type": "code",
   "execution_count": 180,
   "metadata": {},
   "outputs": [
    {
     "name": "stdout",
     "output_type": "stream",
     "text": [
      "1/1 [==============================] - 0s 111ms/step - loss: 8.1222 - accuracy: 0.7000\n",
      "Test loss:  8.122215270996094\n",
      "Test accuracy:  0.699999988079071\n"
     ]
    }
   ],
   "source": [
    "\n",
    "test_loss, test_acc = model.evaluate(test_features,  test_depression_labels)\n",
    "print(\"Test loss: \", test_loss)\n",
    "print(\"Test accuracy: \", test_acc)"
   ]
  },
  {
   "cell_type": "code",
   "execution_count": 181,
   "metadata": {},
   "outputs": [
    {
     "name": "stdout",
     "output_type": "stream",
     "text": [
      "1/1 [==============================] - 0s 62ms/step - loss: 1.1804 - accuracy: 0.6000\n",
      "Test loss:  1.180363655090332\n",
      "Test accuracy:  0.6000000238418579\n"
     ]
    }
   ],
   "source": [
    "test_loss_2, test_acc_2 = model2.evaluate(test_features,  test_depression_labels)\n",
    "print(\"Test loss: \", test_loss_2)\n",
    "print(\"Test accuracy: \", test_acc_2)"
   ]
  },
  {
   "cell_type": "code",
   "execution_count": 182,
   "metadata": {},
   "outputs": [
    {
     "name": "stdout",
     "output_type": "stream",
     "text": [
      "1/1 [==============================] - 0s 45ms/step\n",
      "Confusion Matrix \n",
      " [[11  3]\n",
      " [ 3  3]]\n"
     ]
    },
    {
     "data": {
      "image/png": "[encoded data removed]",
      "text/plain": [
       "<Figure size 600x600 with 2 Axes>"
      ]
     },
     "metadata": {},
     "output_type": "display_data"
    }
   ],
   "source": [
    "#Making predictions for the test set with the CNN model from b)\n",
    "from sklearn.metrics import classification_report, confusion_matrix, ConfusionMatrixDisplay, balanced_accuracy_score\n",
    "y_pred = model.predict(test_features)\n",
    "y_pred_classes = np.where(y_pred>0.5,1,0)\n",
    "\n",
    "conf_matrix = confusion_matrix(test_depression_labels, y_pred_classes)\n",
    "print(\"Confusion Matrix \\n\", conf_matrix)\n",
    "\n",
    "#Visualizing the confusion matrix\n",
    "plt.rcParams['figure.figsize'] = (6, 6)\n",
    "display_c_m = ConfusionMatrixDisplay(conf_matrix)\n",
    "display_c_m.plot(cmap='Greens', xticks_rotation=50)\n",
    "plt.title('Confusion Matrix')\n",
    "plt.show()"
   ]
  },
  {
   "cell_type": "code",
   "execution_count": 183,
   "metadata": {},
   "outputs": [
    {
     "data": {
      "text/plain": [
       "0.6428571428571428"
      ]
     },
     "execution_count": 183,
     "metadata": {},
     "output_type": "execute_result"
    }
   ],
   "source": [
    "balanced_accuracy_score(test_depression_labels, y_pred_classes)"
   ]
  },
  {
   "cell_type": "code",
   "execution_count": null,
   "metadata": {},
   "outputs": [],
   "source": []
  }
 ],
 "metadata": {
  "kernelspec": {
   "display_name": "base",
   "language": "python",
   "name": "python3"
  },
  "language_info": {
   "codemirror_mode": {
    "name": "ipython",
    "version": 3
   },
   "file_extension": ".py",
   "mimetype": "text/x-python",
   "name": "python",
   "nbconvert_exporter": "python",
   "pygments_lexer": "ipython3",
   "version": "3.11.5"
  }
 },
 "nbformat": 4,
 "nbformat_minor": 2
}
