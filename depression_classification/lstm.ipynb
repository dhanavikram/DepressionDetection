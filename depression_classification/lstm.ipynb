{
 "cells": [
  {
   "cell_type": "code",
   "execution_count": 131,
   "metadata": {},
   "outputs": [],
   "source": [
    "from utils import *\n",
    "import tensorflow as tf\n",
    "from keras.optimizers import Adam\n",
    "from keras import utils"
   ]
  },
  {
   "cell_type": "code",
   "execution_count": 132,
   "metadata": {},
   "outputs": [
    {
     "name": "stdout",
     "output_type": "stream",
     "text": [
      "Removing null values present in spk_402.csv\n"
     ]
    }
   ],
   "source": [
    "df_dict , max_rows, num_features = read_conv(train=True)\n",
    "X, depression_labels, gender_labels = prep_lstm_data(df_dict, max_rows)"
   ]
  },
  {
   "cell_type": "code",
   "execution_count": 133,
   "metadata": {},
   "outputs": [],
   "source": [
    "# Step 3: Define and Train your LSTM Model\n",
    "model = tf.keras.Sequential([\n",
    "    tf.keras.layers.LSTM(64, input_shape=(max_rows, X.shape[2])),\n",
    "    tf.keras.layers.Dense(128, activation='relu'),\n",
    "    tf.keras.layers.Dropout(0.5),\n",
    "    tf.keras.layers.Dense(1, activation='sigmoid')  # Binary classification, so use sigmoid activation\n",
    "])"
   ]
  },
  {
   "cell_type": "code",
   "execution_count": 134,
   "metadata": {},
   "outputs": [
    {
     "name": "stderr",
     "output_type": "stream",
     "text": [
      "WARNING:absl:At this time, the v2.11+ optimizer `tf.keras.optimizers.Adam` runs slowly on M1/M2 Macs, please use the legacy Keras optimizer instead, located at `tf.keras.optimizers.legacy.Adam`.\n"
     ]
    },
    {
     "name": "stdout",
     "output_type": "stream",
     "text": [
      "Epoch 1/25\n",
      "3/3 [==============================] - 1s 146ms/step - loss: 0.9485 - accuracy: 0.6849 - val_loss: 0.7027 - val_accuracy: 0.1429\n",
      "Epoch 2/25\n",
      "3/3 [==============================] - 0s 65ms/step - loss: 0.9579 - accuracy: 0.3425 - val_loss: 0.6947 - val_accuracy: 0.1429\n",
      "Epoch 3/25\n",
      "3/3 [==============================] - 0s 66ms/step - loss: 0.9410 - accuracy: 0.3699 - val_loss: 0.6963 - val_accuracy: 0.1429\n",
      "Epoch 4/25\n",
      "3/3 [==============================] - 0s 67ms/step - loss: 0.9367 - accuracy: 0.4658 - val_loss: 0.6731 - val_accuracy: 0.8571\n",
      "Epoch 5/25\n",
      "3/3 [==============================] - 0s 67ms/step - loss: 0.9256 - accuracy: 0.6986 - val_loss: 0.6620 - val_accuracy: 0.8571\n",
      "Epoch 6/25\n",
      "3/3 [==============================] - 0s 66ms/step - loss: 0.9366 - accuracy: 0.6986 - val_loss: 0.6374 - val_accuracy: 0.8571\n",
      "Epoch 7/25\n",
      "3/3 [==============================] - 0s 69ms/step - loss: 0.9388 - accuracy: 0.6986 - val_loss: 0.6706 - val_accuracy: 0.8571\n",
      "Epoch 8/25\n",
      "3/3 [==============================] - 0s 67ms/step - loss: 0.9213 - accuracy: 0.6027 - val_loss: 0.7417 - val_accuracy: 0.1429\n",
      "Epoch 9/25\n",
      "3/3 [==============================] - 0s 68ms/step - loss: 0.9319 - accuracy: 0.3562 - val_loss: 0.7565 - val_accuracy: 0.1429\n",
      "Epoch 10/25\n",
      "3/3 [==============================] - 0s 66ms/step - loss: 0.9166 - accuracy: 0.3562 - val_loss: 0.7051 - val_accuracy: 0.1429\n",
      "Epoch 11/25\n",
      "3/3 [==============================] - 0s 66ms/step - loss: 0.9014 - accuracy: 0.5753 - val_loss: 0.6842 - val_accuracy: 0.8571\n",
      "Epoch 12/25\n",
      "3/3 [==============================] - 0s 65ms/step - loss: 0.8970 - accuracy: 0.6164 - val_loss: 0.6611 - val_accuracy: 0.8571\n",
      "Epoch 13/25\n",
      "3/3 [==============================] - 0s 65ms/step - loss: 0.9076 - accuracy: 0.6849 - val_loss: 0.6281 - val_accuracy: 0.8571\n",
      "Epoch 14/25\n",
      "3/3 [==============================] - 0s 66ms/step - loss: 0.9000 - accuracy: 0.6986 - val_loss: 0.6348 - val_accuracy: 0.8571\n",
      "Epoch 15/25\n",
      "3/3 [==============================] - 0s 66ms/step - loss: 0.9077 - accuracy: 0.6712 - val_loss: 0.6729 - val_accuracy: 0.8571\n",
      "Epoch 16/25\n",
      "3/3 [==============================] - 0s 66ms/step - loss: 0.9174 - accuracy: 0.5753 - val_loss: 0.6736 - val_accuracy: 0.8571\n",
      "Epoch 17/25\n",
      "3/3 [==============================] - 0s 68ms/step - loss: 0.9152 - accuracy: 0.5068 - val_loss: 0.7092 - val_accuracy: 0.1429\n",
      "Epoch 18/25\n",
      "3/3 [==============================] - 0s 67ms/step - loss: 0.8885 - accuracy: 0.4932 - val_loss: 0.8556 - val_accuracy: 0.2143\n",
      "Epoch 19/25\n",
      "3/3 [==============================] - 0s 65ms/step - loss: 0.8972 - accuracy: 0.4247 - val_loss: 0.7550 - val_accuracy: 0.1429\n",
      "Epoch 20/25\n",
      "3/3 [==============================] - 0s 70ms/step - loss: 0.9247 - accuracy: 0.3836 - val_loss: 0.7435 - val_accuracy: 0.1429\n",
      "Epoch 21/25\n",
      "3/3 [==============================] - 0s 65ms/step - loss: 0.9155 - accuracy: 0.3699 - val_loss: 0.7023 - val_accuracy: 0.1429\n",
      "Epoch 22/25\n",
      "3/3 [==============================] - 0s 65ms/step - loss: 0.9141 - accuracy: 0.5205 - val_loss: 0.6663 - val_accuracy: 0.8571\n",
      "Epoch 23/25\n",
      "3/3 [==============================] - 0s 66ms/step - loss: 0.9000 - accuracy: 0.6438 - val_loss: 0.6550 - val_accuracy: 0.8571\n",
      "Epoch 24/25\n",
      "3/3 [==============================] - 0s 65ms/step - loss: 0.9177 - accuracy: 0.6849 - val_loss: 0.6513 - val_accuracy: 0.8571\n",
      "Epoch 25/25\n",
      "3/3 [==============================] - 0s 66ms/step - loss: 0.9022 - accuracy: 0.7123 - val_loss: 0.6627 - val_accuracy: 0.8571\n"
     ]
    },
    {
     "data": {
      "text/plain": [
       "<keras.src.callbacks.History at 0x34f879350>"
      ]
     },
     "execution_count": 134,
     "metadata": {},
     "output_type": "execute_result"
    }
   ],
   "source": [
    "model.compile(optimizer=Adam(learning_rate=0.01), loss='binary_crossentropy', metrics=['accuracy'])\n",
    "\n",
    "# Train the model\n",
    "model.fit(X, depression_labels, epochs=25, batch_size=32, validation_split=0.15, class_weight={0:1, 1:2.18925})\n"
   ]
  },
  {
   "cell_type": "code",
   "execution_count": 135,
   "metadata": {},
   "outputs": [],
   "source": [
    "test_df_dict , _, _ = read_conv(train=False)\n",
    "test_features, test_depression_labels, test_gender_labels = prep_lstm_data(test_df_dict, max_rows)"
   ]
  },
  {
   "cell_type": "code",
   "execution_count": 136,
   "metadata": {},
   "outputs": [
    {
     "name": "stdout",
     "output_type": "stream",
     "text": [
      "1/1 [==============================] - 0s 26ms/step - loss: 0.6773 - accuracy: 0.7000\n",
      "Test Accuracy: 0.699999988079071\n"
     ]
    }
   ],
   "source": [
    "test_loss, test_accuracy = model.evaluate(test_features, test_depression_labels)\n",
    "print(\"Test Accuracy:\", test_accuracy)"
   ]
  },
  {
   "cell_type": "code",
   "execution_count": 137,
   "metadata": {},
   "outputs": [
    {
     "data": {
      "text/html": [
       "<div>\n",
       "<style scoped>\n",
       "    .dataframe tbody tr th:only-of-type {\n",
       "        vertical-align: middle;\n",
       "    }\n",
       "\n",
       "    .dataframe tbody tr th {\n",
       "        vertical-align: top;\n",
       "    }\n",
       "\n",
       "    .dataframe thead th {\n",
       "        text-align: right;\n",
       "    }\n",
       "</style>\n",
       "<table border=\"1\" class=\"dataframe\">\n",
       "  <thead>\n",
       "    <tr style=\"text-align: right;\">\n",
       "      <th></th>\n",
       "      <th>Participant_ID</th>\n",
       "      <th>Depression</th>\n",
       "      <th>Gender</th>\n",
       "    </tr>\n",
       "  </thead>\n",
       "  <tbody>\n",
       "    <tr>\n",
       "      <th>0</th>\n",
       "      <td>305</td>\n",
       "      <td>0</td>\n",
       "      <td>1</td>\n",
       "    </tr>\n",
       "    <tr>\n",
       "      <th>1</th>\n",
       "      <td>312</td>\n",
       "      <td>0</td>\n",
       "      <td>1</td>\n",
       "    </tr>\n",
       "    <tr>\n",
       "      <th>2</th>\n",
       "      <td>315</td>\n",
       "      <td>0</td>\n",
       "      <td>1</td>\n",
       "    </tr>\n",
       "    <tr>\n",
       "      <th>3</th>\n",
       "      <td>320</td>\n",
       "      <td>1</td>\n",
       "      <td>0</td>\n",
       "    </tr>\n",
       "    <tr>\n",
       "      <th>4</th>\n",
       "      <td>321</td>\n",
       "      <td>1</td>\n",
       "      <td>0</td>\n",
       "    </tr>\n",
       "  </tbody>\n",
       "</table>\n",
       "</div>"
      ],
      "text/plain": [
       "   Participant_ID  Depression  Gender\n",
       "0             305           0       1\n",
       "1             312           0       1\n",
       "2             315           0       1\n",
       "3             320           1       0\n",
       "4             321           1       0"
      ]
     },
     "execution_count": 137,
     "metadata": {},
     "output_type": "execute_result"
    }
   ],
   "source": [
    "PATH_TEST = \"../processed_data/cleaned_data/clean_test_data.csv\"\n",
    "test_df = pd.read_csv(PATH_TEST)\n",
    "y_test = test_df[[\"Participant_ID\", \"Depression\", \"Gender\"]]\n",
    "y_test = y_test.groupby(\"Participant_ID\").agg({\"Depression\":\"max\", \"Gender\":\"max\"}).reset_index()\n",
    "y_test.head()"
   ]
  },
  {
   "cell_type": "code",
   "execution_count": 138,
   "metadata": {},
   "outputs": [
    {
     "name": "stdout",
     "output_type": "stream",
     "text": [
      "1/1 [==============================] - 0s 159ms/step\n"
     ]
    }
   ],
   "source": [
    "y_test[\"Depression_predicted\"] = model.predict(test_features)"
   ]
  },
  {
   "cell_type": "code",
   "execution_count": 139,
   "metadata": {},
   "outputs": [],
   "source": [
    "y_test['Depression_predicted'] = np.where(y_test['Depression_predicted']>=0.5, 1, 0)"
   ]
  },
  {
   "cell_type": "code",
   "execution_count": 141,
   "metadata": {},
   "outputs": [
    {
     "name": "stdout",
     "output_type": "stream",
     "text": [
      "Recall Male: 0.0\n",
      "Recall Female: 0.0\n",
      "Accuracy: 0.7\n",
      "Balanced Accuracy: 0.5\n",
      "Equality of Opportunity: 0\n"
     ]
    },
    {
     "data": {
      "image/png": "[encoded data removed]",
      "text/plain": [
       "<Figure size 600x600 with 2 Axes>"
      ]
     },
     "metadata": {},
     "output_type": "display_data"
    }
   ],
   "source": [
    "# Aggregate target and predicted labels at participant level for male participants\n",
    "y_male = y_test[y_test['Gender'] == 1]\n",
    "# Aggregate target and predicted labels at participant level for female participants\n",
    "y_female = y_test[y_test['Gender'] == 0]\n",
    "# Compute recall/tpr for male and female classification\n",
    "tpr_male = recall_score(y_male['Depression'], y_male['Depression_predicted'])\n",
    "tpr_female = recall_score(y_female['Depression'], y_female['Depression_predicted'])\n",
    "if tpr_male == 0 and tpr_female == 0:\n",
    "    eo_score = 0\n",
    "else:\n",
    "    eo_score = 1-abs(tpr_male-tpr_female)\n",
    "\n",
    "# Compute metrics\n",
    "accuracy = accuracy_score(y_test['Depression'], y_test['Depression_predicted'])\n",
    "bal_accuracy = balanced_accuracy_score(y_test['Depression'], y_test['Depression_predicted'])\n",
    "\n",
    "# Compute Equality of opportunity score\n",
    "print(\"Recall Male:\", tpr_male)\n",
    "print(\"Recall Female:\", tpr_female)\n",
    "print(f\"Accuracy: {accuracy}\")\n",
    "print(f\"Balanced Accuracy: {bal_accuracy}\")\n",
    "print(f\"Equality of Opportunity: {eo_score}\")\n",
    "conf_matrix = confusion_matrix(y_test['Depression'], y_test['Depression_predicted'])\n",
    "#Visualizing the confusion matrix\n",
    "plt.rcParams['figure.figsize'] = (6, 6)\n",
    "display_c_m = ConfusionMatrixDisplay(conf_matrix)\n",
    "display_c_m.plot(cmap='Greens', xticks_rotation=50)\n",
    "plt.title('Confusion Matrix')\n",
    "plt.show()"
   ]
  }
 ],
 "metadata": {
  "kernelspec": {
   "display_name": "base",
   "language": "python",
   "name": "python3"
  },
  "language_info": {
   "codemirror_mode": {
    "name": "ipython",
    "version": 3
   },
   "file_extension": ".py",
   "mimetype": "text/x-python",
   "name": "python",
   "nbconvert_exporter": "python",
   "pygments_lexer": "ipython3",
   "version": "3.11.7"
  }
 },
 "nbformat": 4,
 "nbformat_minor": 2
}
