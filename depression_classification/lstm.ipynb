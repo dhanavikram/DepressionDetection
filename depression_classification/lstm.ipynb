{
 "cells": [
  {
   "cell_type": "code",
   "execution_count": 1,
   "metadata": {},
   "outputs": [],
   "source": [
    "from utils import *\n",
    "import tensorflow as tf\n",
    "from keras.optimizers import Adam\n",
    "from keras import utils"
   ]
  },
  {
   "cell_type": "code",
   "execution_count": 2,
   "metadata": {},
   "outputs": [
    {
     "name": "stdout",
     "output_type": "stream",
     "text": [
      "Removing null values present in spk_402.csv\n"
     ]
    }
   ],
   "source": [
    "df_dict , max_rows, num_features = read_conv(train=True)\n",
    "X, depression_labels, gender_labels = prep_lstm_data(df_dict, max_rows)"
   ]
  },
  {
   "cell_type": "code",
   "execution_count": 7,
   "metadata": {},
   "outputs": [],
   "source": [
    "# Step 3: Define and Train your LSTM Model\n",
    "model = tf.keras.Sequential([\n",
    "    tf.keras.layers.LSTM(64, input_shape=(max_rows, X.shape[2])),\n",
    "    tf.keras.layers.Dense(64, activation='relu'),\n",
    "    tf.keras.layers.Dropout(0.5),\n",
    "    tf.keras.layers.Dense(1, activation='sigmoid')  # Binary classification, so use sigmoid activation\n",
    "])"
   ]
  },
  {
   "cell_type": "code",
   "execution_count": 8,
   "metadata": {},
   "outputs": [
    {
     "name": "stderr",
     "output_type": "stream",
     "text": [
      "WARNING:absl:At this time, the v2.11+ optimizer `tf.keras.optimizers.Adam` runs slowly on M1/M2 Macs, please use the legacy Keras optimizer instead, located at `tf.keras.optimizers.legacy.Adam`.\n"
     ]
    },
    {
     "name": "stdout",
     "output_type": "stream",
     "text": [
      "Epoch 1/25\n",
      "5/5 [==============================] - 1s 100ms/step - loss: 0.6906 - accuracy: 0.6849 - val_loss: 0.6816 - val_accuracy: 0.8571\n",
      "Epoch 2/25\n",
      "5/5 [==============================] - 0s 54ms/step - loss: 0.6760 - accuracy: 0.6986 - val_loss: 0.6666 - val_accuracy: 0.8571\n",
      "Epoch 3/25\n",
      "5/5 [==============================] - 0s 54ms/step - loss: 0.6742 - accuracy: 0.6986 - val_loss: 0.6461 - val_accuracy: 0.8571\n",
      "Epoch 4/25\n",
      "5/5 [==============================] - 0s 53ms/step - loss: 0.6553 - accuracy: 0.7123 - val_loss: 0.6153 - val_accuracy: 0.8571\n",
      "Epoch 5/25\n",
      "5/5 [==============================] - 0s 53ms/step - loss: 0.6379 - accuracy: 0.6986 - val_loss: 0.5598 - val_accuracy: 0.8571\n",
      "Epoch 6/25\n",
      "5/5 [==============================] - 0s 53ms/step - loss: 0.6141 - accuracy: 0.6986 - val_loss: 0.4566 - val_accuracy: 0.8571\n",
      "Epoch 7/25\n",
      "5/5 [==============================] - 0s 54ms/step - loss: 0.6086 - accuracy: 0.7123 - val_loss: 0.4781 - val_accuracy: 0.8571\n",
      "Epoch 8/25\n",
      "5/5 [==============================] - 0s 54ms/step - loss: 0.6155 - accuracy: 0.7123 - val_loss: 0.4933 - val_accuracy: 0.8571\n",
      "Epoch 9/25\n",
      "5/5 [==============================] - 0s 54ms/step - loss: 0.5975 - accuracy: 0.7123 - val_loss: 0.4887 - val_accuracy: 0.8571\n",
      "Epoch 10/25\n",
      "5/5 [==============================] - 0s 53ms/step - loss: 0.5836 - accuracy: 0.7123 - val_loss: 0.4786 - val_accuracy: 0.8571\n",
      "Epoch 11/25\n",
      "5/5 [==============================] - 0s 54ms/step - loss: 0.6046 - accuracy: 0.7123 - val_loss: 0.4712 - val_accuracy: 0.8571\n",
      "Epoch 12/25\n",
      "5/5 [==============================] - 0s 58ms/step - loss: 0.6058 - accuracy: 0.7123 - val_loss: 0.4864 - val_accuracy: 0.8571\n",
      "Epoch 13/25\n",
      "5/5 [==============================] - 0s 53ms/step - loss: 0.6183 - accuracy: 0.7123 - val_loss: 0.4898 - val_accuracy: 0.8571\n",
      "Epoch 14/25\n",
      "5/5 [==============================] - 0s 53ms/step - loss: 0.5946 - accuracy: 0.7123 - val_loss: 0.5168 - val_accuracy: 0.8571\n",
      "Epoch 15/25\n",
      "5/5 [==============================] - 0s 57ms/step - loss: 0.5971 - accuracy: 0.7123 - val_loss: 0.4933 - val_accuracy: 0.8571\n",
      "Epoch 16/25\n",
      "5/5 [==============================] - 0s 55ms/step - loss: 0.5879 - accuracy: 0.7123 - val_loss: 0.4773 - val_accuracy: 0.8571\n",
      "Epoch 17/25\n",
      "5/5 [==============================] - 0s 54ms/step - loss: 0.5970 - accuracy: 0.7123 - val_loss: 0.4642 - val_accuracy: 0.8571\n",
      "Epoch 18/25\n",
      "5/5 [==============================] - 0s 54ms/step - loss: 0.6219 - accuracy: 0.7260 - val_loss: 0.4912 - val_accuracy: 0.8571\n",
      "Epoch 19/25\n",
      "5/5 [==============================] - 0s 54ms/step - loss: 0.5985 - accuracy: 0.7260 - val_loss: 0.5080 - val_accuracy: 0.8571\n",
      "Epoch 20/25\n",
      "5/5 [==============================] - 0s 54ms/step - loss: 0.5766 - accuracy: 0.7260 - val_loss: 0.5046 - val_accuracy: 0.8571\n",
      "Epoch 21/25\n",
      "5/5 [==============================] - 0s 54ms/step - loss: 0.7406 - accuracy: 0.6164 - val_loss: 0.4920 - val_accuracy: 0.8571\n",
      "Epoch 22/25\n",
      "5/5 [==============================] - 0s 60ms/step - loss: 0.5828 - accuracy: 0.7123 - val_loss: 0.5035 - val_accuracy: 0.8571\n",
      "Epoch 23/25\n",
      "5/5 [==============================] - 0s 54ms/step - loss: 0.6057 - accuracy: 0.7123 - val_loss: 0.5059 - val_accuracy: 0.8571\n",
      "Epoch 24/25\n",
      "5/5 [==============================] - 0s 54ms/step - loss: 0.5921 - accuracy: 0.7123 - val_loss: 0.5054 - val_accuracy: 0.8571\n",
      "Epoch 25/25\n",
      "5/5 [==============================] - 0s 56ms/step - loss: 0.5972 - accuracy: 0.7123 - val_loss: 0.5020 - val_accuracy: 0.8571\n"
     ]
    },
    {
     "data": {
      "text/plain": [
       "<keras.src.callbacks.History at 0x3121ab410>"
      ]
     },
     "execution_count": 8,
     "metadata": {},
     "output_type": "execute_result"
    }
   ],
   "source": [
    "model.compile(optimizer=Adam(learning_rate=0.001), loss='binary_crossentropy', metrics=['accuracy'])\n",
    "\n",
    "# Train the model\n",
    "model.fit(X, depression_labels, epochs=25, batch_size=16, validation_split=0.15)\n"
   ]
  },
  {
   "cell_type": "code",
   "execution_count": 9,
   "metadata": {},
   "outputs": [],
   "source": [
    "test_df_dict , _, _ = read_conv(train=False)\n",
    "test_features, test_depression_labels, test_gender_labels = prep_lstm_data(test_df_dict, max_rows)"
   ]
  },
  {
   "cell_type": "code",
   "execution_count": 10,
   "metadata": {},
   "outputs": [
    {
     "name": "stdout",
     "output_type": "stream",
     "text": [
      "1/1 [==============================] - 0s 30ms/step - loss: 0.6541 - accuracy: 0.6500\n",
      "Test Accuracy: 0.6499999761581421\n"
     ]
    }
   ],
   "source": [
    "test_loss, test_accuracy = model.evaluate(test_features, test_depression_labels)\n",
    "print(\"Test Accuracy:\", test_accuracy)"
   ]
  },
  {
   "cell_type": "code",
   "execution_count": 11,
   "metadata": {},
   "outputs": [
    {
     "data": {
      "text/html": [
       "<div>\n",
       "<style scoped>\n",
       "    .dataframe tbody tr th:only-of-type {\n",
       "        vertical-align: middle;\n",
       "    }\n",
       "\n",
       "    .dataframe tbody tr th {\n",
       "        vertical-align: top;\n",
       "    }\n",
       "\n",
       "    .dataframe thead th {\n",
       "        text-align: right;\n",
       "    }\n",
       "</style>\n",
       "<table border=\"1\" class=\"dataframe\">\n",
       "  <thead>\n",
       "    <tr style=\"text-align: right;\">\n",
       "      <th></th>\n",
       "      <th>Participant_ID</th>\n",
       "      <th>Depression</th>\n",
       "      <th>Gender</th>\n",
       "    </tr>\n",
       "  </thead>\n",
       "  <tbody>\n",
       "    <tr>\n",
       "      <th>0</th>\n",
       "      <td>305</td>\n",
       "      <td>0</td>\n",
       "      <td>1</td>\n",
       "    </tr>\n",
       "    <tr>\n",
       "      <th>1</th>\n",
       "      <td>312</td>\n",
       "      <td>0</td>\n",
       "      <td>1</td>\n",
       "    </tr>\n",
       "    <tr>\n",
       "      <th>2</th>\n",
       "      <td>315</td>\n",
       "      <td>0</td>\n",
       "      <td>1</td>\n",
       "    </tr>\n",
       "    <tr>\n",
       "      <th>3</th>\n",
       "      <td>320</td>\n",
       "      <td>1</td>\n",
       "      <td>0</td>\n",
       "    </tr>\n",
       "    <tr>\n",
       "      <th>4</th>\n",
       "      <td>321</td>\n",
       "      <td>1</td>\n",
       "      <td>0</td>\n",
       "    </tr>\n",
       "  </tbody>\n",
       "</table>\n",
       "</div>"
      ],
      "text/plain": [
       "   Participant_ID  Depression  Gender\n",
       "0             305           0       1\n",
       "1             312           0       1\n",
       "2             315           0       1\n",
       "3             320           1       0\n",
       "4             321           1       0"
      ]
     },
     "execution_count": 11,
     "metadata": {},
     "output_type": "execute_result"
    }
   ],
   "source": [
    "PATH_TEST = \"../processed_data/cleaned_data/clean_test_data.csv\"\n",
    "test_df = pd.read_csv(PATH_TEST)\n",
    "y_test = test_df[[\"Participant_ID\", \"Depression\", \"Gender\"]]\n",
    "y_test = y_test.groupby(\"Participant_ID\").agg({\"Depression\":\"max\", \"Gender\":\"max\"}).reset_index()\n",
    "y_test.head()"
   ]
  },
  {
   "cell_type": "code",
   "execution_count": 12,
   "metadata": {},
   "outputs": [
    {
     "name": "stdout",
     "output_type": "stream",
     "text": [
      "1/1 [==============================] - 0s 168ms/step\n"
     ]
    }
   ],
   "source": [
    "y_test[\"Depression_predicted\"] = model.predict(test_features)"
   ]
  },
  {
   "cell_type": "code",
   "execution_count": 13,
   "metadata": {},
   "outputs": [],
   "source": [
    "y_test['Depression_predicted'] = np.where(y_test['Depression_predicted']>=0.5, 1, 0)"
   ]
  },
  {
   "cell_type": "code",
   "execution_count": 14,
   "metadata": {},
   "outputs": [
    {
     "name": "stdout",
     "output_type": "stream",
     "text": [
      "Recall Male: 0.0\n",
      "Recall Female: 0.0\n",
      "Accuracy: 0.65\n",
      "Balanced Accuracy: 0.4642857142857143\n",
      "Equality of Opportunity: 1.0\n"
     ]
    },
    {
     "data": {
      "image/png": "[encoded data removed]",
      "text/plain": [
       "<Figure size 600x600 with 2 Axes>"
      ]
     },
     "metadata": {},
     "output_type": "display_data"
    }
   ],
   "source": [
    "# Aggregate target and predicted labels at participant level for male participants\n",
    "y_male = y_test[y_test['Gender'] == 1]\n",
    "# Aggregate target and predicted labels at participant level for female participants\n",
    "y_female = y_test[y_test['Gender'] == 0]\n",
    "# Compute recall/tpr for male and female classification\n",
    "tpr_male = recall_score(y_male['Depression'], y_male['Depression_predicted'])\n",
    "tpr_female = recall_score(y_female['Depression'], y_female['Depression_predicted'])\n",
    "\n",
    "# Compute metrics\n",
    "accuracy = accuracy_score(y_test['Depression'], y_test['Depression_predicted'])\n",
    "bal_accuracy = balanced_accuracy_score(y_test['Depression'], y_test['Depression_predicted'])\n",
    "\n",
    "# Compute Equality of opportunity score\n",
    "print(\"Recall Male:\", tpr_male)\n",
    "print(\"Recall Female:\", tpr_female)\n",
    "print(f\"Accuracy: {accuracy}\")\n",
    "print(f\"Balanced Accuracy: {bal_accuracy}\")\n",
    "print(f\"Equality of Opportunity: {1-abs(tpr_male-tpr_female)}\")\n",
    "conf_matrix = confusion_matrix(y_test['Depression'], y_test['Depression_predicted'])\n",
    "#Visualizing the confusion matrix\n",
    "plt.rcParams['figure.figsize'] = (6, 6)\n",
    "display_c_m = ConfusionMatrixDisplay(conf_matrix)\n",
    "display_c_m.plot(cmap='Greens', xticks_rotation=50)\n",
    "plt.title('Confusion Matrix')\n",
    "plt.show()"
   ]
  }
 ],
 "metadata": {
  "kernelspec": {
   "display_name": "base",
   "language": "python",
   "name": "python3"
  },
  "language_info": {
   "codemirror_mode": {
    "name": "ipython",
    "version": 3
   },
   "file_extension": ".py",
   "mimetype": "text/x-python",
   "name": "python",
   "nbconvert_exporter": "python",
   "pygments_lexer": "ipython3",
   "version": "3.11.7"
  }
 },
 "nbformat": 4,
 "nbformat_minor": 2
}
