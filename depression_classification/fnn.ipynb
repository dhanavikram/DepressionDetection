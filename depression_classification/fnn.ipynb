{
 "cells": [
  {
   "cell_type": "code",
   "execution_count": 12,
   "metadata": {},
   "outputs": [],
   "source": [
    "# Import libraries\n",
    "import matplotlib.pyplot as plt\n",
    "import numpy as np\n",
    "import pandas as pd\n",
    "from utils import *\n",
    "from sklearn.preprocessing import StandardScaler\n",
    "import tensorflow as tf\n",
    "from tensorflow.keras.models import Sequential\n",
    "from tensorflow.keras.layers import Dense, Dropout\n",
    "from tensorflow.keras.optimizers import Adam\n",
    "from keras import regularizers\n",
    "from keras import utils\n"
   ]
  },
  {
   "cell_type": "code",
   "execution_count": 2,
   "metadata": {},
   "outputs": [
    {
     "name": "stdout",
     "output_type": "stream",
     "text": [
      "Train data shape: (13056, 91)\n",
      "Test data shape: (3091, 91)\n"
     ]
    }
   ],
   "source": [
    "PATH_TRAIN = \"../processed_data/cleaned_data/clean_data.csv\"\n",
    "PATH_TEST = \"../processed_data/cleaned_data/clean_test_data.csv\"\n",
    "\n",
    "train_df = pd.read_csv(PATH_TRAIN)\n",
    "test_df = pd.read_csv(PATH_TEST)\n",
    "\n",
    "print(\"Train data shape:\", train_df.shape)\n",
    "print(\"Test data shape:\", test_df.shape)"
   ]
  },
  {
   "cell_type": "code",
   "execution_count": 4,
   "metadata": {},
   "outputs": [],
   "source": [
    "X_train_total = train_df.drop([\"Participant_ID\", \"Depression\"], axis=1)\n",
    "y_train_total = train_df[[\"Participant_ID\", \"Depression\", \"Gender\"]]\n",
    "\n",
    "X_test = test_df.drop([\"Participant_ID\", \"Depression\"], axis=1)\n",
    "y_test = test_df[[\"Participant_ID\", \"Depression\", \"Gender\"]]"
   ]
  },
  {
   "cell_type": "code",
   "execution_count": 5,
   "metadata": {},
   "outputs": [],
   "source": [
    "split_train = train_df[train_df['Participant_ID']<=460]\n",
    "splt_val = train_df[train_df['Participant_ID']>460]\n",
    "\n",
    "X_train = split_train.drop([\"Participant_ID\", \"Depression\"], axis=1)\n",
    "y_train = split_train[[\"Participant_ID\", \"Depression\", \"Gender\"]]\n",
    "\n",
    "X_val = splt_val.drop([\"Participant_ID\", \"Depression\"], axis=1)\n",
    "y_val = splt_val[[\"Participant_ID\", \"Depression\", \"Gender\"]]"
   ]
  },
  {
   "cell_type": "code",
   "execution_count": 6,
   "metadata": {},
   "outputs": [],
   "source": [
    "scaler = StandardScaler()\n",
    "X_scaled = scaler.fit_transform(X_train)\n",
    "X_scaled_val = scaler.transform(X_val)"
   ]
  },
  {
   "cell_type": "code",
   "execution_count": 40,
   "metadata": {},
   "outputs": [
    {
     "name": "stdout",
     "output_type": "stream",
     "text": [
      "Model: \"sequential_15\"\n",
      "_________________________________________________________________\n",
      " Layer (type)                Output Shape              Param #   \n",
      "=================================================================\n",
      " dense_58 (Dense)            (None, 32)                2880      \n",
      "                                                                 \n",
      " dropout_36 (Dropout)        (None, 32)                0         \n",
      "                                                                 \n",
      " dense_59 (Dense)            (None, 32)                1056      \n",
      "                                                                 \n",
      " dropout_37 (Dropout)        (None, 32)                0         \n",
      "                                                                 \n",
      " dense_60 (Dense)            (None, 16)                528       \n",
      "                                                                 \n",
      " dropout_38 (Dropout)        (None, 16)                0         \n",
      "                                                                 \n",
      " dense_61 (Dense)            (None, 1)                 17        \n",
      "                                                                 \n",
      "=================================================================\n",
      "Total params: 4481 (17.50 KB)\n",
      "Trainable params: 4481 (17.50 KB)\n",
      "Non-trainable params: 0 (0.00 Byte)\n",
      "_________________________________________________________________\n"
     ]
    },
    {
     "name": "stderr",
     "output_type": "stream",
     "text": [
      "WARNING:absl:At this time, the v2.11+ optimizer `tf.keras.optimizers.Adam` runs slowly on M1/M2 Macs, please use the legacy Keras optimizer instead, located at `tf.keras.optimizers.legacy.Adam`.\n"
     ]
    },
    {
     "name": "stdout",
     "output_type": "stream",
     "text": [
      "Epoch 1/50\n",
      "703/703 [==============================] - 1s 572us/step - loss: 1.3823 - accuracy: 0.5029 - val_loss: 1.1022 - val_accuracy: 0.0094\n",
      "Epoch 2/50\n",
      "703/703 [==============================] - 0s 480us/step - loss: 0.8919 - accuracy: 0.4747 - val_loss: 0.8006 - val_accuracy: 0.4288\n",
      "Epoch 3/50\n",
      "703/703 [==============================] - 0s 517us/step - loss: 0.7347 - accuracy: 0.6195 - val_loss: 0.6635 - val_accuracy: 0.8847\n",
      "Epoch 4/50\n",
      "703/703 [==============================] - 0s 491us/step - loss: 0.6853 - accuracy: 0.6584 - val_loss: 0.7262 - val_accuracy: 0.6054\n",
      "Epoch 5/50\n",
      "703/703 [==============================] - 0s 473us/step - loss: 0.6714 - accuracy: 0.6750 - val_loss: 0.6954 - val_accuracy: 0.6275\n",
      "Epoch 6/50\n",
      "703/703 [==============================] - 0s 490us/step - loss: 0.6671 - accuracy: 0.6781 - val_loss: 0.6352 - val_accuracy: 0.7566\n",
      "Epoch 7/50\n",
      "703/703 [==============================] - 0s 492us/step - loss: 0.6594 - accuracy: 0.6912 - val_loss: 0.6919 - val_accuracy: 0.6336\n",
      "Epoch 8/50\n",
      "703/703 [==============================] - 0s 485us/step - loss: 0.6480 - accuracy: 0.6986 - val_loss: 0.7444 - val_accuracy: 0.5756\n",
      "Epoch 9/50\n",
      "703/703 [==============================] - 0s 475us/step - loss: 0.6515 - accuracy: 0.6898 - val_loss: 0.7620 - val_accuracy: 0.5497\n",
      "Epoch 10/50\n",
      "703/703 [==============================] - 0s 531us/step - loss: 0.6460 - accuracy: 0.7077 - val_loss: 0.7226 - val_accuracy: 0.6137\n",
      "Epoch 11/50\n",
      "703/703 [==============================] - 0s 476us/step - loss: 0.6410 - accuracy: 0.7078 - val_loss: 0.6934 - val_accuracy: 0.6490\n",
      "Epoch 12/50\n",
      "703/703 [==============================] - 0s 479us/step - loss: 0.6417 - accuracy: 0.7079 - val_loss: 0.7238 - val_accuracy: 0.5971\n",
      "Epoch 13/50\n",
      "703/703 [==============================] - 0s 483us/step - loss: 0.6363 - accuracy: 0.7075 - val_loss: 0.6589 - val_accuracy: 0.6540\n",
      "Epoch 14/50\n",
      "703/703 [==============================] - 0s 482us/step - loss: 0.6374 - accuracy: 0.7122 - val_loss: 0.7283 - val_accuracy: 0.5900\n",
      "Epoch 15/50\n",
      "703/703 [==============================] - 0s 480us/step - loss: 0.6366 - accuracy: 0.7075 - val_loss: 0.7114 - val_accuracy: 0.6253\n",
      "Epoch 16/50\n",
      "703/703 [==============================] - 0s 505us/step - loss: 0.6360 - accuracy: 0.7135 - val_loss: 0.6775 - val_accuracy: 0.6545\n",
      "Epoch 17/50\n",
      "703/703 [==============================] - 0s 473us/step - loss: 0.6340 - accuracy: 0.7116 - val_loss: 0.7393 - val_accuracy: 0.6038\n",
      "Epoch 18/50\n",
      "703/703 [==============================] - 0s 506us/step - loss: 0.6309 - accuracy: 0.7166 - val_loss: 0.7440 - val_accuracy: 0.5905\n",
      "Epoch 19/50\n",
      "703/703 [==============================] - 0s 472us/step - loss: 0.6301 - accuracy: 0.7223 - val_loss: 0.7214 - val_accuracy: 0.6010\n",
      "Epoch 20/50\n",
      "703/703 [==============================] - 0s 473us/step - loss: 0.6281 - accuracy: 0.7163 - val_loss: 0.7099 - val_accuracy: 0.6440\n",
      "Epoch 21/50\n",
      "703/703 [==============================] - 0s 481us/step - loss: 0.6290 - accuracy: 0.7231 - val_loss: 0.7033 - val_accuracy: 0.6578\n",
      "Epoch 22/50\n",
      "703/703 [==============================] - 0s 491us/step - loss: 0.6253 - accuracy: 0.7193 - val_loss: 0.7552 - val_accuracy: 0.5966\n",
      "Epoch 23/50\n",
      "703/703 [==============================] - 0s 478us/step - loss: 0.6266 - accuracy: 0.7194 - val_loss: 0.6794 - val_accuracy: 0.6981\n",
      "Epoch 24/50\n",
      "703/703 [==============================] - 0s 472us/step - loss: 0.6248 - accuracy: 0.7270 - val_loss: 0.6420 - val_accuracy: 0.6926\n",
      "Epoch 25/50\n",
      "703/703 [==============================] - 0s 510us/step - loss: 0.6253 - accuracy: 0.7215 - val_loss: 0.6921 - val_accuracy: 0.6462\n",
      "Epoch 26/50\n",
      "703/703 [==============================] - 0s 481us/step - loss: 0.6238 - accuracy: 0.7196 - val_loss: 0.7431 - val_accuracy: 0.6291\n",
      "Epoch 27/50\n",
      "703/703 [==============================] - 0s 481us/step - loss: 0.6197 - accuracy: 0.7269 - val_loss: 0.7974 - val_accuracy: 0.5971\n",
      "Epoch 28/50\n",
      "703/703 [==============================] - 0s 493us/step - loss: 0.6189 - accuracy: 0.7287 - val_loss: 0.7349 - val_accuracy: 0.6142\n",
      "Epoch 29/50\n",
      "703/703 [==============================] - 0s 477us/step - loss: 0.6250 - accuracy: 0.7215 - val_loss: 0.6489 - val_accuracy: 0.6970\n",
      "Epoch 30/50\n",
      "703/703 [==============================] - 0s 493us/step - loss: 0.6163 - accuracy: 0.7383 - val_loss: 0.7162 - val_accuracy: 0.6556\n",
      "Epoch 31/50\n",
      "703/703 [==============================] - 0s 479us/step - loss: 0.6168 - accuracy: 0.7291 - val_loss: 0.7026 - val_accuracy: 0.6772\n",
      "Epoch 32/50\n",
      "703/703 [==============================] - 0s 503us/step - loss: 0.6191 - accuracy: 0.7350 - val_loss: 0.7260 - val_accuracy: 0.6540\n",
      "Epoch 33/50\n",
      "703/703 [==============================] - 0s 510us/step - loss: 0.6141 - accuracy: 0.7365 - val_loss: 0.6997 - val_accuracy: 0.6970\n",
      "Epoch 34/50\n",
      "703/703 [==============================] - 0s 504us/step - loss: 0.6203 - accuracy: 0.7281 - val_loss: 0.7400 - val_accuracy: 0.6683\n",
      "Epoch 35/50\n",
      "703/703 [==============================] - 0s 476us/step - loss: 0.6141 - accuracy: 0.7391 - val_loss: 0.7866 - val_accuracy: 0.5822\n",
      "Epoch 36/50\n",
      "703/703 [==============================] - 0s 481us/step - loss: 0.6164 - accuracy: 0.7380 - val_loss: 0.7780 - val_accuracy: 0.6076\n",
      "Epoch 37/50\n",
      "703/703 [==============================] - 0s 476us/step - loss: 0.6158 - accuracy: 0.7381 - val_loss: 0.6647 - val_accuracy: 0.7081\n",
      "Epoch 38/50\n",
      "703/703 [==============================] - 0s 475us/step - loss: 0.6039 - accuracy: 0.7459 - val_loss: 0.7523 - val_accuracy: 0.6639\n",
      "Epoch 39/50\n",
      "703/703 [==============================] - 0s 495us/step - loss: 0.6065 - accuracy: 0.7509 - val_loss: 0.7463 - val_accuracy: 0.6501\n",
      "Epoch 40/50\n",
      "703/703 [==============================] - 0s 555us/step - loss: 0.6173 - accuracy: 0.7372 - val_loss: 0.7420 - val_accuracy: 0.6518\n",
      "Epoch 41/50\n",
      "703/703 [==============================] - 0s 488us/step - loss: 0.6053 - accuracy: 0.7488 - val_loss: 0.7621 - val_accuracy: 0.6170\n",
      "Epoch 42/50\n",
      "703/703 [==============================] - 0s 477us/step - loss: 0.6104 - accuracy: 0.7404 - val_loss: 0.7355 - val_accuracy: 0.6716\n",
      "Epoch 43/50\n",
      "703/703 [==============================] - 0s 477us/step - loss: 0.6167 - accuracy: 0.7364 - val_loss: 0.6732 - val_accuracy: 0.7152\n",
      "Epoch 44/50\n",
      "703/703 [==============================] - 0s 500us/step - loss: 0.6097 - accuracy: 0.7418 - val_loss: 0.6224 - val_accuracy: 0.7759\n",
      "Epoch 45/50\n",
      "703/703 [==============================] - 0s 521us/step - loss: 0.6170 - accuracy: 0.7402 - val_loss: 0.6997 - val_accuracy: 0.7649\n",
      "Epoch 46/50\n",
      "703/703 [==============================] - 0s 475us/step - loss: 0.6139 - accuracy: 0.7388 - val_loss: 0.6136 - val_accuracy: 0.7809\n",
      "Epoch 47/50\n",
      "703/703 [==============================] - 0s 478us/step - loss: 0.6126 - accuracy: 0.7432 - val_loss: 0.7913 - val_accuracy: 0.6396\n",
      "Epoch 48/50\n",
      "703/703 [==============================] - 0s 474us/step - loss: 0.6109 - accuracy: 0.7413 - val_loss: 0.6683 - val_accuracy: 0.6727\n",
      "Epoch 49/50\n",
      "703/703 [==============================] - 0s 475us/step - loss: 0.6125 - accuracy: 0.7362 - val_loss: 0.7330 - val_accuracy: 0.6689\n",
      "Epoch 50/50\n",
      "703/703 [==============================] - 0s 475us/step - loss: 0.6097 - accuracy: 0.7448 - val_loss: 0.6576 - val_accuracy: 0.7108\n"
     ]
    }
   ],
   "source": [
    "utils.set_random_seed(3)\n",
    "model = Sequential()\n",
    "model.add(Dense(32, activation='relu', input_shape=(X_train.shape[1],),\n",
    "                kernel_regularizer=regularizers.L2(0.01)))\n",
    "model.add(Dropout(0.5))\n",
    "model.add(Dense(32, activation='relu',kernel_regularizer=regularizers.L2(0.01)))\n",
    "model.add(Dropout(0.5))\n",
    "model.add(Dense(16, activation='relu',kernel_regularizer=regularizers.L2(0.01)))\n",
    "model.add(Dropout(0.5))\n",
    "model.add(Dense(1, activation=\"sigmoid\"))\n",
    "model.summary()\n",
    "model.compile(loss=\"binary_crossentropy\", optimizer = Adam(learning_rate=0.001),metrics=[\"accuracy\"])\n",
    "trained_model = model.fit(X_scaled, np.array(y_train[\"Depression\"]), \n",
    "                           epochs=50,batch_size=16, \n",
    "                           validation_data=(X_scaled_val, np.array(y_val[\"Depression\"])),\n",
    "                           class_weight = calculate_class_weights(y_train, \"Depression\"))\n"
   ]
  },
  {
   "cell_type": "code",
   "execution_count": 41,
   "metadata": {},
   "outputs": [
    {
     "data": {
      "image/png": "[encoded data removed]",
      "text/plain": [
       "<Figure size 600x400 with 1 Axes>"
      ]
     },
     "metadata": {},
     "output_type": "display_data"
    }
   ],
   "source": [
    "fig, ax = plt.subplots(figsize=(6, 4))\n",
    "plt.plot(trained_model.history[\"accuracy\"], label=\"accuracy\")\n",
    "plt.plot(trained_model.history[\"val_accuracy\"], label=\"val_accuracy\")\n",
    "plt.xlabel(\"Epochs\")\n",
    "plt.ylabel(\"Accuracy\")\n",
    "plt.legend()\n",
    "plt.show()"
   ]
  },
  {
   "cell_type": "markdown",
   "metadata": {},
   "source": [
    "# Train on entire dataset and test it on test data"
   ]
  },
  {
   "cell_type": "code",
   "execution_count": 42,
   "metadata": {},
   "outputs": [],
   "source": [
    "scaler = StandardScaler()\n",
    "X_scaled_total = scaler.fit_transform(X_train_total)\n",
    "X_scaled_test = scaler.transform(X_test)"
   ]
  },
  {
   "cell_type": "code",
   "execution_count": 43,
   "metadata": {},
   "outputs": [
    {
     "name": "stdout",
     "output_type": "stream",
     "text": [
      "Model: \"sequential_16\"\n",
      "_________________________________________________________________\n",
      " Layer (type)                Output Shape              Param #   \n",
      "=================================================================\n",
      " dense_62 (Dense)            (None, 32)                2880      \n",
      "                                                                 \n",
      " dropout_39 (Dropout)        (None, 32)                0         \n",
      "                                                                 \n",
      " dense_63 (Dense)            (None, 32)                1056      \n",
      "                                                                 \n",
      " dropout_40 (Dropout)        (None, 32)                0         \n",
      "                                                                 \n",
      " dense_64 (Dense)            (None, 16)                528       \n",
      "                                                                 \n",
      " dropout_41 (Dropout)        (None, 16)                0         \n",
      "                                                                 \n",
      " dense_65 (Dense)            (None, 1)                 17        \n",
      "                                                                 \n",
      "=================================================================\n",
      "Total params: 4481 (17.50 KB)\n",
      "Trainable params: 4481 (17.50 KB)\n",
      "Non-trainable params: 0 (0.00 Byte)\n",
      "_________________________________________________________________\n"
     ]
    },
    {
     "name": "stderr",
     "output_type": "stream",
     "text": [
      "WARNING:absl:At this time, the v2.11+ optimizer `tf.keras.optimizers.Adam` runs slowly on M1/M2 Macs, please use the legacy Keras optimizer instead, located at `tf.keras.optimizers.legacy.Adam`.\n"
     ]
    }
   ],
   "source": [
    "utils.set_random_seed(3)\n",
    "model = Sequential()\n",
    "model.add(Dense(32, activation='relu', input_shape=(X_train.shape[1],),\n",
    "                kernel_regularizer=regularizers.L2(0.01)))\n",
    "model.add(Dropout(0.5))\n",
    "model.add(Dense(32, activation='relu',kernel_regularizer=regularizers.L2(0.01)))\n",
    "model.add(Dropout(0.5))\n",
    "model.add(Dense(16, activation='relu',kernel_regularizer=regularizers.L2(0.01)))\n",
    "model.add(Dropout(0.5))\n",
    "model.add(Dense(1, activation=\"sigmoid\"))\n",
    "model.summary()\n",
    "model.compile(loss=\"binary_crossentropy\", optimizer = Adam(learning_rate=0.001),metrics=[\"accuracy\"])\n"
   ]
  },
  {
   "cell_type": "code",
   "execution_count": 44,
   "metadata": {},
   "outputs": [
    {
     "name": "stdout",
     "output_type": "stream",
     "text": [
      "Epoch 1/50\n",
      "816/816 [==============================] - 1s 405us/step - loss: 1.2504 - accuracy: 0.6044\n",
      "Epoch 2/50\n",
      "816/816 [==============================] - 0s 392us/step - loss: 0.7883 - accuracy: 0.7062\n",
      "Epoch 3/50\n",
      "816/816 [==============================] - 0s 391us/step - loss: 0.6708 - accuracy: 0.7109\n",
      "Epoch 4/50\n",
      "816/816 [==============================] - 0s 401us/step - loss: 0.6449 - accuracy: 0.7158\n",
      "Epoch 5/50\n",
      "816/816 [==============================] - 0s 424us/step - loss: 0.6375 - accuracy: 0.7185\n",
      "Epoch 6/50\n",
      "816/816 [==============================] - 0s 400us/step - loss: 0.6325 - accuracy: 0.7240\n",
      "Epoch 7/50\n",
      "816/816 [==============================] - 0s 391us/step - loss: 0.6281 - accuracy: 0.7299\n",
      "Epoch 8/50\n",
      "816/816 [==============================] - 0s 393us/step - loss: 0.6182 - accuracy: 0.7401\n",
      "Epoch 9/50\n",
      "816/816 [==============================] - 0s 394us/step - loss: 0.6201 - accuracy: 0.7348\n",
      "Epoch 10/50\n",
      "816/816 [==============================] - 0s 401us/step - loss: 0.6164 - accuracy: 0.7381\n",
      "Epoch 11/50\n",
      "816/816 [==============================] - 0s 393us/step - loss: 0.6157 - accuracy: 0.7436\n",
      "Epoch 12/50\n",
      "816/816 [==============================] - 0s 423us/step - loss: 0.6157 - accuracy: 0.7383\n",
      "Epoch 13/50\n",
      "816/816 [==============================] - 0s 396us/step - loss: 0.6114 - accuracy: 0.7432\n",
      "Epoch 14/50\n",
      "816/816 [==============================] - 0s 397us/step - loss: 0.6048 - accuracy: 0.7481\n",
      "Epoch 15/50\n",
      "816/816 [==============================] - 0s 396us/step - loss: 0.6115 - accuracy: 0.7446\n",
      "Epoch 16/50\n",
      "816/816 [==============================] - 0s 400us/step - loss: 0.6080 - accuracy: 0.7464\n",
      "Epoch 17/50\n",
      "816/816 [==============================] - 0s 397us/step - loss: 0.6080 - accuracy: 0.7505\n",
      "Epoch 18/50\n",
      "816/816 [==============================] - 0s 394us/step - loss: 0.6116 - accuracy: 0.7496\n",
      "Epoch 19/50\n",
      "816/816 [==============================] - 0s 396us/step - loss: 0.6046 - accuracy: 0.7459\n",
      "Epoch 20/50\n",
      "816/816 [==============================] - 0s 423us/step - loss: 0.6026 - accuracy: 0.7557\n",
      "Epoch 21/50\n",
      "816/816 [==============================] - 0s 394us/step - loss: 0.5998 - accuracy: 0.7541\n",
      "Epoch 22/50\n",
      "816/816 [==============================] - 0s 394us/step - loss: 0.6015 - accuracy: 0.7533\n",
      "Epoch 23/50\n",
      "816/816 [==============================] - 0s 515us/step - loss: 0.6004 - accuracy: 0.7591\n",
      "Epoch 24/50\n",
      "816/816 [==============================] - 0s 396us/step - loss: 0.5991 - accuracy: 0.7548\n",
      "Epoch 25/50\n",
      "816/816 [==============================] - 0s 396us/step - loss: 0.5966 - accuracy: 0.7603\n",
      "Epoch 26/50\n",
      "816/816 [==============================] - 0s 397us/step - loss: 0.5937 - accuracy: 0.7604\n",
      "Epoch 27/50\n",
      "816/816 [==============================] - 0s 433us/step - loss: 0.5923 - accuracy: 0.7680\n",
      "Epoch 28/50\n",
      "816/816 [==============================] - 0s 399us/step - loss: 0.5997 - accuracy: 0.7626\n",
      "Epoch 29/50\n",
      "816/816 [==============================] - 0s 399us/step - loss: 0.5929 - accuracy: 0.7631\n",
      "Epoch 30/50\n",
      "816/816 [==============================] - 0s 396us/step - loss: 0.5937 - accuracy: 0.7666\n",
      "Epoch 31/50\n",
      "816/816 [==============================] - 0s 396us/step - loss: 0.5965 - accuracy: 0.7627\n",
      "Epoch 32/50\n",
      "816/816 [==============================] - 0s 397us/step - loss: 0.5963 - accuracy: 0.7606\n",
      "Epoch 33/50\n",
      "816/816 [==============================] - 0s 398us/step - loss: 0.5965 - accuracy: 0.7534\n",
      "Epoch 34/50\n",
      "816/816 [==============================] - 0s 436us/step - loss: 0.5982 - accuracy: 0.7537\n",
      "Epoch 35/50\n",
      "816/816 [==============================] - 0s 401us/step - loss: 0.5895 - accuracy: 0.7659\n",
      "Epoch 36/50\n",
      "816/816 [==============================] - 0s 394us/step - loss: 0.5935 - accuracy: 0.7619\n",
      "Epoch 37/50\n",
      "816/816 [==============================] - 0s 395us/step - loss: 0.5898 - accuracy: 0.7619\n",
      "Epoch 38/50\n",
      "816/816 [==============================] - 0s 395us/step - loss: 0.5864 - accuracy: 0.7674\n",
      "Epoch 39/50\n",
      "816/816 [==============================] - 0s 396us/step - loss: 0.5925 - accuracy: 0.7606\n",
      "Epoch 40/50\n",
      "816/816 [==============================] - 0s 396us/step - loss: 0.5937 - accuracy: 0.7594\n",
      "Epoch 41/50\n",
      "816/816 [==============================] - 0s 430us/step - loss: 0.5927 - accuracy: 0.7610\n",
      "Epoch 42/50\n",
      "816/816 [==============================] - 0s 398us/step - loss: 0.5943 - accuracy: 0.7586\n",
      "Epoch 43/50\n",
      "816/816 [==============================] - 0s 395us/step - loss: 0.5909 - accuracy: 0.7642\n",
      "Epoch 44/50\n",
      "816/816 [==============================] - 0s 395us/step - loss: 0.5862 - accuracy: 0.7682\n",
      "Epoch 45/50\n",
      "816/816 [==============================] - 0s 395us/step - loss: 0.5902 - accuracy: 0.7663\n",
      "Epoch 46/50\n",
      "816/816 [==============================] - 0s 396us/step - loss: 0.5949 - accuracy: 0.7564\n",
      "Epoch 47/50\n",
      "816/816 [==============================] - 0s 402us/step - loss: 0.5881 - accuracy: 0.7678\n",
      "Epoch 48/50\n",
      "816/816 [==============================] - 0s 405us/step - loss: 0.5981 - accuracy: 0.7634\n",
      "Epoch 49/50\n",
      "816/816 [==============================] - 0s 425us/step - loss: 0.5853 - accuracy: 0.7671\n",
      "Epoch 50/50\n",
      "816/816 [==============================] - 0s 394us/step - loss: 0.5872 - accuracy: 0.7669\n"
     ]
    }
   ],
   "source": [
    "trained_model = model.fit(X_scaled_total, np.array(y_train_total[\"Depression\"]), \n",
    "                           epochs=50,batch_size=16, \n",
    "                           class_weight = calculate_class_weights(y_train, \"Depression\"))"
   ]
  },
  {
   "cell_type": "code",
   "execution_count": 45,
   "metadata": {},
   "outputs": [
    {
     "name": "stdout",
     "output_type": "stream",
     "text": [
      "97/97 [==============================] - 0s 278us/step\n"
     ]
    },
    {
     "name": "stderr",
     "output_type": "stream",
     "text": [
      "/var/folders/6m/wg76ryq57fnb356nt5xwlbl80000gn/T/ipykernel_23977/1533113757.py:2: SettingWithCopyWarning: \n",
      "A value is trying to be set on a copy of a slice from a DataFrame.\n",
      "Try using .loc[row_indexer,col_indexer] = value instead\n",
      "\n",
      "See the caveats in the documentation: https://pandas.pydata.org/pandas-docs/stable/user_guide/indexing.html#returning-a-view-versus-a-copy\n",
      "  y_test[\"Depression_predicted\"] = np.where(y_pred>=0.5,1,0)\n"
     ]
    }
   ],
   "source": [
    "y_pred = model.predict(X_scaled_test)\n",
    "y_test[\"Depression_predicted\"] = np.where(y_pred>=0.5,1,0)"
   ]
  },
  {
   "cell_type": "code",
   "execution_count": 46,
   "metadata": {},
   "outputs": [
    {
     "data": {
      "text/html": [
       "<div>\n",
       "<style scoped>\n",
       "    .dataframe tbody tr th:only-of-type {\n",
       "        vertical-align: middle;\n",
       "    }\n",
       "\n",
       "    .dataframe tbody tr th {\n",
       "        vertical-align: top;\n",
       "    }\n",
       "\n",
       "    .dataframe thead th {\n",
       "        text-align: right;\n",
       "    }\n",
       "</style>\n",
       "<table border=\"1\" class=\"dataframe\">\n",
       "  <thead>\n",
       "    <tr style=\"text-align: right;\">\n",
       "      <th></th>\n",
       "      <th>Participant_ID</th>\n",
       "      <th>Depression</th>\n",
       "      <th>Gender</th>\n",
       "      <th>Depression_prediction</th>\n",
       "      <th>Depression_predicted</th>\n",
       "    </tr>\n",
       "  </thead>\n",
       "  <tbody>\n",
       "    <tr>\n",
       "      <th>0</th>\n",
       "      <td>474</td>\n",
       "      <td>0</td>\n",
       "      <td>1</td>\n",
       "      <td>0</td>\n",
       "      <td>0</td>\n",
       "    </tr>\n",
       "    <tr>\n",
       "      <th>1</th>\n",
       "      <td>474</td>\n",
       "      <td>0</td>\n",
       "      <td>1</td>\n",
       "      <td>1</td>\n",
       "      <td>0</td>\n",
       "    </tr>\n",
       "    <tr>\n",
       "      <th>2</th>\n",
       "      <td>474</td>\n",
       "      <td>0</td>\n",
       "      <td>1</td>\n",
       "      <td>0</td>\n",
       "      <td>0</td>\n",
       "    </tr>\n",
       "    <tr>\n",
       "      <th>3</th>\n",
       "      <td>474</td>\n",
       "      <td>0</td>\n",
       "      <td>1</td>\n",
       "      <td>0</td>\n",
       "      <td>0</td>\n",
       "    </tr>\n",
       "    <tr>\n",
       "      <th>4</th>\n",
       "      <td>474</td>\n",
       "      <td>0</td>\n",
       "      <td>1</td>\n",
       "      <td>0</td>\n",
       "      <td>0</td>\n",
       "    </tr>\n",
       "    <tr>\n",
       "      <th>...</th>\n",
       "      <td>...</td>\n",
       "      <td>...</td>\n",
       "      <td>...</td>\n",
       "      <td>...</td>\n",
       "      <td>...</td>\n",
       "    </tr>\n",
       "    <tr>\n",
       "      <th>3086</th>\n",
       "      <td>479</td>\n",
       "      <td>0</td>\n",
       "      <td>1</td>\n",
       "      <td>1</td>\n",
       "      <td>1</td>\n",
       "    </tr>\n",
       "    <tr>\n",
       "      <th>3087</th>\n",
       "      <td>479</td>\n",
       "      <td>0</td>\n",
       "      <td>1</td>\n",
       "      <td>0</td>\n",
       "      <td>0</td>\n",
       "    </tr>\n",
       "    <tr>\n",
       "      <th>3088</th>\n",
       "      <td>479</td>\n",
       "      <td>0</td>\n",
       "      <td>1</td>\n",
       "      <td>0</td>\n",
       "      <td>0</td>\n",
       "    </tr>\n",
       "    <tr>\n",
       "      <th>3089</th>\n",
       "      <td>479</td>\n",
       "      <td>0</td>\n",
       "      <td>1</td>\n",
       "      <td>0</td>\n",
       "      <td>0</td>\n",
       "    </tr>\n",
       "    <tr>\n",
       "      <th>3090</th>\n",
       "      <td>479</td>\n",
       "      <td>0</td>\n",
       "      <td>1</td>\n",
       "      <td>0</td>\n",
       "      <td>1</td>\n",
       "    </tr>\n",
       "  </tbody>\n",
       "</table>\n",
       "<p>3091 rows × 5 columns</p>\n",
       "</div>"
      ],
      "text/plain": [
       "      Participant_ID  Depression  Gender  Depression_prediction  \\\n",
       "0                474           0       1                      0   \n",
       "1                474           0       1                      1   \n",
       "2                474           0       1                      0   \n",
       "3                474           0       1                      0   \n",
       "4                474           0       1                      0   \n",
       "...              ...         ...     ...                    ...   \n",
       "3086             479           0       1                      1   \n",
       "3087             479           0       1                      0   \n",
       "3088             479           0       1                      0   \n",
       "3089             479           0       1                      0   \n",
       "3090             479           0       1                      0   \n",
       "\n",
       "      Depression_predicted  \n",
       "0                        0  \n",
       "1                        0  \n",
       "2                        0  \n",
       "3                        0  \n",
       "4                        0  \n",
       "...                    ...  \n",
       "3086                     1  \n",
       "3087                     0  \n",
       "3088                     0  \n",
       "3089                     0  \n",
       "3090                     1  \n",
       "\n",
       "[3091 rows x 5 columns]"
      ]
     },
     "execution_count": 46,
     "metadata": {},
     "output_type": "execute_result"
    }
   ],
   "source": [
    "y_test"
   ]
  },
  {
   "cell_type": "code",
   "execution_count": 47,
   "metadata": {},
   "outputs": [
    {
     "name": "stdout",
     "output_type": "stream",
     "text": [
      "Accuracy: 0.65\n",
      "Balanced Accuracy: 0.5595238095238095\n",
      "Equality of Opportunity: 0.19999999999999996\n"
     ]
    },
    {
     "data": {
      "image/png": "[encoded data removed]",
      "text/plain": [
       "<Figure size 600x600 with 2 Axes>"
      ]
     },
     "metadata": {},
     "output_type": "display_data"
    }
   ],
   "source": [
    "acc, bal_acc, eo_score = compute_metrics(y_test, eo=True)\n",
    "print(f\"Accuracy: {acc}\")\n",
    "print(f\"Balanced Accuracy: {bal_acc}\")\n",
    "print(f\"Equality of Opportunity: {eo_score}\")\n",
    "show_conf_matrix(y_test)"
   ]
  }
 ],
 "metadata": {
  "kernelspec": {
   "display_name": "base",
   "language": "python",
   "name": "python3"
  },
  "language_info": {
   "codemirror_mode": {
    "name": "ipython",
    "version": 3
   },
   "file_extension": ".py",
   "mimetype": "text/x-python",
   "name": "python",
   "nbconvert_exporter": "python",
   "pygments_lexer": "ipython3",
   "version": "3.11.7"
  }
 },
 "nbformat": 4,
 "nbformat_minor": 2
}
