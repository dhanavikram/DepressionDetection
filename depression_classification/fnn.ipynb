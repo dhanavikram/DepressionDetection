{
 "cells": [
  {
   "cell_type": "code",
   "execution_count": 22,
   "metadata": {},
   "outputs": [],
   "source": [
    "# Import libraries\n",
    "import matplotlib.pyplot as plt\n",
    "import numpy as np\n",
    "import pandas as pd\n",
    "from utils import *\n",
    "from sklearn.preprocessing import StandardScaler\n",
    "import tensorflow as tf\n",
    "from tensorflow.keras.models import Sequential\n",
    "from tensorflow.keras.layers import Dense, Dropout\n",
    "from tensorflow.keras.optimizers import Adam, Nadam\n",
    "from keras import regularizers\n",
    "from keras import utils\n"
   ]
  },
  {
   "cell_type": "code",
   "execution_count": 23,
   "metadata": {},
   "outputs": [
    {
     "name": "stdout",
     "output_type": "stream",
     "text": [
      "Train data shape: (13056, 91)\n",
      "Test data shape: (3091, 91)\n"
     ]
    }
   ],
   "source": [
    "PATH_TRAIN = \"../processed_data/cleaned_data/clean_data.csv\"\n",
    "PATH_TEST = \"../processed_data/cleaned_data/clean_test_data.csv\"\n",
    "\n",
    "train_df = pd.read_csv(PATH_TRAIN)\n",
    "test_df = pd.read_csv(PATH_TEST)\n",
    "\n",
    "print(\"Train data shape:\", train_df.shape)\n",
    "print(\"Test data shape:\", test_df.shape)"
   ]
  },
  {
   "cell_type": "code",
   "execution_count": 24,
   "metadata": {},
   "outputs": [],
   "source": [
    "X_train_total = train_df.drop([\"Participant_ID\", \"Depression\"], axis=1)\n",
    "y_train_total = train_df[[\"Participant_ID\", \"Depression\", \"Gender\"]]\n",
    "\n",
    "X_test = test_df.drop([\"Participant_ID\", \"Depression\"], axis=1)\n",
    "y_test = test_df[[\"Participant_ID\", \"Depression\", \"Gender\"]]"
   ]
  },
  {
   "cell_type": "code",
   "execution_count": 25,
   "metadata": {},
   "outputs": [],
   "source": [
    "split_train = train_df[train_df['Participant_ID']<=460]\n",
    "splt_val = train_df[train_df['Participant_ID']>460]\n",
    "\n",
    "X_train = split_train.drop([\"Participant_ID\", \"Depression\"], axis=1)\n",
    "y_train = split_train[[\"Participant_ID\", \"Depression\", \"Gender\"]]\n",
    "\n",
    "X_val = splt_val.drop([\"Participant_ID\", \"Depression\"], axis=1)\n",
    "y_val = splt_val[[\"Participant_ID\", \"Depression\", \"Gender\"]]"
   ]
  },
  {
   "cell_type": "code",
   "execution_count": 26,
   "metadata": {},
   "outputs": [],
   "source": [
    "scaler = StandardScaler()\n",
    "X_scaled = scaler.fit_transform(X_train)\n",
    "X_scaled_val = scaler.transform(X_val)"
   ]
  },
  {
   "cell_type": "code",
   "execution_count": 27,
   "metadata": {},
   "outputs": [
    {
     "name": "stdout",
     "output_type": "stream",
     "text": [
      "Model: \"sequential_5\"\n",
      "_________________________________________________________________\n",
      " Layer (type)                Output Shape              Param #   \n",
      "=================================================================\n",
      " dense_20 (Dense)            (None, 32)                2880      \n",
      "                                                                 \n",
      " dense_21 (Dense)            (None, 32)                1056      \n",
      "                                                                 \n",
      " dense_22 (Dense)            (None, 16)                528       \n",
      "                                                                 \n",
      " dense_23 (Dense)            (None, 1)                 17        \n",
      "                                                                 \n",
      "=================================================================\n",
      "Total params: 4481 (17.50 KB)\n",
      "Trainable params: 4481 (17.50 KB)\n",
      "Non-trainable params: 0 (0.00 Byte)\n",
      "_________________________________________________________________\n"
     ]
    },
    {
     "name": "stderr",
     "output_type": "stream",
     "text": [
      "WARNING:absl:At this time, the v2.11+ optimizer `tf.keras.optimizers.Adam` runs slowly on M1/M2 Macs, please use the legacy Keras optimizer instead, located at `tf.keras.optimizers.legacy.Adam`.\n"
     ]
    },
    {
     "name": "stdout",
     "output_type": "stream",
     "text": [
      "Model: \"sequential_5\"\n",
      "_________________________________________________________________\n",
      " Layer (type)                Output Shape              Param #   \n",
      "=================================================================\n",
      " dense_20 (Dense)            (None, 32)                2880      \n",
      "                                                                 \n",
      " dense_21 (Dense)            (None, 32)                1056      \n",
      "                                                                 \n",
      " dense_22 (Dense)            (None, 16)                528       \n",
      "                                                                 \n",
      " dense_23 (Dense)            (None, 1)                 17        \n",
      "                                                                 \n",
      "=================================================================\n",
      "Total params: 4481 (17.50 KB)\n",
      "Trainable params: 4481 (17.50 KB)\n",
      "Non-trainable params: 0 (0.00 Byte)\n",
      "_________________________________________________________________\n"
     ]
    },
    {
     "name": "stderr",
     "output_type": "stream",
     "text": [
      "WARNING:absl:At this time, the v2.11+ optimizer `tf.keras.optimizers.Adam` runs slowly on M1/M2 Macs, please use the legacy Keras optimizer instead, located at `tf.keras.optimizers.legacy.Adam`.\n"
     ]
    },
    {
     "name": "stdout",
     "output_type": "stream",
     "text": [
      "Epoch 1/25\n",
      "703/703 [==============================] - 1s 547us/step - loss: 0.6736 - accuracy: 0.6670 - val_loss: 0.7259 - val_accuracy: 0.5684\n",
      "Epoch 2/25\n",
      "703/703 [==============================] - 0s 442us/step - loss: 0.5507 - accuracy: 0.7565 - val_loss: 0.7753 - val_accuracy: 0.5436\n",
      "Epoch 3/25\n",
      "703/703 [==============================] - 0s 509us/step - loss: 0.4714 - accuracy: 0.8027 - val_loss: 0.6667 - val_accuracy: 0.7031\n",
      "Epoch 4/25\n",
      "703/703 [==============================] - 0s 442us/step - loss: 0.4189 - accuracy: 0.8316 - val_loss: 0.6455 - val_accuracy: 0.7230\n",
      "Epoch 5/25\n",
      "703/703 [==============================] - 0s 448us/step - loss: 0.3845 - accuracy: 0.8497 - val_loss: 0.7522 - val_accuracy: 0.6595\n",
      "Epoch 6/25\n",
      "703/703 [==============================] - 0s 437us/step - loss: 0.3490 - accuracy: 0.8680 - val_loss: 0.6971 - val_accuracy: 0.6998\n",
      "Epoch 7/25\n",
      "703/703 [==============================] - 0s 438us/step - loss: 0.3347 - accuracy: 0.8773 - val_loss: 0.7932 - val_accuracy: 0.6716\n",
      "Epoch 8/25\n",
      "703/703 [==============================] - 0s 508us/step - loss: 0.3095 - accuracy: 0.8906 - val_loss: 0.6898 - val_accuracy: 0.7003\n",
      "Epoch 9/25\n",
      "703/703 [==============================] - 0s 448us/step - loss: 0.2957 - accuracy: 0.8951 - val_loss: 0.8701 - val_accuracy: 0.6788\n",
      "Epoch 10/25\n",
      "703/703 [==============================] - 0s 448us/step - loss: 0.2826 - accuracy: 0.9006 - val_loss: 0.6804 - val_accuracy: 0.7307\n",
      "Epoch 11/25\n",
      "703/703 [==============================] - 0s 451us/step - loss: 0.2775 - accuracy: 0.9047 - val_loss: 0.6534 - val_accuracy: 0.7472\n",
      "Epoch 12/25\n",
      "703/703 [==============================] - 0s 517us/step - loss: 0.2629 - accuracy: 0.9119 - val_loss: 0.5912 - val_accuracy: 0.7660\n",
      "Epoch 13/25\n",
      "703/703 [==============================] - 0s 465us/step - loss: 0.2610 - accuracy: 0.9146 - val_loss: 0.7166 - val_accuracy: 0.7362\n",
      "Epoch 14/25\n",
      "703/703 [==============================] - 0s 446us/step - loss: 0.2464 - accuracy: 0.9182 - val_loss: 0.8076 - val_accuracy: 0.7086\n",
      "Epoch 15/25\n",
      "703/703 [==============================] - 0s 441us/step - loss: 0.2396 - accuracy: 0.9240 - val_loss: 0.6543 - val_accuracy: 0.7539\n",
      "Epoch 16/25\n",
      "703/703 [==============================] - 0s 644us/step - loss: 0.2371 - accuracy: 0.9204 - val_loss: 0.6781 - val_accuracy: 0.7605\n",
      "Epoch 17/25\n",
      "703/703 [==============================] - 0s 476us/step - loss: 0.2285 - accuracy: 0.9288 - val_loss: 0.6942 - val_accuracy: 0.7500\n",
      "Epoch 18/25\n",
      "703/703 [==============================] - 0s 569us/step - loss: 0.2257 - accuracy: 0.9318 - val_loss: 0.7156 - val_accuracy: 0.7483\n",
      "Epoch 19/25\n",
      "703/703 [==============================] - 0s 467us/step - loss: 0.2251 - accuracy: 0.9311 - val_loss: 0.7893 - val_accuracy: 0.7279\n",
      "Epoch 20/25\n",
      "703/703 [==============================] - 0s 611us/step - loss: 0.2258 - accuracy: 0.9285 - val_loss: 0.5553 - val_accuracy: 0.7980\n",
      "Epoch 21/25\n",
      "703/703 [==============================] - 0s 442us/step - loss: 0.2133 - accuracy: 0.9345 - val_loss: 0.9074 - val_accuracy: 0.6926\n",
      "Epoch 22/25\n",
      "703/703 [==============================] - 0s 459us/step - loss: 0.2072 - accuracy: 0.9372 - val_loss: 0.6282 - val_accuracy: 0.7875\n",
      "Epoch 23/25\n",
      "703/703 [==============================] - 0s 477us/step - loss: 0.2052 - accuracy: 0.9422 - val_loss: 0.6187 - val_accuracy: 0.8046\n",
      "Epoch 24/25\n",
      "703/703 [==============================] - 0s 543us/step - loss: 0.2092 - accuracy: 0.9396 - val_loss: 0.6020 - val_accuracy: 0.8107\n",
      "Epoch 25/25\n",
      "703/703 [==============================] - 0s 452us/step - loss: 0.2031 - accuracy: 0.9417 - val_loss: 0.9098 - val_accuracy: 0.7053\n"
     ]
    }
   ],
   "source": [
    "utils.set_random_seed(3)\n",
    "model3 = Sequential()\n",
    "model3.add(Dense(32, activation='relu', input_shape=(X_train.shape[1],),kernel_regularizer=regularizers.L2(0.001)))\n",
    "model3.add(Dense(32, activation='relu',kernel_regularizer=regularizers.L2(0.0005)))\n",
    "# model3.add(Dense(16, activation='relu',kernel_regularizer=regularizers.L2(0.01)))\n",
    "model3.add(Dense(16, activation='relu',kernel_regularizer=regularizers.L2(0.0001)))\n",
    "model3.add(Dense(1, activation=\"sigmoid\"))\n",
    "model3.summary()\n",
    "model3.compile(loss=\"binary_crossentropy\", optimizer = Adam(learning_rate=0.001),metrics=[\"accuracy\"])\n",
    "model3.summary()\n",
    "model3.compile(loss=\"binary_crossentropy\", optimizer = Adam(learning_rate=0.001),metrics=[\"accuracy\"])\n",
    "trained_model = model3.fit(X_scaled, np.array(y_train[\"Depression\"]), \n",
    "                           epochs=25,batch_size=16, \n",
    "                           validation_data=(X_scaled_val, np.array(y_val[\"Depression\"])),\n",
    "                           class_weight = calculate_class_weights(y_train, \"Depression\"))\n"
   ]
  },
  {
   "cell_type": "code",
   "execution_count": 28,
   "metadata": {},
   "outputs": [
    {
     "data": {
      "image/png": "[encoded data removed]",
      "text/plain": [
       "<Figure size 600x400 with 1 Axes>"
      ]
     },
     "metadata": {},
     "output_type": "display_data"
    }
   ],
   "source": [
    "fig, ax = plt.subplots(figsize=(6, 4))\n",
    "plt.plot(trained_model.history[\"accuracy\"], label=\"accuracy\")\n",
    "plt.plot(trained_model.history[\"val_accuracy\"], label=\"val_accuracy\")\n",
    "plt.xlabel(\"Epochs\")\n",
    "plt.ylabel(\"Accuracy\")\n",
    "plt.legend()\n",
    "plt.show()"
   ]
  },
  {
   "cell_type": "markdown",
   "metadata": {},
   "source": [
    "# Train on entire dataset and test it on test data"
   ]
  },
  {
   "cell_type": "code",
   "execution_count": 29,
   "metadata": {},
   "outputs": [],
   "source": [
    "scaler = StandardScaler()\n",
    "X_scaled_total = scaler.fit_transform(X_train_total)\n",
    "X_scaled_test = scaler.transform(X_test)"
   ]
  },
  {
   "cell_type": "code",
   "execution_count": 30,
   "metadata": {},
   "outputs": [
    {
     "name": "stdout",
     "output_type": "stream",
     "text": [
      "Model: \"sequential_6\"\n",
      "_________________________________________________________________\n",
      " Layer (type)                Output Shape              Param #   \n",
      "=================================================================\n",
      " dense_24 (Dense)            (None, 32)                2880      \n",
      "                                                                 \n",
      " dense_25 (Dense)            (None, 16)                528       \n",
      "                                                                 \n",
      " dense_26 (Dense)            (None, 8)                 136       \n",
      "                                                                 \n",
      " dense_27 (Dense)            (None, 1)                 9         \n",
      "                                                                 \n",
      "=================================================================\n",
      "Total params: 3553 (13.88 KB)\n",
      "Trainable params: 3553 (13.88 KB)\n",
      "Non-trainable params: 0 (0.00 Byte)\n",
      "_________________________________________________________________\n"
     ]
    },
    {
     "name": "stderr",
     "output_type": "stream",
     "text": [
      "WARNING:absl:At this time, the v2.11+ optimizer `tf.keras.optimizers.Nadam` runs slowly on M1/M2 Macs, please use the legacy Keras optimizer instead, located at `tf.keras.optimizers.legacy.Nadam`.\n"
     ]
    }
   ],
   "source": [
    "utils.set_random_seed(3)\n",
    "model3 = Sequential()\n",
    "model3.add(Dense(32, activation='relu', input_shape=(X_scaled.shape[1],),kernel_regularizer=regularizers.L2(0.0001)))\n",
    "# model3.add(Dense(32, activation='relu',kernel_regularizer=regularizers.L2(0.0001)))\n",
    "model3.add(Dense(16, activation='relu',kernel_regularizer=regularizers.L2(0.0001)))\n",
    "model3.add(Dense(8, activation='relu',kernel_regularizer=regularizers.L2(0.0001)))\n",
    "# model3.add(Dense(8, activation='relu',kernel_regularizer=regularizers.L2(0.0001)))\n",
    "model3.add(Dense(1, activation=\"sigmoid\"))\n",
    "model3.summary()\n",
    "model3.compile(loss=\"binary_crossentropy\", optimizer = Nadam(learning_rate=0.001),metrics=[\"accuracy\"])\n"
   ]
  },
  {
   "cell_type": "code",
   "execution_count": 31,
   "metadata": {},
   "outputs": [
    {
     "name": "stdout",
     "output_type": "stream",
     "text": [
      "Epoch 1/25\n",
      "816/816 [==============================] - 1s 429us/step - loss: 0.6457 - accuracy: 0.7187\n",
      "Epoch 2/25\n",
      "816/816 [==============================] - 0s 421us/step - loss: 0.5577 - accuracy: 0.7521\n",
      "Epoch 3/25\n",
      "816/816 [==============================] - 0s 489us/step - loss: 0.4879 - accuracy: 0.7848\n",
      "Epoch 4/25\n",
      "816/816 [==============================] - 0s 412us/step - loss: 0.4374 - accuracy: 0.8048\n",
      "Epoch 5/25\n",
      "816/816 [==============================] - 0s 435us/step - loss: 0.3998 - accuracy: 0.8245\n",
      "Epoch 6/25\n",
      "816/816 [==============================] - 0s 419us/step - loss: 0.3686 - accuracy: 0.8453\n",
      "Epoch 7/25\n",
      "816/816 [==============================] - 0s 501us/step - loss: 0.3406 - accuracy: 0.8579\n",
      "Epoch 8/25\n",
      "816/816 [==============================] - 0s 418us/step - loss: 0.3219 - accuracy: 0.8666\n",
      "Epoch 9/25\n",
      "816/816 [==============================] - 0s 410us/step - loss: 0.3044 - accuracy: 0.8706\n",
      "Epoch 10/25\n",
      "816/816 [==============================] - 0s 413us/step - loss: 0.2851 - accuracy: 0.8817\n",
      "Epoch 11/25\n",
      "816/816 [==============================] - 0s 469us/step - loss: 0.2705 - accuracy: 0.8904\n",
      "Epoch 12/25\n",
      "816/816 [==============================] - 0s 411us/step - loss: 0.2597 - accuracy: 0.8958\n",
      "Epoch 13/25\n",
      "816/816 [==============================] - 0s 427us/step - loss: 0.2475 - accuracy: 0.9023\n",
      "Epoch 14/25\n",
      "816/816 [==============================] - 0s 445us/step - loss: 0.2392 - accuracy: 0.9059\n",
      "Epoch 15/25\n",
      "816/816 [==============================] - 0s 442us/step - loss: 0.2275 - accuracy: 0.9098\n",
      "Epoch 16/25\n",
      "816/816 [==============================] - 0s 474us/step - loss: 0.2219 - accuracy: 0.9142\n",
      "Epoch 17/25\n",
      "816/816 [==============================] - 0s 413us/step - loss: 0.2175 - accuracy: 0.9146\n",
      "Epoch 18/25\n",
      "816/816 [==============================] - 0s 412us/step - loss: 0.2100 - accuracy: 0.9198\n",
      "Epoch 19/25\n",
      "816/816 [==============================] - 0s 428us/step - loss: 0.2057 - accuracy: 0.9200\n",
      "Epoch 20/25\n",
      "816/816 [==============================] - 0s 410us/step - loss: 0.2022 - accuracy: 0.9236\n",
      "Epoch 21/25\n",
      "816/816 [==============================] - 0s 467us/step - loss: 0.1945 - accuracy: 0.9257\n",
      "Epoch 22/25\n",
      "816/816 [==============================] - 0s 414us/step - loss: 0.1921 - accuracy: 0.9280\n",
      "Epoch 23/25\n",
      "816/816 [==============================] - 0s 420us/step - loss: 0.1879 - accuracy: 0.9283\n",
      "Epoch 24/25\n",
      "816/816 [==============================] - 0s 410us/step - loss: 0.1846 - accuracy: 0.9308\n",
      "Epoch 25/25\n",
      "816/816 [==============================] - 0s 419us/step - loss: 0.1768 - accuracy: 0.9344\n"
     ]
    }
   ],
   "source": [
    "trained_model = model3.fit(X_scaled_total, np.array(y_train_total[\"Depression\"]), \n",
    "                           epochs=25,batch_size=16, \n",
    "                           class_weight = calculate_class_weights(y_train, \"Depression\"))"
   ]
  },
  {
   "cell_type": "code",
   "execution_count": 32,
   "metadata": {},
   "outputs": [
    {
     "name": "stdout",
     "output_type": "stream",
     "text": [
      "97/97 [==============================] - 0s 465us/step\n"
     ]
    },
    {
     "name": "stderr",
     "output_type": "stream",
     "text": [
      "/var/folders/6m/wg76ryq57fnb356nt5xwlbl80000gn/T/ipykernel_35798/1096817474.py:2: SettingWithCopyWarning: \n",
      "A value is trying to be set on a copy of a slice from a DataFrame.\n",
      "Try using .loc[row_indexer,col_indexer] = value instead\n",
      "\n",
      "See the caveats in the documentation: https://pandas.pydata.org/pandas-docs/stable/user_guide/indexing.html#returning-a-view-versus-a-copy\n",
      "  y_test[\"Depression_predicted\"] = np.where(y_pred>=0.5,1,0)\n"
     ]
    }
   ],
   "source": [
    "y_pred = model3.predict(X_scaled_test)\n",
    "y_test[\"Depression_predicted\"] = np.where(y_pred>=0.5,1,0)"
   ]
  },
  {
   "cell_type": "code",
   "execution_count": 33,
   "metadata": {},
   "outputs": [
    {
     "data": {
      "text/html": [
       "<div>\n",
       "<style scoped>\n",
       "    .dataframe tbody tr th:only-of-type {\n",
       "        vertical-align: middle;\n",
       "    }\n",
       "\n",
       "    .dataframe tbody tr th {\n",
       "        vertical-align: top;\n",
       "    }\n",
       "\n",
       "    .dataframe thead th {\n",
       "        text-align: right;\n",
       "    }\n",
       "</style>\n",
       "<table border=\"1\" class=\"dataframe\">\n",
       "  <thead>\n",
       "    <tr style=\"text-align: right;\">\n",
       "      <th></th>\n",
       "      <th>Participant_ID</th>\n",
       "      <th>Depression</th>\n",
       "      <th>Gender</th>\n",
       "      <th>Depression_predicted</th>\n",
       "    </tr>\n",
       "  </thead>\n",
       "  <tbody>\n",
       "    <tr>\n",
       "      <th>0</th>\n",
       "      <td>474</td>\n",
       "      <td>0</td>\n",
       "      <td>1</td>\n",
       "      <td>0</td>\n",
       "    </tr>\n",
       "    <tr>\n",
       "      <th>1</th>\n",
       "      <td>474</td>\n",
       "      <td>0</td>\n",
       "      <td>1</td>\n",
       "      <td>0</td>\n",
       "    </tr>\n",
       "    <tr>\n",
       "      <th>2</th>\n",
       "      <td>474</td>\n",
       "      <td>0</td>\n",
       "      <td>1</td>\n",
       "      <td>0</td>\n",
       "    </tr>\n",
       "    <tr>\n",
       "      <th>3</th>\n",
       "      <td>474</td>\n",
       "      <td>0</td>\n",
       "      <td>1</td>\n",
       "      <td>0</td>\n",
       "    </tr>\n",
       "    <tr>\n",
       "      <th>4</th>\n",
       "      <td>474</td>\n",
       "      <td>0</td>\n",
       "      <td>1</td>\n",
       "      <td>0</td>\n",
       "    </tr>\n",
       "    <tr>\n",
       "      <th>...</th>\n",
       "      <td>...</td>\n",
       "      <td>...</td>\n",
       "      <td>...</td>\n",
       "      <td>...</td>\n",
       "    </tr>\n",
       "    <tr>\n",
       "      <th>3086</th>\n",
       "      <td>479</td>\n",
       "      <td>0</td>\n",
       "      <td>1</td>\n",
       "      <td>0</td>\n",
       "    </tr>\n",
       "    <tr>\n",
       "      <th>3087</th>\n",
       "      <td>479</td>\n",
       "      <td>0</td>\n",
       "      <td>1</td>\n",
       "      <td>1</td>\n",
       "    </tr>\n",
       "    <tr>\n",
       "      <th>3088</th>\n",
       "      <td>479</td>\n",
       "      <td>0</td>\n",
       "      <td>1</td>\n",
       "      <td>0</td>\n",
       "    </tr>\n",
       "    <tr>\n",
       "      <th>3089</th>\n",
       "      <td>479</td>\n",
       "      <td>0</td>\n",
       "      <td>1</td>\n",
       "      <td>0</td>\n",
       "    </tr>\n",
       "    <tr>\n",
       "      <th>3090</th>\n",
       "      <td>479</td>\n",
       "      <td>0</td>\n",
       "      <td>1</td>\n",
       "      <td>0</td>\n",
       "    </tr>\n",
       "  </tbody>\n",
       "</table>\n",
       "<p>3091 rows × 4 columns</p>\n",
       "</div>"
      ],
      "text/plain": [
       "      Participant_ID  Depression  Gender  Depression_predicted\n",
       "0                474           0       1                     0\n",
       "1                474           0       1                     0\n",
       "2                474           0       1                     0\n",
       "3                474           0       1                     0\n",
       "4                474           0       1                     0\n",
       "...              ...         ...     ...                   ...\n",
       "3086             479           0       1                     0\n",
       "3087             479           0       1                     1\n",
       "3088             479           0       1                     0\n",
       "3089             479           0       1                     0\n",
       "3090             479           0       1                     0\n",
       "\n",
       "[3091 rows x 4 columns]"
      ]
     },
     "execution_count": 33,
     "metadata": {},
     "output_type": "execute_result"
    }
   ],
   "source": [
    "y_test"
   ]
  },
  {
   "cell_type": "code",
   "execution_count": 34,
   "metadata": {},
   "outputs": [
    {
     "name": "stdout",
     "output_type": "stream",
     "text": [
      "Accuracy: 0.7\n",
      "Balanced Accuracy: 0.5952380952380952\n",
      "Equality of Opportunity: 0.19999999999999996\n"
     ]
    },
    {
     "data": {
      "image/png": "[encoded data removed]",
      "text/plain": [
       "<Figure size 600x600 with 2 Axes>"
      ]
     },
     "metadata": {},
     "output_type": "display_data"
    }
   ],
   "source": [
    "acc, bal_acc, eo_score = compute_metrics(y_test, eo=True)\n",
    "print(f\"Accuracy: {acc}\")\n",
    "print(f\"Balanced Accuracy: {bal_acc}\")\n",
    "print(f\"Equality of Opportunity: {eo_score}\")\n",
    "show_conf_matrix(y_test)"
   ]
  }
 ],
 "metadata": {
  "kernelspec": {
   "display_name": "base",
   "language": "python",
   "name": "python3"
  },
  "language_info": {
   "codemirror_mode": {
    "name": "ipython",
    "version": 3
   },
   "file_extension": ".py",
   "mimetype": "text/x-python",
   "name": "python",
   "nbconvert_exporter": "python",
   "pygments_lexer": "ipython3",
   "version": "3.11.7"
  }
 },
 "nbformat": 4,
 "nbformat_minor": 2
}
