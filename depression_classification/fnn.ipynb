{
 "cells": [
  {
   "cell_type": "code",
   "execution_count": 1,
   "metadata": {},
   "outputs": [],
   "source": [
    "# Import libraries\n",
    "import matplotlib.pyplot as plt\n",
    "import numpy as np\n",
    "import pandas as pd\n",
    "from utils import *\n",
    "from sklearn.preprocessing import StandardScaler\n",
    "import tensorflow as tf\n",
    "from tensorflow.keras.models import Sequential\n",
    "from tensorflow.keras.layers import Dense, Dropout\n",
    "from tensorflow.keras.optimizers import Adam, Nadam\n",
    "from keras import regularizers\n",
    "from keras import utils\n"
   ]
  },
  {
   "cell_type": "code",
   "execution_count": 2,
   "metadata": {},
   "outputs": [
    {
     "name": "stdout",
     "output_type": "stream",
     "text": [
      "Train data shape: (13056, 91)\n",
      "Test data shape: (3091, 91)\n"
     ]
    }
   ],
   "source": [
    "PATH_TRAIN = \"../processed_data/cleaned_data/clean_data.csv\"\n",
    "PATH_TEST = \"../processed_data/cleaned_data/clean_test_data.csv\"\n",
    "\n",
    "train_df = pd.read_csv(PATH_TRAIN)\n",
    "test_df = pd.read_csv(PATH_TEST)\n",
    "\n",
    "print(\"Train data shape:\", train_df.shape)\n",
    "print(\"Test data shape:\", test_df.shape)"
   ]
  },
  {
   "cell_type": "code",
   "execution_count": 3,
   "metadata": {},
   "outputs": [],
   "source": [
    "X_train_total = train_df.drop([\"Participant_ID\", \"Depression\"], axis=1)\n",
    "y_train_total = train_df[[\"Participant_ID\", \"Depression\", \"Gender\"]]\n",
    "\n",
    "X_test = test_df.drop([\"Participant_ID\", \"Depression\"], axis=1)\n",
    "y_test = test_df[[\"Participant_ID\", \"Depression\", \"Gender\"]]"
   ]
  },
  {
   "cell_type": "code",
   "execution_count": 4,
   "metadata": {},
   "outputs": [],
   "source": [
    "split_train = train_df[train_df['Participant_ID']<=460]\n",
    "splt_val = train_df[train_df['Participant_ID']>460]\n",
    "\n",
    "X_train = split_train.drop([\"Participant_ID\", \"Depression\"], axis=1)\n",
    "y_train = split_train[[\"Participant_ID\", \"Depression\", \"Gender\"]]\n",
    "\n",
    "X_val = splt_val.drop([\"Participant_ID\", \"Depression\"], axis=1)\n",
    "y_val = splt_val[[\"Participant_ID\", \"Depression\", \"Gender\"]]"
   ]
  },
  {
   "cell_type": "code",
   "execution_count": 5,
   "metadata": {},
   "outputs": [],
   "source": [
    "scaler = StandardScaler()\n",
    "X_scaled = scaler.fit_transform(X_train)\n",
    "X_scaled_val = scaler.transform(X_val)"
   ]
  },
  {
   "cell_type": "code",
   "execution_count": 6,
   "metadata": {},
   "outputs": [
    {
     "name": "stdout",
     "output_type": "stream",
     "text": [
      "Model: \"sequential\"\n",
      "_________________________________________________________________\n",
      " Layer (type)                Output Shape              Param #   \n",
      "=================================================================\n",
      " dense (Dense)               (None, 32)                2880      \n",
      "                                                                 \n",
      " dense_1 (Dense)             (None, 32)                1056      \n",
      "                                                                 \n",
      " dense_2 (Dense)             (None, 16)                528       \n",
      "                                                                 \n",
      " dense_3 (Dense)             (None, 1)                 17        \n",
      "                                                                 \n",
      "=================================================================\n",
      "Total params: 4481 (17.50 KB)\n",
      "Trainable params: 4481 (17.50 KB)\n",
      "Non-trainable params: 0 (0.00 Byte)\n",
      "_________________________________________________________________\n"
     ]
    },
    {
     "name": "stderr",
     "output_type": "stream",
     "text": [
      "WARNING:absl:At this time, the v2.11+ optimizer `tf.keras.optimizers.Adam` runs slowly on M1/M2 Macs, please use the legacy Keras optimizer instead, located at `tf.keras.optimizers.legacy.Adam`.\n"
     ]
    },
    {
     "name": "stdout",
     "output_type": "stream",
     "text": [
      "Model: \"sequential\"\n",
      "_________________________________________________________________\n",
      " Layer (type)                Output Shape              Param #   \n",
      "=================================================================\n",
      " dense (Dense)               (None, 32)                2880      \n",
      "                                                                 \n",
      " dense_1 (Dense)             (None, 32)                1056      \n",
      "                                                                 \n",
      " dense_2 (Dense)             (None, 16)                528       \n",
      "                                                                 \n",
      " dense_3 (Dense)             (None, 1)                 17        \n",
      "                                                                 \n",
      "=================================================================\n",
      "Total params: 4481 (17.50 KB)\n",
      "Trainable params: 4481 (17.50 KB)\n",
      "Non-trainable params: 0 (0.00 Byte)\n",
      "_________________________________________________________________\n"
     ]
    },
    {
     "name": "stderr",
     "output_type": "stream",
     "text": [
      "WARNING:absl:At this time, the v2.11+ optimizer `tf.keras.optimizers.Adam` runs slowly on M1/M2 Macs, please use the legacy Keras optimizer instead, located at `tf.keras.optimizers.legacy.Adam`.\n"
     ]
    },
    {
     "name": "stdout",
     "output_type": "stream",
     "text": [
      "Epoch 1/25\n",
      "352/352 [==============================] - 1s 668us/step - loss: 1.2399 - accuracy: 0.4626 - val_loss: 1.1401 - val_accuracy: 0.2682\n",
      "Epoch 2/25\n",
      "352/352 [==============================] - 0s 466us/step - loss: 1.0611 - accuracy: 0.6204 - val_loss: 1.1956 - val_accuracy: 0.3383\n",
      "Epoch 3/25\n",
      "352/352 [==============================] - 0s 461us/step - loss: 0.9195 - accuracy: 0.7038 - val_loss: 0.8971 - val_accuracy: 0.5419\n",
      "Epoch 4/25\n",
      "352/352 [==============================] - 0s 467us/step - loss: 0.8199 - accuracy: 0.7490 - val_loss: 1.0910 - val_accuracy: 0.4719\n",
      "Epoch 5/25\n",
      "352/352 [==============================] - 0s 461us/step - loss: 0.7493 - accuracy: 0.7768 - val_loss: 1.1241 - val_accuracy: 0.4685\n",
      "Epoch 6/25\n",
      "352/352 [==============================] - 0s 458us/step - loss: 0.6825 - accuracy: 0.8054 - val_loss: 0.8556 - val_accuracy: 0.6093\n",
      "Epoch 7/25\n",
      "352/352 [==============================] - 0s 479us/step - loss: 0.6402 - accuracy: 0.8209 - val_loss: 0.9111 - val_accuracy: 0.6015\n",
      "Epoch 8/25\n",
      "352/352 [==============================] - 0s 462us/step - loss: 0.6021 - accuracy: 0.8345 - val_loss: 1.0596 - val_accuracy: 0.5508\n",
      "Epoch 9/25\n",
      "352/352 [==============================] - 0s 611us/step - loss: 0.5795 - accuracy: 0.8428 - val_loss: 1.0656 - val_accuracy: 0.5767\n",
      "Epoch 10/25\n",
      "352/352 [==============================] - 0s 464us/step - loss: 0.5400 - accuracy: 0.8560 - val_loss: 1.0140 - val_accuracy: 0.5822\n",
      "Epoch 11/25\n",
      "352/352 [==============================] - 0s 462us/step - loss: 0.5200 - accuracy: 0.8635 - val_loss: 0.8528 - val_accuracy: 0.6689\n",
      "Epoch 12/25\n",
      "352/352 [==============================] - 0s 460us/step - loss: 0.4906 - accuracy: 0.8735 - val_loss: 0.9216 - val_accuracy: 0.6424\n",
      "Epoch 13/25\n",
      "352/352 [==============================] - 0s 463us/step - loss: 0.4836 - accuracy: 0.8789 - val_loss: 1.0307 - val_accuracy: 0.6280\n",
      "Epoch 14/25\n",
      "352/352 [==============================] - 0s 464us/step - loss: 0.4567 - accuracy: 0.8819 - val_loss: 0.8441 - val_accuracy: 0.6838\n",
      "Epoch 15/25\n",
      "352/352 [==============================] - 0s 462us/step - loss: 0.4446 - accuracy: 0.8894 - val_loss: 0.9263 - val_accuracy: 0.6617\n",
      "Epoch 16/25\n",
      "352/352 [==============================] - 0s 611us/step - loss: 0.4279 - accuracy: 0.8926 - val_loss: 0.8782 - val_accuracy: 0.6810\n",
      "Epoch 17/25\n",
      "352/352 [==============================] - 0s 508us/step - loss: 0.4278 - accuracy: 0.8973 - val_loss: 1.0349 - val_accuracy: 0.6396\n",
      "Epoch 18/25\n",
      "352/352 [==============================] - 0s 464us/step - loss: 0.4172 - accuracy: 0.9012 - val_loss: 0.8411 - val_accuracy: 0.6998\n",
      "Epoch 19/25\n",
      "352/352 [==============================] - 0s 475us/step - loss: 0.3994 - accuracy: 0.9087 - val_loss: 0.9427 - val_accuracy: 0.6694\n",
      "Epoch 20/25\n",
      "352/352 [==============================] - 0s 464us/step - loss: 0.3865 - accuracy: 0.9096 - val_loss: 0.9304 - val_accuracy: 0.6821\n",
      "Epoch 21/25\n",
      "352/352 [==============================] - 0s 463us/step - loss: 0.3824 - accuracy: 0.9094 - val_loss: 0.9662 - val_accuracy: 0.6843\n",
      "Epoch 22/25\n",
      "352/352 [==============================] - 0s 469us/step - loss: 0.3781 - accuracy: 0.9128 - val_loss: 0.8617 - val_accuracy: 0.7042\n",
      "Epoch 23/25\n",
      "352/352 [==============================] - 0s 663us/step - loss: 0.3650 - accuracy: 0.9180 - val_loss: 1.0499 - val_accuracy: 0.6788\n",
      "Epoch 24/25\n",
      "352/352 [==============================] - 0s 472us/step - loss: 0.3568 - accuracy: 0.9173 - val_loss: 0.6607 - val_accuracy: 0.7770\n",
      "Epoch 25/25\n",
      "352/352 [==============================] - 0s 504us/step - loss: 0.3519 - accuracy: 0.9217 - val_loss: 0.9347 - val_accuracy: 0.7219\n"
     ]
    }
   ],
   "source": [
    "utils.set_random_seed(3)\n",
    "model3 = Sequential()\n",
    "model3.add(Dense(32, activation='relu', input_shape=(X_train.shape[1],),kernel_regularizer=regularizers.L2(0.001)))\n",
    "model3.add(Dense(32, activation='relu',kernel_regularizer=regularizers.L2(0.0005)))\n",
    "# model3.add(Dense(16, activation='relu',kernel_regularizer=regularizers.L2(0.01)))\n",
    "model3.add(Dense(16, activation='relu',kernel_regularizer=regularizers.L2(0.0001)))\n",
    "model3.add(Dense(1, activation=\"sigmoid\"))\n",
    "model3.summary()\n",
    "model3.compile(loss=\"binary_crossentropy\", optimizer = Adam(learning_rate=0.001),metrics=[\"accuracy\"])\n",
    "model3.summary()\n",
    "model3.compile(loss=\"binary_crossentropy\", optimizer = Adam(learning_rate=0.001),metrics=[\"accuracy\"])\n",
    "trained_model = model3.fit(X_scaled, np.array(y_train[\"Depression\"]), \n",
    "                           epochs=25,batch_size=32, \n",
    "                           validation_data=(X_scaled_val, np.array(y_val[\"Depression\"])),\n",
    "                           class_weight = {0: 1, 1: 4})\n"
   ]
  },
  {
   "cell_type": "code",
   "execution_count": 7,
   "metadata": {},
   "outputs": [
    {
     "data": {
      "image/png": "[encoded data removed]",
      "text/plain": [
       "<Figure size 600x400 with 1 Axes>"
      ]
     },
     "metadata": {},
     "output_type": "display_data"
    }
   ],
   "source": [
    "fig, ax = plt.subplots(figsize=(6, 4))\n",
    "plt.plot(trained_model.history[\"accuracy\"], label=\"accuracy\")\n",
    "plt.plot(trained_model.history[\"val_accuracy\"], label=\"val_accuracy\")\n",
    "plt.xlabel(\"Epochs\")\n",
    "plt.ylabel(\"Accuracy\")\n",
    "plt.legend()\n",
    "plt.show()"
   ]
  },
  {
   "cell_type": "markdown",
   "metadata": {},
   "source": [
    "# Train on entire dataset and test it on test data"
   ]
  },
  {
   "cell_type": "code",
   "execution_count": 8,
   "metadata": {},
   "outputs": [],
   "source": [
    "scaler = StandardScaler()\n",
    "X_scaled_total = scaler.fit_transform(X_train_total)\n",
    "X_scaled_test = scaler.transform(X_test)"
   ]
  },
  {
   "cell_type": "code",
   "execution_count": 9,
   "metadata": {},
   "outputs": [
    {
     "name": "stdout",
     "output_type": "stream",
     "text": [
      "Model: \"sequential_1\"\n",
      "_________________________________________________________________\n",
      " Layer (type)                Output Shape              Param #   \n",
      "=================================================================\n",
      " dense_4 (Dense)             (None, 32)                2880      \n",
      "                                                                 \n",
      " dense_5 (Dense)             (None, 16)                528       \n",
      "                                                                 \n",
      " dense_6 (Dense)             (None, 8)                 136       \n",
      "                                                                 \n",
      " dense_7 (Dense)             (None, 1)                 9         \n",
      "                                                                 \n",
      "=================================================================\n",
      "Total params: 3553 (13.88 KB)\n",
      "Trainable params: 3553 (13.88 KB)\n",
      "Non-trainable params: 0 (0.00 Byte)\n",
      "_________________________________________________________________\n"
     ]
    },
    {
     "name": "stderr",
     "output_type": "stream",
     "text": [
      "WARNING:absl:At this time, the v2.11+ optimizer `tf.keras.optimizers.Nadam` runs slowly on M1/M2 Macs, please use the legacy Keras optimizer instead, located at `tf.keras.optimizers.legacy.Nadam`.\n"
     ]
    }
   ],
   "source": [
    "utils.set_random_seed(3)\n",
    "model3 = Sequential()\n",
    "model3.add(Dense(32, activation='relu', input_shape=(X_scaled.shape[1],),kernel_regularizer=regularizers.L2(0.0001)))\n",
    "# model3.add(Dense(32, activation='relu',kernel_regularizer=regularizers.L2(0.0001)))\n",
    "model3.add(Dense(16, activation='relu',kernel_regularizer=regularizers.L2(0.0001)))\n",
    "model3.add(Dense(8, activation='relu',kernel_regularizer=regularizers.L2(0.0001)))\n",
    "# model3.add(Dense(8, activation='relu',kernel_regularizer=regularizers.L2(0.0001)))\n",
    "model3.add(Dense(1, activation=\"sigmoid\"))\n",
    "model3.summary()\n",
    "model3.compile(loss=\"binary_crossentropy\", optimizer = Nadam(learning_rate=0.001),metrics=[\"accuracy\"])\n"
   ]
  },
  {
   "cell_type": "code",
   "execution_count": 10,
   "metadata": {},
   "outputs": [
    {
     "name": "stdout",
     "output_type": "stream",
     "text": [
      "Epoch 1/20\n",
      "816/816 [==============================] - 1s 430us/step - loss: 1.3161 - accuracy: 0.4439\n",
      "Epoch 2/20\n",
      "816/816 [==============================] - 0s 471us/step - loss: 1.1531 - accuracy: 0.5486\n",
      "Epoch 3/20\n",
      "816/816 [==============================] - 0s 428us/step - loss: 1.0028 - accuracy: 0.6713\n",
      "Epoch 4/20\n",
      "816/816 [==============================] - 0s 406us/step - loss: 0.8698 - accuracy: 0.7318\n",
      "Epoch 5/20\n",
      "816/816 [==============================] - 0s 406us/step - loss: 0.7878 - accuracy: 0.7607\n",
      "Epoch 6/20\n",
      "816/816 [==============================] - 0s 471us/step - loss: 0.7158 - accuracy: 0.7845\n",
      "Epoch 7/20\n",
      "816/816 [==============================] - 0s 411us/step - loss: 0.6676 - accuracy: 0.8045\n",
      "Epoch 8/20\n",
      "816/816 [==============================] - 0s 404us/step - loss: 0.6193 - accuracy: 0.8159\n",
      "Epoch 9/20\n",
      "816/816 [==============================] - 0s 403us/step - loss: 0.5921 - accuracy: 0.8274\n",
      "Epoch 10/20\n",
      "816/816 [==============================] - 0s 480us/step - loss: 0.5571 - accuracy: 0.8403\n",
      "Epoch 11/20\n",
      "816/816 [==============================] - 0s 401us/step - loss: 0.5369 - accuracy: 0.8458\n",
      "Epoch 12/20\n",
      "816/816 [==============================] - 0s 435us/step - loss: 0.5134 - accuracy: 0.8524\n",
      "Epoch 13/20\n",
      "816/816 [==============================] - 0s 453us/step - loss: 0.5040 - accuracy: 0.8570\n",
      "Epoch 14/20\n",
      "816/816 [==============================] - 0s 404us/step - loss: 0.4821 - accuracy: 0.8614\n",
      "Epoch 15/20\n",
      "816/816 [==============================] - 0s 404us/step - loss: 0.4633 - accuracy: 0.8709\n",
      "Epoch 16/20\n",
      "816/816 [==============================] - 0s 408us/step - loss: 0.4457 - accuracy: 0.8716\n",
      "Epoch 17/20\n",
      "816/816 [==============================] - 0s 470us/step - loss: 0.4314 - accuracy: 0.8782\n",
      "Epoch 18/20\n",
      "816/816 [==============================] - 0s 413us/step - loss: 0.4140 - accuracy: 0.8808\n",
      "Epoch 19/20\n",
      "816/816 [==============================] - 0s 410us/step - loss: 0.4028 - accuracy: 0.8880\n",
      "Epoch 20/20\n",
      "816/816 [==============================] - 0s 435us/step - loss: 0.3953 - accuracy: 0.8893\n"
     ]
    }
   ],
   "source": [
    "trained_model = model3.fit(X_scaled_total, np.array(y_train_total[\"Depression\"]), \n",
    "                           epochs=20,batch_size=16, \n",
    "                           class_weight = {0: 1, 1: 4})"
   ]
  },
  {
   "cell_type": "code",
   "execution_count": 11,
   "metadata": {},
   "outputs": [
    {
     "name": "stdout",
     "output_type": "stream",
     "text": [
      "97/97 [==============================] - 0s 387us/step\n"
     ]
    },
    {
     "name": "stderr",
     "output_type": "stream",
     "text": [
      "/var/folders/6m/wg76ryq57fnb356nt5xwlbl80000gn/T/ipykernel_50517/1096817474.py:2: SettingWithCopyWarning: \n",
      "A value is trying to be set on a copy of a slice from a DataFrame.\n",
      "Try using .loc[row_indexer,col_indexer] = value instead\n",
      "\n",
      "See the caveats in the documentation: https://pandas.pydata.org/pandas-docs/stable/user_guide/indexing.html#returning-a-view-versus-a-copy\n",
      "  y_test[\"Depression_predicted\"] = np.where(y_pred>=0.5,1,0)\n"
     ]
    }
   ],
   "source": [
    "y_pred = model3.predict(X_scaled_test)\n",
    "y_test[\"Depression_predicted\"] = np.where(y_pred>=0.5,1,0)"
   ]
  },
  {
   "cell_type": "code",
   "execution_count": 12,
   "metadata": {},
   "outputs": [
    {
     "data": {
      "text/html": [
       "<div>\n",
       "<style scoped>\n",
       "    .dataframe tbody tr th:only-of-type {\n",
       "        vertical-align: middle;\n",
       "    }\n",
       "\n",
       "    .dataframe tbody tr th {\n",
       "        vertical-align: top;\n",
       "    }\n",
       "\n",
       "    .dataframe thead th {\n",
       "        text-align: right;\n",
       "    }\n",
       "</style>\n",
       "<table border=\"1\" class=\"dataframe\">\n",
       "  <thead>\n",
       "    <tr style=\"text-align: right;\">\n",
       "      <th></th>\n",
       "      <th>Participant_ID</th>\n",
       "      <th>Depression</th>\n",
       "      <th>Gender</th>\n",
       "      <th>Depression_predicted</th>\n",
       "    </tr>\n",
       "  </thead>\n",
       "  <tbody>\n",
       "    <tr>\n",
       "      <th>0</th>\n",
       "      <td>474</td>\n",
       "      <td>0</td>\n",
       "      <td>1</td>\n",
       "      <td>0</td>\n",
       "    </tr>\n",
       "    <tr>\n",
       "      <th>1</th>\n",
       "      <td>474</td>\n",
       "      <td>0</td>\n",
       "      <td>1</td>\n",
       "      <td>0</td>\n",
       "    </tr>\n",
       "    <tr>\n",
       "      <th>2</th>\n",
       "      <td>474</td>\n",
       "      <td>0</td>\n",
       "      <td>1</td>\n",
       "      <td>0</td>\n",
       "    </tr>\n",
       "    <tr>\n",
       "      <th>3</th>\n",
       "      <td>474</td>\n",
       "      <td>0</td>\n",
       "      <td>1</td>\n",
       "      <td>0</td>\n",
       "    </tr>\n",
       "    <tr>\n",
       "      <th>4</th>\n",
       "      <td>474</td>\n",
       "      <td>0</td>\n",
       "      <td>1</td>\n",
       "      <td>0</td>\n",
       "    </tr>\n",
       "    <tr>\n",
       "      <th>...</th>\n",
       "      <td>...</td>\n",
       "      <td>...</td>\n",
       "      <td>...</td>\n",
       "      <td>...</td>\n",
       "    </tr>\n",
       "    <tr>\n",
       "      <th>3086</th>\n",
       "      <td>479</td>\n",
       "      <td>0</td>\n",
       "      <td>1</td>\n",
       "      <td>0</td>\n",
       "    </tr>\n",
       "    <tr>\n",
       "      <th>3087</th>\n",
       "      <td>479</td>\n",
       "      <td>0</td>\n",
       "      <td>1</td>\n",
       "      <td>0</td>\n",
       "    </tr>\n",
       "    <tr>\n",
       "      <th>3088</th>\n",
       "      <td>479</td>\n",
       "      <td>0</td>\n",
       "      <td>1</td>\n",
       "      <td>0</td>\n",
       "    </tr>\n",
       "    <tr>\n",
       "      <th>3089</th>\n",
       "      <td>479</td>\n",
       "      <td>0</td>\n",
       "      <td>1</td>\n",
       "      <td>0</td>\n",
       "    </tr>\n",
       "    <tr>\n",
       "      <th>3090</th>\n",
       "      <td>479</td>\n",
       "      <td>0</td>\n",
       "      <td>1</td>\n",
       "      <td>0</td>\n",
       "    </tr>\n",
       "  </tbody>\n",
       "</table>\n",
       "<p>3091 rows × 4 columns</p>\n",
       "</div>"
      ],
      "text/plain": [
       "      Participant_ID  Depression  Gender  Depression_predicted\n",
       "0                474           0       1                     0\n",
       "1                474           0       1                     0\n",
       "2                474           0       1                     0\n",
       "3                474           0       1                     0\n",
       "4                474           0       1                     0\n",
       "...              ...         ...     ...                   ...\n",
       "3086             479           0       1                     0\n",
       "3087             479           0       1                     0\n",
       "3088             479           0       1                     0\n",
       "3089             479           0       1                     0\n",
       "3090             479           0       1                     0\n",
       "\n",
       "[3091 rows x 4 columns]"
      ]
     },
     "execution_count": 12,
     "metadata": {},
     "output_type": "execute_result"
    }
   ],
   "source": [
    "y_test"
   ]
  },
  {
   "cell_type": "code",
   "execution_count": 13,
   "metadata": {},
   "outputs": [
    {
     "name": "stdout",
     "output_type": "stream",
     "text": [
      "Accuracy: 0.8\n",
      "Balanced Accuracy: 0.8095238095238095\n",
      "Equality of Opportunity: 0.8\n"
     ]
    },
    {
     "data": {
      "image/png": "[encoded data removed]",
      "text/plain": [
       "<Figure size 600x600 with 2 Axes>"
      ]
     },
     "metadata": {},
     "output_type": "display_data"
    }
   ],
   "source": [
    "acc, bal_acc, eo_score = compute_metrics(y_test, eo=True)\n",
    "print(f\"Accuracy: {acc}\")\n",
    "print(f\"Balanced Accuracy: {bal_acc}\")\n",
    "print(f\"Equality of Opportunity: {eo_score}\")\n",
    "show_conf_matrix(y_test)"
   ]
  }
 ],
 "metadata": {
  "kernelspec": {
   "display_name": "base",
   "language": "python",
   "name": "python3"
  },
  "language_info": {
   "codemirror_mode": {
    "name": "ipython",
    "version": 3
   },
   "file_extension": ".py",
   "mimetype": "text/x-python",
   "name": "python",
   "nbconvert_exporter": "python",
   "pygments_lexer": "ipython3",
   "version": "3.11.7"
  }
 },
 "nbformat": 4,
 "nbformat_minor": 2
}
