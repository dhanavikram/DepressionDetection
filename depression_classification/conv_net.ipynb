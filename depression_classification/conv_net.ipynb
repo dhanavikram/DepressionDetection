{
 "cells": [
  {
   "cell_type": "code",
   "execution_count": 1,
   "metadata": {},
   "outputs": [],
   "source": [
    "from utils import *\n",
    "import tensorflow as tf\n",
    "from keras.optimizers import Adam\n",
    "from keras import utils"
   ]
  },
  {
   "cell_type": "code",
   "execution_count": 2,
   "metadata": {},
   "outputs": [
    {
     "name": "stdout",
     "output_type": "stream",
     "text": [
      "Removing null values present in spk_402.csv\n"
     ]
    }
   ],
   "source": [
    "df_dict , max_rows, num_features = read_conv(train=True)\n",
    "features, depression_labels, gender_labels = prep_conv_data(df_dict, max_rows, num_features)"
   ]
  },
  {
   "cell_type": "code",
   "execution_count": 3,
   "metadata": {},
   "outputs": [
    {
     "name": "stderr",
     "output_type": "stream",
     "text": [
      "WARNING:absl:At this time, the v2.11+ optimizer `tf.keras.optimizers.Adam` runs slowly on M1/M2 Macs, please use the legacy Keras optimizer instead, located at `tf.keras.optimizers.legacy.Adam`.\n"
     ]
    },
    {
     "name": "stdout",
     "output_type": "stream",
     "text": [
      "Model: \"sequential\"\n",
      "_________________________________________________________________\n",
      " Layer (type)                Output Shape              Param #   \n",
      "=================================================================\n",
      " conv2d (Conv2D)             (None, 378, 88, 32)       160       \n",
      "                                                                 \n",
      " max_pooling2d (MaxPooling2  (None, 189, 44, 32)       0         \n",
      " D)                                                              \n",
      "                                                                 \n",
      " dropout (Dropout)           (None, 189, 44, 32)       0         \n",
      "                                                                 \n",
      " conv2d_1 (Conv2D)           (None, 189, 44, 32)       4128      \n",
      "                                                                 \n",
      " max_pooling2d_1 (MaxPoolin  (None, 94, 22, 32)        0         \n",
      " g2D)                                                            \n",
      "                                                                 \n",
      " dropout_1 (Dropout)         (None, 94, 22, 32)        0         \n",
      "                                                                 \n",
      " flatten (Flatten)           (None, 66176)             0         \n",
      "                                                                 \n",
      " dense (Dense)               (None, 64)                4235328   \n",
      "                                                                 \n",
      " dropout_2 (Dropout)         (None, 64)                0         \n",
      "                                                                 \n",
      " dense_1 (Dense)             (None, 1)                 65        \n",
      "                                                                 \n",
      "=================================================================\n",
      "Total params: 4239681 (16.17 MB)\n",
      "Trainable params: 4239681 (16.17 MB)\n",
      "Non-trainable params: 0 (0.00 Byte)\n",
      "_________________________________________________________________\n",
      "None\n"
     ]
    }
   ],
   "source": [
    "# define and train CNN Model\n",
    "utils.set_random_seed(3)\n",
    "model = tf.keras.Sequential([\n",
    "    tf.keras.layers.Conv2D(32, (2, 2), padding = \"same\",use_bias = True,strides = (1,1), activation='relu',\n",
    "                           input_shape=(378, 88, 1)),\n",
    "    \n",
    "    tf.keras.layers.MaxPooling2D((2, 2)),\n",
    "    tf.keras.layers.Dropout(0.1),\n",
    "    tf.keras.layers.Conv2D(32, (2, 2),  padding = \"same\",use_bias = True,strides = (1,1),activation='relu'),\n",
    "  \n",
    "    tf.keras.layers.MaxPooling2D((2, 2)),\n",
    "    tf.keras.layers.Dropout(0.1),\n",
    "    \n",
    "    # tf.keras.layers.Conv2D(4, (2, 2), activation='relu', padding = \"same\",strides = (1,1),\n",
    "    #                        kernel_regularizer=tf.keras.regularizers.L2(l2=0.001)),\n",
    "    # tf.keras.layers.MaxPooling2D((2, 2)),\n",
    "    tf.keras.layers.Flatten(),\n",
    "    tf.keras.layers.Dense(64, activation='relu'),\n",
    "    tf.keras.layers.Dropout(0.3),\n",
    "    tf.keras.layers.Dense(1, activation='sigmoid')\n",
    "])\n",
    "\n",
    "model.compile(optimizer=Adam(learning_rate=0.001), loss='binary_crossentropy', metrics=['accuracy'])\n",
    "print(model.summary())"
   ]
  },
  {
   "cell_type": "code",
   "execution_count": 4,
   "metadata": {},
   "outputs": [],
   "source": [
    "unique_classes, class_counts = np.unique(depression_labels, return_counts=True)\n",
    "total_samples = depression_labels.shape[0]\n",
    "class_weights = {}\n",
    "\n",
    "for class_label, class_count in zip(unique_classes, class_counts):\n",
    "    class_weight = total_samples / (2.0 * class_count)\n",
    "    class_weights[class_label] = class_weight"
   ]
  },
  {
   "cell_type": "code",
   "execution_count": 5,
   "metadata": {},
   "outputs": [
    {
     "name": "stdout",
     "output_type": "stream",
     "text": [
      "Epoch 1/25\n",
      "5/5 [==============================] - 1s 90ms/step - loss: 556.9097 - accuracy: 0.5342 - val_loss: 159.1593 - val_accuracy: 0.8571\n",
      "Epoch 2/25\n",
      "5/5 [==============================] - 0s 64ms/step - loss: 1280.5239 - accuracy: 0.5616 - val_loss: 993.4124 - val_accuracy: 0.1429\n",
      "Epoch 3/25\n",
      "5/5 [==============================] - 0s 75ms/step - loss: 851.8094 - accuracy: 0.2740 - val_loss: 409.6805 - val_accuracy: 0.1429\n",
      "Epoch 4/25\n",
      "5/5 [==============================] - 0s 82ms/step - loss: 308.0540 - accuracy: 0.4247 - val_loss: 21.7263 - val_accuracy: 0.5714\n",
      "Epoch 5/25\n",
      "5/5 [==============================] - 0s 63ms/step - loss: 77.5562 - accuracy: 0.7808 - val_loss: 17.5429 - val_accuracy: 0.8571\n",
      "Epoch 6/25\n",
      "5/5 [==============================] - 0s 67ms/step - loss: 65.1765 - accuracy: 0.7671 - val_loss: 10.4175 - val_accuracy: 0.7857\n",
      "Epoch 7/25\n",
      "5/5 [==============================] - 0s 64ms/step - loss: 21.6680 - accuracy: 0.8356 - val_loss: 8.2748 - val_accuracy: 0.5000\n",
      "Epoch 8/25\n",
      "5/5 [==============================] - 0s 61ms/step - loss: 13.1119 - accuracy: 0.7808 - val_loss: 7.6080 - val_accuracy: 0.7143\n",
      "Epoch 9/25\n",
      "5/5 [==============================] - 0s 61ms/step - loss: 3.9741 - accuracy: 0.8356 - val_loss: 5.9509 - val_accuracy: 0.7857\n",
      "Epoch 10/25\n",
      "5/5 [==============================] - 0s 75ms/step - loss: 1.8488 - accuracy: 0.8904 - val_loss: 4.4934 - val_accuracy: 0.7143\n",
      "Epoch 11/25\n",
      "5/5 [==============================] - 0s 61ms/step - loss: 0.1153 - accuracy: 0.9589 - val_loss: 3.6196 - val_accuracy: 0.7143\n",
      "Epoch 12/25\n",
      "5/5 [==============================] - 0s 62ms/step - loss: 0.0087 - accuracy: 1.0000 - val_loss: 3.2222 - val_accuracy: 0.6429\n",
      "Epoch 13/25\n",
      "5/5 [==============================] - 0s 61ms/step - loss: 1.3233e-05 - accuracy: 1.0000 - val_loss: 3.0408 - val_accuracy: 0.6429\n",
      "Epoch 14/25\n",
      "5/5 [==============================] - 0s 60ms/step - loss: 0.0130 - accuracy: 1.0000 - val_loss: 2.9522 - val_accuracy: 0.6429\n",
      "Epoch 15/25\n",
      "5/5 [==============================] - 0s 61ms/step - loss: 0.2782 - accuracy: 0.9863 - val_loss: 2.9833 - val_accuracy: 0.6429\n",
      "Epoch 16/25\n",
      "5/5 [==============================] - 0s 61ms/step - loss: 1.4673e-04 - accuracy: 1.0000 - val_loss: 3.0023 - val_accuracy: 0.6429\n",
      "Epoch 17/25\n",
      "5/5 [==============================] - 0s 61ms/step - loss: 2.5517e-05 - accuracy: 1.0000 - val_loss: 3.0118 - val_accuracy: 0.6429\n",
      "Epoch 18/25\n",
      "5/5 [==============================] - 0s 61ms/step - loss: 1.1517e-05 - accuracy: 1.0000 - val_loss: 3.0176 - val_accuracy: 0.6429\n",
      "Epoch 19/25\n",
      "5/5 [==============================] - 0s 64ms/step - loss: 3.0048e-04 - accuracy: 1.0000 - val_loss: 3.0220 - val_accuracy: 0.6429\n",
      "Epoch 20/25\n",
      "5/5 [==============================] - 0s 61ms/step - loss: 2.2049e-06 - accuracy: 1.0000 - val_loss: 3.0246 - val_accuracy: 0.6429\n",
      "Epoch 21/25\n",
      "5/5 [==============================] - 0s 61ms/step - loss: 1.4850e-08 - accuracy: 1.0000 - val_loss: 3.0263 - val_accuracy: 0.6429\n",
      "Epoch 22/25\n",
      "5/5 [==============================] - 0s 72ms/step - loss: 2.4557e-05 - accuracy: 1.0000 - val_loss: 3.0272 - val_accuracy: 0.6429\n",
      "Epoch 23/25\n",
      "5/5 [==============================] - 0s 83ms/step - loss: 0.8800 - accuracy: 0.9863 - val_loss: 3.0410 - val_accuracy: 0.6429\n",
      "Epoch 24/25\n",
      "5/5 [==============================] - 0s 63ms/step - loss: 1.5760e-04 - accuracy: 1.0000 - val_loss: 3.1027 - val_accuracy: 0.6429\n",
      "Epoch 25/25\n",
      "5/5 [==============================] - 0s 66ms/step - loss: 2.6286e-05 - accuracy: 1.0000 - val_loss: 3.1620 - val_accuracy: 0.6429\n"
     ]
    }
   ],
   "source": [
    "#callback = tf.keras.callbacks.EarlyStopping(monitor='loss',\n",
    "#                                              patience=3)\n",
    "history = model.fit(features, depression_labels, epochs=25, batch_size=16, \n",
    "                    #callbacks=[callback],\n",
    "                    validation_split=0.15,\n",
    "                    class_weight={0:1, 1:4})"
   ]
  },
  {
   "cell_type": "code",
   "execution_count": 6,
   "metadata": {},
   "outputs": [
    {
     "data": {
      "image/png": "[encoded data removed]",
      "text/plain": [
       "<Figure size 600x400 with 1 Axes>"
      ]
     },
     "metadata": {},
     "output_type": "display_data"
    }
   ],
   "source": [
    "fig, ax = plt.subplots(figsize=(6, 4))\n",
    "plt.plot(history.history[\"accuracy\"], label=\"accuracy\")\n",
    "plt.plot(history.history[\"val_accuracy\"], label=\"val_accuracy\")\n",
    "plt.title(\"Learning Rate = 0.001\")\n",
    "plt.xlabel(\"Epochs\")\n",
    "plt.ylabel(\"Accuracy\")\n",
    "plt.legend()\n",
    "plt.show()"
   ]
  },
  {
   "cell_type": "code",
   "execution_count": 7,
   "metadata": {},
   "outputs": [],
   "source": [
    "test_df_dict , _, _ = read_conv(train=False)\n",
    "test_features, test_depression_labels, test_gender_labels = prep_conv_data(test_df_dict, max_rows, num_features)"
   ]
  },
  {
   "cell_type": "code",
   "execution_count": 8,
   "metadata": {},
   "outputs": [
    {
     "name": "stdout",
     "output_type": "stream",
     "text": [
      "1/1 [==============================] - 0s 57ms/step - loss: 6.2894 - accuracy: 0.7000\n",
      "Test loss:  6.289369106292725\n",
      "Test accuracy:  0.699999988079071\n"
     ]
    }
   ],
   "source": [
    "test_loss, test_acc = model.evaluate(test_features,  test_depression_labels)\n",
    "print(\"Test loss: \", test_loss)\n",
    "print(\"Test accuracy: \", test_acc)"
   ]
  },
  {
   "cell_type": "markdown",
   "metadata": {},
   "source": [
    "# Test Data Performance"
   ]
  },
  {
   "cell_type": "code",
   "execution_count": 9,
   "metadata": {},
   "outputs": [
    {
     "data": {
      "text/html": [
       "<div>\n",
       "<style scoped>\n",
       "    .dataframe tbody tr th:only-of-type {\n",
       "        vertical-align: middle;\n",
       "    }\n",
       "\n",
       "    .dataframe tbody tr th {\n",
       "        vertical-align: top;\n",
       "    }\n",
       "\n",
       "    .dataframe thead th {\n",
       "        text-align: right;\n",
       "    }\n",
       "</style>\n",
       "<table border=\"1\" class=\"dataframe\">\n",
       "  <thead>\n",
       "    <tr style=\"text-align: right;\">\n",
       "      <th></th>\n",
       "      <th>Participant_ID</th>\n",
       "      <th>Depression</th>\n",
       "      <th>Gender</th>\n",
       "    </tr>\n",
       "  </thead>\n",
       "  <tbody>\n",
       "    <tr>\n",
       "      <th>0</th>\n",
       "      <td>305</td>\n",
       "      <td>0</td>\n",
       "      <td>1</td>\n",
       "    </tr>\n",
       "    <tr>\n",
       "      <th>1</th>\n",
       "      <td>312</td>\n",
       "      <td>0</td>\n",
       "      <td>1</td>\n",
       "    </tr>\n",
       "    <tr>\n",
       "      <th>2</th>\n",
       "      <td>315</td>\n",
       "      <td>0</td>\n",
       "      <td>1</td>\n",
       "    </tr>\n",
       "    <tr>\n",
       "      <th>3</th>\n",
       "      <td>320</td>\n",
       "      <td>1</td>\n",
       "      <td>0</td>\n",
       "    </tr>\n",
       "    <tr>\n",
       "      <th>4</th>\n",
       "      <td>321</td>\n",
       "      <td>1</td>\n",
       "      <td>0</td>\n",
       "    </tr>\n",
       "  </tbody>\n",
       "</table>\n",
       "</div>"
      ],
      "text/plain": [
       "   Participant_ID  Depression  Gender\n",
       "0             305           0       1\n",
       "1             312           0       1\n",
       "2             315           0       1\n",
       "3             320           1       0\n",
       "4             321           1       0"
      ]
     },
     "execution_count": 9,
     "metadata": {},
     "output_type": "execute_result"
    }
   ],
   "source": [
    "PATH_TEST = \"../processed_data/cleaned_data/clean_test_data.csv\"\n",
    "test_df = pd.read_csv(PATH_TEST)\n",
    "y_test = test_df[[\"Participant_ID\", \"Depression\", \"Gender\"]]\n",
    "y_test = y_test.groupby(\"Participant_ID\").agg({\"Depression\":\"max\", \"Gender\":\"max\"}).reset_index()\n",
    "y_test.head()"
   ]
  },
  {
   "cell_type": "code",
   "execution_count": 10,
   "metadata": {},
   "outputs": [
    {
     "name": "stdout",
     "output_type": "stream",
     "text": [
      "1/1 [==============================] - 0s 58ms/step\n"
     ]
    }
   ],
   "source": [
    "y_test[\"Depression_predicted\"] = model.predict(test_features)"
   ]
  },
  {
   "cell_type": "code",
   "execution_count": 11,
   "metadata": {},
   "outputs": [],
   "source": [
    "y_test['Depression_predicted'] = np.where(y_test['Depression_predicted']>=0.5, 1, 0)"
   ]
  },
  {
   "cell_type": "code",
   "execution_count": 12,
   "metadata": {},
   "outputs": [
    {
     "name": "stdout",
     "output_type": "stream",
     "text": [
      "Recall Male: 0.0\n",
      "Recall Female: 0.2\n",
      "Accuracy: 0.6\n",
      "Balanced Accuracy: 0.47619047619047616\n",
      "Equality of Opportunity: 0.8\n"
     ]
    },
    {
     "data": {
      "image/png": "[encoded data removed]",
      "text/plain": [
       "<Figure size 600x600 with 2 Axes>"
      ]
     },
     "metadata": {},
     "output_type": "display_data"
    }
   ],
   "source": [
    "# Aggregate target and predicted labels at participant level for male participants\n",
    "y_male = y_test[y_test['Gender'] == 1]\n",
    "# Aggregate target and predicted labels at participant level for female participants\n",
    "y_female = y_test[y_test['Gender'] == 0]\n",
    "# Compute recall/tpr for male and female classification\n",
    "tpr_male = recall_score(y_male['Depression'], y_male['Depression_predicted'])\n",
    "tpr_female = recall_score(y_female['Depression'], y_female['Depression_predicted'])\n",
    "\n",
    "# Compute metrics\n",
    "accuracy = accuracy_score(y_test['Depression'], y_test['Depression_predicted'])\n",
    "bal_accuracy = balanced_accuracy_score(y_test['Depression'], y_test['Depression_predicted'])\n",
    "\n",
    "# Compute Equality of opportunity score\n",
    "print(\"Recall Male:\", tpr_male)\n",
    "print(\"Recall Female:\", tpr_female)\n",
    "print(f\"Accuracy: {accuracy}\")\n",
    "print(f\"Balanced Accuracy: {bal_accuracy}\")\n",
    "print(f\"Equality of Opportunity: {1-abs(tpr_male-tpr_female)}\")\n",
    "conf_matrix = confusion_matrix(y_test['Depression'], y_test['Depression_predicted'])\n",
    "#Visualizing the confusion matrix\n",
    "plt.rcParams['figure.figsize'] = (6, 6)\n",
    "display_c_m = ConfusionMatrixDisplay(conf_matrix)\n",
    "display_c_m.plot(cmap='Greens', xticks_rotation=50)\n",
    "plt.title('Confusion Matrix')\n",
    "plt.show()"
   ]
  }
 ],
 "metadata": {
  "kernelspec": {
   "display_name": "base",
   "language": "python",
   "name": "python3"
  },
  "language_info": {
   "codemirror_mode": {
    "name": "ipython",
    "version": 3
   },
   "file_extension": ".py",
   "mimetype": "text/x-python",
   "name": "python",
   "nbconvert_exporter": "python",
   "pygments_lexer": "ipython3",
   "version": "3.11.7"
  }
 },
 "nbformat": 4,
 "nbformat_minor": 2
}
