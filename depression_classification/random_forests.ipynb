{
 "cells": [
  {
   "cell_type": "code",
   "execution_count": 1,
   "metadata": {},
   "outputs": [],
   "source": [
    "import pandas as pd\n",
    "from sklearn.ensemble import RandomForestClassifier\n",
    "from utils import *"
   ]
  },
  {
   "cell_type": "code",
   "execution_count": 2,
   "metadata": {},
   "outputs": [
    {
     "name": "stdout",
     "output_type": "stream",
     "text": [
      "Train data shape: (13056, 91)\n",
      "Test data shape: (3091, 91)\n"
     ]
    }
   ],
   "source": [
    "PATH_TRAIN = \"../processed_data/cleaned_data/clean_data.csv\"\n",
    "PATH_TEST = \"../processed_data/cleaned_data/clean_test_data.csv\"\n",
    "\n",
    "train_df = pd.read_csv(PATH_TRAIN)\n",
    "test_df = pd.read_csv(PATH_TEST)\n",
    "\n",
    "print(\"Train data shape:\", train_df.shape)\n",
    "print(\"Test data shape:\", test_df.shape)"
   ]
  },
  {
   "cell_type": "code",
   "execution_count": 3,
   "metadata": {},
   "outputs": [],
   "source": [
    "X_train = train_df.drop([\"Participant_ID\", \"Depression\"], axis=1)\n",
    "y_train = train_df[[\"Participant_ID\", \"Depression\", \"Gender\"]]\n",
    "\n",
    "X_test = test_df.drop([\"Participant_ID\", \"Depression\"], axis=1)\n",
    "y_test = test_df[[\"Participant_ID\", \"Depression\", \"Gender\"]]"
   ]
  },
  {
   "cell_type": "code",
   "execution_count": 4,
   "metadata": {},
   "outputs": [
    {
     "name": "stderr",
     "output_type": "stream",
     "text": [
      "/var/folders/6m/wg76ryq57fnb356nt5xwlbl80000gn/T/ipykernel_5362/577014366.py:5: SettingWithCopyWarning: \n",
      "A value is trying to be set on a copy of a slice from a DataFrame.\n",
      "Try using .loc[row_indexer,col_indexer] = value instead\n",
      "\n",
      "See the caveats in the documentation: https://pandas.pydata.org/pandas-docs/stable/user_guide/indexing.html#returning-a-view-versus-a-copy\n",
      "  y_test[\"Depression_predicted\"] = predicted\n"
     ]
    }
   ],
   "source": [
    "model = RandomForestClassifier(max_depth=100, random_state=42, \n",
    "                               class_weight=calculate_class_weights(y_train, \"Depression\"))\n",
    "model.fit(X_train,y_train[\"Depression\"])\n",
    "predicted = model.predict(X_test)\n",
    "y_test[\"Depression_predicted\"] = predicted"
   ]
  },
  {
   "cell_type": "code",
   "execution_count": 5,
   "metadata": {},
   "outputs": [],
   "source": [
    "acc, bal_acc, eo_score = compute_metrics(y_test, eo=True)"
   ]
  },
  {
   "cell_type": "code",
   "execution_count": 6,
   "metadata": {},
   "outputs": [
    {
     "name": "stdout",
     "output_type": "stream",
     "text": [
      "Accuracy: 0.7\n",
      "Balanced Accuracy: 0.5\n",
      "Equality of Opportunity: 1.0\n"
     ]
    }
   ],
   "source": [
    "print(f\"Accuracy: {acc}\")\n",
    "print(f\"Balanced Accuracy: {bal_acc}\")\n",
    "print(f\"Equality of Opportunity: {eo_score}\")"
   ]
  },
  {
   "cell_type": "code",
   "execution_count": 7,
   "metadata": {},
   "outputs": [
    {
     "data": {
      "image/png": "[encoded data removed]",
      "text/plain": [
       "<Figure size 600x600 with 2 Axes>"
      ]
     },
     "metadata": {},
     "output_type": "display_data"
    }
   ],
   "source": [
    "show_conf_matrix(y_test)"
   ]
  }
 ],
 "metadata": {
  "kernelspec": {
   "display_name": "base",
   "language": "python",
   "name": "python3"
  },
  "language_info": {
   "codemirror_mode": {
    "name": "ipython",
    "version": 3
   },
   "file_extension": ".py",
   "mimetype": "text/x-python",
   "name": "python",
   "nbconvert_exporter": "python",
   "pygments_lexer": "ipython3",
   "version": "3.11.7"
  }
 },
 "nbformat": 4,
 "nbformat_minor": 2
}
