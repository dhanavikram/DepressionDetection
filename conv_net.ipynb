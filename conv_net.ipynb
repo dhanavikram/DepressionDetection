{
 "cells": [
  {
   "cell_type": "code",
   "execution_count": 1,
   "metadata": {},
   "outputs": [],
   "source": [
    "import os\n",
    "\n",
    "import numpy as np\n",
    "import pandas as pd\n",
    "import matplotlib.pyplot as plt\n",
    "\n",
    "import tensorflow as tf"
   ]
  },
  {
   "cell_type": "code",
   "execution_count": 2,
   "metadata": {},
   "outputs": [],
   "source": [
    "# Paths of folders containing train and test data\n",
    "TRAIN_FOLDER_PATH = \"features_train\"\n",
    "TEST_FOLDER_PATH = \"features_test\""
   ]
  },
  {
   "cell_type": "code",
   "execution_count": 3,
   "metadata": {},
   "outputs": [],
   "source": [
    "# Names of features based on GeMAPS feature set\n",
    "meta_data = pd.read_csv('feature_description.csv', encoding='ISO-8859-1', header=None)\n",
    "col_names = list(meta_data[0])"
   ]
  },
  {
   "cell_type": "code",
   "execution_count": 4,
   "metadata": {},
   "outputs": [
    {
     "name": "stdout",
     "output_type": "stream",
     "text": [
      "Removing null values present in spk_402.csv\n"
     ]
    }
   ],
   "source": [
    "df_dict = {'Participant_ID': [], 'features': []}  # Dict to store values\n",
    "max_rows = 0  # Max number of rows present in the data (used for padding)\n",
    "\n",
    "for file in os.listdir(TRAIN_FOLDER_PATH):\n",
    "    \n",
    "    file_name_split = file.split('.')\n",
    "    file_type = file_name_split[1]\n",
    "    file_name = file_name_split[0]\n",
    "\n",
    "    if file_type == 'csv':\n",
    "        # Fetch participant ID\n",
    "        id = int(file_name.split('_')[1])\n",
    "        df_dict['Participant_ID'].append(id)\n",
    "\n",
    "        # Fetch data\n",
    "        temp_df = pd.read_csv(TRAIN_FOLDER_PATH + '/' + file, names=col_names)\n",
    "\n",
    "        # Remove null values\n",
    "        if temp_df.isna().sum().values[0]>0:\n",
    "            print(f\"Removing null values present in {file}\")\n",
    "            temp_df = temp_df.dropna(axis=0)\n",
    "        \n",
    "        # Filter out rows where more than half of the feature values are zero\n",
    "        zero_percentages = (temp_df == 0).mean(axis=1)  # Calculate the percentage of zero values in each row\n",
    "        threshold = 0.5  # More than half\n",
    "        temp_df = temp_df[zero_percentages <= threshold]\n",
    "        \n",
    "        # Add the features to dict\n",
    "        df_dict['features'].append(temp_df)\n",
    "        \n",
    "        # Update max rows\n",
    "        if temp_df.shape[0]>max_rows:\n",
    "            max_rows = temp_df.shape[0] "
   ]
  },
  {
   "cell_type": "code",
   "execution_count": 5,
   "metadata": {},
   "outputs": [
    {
     "data": {
      "text/plain": [
       "378"
      ]
     },
     "execution_count": 5,
     "metadata": {},
     "output_type": "execute_result"
    }
   ],
   "source": [
    "max_rows"
   ]
  },
  {
   "cell_type": "code",
   "execution_count": 6,
   "metadata": {},
   "outputs": [],
   "source": [
    "# Pad zeroes\n",
    "for i in range(len(df_dict['features'])):\n",
    "    df_dict['features'][i] = df_dict['features'][i].reindex(np.arange(max_rows), fill_value=0).values"
   ]
  },
  {
   "cell_type": "code",
   "execution_count": 7,
   "metadata": {},
   "outputs": [],
   "source": [
    "# Convert the dict into dataframe\n",
    "df_features = pd.DataFrame(df_dict)"
   ]
  },
  {
   "cell_type": "code",
   "execution_count": 8,
   "metadata": {},
   "outputs": [
    {
     "data": {
      "text/html": [
       "<div>\n",
       "<style scoped>\n",
       "    .dataframe tbody tr th:only-of-type {\n",
       "        vertical-align: middle;\n",
       "    }\n",
       "\n",
       "    .dataframe tbody tr th {\n",
       "        vertical-align: top;\n",
       "    }\n",
       "\n",
       "    .dataframe thead th {\n",
       "        text-align: right;\n",
       "    }\n",
       "</style>\n",
       "<table border=\"1\" class=\"dataframe\">\n",
       "  <thead>\n",
       "    <tr style=\"text-align: right;\">\n",
       "      <th></th>\n",
       "      <th>Participant_ID</th>\n",
       "      <th>Depression</th>\n",
       "      <th>Gender</th>\n",
       "    </tr>\n",
       "  </thead>\n",
       "  <tbody>\n",
       "    <tr>\n",
       "      <th>0</th>\n",
       "      <td>303</td>\n",
       "      <td>0</td>\n",
       "      <td>0</td>\n",
       "    </tr>\n",
       "    <tr>\n",
       "      <th>1</th>\n",
       "      <td>304</td>\n",
       "      <td>0</td>\n",
       "      <td>0</td>\n",
       "    </tr>\n",
       "    <tr>\n",
       "      <th>2</th>\n",
       "      <td>305</td>\n",
       "      <td>0</td>\n",
       "      <td>1</td>\n",
       "    </tr>\n",
       "    <tr>\n",
       "      <th>3</th>\n",
       "      <td>310</td>\n",
       "      <td>0</td>\n",
       "      <td>1</td>\n",
       "    </tr>\n",
       "    <tr>\n",
       "      <th>4</th>\n",
       "      <td>312</td>\n",
       "      <td>0</td>\n",
       "      <td>1</td>\n",
       "    </tr>\n",
       "  </tbody>\n",
       "</table>\n",
       "</div>"
      ],
      "text/plain": [
       "   Participant_ID  Depression  Gender\n",
       "0             303           0       0\n",
       "1             304           0       0\n",
       "2             305           0       1\n",
       "3             310           0       1\n",
       "4             312           0       1"
      ]
     },
     "execution_count": 8,
     "metadata": {},
     "output_type": "execute_result"
    }
   ],
   "source": [
    "# Read labels dict\n",
    "df_labels = pd.read_csv('labels.csv', skipfooter=1, engine='python')\n",
    "df_labels['Participant_ID'] = df_labels['Participant_ID'].astype(int)\n",
    "df_labels.head()"
   ]
  },
  {
   "cell_type": "code",
   "execution_count": 9,
   "metadata": {},
   "outputs": [],
   "source": [
    "merged_df = pd.merge(df_features, df_labels, on='Participant_ID')"
   ]
  },
  {
   "cell_type": "code",
   "execution_count": 10,
   "metadata": {},
   "outputs": [
    {
     "data": {
      "text/html": [
       "<div>\n",
       "<style scoped>\n",
       "    .dataframe tbody tr th:only-of-type {\n",
       "        vertical-align: middle;\n",
       "    }\n",
       "\n",
       "    .dataframe tbody tr th {\n",
       "        vertical-align: top;\n",
       "    }\n",
       "\n",
       "    .dataframe thead th {\n",
       "        text-align: right;\n",
       "    }\n",
       "</style>\n",
       "<table border=\"1\" class=\"dataframe\">\n",
       "  <thead>\n",
       "    <tr style=\"text-align: right;\">\n",
       "      <th></th>\n",
       "      <th>Participant_ID</th>\n",
       "      <th>features</th>\n",
       "      <th>Depression</th>\n",
       "      <th>Gender</th>\n",
       "    </tr>\n",
       "  </thead>\n",
       "  <tbody>\n",
       "    <tr>\n",
       "      <th>0</th>\n",
       "      <td>448</td>\n",
       "      <td>[[33.88331, 0.18847024, 31.197649, 31.198807, ...</td>\n",
       "      <td>1</td>\n",
       "      <td>1</td>\n",
       "    </tr>\n",
       "    <tr>\n",
       "      <th>1</th>\n",
       "      <td>475</td>\n",
       "      <td>[[0.0, 0.0, 0.0, 0.0, 0.0, 0.0, 0.0, 0.0, 0.0,...</td>\n",
       "      <td>0</td>\n",
       "      <td>1</td>\n",
       "    </tr>\n",
       "    <tr>\n",
       "      <th>2</th>\n",
       "      <td>313</td>\n",
       "      <td>[[22.360157, 0.071260795, 20.776451, 22.337982...</td>\n",
       "      <td>0</td>\n",
       "      <td>1</td>\n",
       "    </tr>\n",
       "    <tr>\n",
       "      <th>3</th>\n",
       "      <td>449</td>\n",
       "      <td>[[31.251434, 0.008560931, 31.196766, 31.198511...</td>\n",
       "      <td>0</td>\n",
       "      <td>0</td>\n",
       "    </tr>\n",
       "    <tr>\n",
       "      <th>4</th>\n",
       "      <td>339</td>\n",
       "      <td>[[19.374094, 0.07061678, 18.158512, 18.906977,...</td>\n",
       "      <td>1</td>\n",
       "      <td>1</td>\n",
       "    </tr>\n",
       "  </tbody>\n",
       "</table>\n",
       "</div>"
      ],
      "text/plain": [
       "   Participant_ID                                           features  \\\n",
       "0             448  [[33.88331, 0.18847024, 31.197649, 31.198807, ...   \n",
       "1             475  [[0.0, 0.0, 0.0, 0.0, 0.0, 0.0, 0.0, 0.0, 0.0,...   \n",
       "2             313  [[22.360157, 0.071260795, 20.776451, 22.337982...   \n",
       "3             449  [[31.251434, 0.008560931, 31.196766, 31.198511...   \n",
       "4             339  [[19.374094, 0.07061678, 18.158512, 18.906977,...   \n",
       "\n",
       "   Depression  Gender  \n",
       "0           1       1  \n",
       "1           0       1  \n",
       "2           0       1  \n",
       "3           0       0  \n",
       "4           1       1  "
      ]
     },
     "execution_count": 10,
     "metadata": {},
     "output_type": "execute_result"
    }
   ],
   "source": [
    "merged_df.head()"
   ]
  },
  {
   "cell_type": "code",
   "execution_count": 11,
   "metadata": {},
   "outputs": [],
   "source": [
    "# Extract Features and Labels for tensorflow\n",
    "features = merged_df['features'].to_list()\n",
    "depression_labels = merged_df['Depression'].values\n",
    "gender_labels = merged_df['Gender'].values"
   ]
  },
  {
   "cell_type": "code",
   "execution_count": 12,
   "metadata": {},
   "outputs": [],
   "source": [
    "# Convert features to tensor object\n",
    "features_tensor = tf.convert_to_tensor(features, dtype=tf.float32)\n",
    "features = np.array(features_tensor).reshape(87, 378, 88, 1)\n",
    "\n",
    "# Convert labels to proper shape\n",
    "depression_labels = np.asarray(depression_labels).astype('float32').reshape((-1,1))\n",
    "gender_labels = np.asarray(gender_labels).astype('float32').reshape((-1,1))"
   ]
  },
  {
   "cell_type": "code",
   "execution_count": 13,
   "metadata": {},
   "outputs": [
    {
     "data": {
      "text/plain": [
       "(87, 378, 88, 1)"
      ]
     },
     "execution_count": 13,
     "metadata": {},
     "output_type": "execute_result"
    }
   ],
   "source": [
    "features.shape"
   ]
  },
  {
   "cell_type": "code",
   "execution_count": 14,
   "metadata": {},
   "outputs": [
    {
     "name": "stdout",
     "output_type": "stream",
     "text": [
      "Epoch 1/10\n",
      "5/5 [==============================] - 1s 89ms/step - loss: 291.3479 - accuracy: 0.6027 - val_loss: 142.8346 - val_accuracy: 0.1429\n",
      "Epoch 2/10\n",
      "5/5 [==============================] - 0s 80ms/step - loss: 66.0066 - accuracy: 0.4247 - val_loss: 5.3365 - val_accuracy: 0.8571\n",
      "Epoch 3/10\n",
      "5/5 [==============================] - 0s 101ms/step - loss: 5.5836 - accuracy: 0.7260 - val_loss: 1.4271 - val_accuracy: 0.5714\n",
      "Epoch 4/10\n",
      "5/5 [==============================] - 0s 90ms/step - loss: 1.7545 - accuracy: 0.7671 - val_loss: 1.2196 - val_accuracy: 0.8571\n",
      "Epoch 5/10\n",
      "5/5 [==============================] - 0s 98ms/step - loss: 0.7899 - accuracy: 0.8356 - val_loss: 0.7311 - val_accuracy: 0.7857\n",
      "Epoch 6/10\n",
      "5/5 [==============================] - 0s 84ms/step - loss: 0.3101 - accuracy: 0.8767 - val_loss: 0.8584 - val_accuracy: 0.7143\n",
      "Epoch 7/10\n",
      "5/5 [==============================] - 0s 78ms/step - loss: 0.4504 - accuracy: 0.8356 - val_loss: 0.8126 - val_accuracy: 0.7857\n",
      "Epoch 8/10\n",
      "5/5 [==============================] - 0s 76ms/step - loss: 0.1762 - accuracy: 0.9452 - val_loss: 1.1050 - val_accuracy: 0.7857\n",
      "Epoch 9/10\n",
      "5/5 [==============================] - 0s 76ms/step - loss: 0.1497 - accuracy: 0.9589 - val_loss: 1.1759 - val_accuracy: 0.7857\n",
      "Epoch 10/10\n",
      "5/5 [==============================] - 0s 75ms/step - loss: 0.1345 - accuracy: 0.9726 - val_loss: 1.3126 - val_accuracy: 0.7857\n"
     ]
    }
   ],
   "source": [
    "# define and train CNN Model\n",
    "model = tf.keras.Sequential([\n",
    "    tf.keras.layers.Conv2D(32, (3, 3), activation='relu',\n",
    "                           kernel_regularizer=tf.keras.regularizers.L2(l2=0.001),\n",
    "                           input_shape=(378, 88, 1)),\n",
    "    tf.keras.layers.MaxPooling2D((2, 2)),\n",
    "    tf.keras.layers.Conv2D(32, (3, 3), activation='relu',\n",
    "                           kernel_regularizer=tf.keras.regularizers.L2(l2=0.001)),\n",
    "    tf.keras.layers.MaxPooling2D((2, 2)),\n",
    "    tf.keras.layers.Conv2D(32, (3, 3), activation='relu',\n",
    "                           kernel_regularizer=tf.keras.regularizers.L2(l2=0.001)),\n",
    "    tf.keras.layers.Flatten(),\n",
    "    tf.keras.layers.Dense(64, activation='relu'),\n",
    "    tf.keras.layers.Dropout(0.5),\n",
    "    tf.keras.layers.Dense(1, activation='sigmoid')\n",
    "])\n",
    "\n",
    "model.compile(optimizer='adam', loss='binary_crossentropy', metrics=['accuracy'])\n",
    "\n",
    "history = model.fit(features_tensor, depression_labels, epochs=10, batch_size=16, validation_split=0.15)"
   ]
  },
  {
   "cell_type": "code",
   "execution_count": 15,
   "metadata": {},
   "outputs": [
    {
     "data": {
      "image/png": "[encoded data removed]",
      "text/plain": [
       "<Figure size 600x400 with 1 Axes>"
      ]
     },
     "metadata": {},
     "output_type": "display_data"
    }
   ],
   "source": [
    "# plot the model\n",
    "fig, ax = plt.subplots(figsize=(6, 4))\n",
    "plt.plot(history.history[\"loss\"], label=\"loss\")\n",
    "plt.plot(history.history[\"val_loss\"], label=\"val_loss\")\n",
    "plt.title(\"Learning Rate = 0.001\")\n",
    "plt.xlabel(\"Epochs\")\n",
    "plt.ylabel(\"Cost\")\n",
    "plt.legend()\n",
    "plt.show()"
   ]
  },
  {
   "cell_type": "code",
   "execution_count": null,
   "metadata": {},
   "outputs": [],
   "source": []
  }
 ],
 "metadata": {
  "kernelspec": {
   "display_name": "base",
   "language": "python",
   "name": "python3"
  },
  "language_info": {
   "codemirror_mode": {
    "name": "ipython",
    "version": 3
   },
   "file_extension": ".py",
   "mimetype": "text/x-python",
   "name": "python",
   "nbconvert_exporter": "python",
   "pygments_lexer": "ipython3",
   "version": "3.11.7"
  }
 },
 "nbformat": 4,
 "nbformat_minor": 2
}
