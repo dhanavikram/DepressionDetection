{
 "cells": [
  {
   "cell_type": "code",
   "execution_count": 1,
   "metadata": {},
   "outputs": [],
   "source": [
    "import os\n",
    "\n",
    "import numpy as np\n",
    "import pandas as pd\n",
    "\n",
    "import tensorflow as tf"
   ]
  },
  {
   "cell_type": "code",
   "execution_count": 2,
   "metadata": {},
   "outputs": [],
   "source": [
    "# Paths of folders containing train and test data\n",
    "TRAIN_FOLDER_PATH = \"features_train\"\n",
    "TEST_FOLDER_PATH = \"features_test\""
   ]
  },
  {
   "cell_type": "code",
   "execution_count": 3,
   "metadata": {},
   "outputs": [],
   "source": [
    "# Names of features based on GeMAPS feature set\n",
    "meta_data = pd.read_csv('feature_description.csv', encoding='ISO-8859-1', header=None)\n",
    "col_names = list(meta_data[0])"
   ]
  },
  {
   "cell_type": "code",
   "execution_count": 4,
   "metadata": {},
   "outputs": [
    {
     "name": "stdout",
     "output_type": "stream",
     "text": [
      "Removing null values present in spk_402.csv\n"
     ]
    }
   ],
   "source": [
    "df_dict = {'Participant_ID': [], 'features': []}  # Dict to store values\n",
    "max_rows = 0  # Max number of rows present in the data (used for padding)\n",
    "\n",
    "for file in os.listdir(TRAIN_FOLDER_PATH):\n",
    "    \n",
    "    file_name_split = file.split('.')\n",
    "    file_type = file_name_split[1]\n",
    "    file_name = file_name_split[0]\n",
    "\n",
    "    if file_type == 'csv':\n",
    "        # Fetch participant ID\n",
    "        id = int(file_name.split('_')[1])\n",
    "        df_dict['Participant_ID'].append(id)\n",
    "\n",
    "        # Fetch data\n",
    "        temp_df = pd.read_csv(TRAIN_FOLDER_PATH + '/' + file, names=col_names)\n",
    "\n",
    "        # Remove null values\n",
    "        if temp_df.isna().sum().values[0]>0:\n",
    "            print(f\"Removing null values present in {file}\")\n",
    "            temp_df = temp_df.dropna(axis=0)\n",
    "        \n",
    "        # Filter out rows where more than half of the feature values are zero\n",
    "        zero_percentages = (temp_df == 0).mean(axis=1)  # Calculate the percentage of zero values in each row\n",
    "        threshold = 0.5  # More than half\n",
    "        temp_df = temp_df[zero_percentages <= threshold]\n",
    "        \n",
    "        # Add the features to dict\n",
    "        df_dict['features'].append(temp_df)\n",
    "        \n",
    "        # Update max rows\n",
    "        if temp_df.shape[0]>max_rows:\n",
    "            max_rows = temp_df.shape[0] "
   ]
  },
  {
   "cell_type": "code",
   "execution_count": 5,
   "metadata": {},
   "outputs": [
    {
     "data": {
      "text/plain": [
       "378"
      ]
     },
     "execution_count": 5,
     "metadata": {},
     "output_type": "execute_result"
    }
   ],
   "source": [
    "max_rows"
   ]
  },
  {
   "cell_type": "code",
   "execution_count": 6,
   "metadata": {},
   "outputs": [],
   "source": [
    "# Pad zeroes\n",
    "for i in range(len(df_dict['features'])):\n",
    "    df_dict['features'][i] = df_dict['features'][i].reindex(np.arange(max_rows), fill_value=0).values"
   ]
  },
  {
   "cell_type": "code",
   "execution_count": 7,
   "metadata": {},
   "outputs": [],
   "source": [
    "# Convert the dict into dataframe\n",
    "df_features = pd.DataFrame(df_dict)"
   ]
  },
  {
   "cell_type": "code",
   "execution_count": 8,
   "metadata": {},
   "outputs": [
    {
     "data": {
      "text/html": [
       "<div>\n",
       "<style scoped>\n",
       "    .dataframe tbody tr th:only-of-type {\n",
       "        vertical-align: middle;\n",
       "    }\n",
       "\n",
       "    .dataframe tbody tr th {\n",
       "        vertical-align: top;\n",
       "    }\n",
       "\n",
       "    .dataframe thead th {\n",
       "        text-align: right;\n",
       "    }\n",
       "</style>\n",
       "<table border=\"1\" class=\"dataframe\">\n",
       "  <thead>\n",
       "    <tr style=\"text-align: right;\">\n",
       "      <th></th>\n",
       "      <th>Participant_ID</th>\n",
       "      <th>Depression</th>\n",
       "      <th>Gender</th>\n",
       "    </tr>\n",
       "  </thead>\n",
       "  <tbody>\n",
       "    <tr>\n",
       "      <th>0</th>\n",
       "      <td>303</td>\n",
       "      <td>0</td>\n",
       "      <td>0</td>\n",
       "    </tr>\n",
       "    <tr>\n",
       "      <th>1</th>\n",
       "      <td>304</td>\n",
       "      <td>0</td>\n",
       "      <td>0</td>\n",
       "    </tr>\n",
       "    <tr>\n",
       "      <th>2</th>\n",
       "      <td>305</td>\n",
       "      <td>0</td>\n",
       "      <td>1</td>\n",
       "    </tr>\n",
       "    <tr>\n",
       "      <th>3</th>\n",
       "      <td>310</td>\n",
       "      <td>0</td>\n",
       "      <td>1</td>\n",
       "    </tr>\n",
       "    <tr>\n",
       "      <th>4</th>\n",
       "      <td>312</td>\n",
       "      <td>0</td>\n",
       "      <td>1</td>\n",
       "    </tr>\n",
       "  </tbody>\n",
       "</table>\n",
       "</div>"
      ],
      "text/plain": [
       "   Participant_ID  Depression  Gender\n",
       "0             303           0       0\n",
       "1             304           0       0\n",
       "2             305           0       1\n",
       "3             310           0       1\n",
       "4             312           0       1"
      ]
     },
     "execution_count": 8,
     "metadata": {},
     "output_type": "execute_result"
    }
   ],
   "source": [
    "# Read labels dict\n",
    "df_labels = pd.read_csv('labels.csv', skipfooter=1, engine='python')\n",
    "df_labels['Participant_ID'] = df_labels['Participant_ID'].astype(int)\n",
    "df_labels.head()"
   ]
  },
  {
   "cell_type": "code",
   "execution_count": 9,
   "metadata": {},
   "outputs": [],
   "source": [
    "merged_df = pd.merge(df_features, df_labels, on='Participant_ID')"
   ]
  },
  {
   "cell_type": "code",
   "execution_count": 10,
   "metadata": {},
   "outputs": [
    {
     "data": {
      "text/html": [
       "<div>\n",
       "<style scoped>\n",
       "    .dataframe tbody tr th:only-of-type {\n",
       "        vertical-align: middle;\n",
       "    }\n",
       "\n",
       "    .dataframe tbody tr th {\n",
       "        vertical-align: top;\n",
       "    }\n",
       "\n",
       "    .dataframe thead th {\n",
       "        text-align: right;\n",
       "    }\n",
       "</style>\n",
       "<table border=\"1\" class=\"dataframe\">\n",
       "  <thead>\n",
       "    <tr style=\"text-align: right;\">\n",
       "      <th></th>\n",
       "      <th>Participant_ID</th>\n",
       "      <th>features</th>\n",
       "      <th>Depression</th>\n",
       "      <th>Gender</th>\n",
       "    </tr>\n",
       "  </thead>\n",
       "  <tbody>\n",
       "    <tr>\n",
       "      <th>0</th>\n",
       "      <td>448</td>\n",
       "      <td>[[33.88331, 0.18847024, 31.197649, 31.198807, ...</td>\n",
       "      <td>1</td>\n",
       "      <td>1</td>\n",
       "    </tr>\n",
       "    <tr>\n",
       "      <th>1</th>\n",
       "      <td>475</td>\n",
       "      <td>[[0.0, 0.0, 0.0, 0.0, 0.0, 0.0, 0.0, 0.0, 0.0,...</td>\n",
       "      <td>0</td>\n",
       "      <td>1</td>\n",
       "    </tr>\n",
       "    <tr>\n",
       "      <th>2</th>\n",
       "      <td>313</td>\n",
       "      <td>[[22.360157, 0.071260795, 20.776451, 22.337982...</td>\n",
       "      <td>0</td>\n",
       "      <td>1</td>\n",
       "    </tr>\n",
       "    <tr>\n",
       "      <th>3</th>\n",
       "      <td>449</td>\n",
       "      <td>[[31.251434, 0.008560931, 31.196766, 31.198511...</td>\n",
       "      <td>0</td>\n",
       "      <td>0</td>\n",
       "    </tr>\n",
       "    <tr>\n",
       "      <th>4</th>\n",
       "      <td>339</td>\n",
       "      <td>[[19.374094, 0.07061678, 18.158512, 18.906977,...</td>\n",
       "      <td>1</td>\n",
       "      <td>1</td>\n",
       "    </tr>\n",
       "  </tbody>\n",
       "</table>\n",
       "</div>"
      ],
      "text/plain": [
       "   Participant_ID                                           features  \\\n",
       "0             448  [[33.88331, 0.18847024, 31.197649, 31.198807, ...   \n",
       "1             475  [[0.0, 0.0, 0.0, 0.0, 0.0, 0.0, 0.0, 0.0, 0.0,...   \n",
       "2             313  [[22.360157, 0.071260795, 20.776451, 22.337982...   \n",
       "3             449  [[31.251434, 0.008560931, 31.196766, 31.198511...   \n",
       "4             339  [[19.374094, 0.07061678, 18.158512, 18.906977,...   \n",
       "\n",
       "   Depression  Gender  \n",
       "0           1       1  \n",
       "1           0       1  \n",
       "2           0       1  \n",
       "3           0       0  \n",
       "4           1       1  "
      ]
     },
     "execution_count": 10,
     "metadata": {},
     "output_type": "execute_result"
    }
   ],
   "source": [
    "merged_df.head()"
   ]
  },
  {
   "cell_type": "code",
   "execution_count": 11,
   "metadata": {},
   "outputs": [],
   "source": [
    "# Extract Features and Labels for tensorflow\n",
    "features = merged_df['features'].to_list()\n",
    "depression_labels = merged_df['Depression'].to_list()\n",
    "gender_labels = merged_df['Gender'].to_list()"
   ]
  },
  {
   "cell_type": "code",
   "execution_count": 12,
   "metadata": {},
   "outputs": [],
   "source": [
    "# Convert features to tensor object\n",
    "features_tensor = tf.convert_to_tensor(features)"
   ]
  },
  {
   "cell_type": "code",
   "execution_count": 13,
   "metadata": {},
   "outputs": [
    {
     "data": {
      "text/plain": [
       "<tf.Tensor: shape=(378, 88), dtype=float64, numpy=\n",
       "array([[ 3.38833100e+01,  1.88470240e-01,  3.11976490e+01, ...,\n",
       "         2.25000000e-01,  4.99999940e-03, -5.35293800e+01],\n",
       "       [ 2.34422840e+01,  1.52308615e-02,  2.30832650e+01, ...,\n",
       "         3.80000000e-01,  0.00000000e+00, -4.73269700e+01],\n",
       "       [ 2.66581950e+01,  9.55935050e-02,  2.42754900e+01, ...,\n",
       "         1.14999995e-01,  8.73212500e-02, -4.11217840e+01],\n",
       "       ...,\n",
       "       [ 0.00000000e+00,  0.00000000e+00,  0.00000000e+00, ...,\n",
       "         0.00000000e+00,  0.00000000e+00,  0.00000000e+00],\n",
       "       [ 0.00000000e+00,  0.00000000e+00,  0.00000000e+00, ...,\n",
       "         0.00000000e+00,  0.00000000e+00,  0.00000000e+00],\n",
       "       [ 0.00000000e+00,  0.00000000e+00,  0.00000000e+00, ...,\n",
       "         0.00000000e+00,  0.00000000e+00,  0.00000000e+00]])>"
      ]
     },
     "execution_count": 13,
     "metadata": {},
     "output_type": "execute_result"
    }
   ],
   "source": [
    "features_tensor[0]"
   ]
  },
  {
   "cell_type": "code",
   "execution_count": null,
   "metadata": {},
   "outputs": [],
   "source": []
  }
 ],
 "metadata": {
  "kernelspec": {
   "display_name": "base",
   "language": "python",
   "name": "python3"
  },
  "language_info": {
   "codemirror_mode": {
    "name": "ipython",
    "version": 3
   },
   "file_extension": ".py",
   "mimetype": "text/x-python",
   "name": "python",
   "nbconvert_exporter": "python",
   "pygments_lexer": "ipython3",
   "version": "3.11.7"
  }
 },
 "nbformat": 4,
 "nbformat_minor": 2
}
