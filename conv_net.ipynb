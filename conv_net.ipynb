{
 "cells": [
  {
   "cell_type": "code",
   "execution_count": 1,
   "metadata": {},
   "outputs": [],
   "source": [
    "import os\n",
    "\n",
    "import numpy as np\n",
    "import pandas as pd\n",
    "import matplotlib.pyplot as plt\n",
    "\n",
    "import tensorflow as tf"
   ]
  },
  {
   "cell_type": "code",
   "execution_count": 2,
   "metadata": {},
   "outputs": [],
   "source": [
    "# Paths of folders containing train and test data\n",
    "TRAIN_FOLDER_PATH = \"/Users/kalyanijaware/Documents/ML Project/features_train\"\n",
    "TEST_FOLDER_PATH = \"/Users/kalyanijaware/Documents/ML Project/features_test\""
   ]
  },
  {
   "cell_type": "code",
   "execution_count": 4,
   "metadata": {},
   "outputs": [],
   "source": [
    "# Names of features based on GeMAPS feature set\n",
    "meta_data = pd.read_csv('feature_description.csv', encoding='ISO-8859-1', header=None)\n",
    "col_names = list(meta_data[0])"
   ]
  },
  {
   "cell_type": "code",
   "execution_count": 5,
   "metadata": {},
   "outputs": [
    {
     "name": "stdout",
     "output_type": "stream",
     "text": [
      "Removing null values present in spk_402.csv\n"
     ]
    }
   ],
   "source": [
    "df_dict = {'Participant_ID': [], 'features': []}  # Dict to store values\n",
    "max_rows = 0  # Max number of rows present in the data (used for padding)\n",
    "\n",
    "for file in os.listdir(TRAIN_FOLDER_PATH):\n",
    "    \n",
    "    file_name_split = file.split('.')\n",
    "    file_type = file_name_split[1]\n",
    "    file_name = file_name_split[0]\n",
    "\n",
    "    if file_type == 'csv':\n",
    "        # Fetch participant ID\n",
    "        id = int(file_name.split('_')[1])\n",
    "        df_dict['Participant_ID'].append(id)\n",
    "\n",
    "        # Fetch data\n",
    "        temp_df = pd.read_csv(TRAIN_FOLDER_PATH + '/' + file, names=col_names)\n",
    "\n",
    "        # Remove null values\n",
    "        if temp_df.isna().sum().values[0]>0:\n",
    "            print(f\"Removing null values present in {file}\")\n",
    "            temp_df = temp_df.dropna(axis=0)\n",
    "        \n",
    "        # Filter out rows where more than half of the feature values are zero\n",
    "        zero_percentages = (temp_df == 0).mean(axis=1)  # Calculate the percentage of zero values in each row\n",
    "        threshold = 0.5  # More than half\n",
    "        temp_df = temp_df[zero_percentages <= threshold]\n",
    "        \n",
    "        # Add the features to dict\n",
    "        df_dict['features'].append(temp_df)\n",
    "        \n",
    "        # Update max rows\n",
    "        if temp_df.shape[0]>max_rows:\n",
    "            max_rows = temp_df.shape[0] "
   ]
  },
  {
   "cell_type": "code",
   "execution_count": 6,
   "metadata": {},
   "outputs": [
    {
     "data": {
      "text/plain": [
       "378"
      ]
     },
     "execution_count": 6,
     "metadata": {},
     "output_type": "execute_result"
    }
   ],
   "source": [
    "max_rows"
   ]
  },
  {
   "cell_type": "code",
   "execution_count": 7,
   "metadata": {},
   "outputs": [],
   "source": [
    "# Pad zeroes\n",
    "for i in range(len(df_dict['features'])):\n",
    "    df_dict['features'][i] = df_dict['features'][i].reindex(np.arange(max_rows), fill_value=0).values"
   ]
  },
  {
   "cell_type": "code",
   "execution_count": 8,
   "metadata": {},
   "outputs": [],
   "source": [
    "# Convert the dict into dataframe\n",
    "df_features = pd.DataFrame(df_dict)"
   ]
  },
  {
   "cell_type": "code",
   "execution_count": 9,
   "metadata": {},
   "outputs": [
    {
     "data": {
      "text/html": [
       "<div>\n",
       "<style scoped>\n",
       "    .dataframe tbody tr th:only-of-type {\n",
       "        vertical-align: middle;\n",
       "    }\n",
       "\n",
       "    .dataframe tbody tr th {\n",
       "        vertical-align: top;\n",
       "    }\n",
       "\n",
       "    .dataframe thead th {\n",
       "        text-align: right;\n",
       "    }\n",
       "</style>\n",
       "<table border=\"1\" class=\"dataframe\">\n",
       "  <thead>\n",
       "    <tr style=\"text-align: right;\">\n",
       "      <th></th>\n",
       "      <th>Participant_ID</th>\n",
       "      <th>Depression</th>\n",
       "      <th>Gender</th>\n",
       "    </tr>\n",
       "  </thead>\n",
       "  <tbody>\n",
       "    <tr>\n",
       "      <th>0</th>\n",
       "      <td>303</td>\n",
       "      <td>0</td>\n",
       "      <td>0</td>\n",
       "    </tr>\n",
       "    <tr>\n",
       "      <th>1</th>\n",
       "      <td>304</td>\n",
       "      <td>0</td>\n",
       "      <td>0</td>\n",
       "    </tr>\n",
       "    <tr>\n",
       "      <th>2</th>\n",
       "      <td>305</td>\n",
       "      <td>0</td>\n",
       "      <td>1</td>\n",
       "    </tr>\n",
       "    <tr>\n",
       "      <th>3</th>\n",
       "      <td>310</td>\n",
       "      <td>0</td>\n",
       "      <td>1</td>\n",
       "    </tr>\n",
       "    <tr>\n",
       "      <th>4</th>\n",
       "      <td>312</td>\n",
       "      <td>0</td>\n",
       "      <td>1</td>\n",
       "    </tr>\n",
       "  </tbody>\n",
       "</table>\n",
       "</div>"
      ],
      "text/plain": [
       "   Participant_ID  Depression  Gender\n",
       "0             303           0       0\n",
       "1             304           0       0\n",
       "2             305           0       1\n",
       "3             310           0       1\n",
       "4             312           0       1"
      ]
     },
     "execution_count": 9,
     "metadata": {},
     "output_type": "execute_result"
    }
   ],
   "source": [
    "# Read labels dict\n",
    "df_labels = pd.read_csv('labels.csv', skipfooter=1, engine='python')\n",
    "df_labels['Participant_ID'] = df_labels['Participant_ID'].astype(int)\n",
    "df_labels.head()"
   ]
  },
  {
   "cell_type": "code",
   "execution_count": 10,
   "metadata": {},
   "outputs": [],
   "source": [
    "merged_df = pd.merge(df_features, df_labels, on='Participant_ID')"
   ]
  },
  {
   "cell_type": "code",
   "execution_count": 11,
   "metadata": {},
   "outputs": [
    {
     "data": {
      "text/html": [
       "<div>\n",
       "<style scoped>\n",
       "    .dataframe tbody tr th:only-of-type {\n",
       "        vertical-align: middle;\n",
       "    }\n",
       "\n",
       "    .dataframe tbody tr th {\n",
       "        vertical-align: top;\n",
       "    }\n",
       "\n",
       "    .dataframe thead th {\n",
       "        text-align: right;\n",
       "    }\n",
       "</style>\n",
       "<table border=\"1\" class=\"dataframe\">\n",
       "  <thead>\n",
       "    <tr style=\"text-align: right;\">\n",
       "      <th></th>\n",
       "      <th>Participant_ID</th>\n",
       "      <th>features</th>\n",
       "      <th>Depression</th>\n",
       "      <th>Gender</th>\n",
       "    </tr>\n",
       "  </thead>\n",
       "  <tbody>\n",
       "    <tr>\n",
       "      <th>0</th>\n",
       "      <td>448</td>\n",
       "      <td>[[33.88331, 0.18847024, 31.197649, 31.198807, ...</td>\n",
       "      <td>1</td>\n",
       "      <td>1</td>\n",
       "    </tr>\n",
       "    <tr>\n",
       "      <th>1</th>\n",
       "      <td>475</td>\n",
       "      <td>[[0.0, 0.0, 0.0, 0.0, 0.0, 0.0, 0.0, 0.0, 0.0,...</td>\n",
       "      <td>0</td>\n",
       "      <td>1</td>\n",
       "    </tr>\n",
       "    <tr>\n",
       "      <th>2</th>\n",
       "      <td>313</td>\n",
       "      <td>[[22.360157, 0.071260795, 20.776451, 22.337982...</td>\n",
       "      <td>0</td>\n",
       "      <td>1</td>\n",
       "    </tr>\n",
       "    <tr>\n",
       "      <th>3</th>\n",
       "      <td>449</td>\n",
       "      <td>[[31.251434, 0.008560931, 31.196766, 31.198511...</td>\n",
       "      <td>0</td>\n",
       "      <td>0</td>\n",
       "    </tr>\n",
       "    <tr>\n",
       "      <th>4</th>\n",
       "      <td>339</td>\n",
       "      <td>[[19.374094, 0.07061678, 18.158512, 18.906977,...</td>\n",
       "      <td>1</td>\n",
       "      <td>1</td>\n",
       "    </tr>\n",
       "  </tbody>\n",
       "</table>\n",
       "</div>"
      ],
      "text/plain": [
       "   Participant_ID                                           features  \\\n",
       "0             448  [[33.88331, 0.18847024, 31.197649, 31.198807, ...   \n",
       "1             475  [[0.0, 0.0, 0.0, 0.0, 0.0, 0.0, 0.0, 0.0, 0.0,...   \n",
       "2             313  [[22.360157, 0.071260795, 20.776451, 22.337982...   \n",
       "3             449  [[31.251434, 0.008560931, 31.196766, 31.198511...   \n",
       "4             339  [[19.374094, 0.07061678, 18.158512, 18.906977,...   \n",
       "\n",
       "   Depression  Gender  \n",
       "0           1       1  \n",
       "1           0       1  \n",
       "2           0       1  \n",
       "3           0       0  \n",
       "4           1       1  "
      ]
     },
     "execution_count": 11,
     "metadata": {},
     "output_type": "execute_result"
    }
   ],
   "source": [
    "merged_df.head()"
   ]
  },
  {
   "cell_type": "code",
   "execution_count": 12,
   "metadata": {},
   "outputs": [],
   "source": [
    "# Extract Features and Labels for tensorflow\n",
    "features = merged_df['features'].to_list()\n",
    "depression_labels = merged_df['Depression'].values\n",
    "gender_labels = merged_df['Gender'].values"
   ]
  },
  {
   "cell_type": "code",
   "execution_count": 13,
   "metadata": {},
   "outputs": [],
   "source": [
    "# Convert features to tensor object\n",
    "features_tensor = tf.convert_to_tensor(features, dtype=tf.float32)\n",
    "features = np.array(features_tensor).reshape(87, 378, 88, 1)\n",
    "\n",
    "# Convert labels to proper shape\n",
    "depression_labels = np.asarray(depression_labels).astype('float32').reshape((-1,1))\n",
    "gender_labels = np.asarray(gender_labels).astype('float32').reshape((-1,1))"
   ]
  },
  {
   "cell_type": "code",
   "execution_count": 14,
   "metadata": {},
   "outputs": [
    {
     "data": {
      "text/plain": [
       "(87, 378, 88, 1)"
      ]
     },
     "execution_count": 14,
     "metadata": {},
     "output_type": "execute_result"
    }
   ],
   "source": [
    "features.shape"
   ]
  },
  {
   "cell_type": "code",
   "execution_count": 40,
   "metadata": {},
   "outputs": [
    {
     "name": "stdout",
     "output_type": "stream",
     "text": [
      "Epoch 1/50\n",
      "3/3 [==============================] - 1s 110ms/step - loss: 213.7502 - accuracy: 0.4932 - val_loss: 31.0873 - val_accuracy: 0.8571\n",
      "Epoch 2/50\n",
      "3/3 [==============================] - 0s 71ms/step - loss: 65.4704 - accuracy: 0.6575 - val_loss: 101.9803 - val_accuracy: 0.1429\n",
      "Epoch 3/50\n",
      "3/3 [==============================] - 0s 76ms/step - loss: 69.5766 - accuracy: 0.3151 - val_loss: 39.2329 - val_accuracy: 0.1429\n",
      "Epoch 4/50\n",
      "3/3 [==============================] - 0s 75ms/step - loss: 20.3072 - accuracy: 0.5753 - val_loss: 15.6454 - val_accuracy: 0.8571\n",
      "Epoch 5/50\n",
      "3/3 [==============================] - 0s 65ms/step - loss: 15.8419 - accuracy: 0.7397 - val_loss: 20.6445 - val_accuracy: 0.8571\n",
      "Epoch 6/50\n",
      "3/3 [==============================] - 0s 66ms/step - loss: 22.3460 - accuracy: 0.7260 - val_loss: 18.8418 - val_accuracy: 0.8571\n",
      "Epoch 7/50\n",
      "3/3 [==============================] - 0s 65ms/step - loss: 16.5486 - accuracy: 0.7671 - val_loss: 13.8873 - val_accuracy: 0.8571\n",
      "Epoch 8/50\n",
      "3/3 [==============================] - 0s 65ms/step - loss: 7.0172 - accuracy: 0.7808 - val_loss: 9.1911 - val_accuracy: 0.8571\n",
      "Epoch 9/50\n",
      "3/3 [==============================] - 0s 64ms/step - loss: 2.3447 - accuracy: 0.8904 - val_loss: 6.6729 - val_accuracy: 0.7857\n",
      "Epoch 10/50\n",
      "3/3 [==============================] - 0s 76ms/step - loss: 1.1691 - accuracy: 0.8630 - val_loss: 5.6914 - val_accuracy: 0.5714\n",
      "Epoch 11/50\n",
      "3/3 [==============================] - 0s 65ms/step - loss: 1.0421 - accuracy: 0.8356 - val_loss: 4.9330 - val_accuracy: 0.4286\n",
      "Epoch 12/50\n",
      "3/3 [==============================] - 0s 66ms/step - loss: 0.4463 - accuracy: 0.9041 - val_loss: 3.8255 - val_accuracy: 0.6429\n",
      "Epoch 13/50\n",
      "3/3 [==============================] - 0s 64ms/step - loss: 0.1315 - accuracy: 0.9726 - val_loss: 3.0068 - val_accuracy: 0.6429\n",
      "Epoch 14/50\n",
      "3/3 [==============================] - 0s 64ms/step - loss: 0.0762 - accuracy: 1.0000 - val_loss: 2.4999 - val_accuracy: 0.7143\n",
      "Epoch 15/50\n",
      "3/3 [==============================] - 0s 64ms/step - loss: 0.0757 - accuracy: 1.0000 - val_loss: 2.3063 - val_accuracy: 0.8571\n",
      "Epoch 16/50\n",
      "3/3 [==============================] - 0s 66ms/step - loss: 0.0768 - accuracy: 1.0000 - val_loss: 2.2807 - val_accuracy: 0.8571\n",
      "Epoch 17/50\n",
      "3/3 [==============================] - 0s 66ms/step - loss: 0.0766 - accuracy: 1.0000 - val_loss: 2.1671 - val_accuracy: 0.8571\n",
      "Epoch 18/50\n",
      "3/3 [==============================] - 0s 68ms/step - loss: 0.0752 - accuracy: 1.0000 - val_loss: 1.9696 - val_accuracy: 0.8571\n",
      "Epoch 19/50\n",
      "3/3 [==============================] - 0s 66ms/step - loss: 0.0749 - accuracy: 1.0000 - val_loss: 1.7772 - val_accuracy: 0.8571\n",
      "Epoch 20/50\n",
      "3/3 [==============================] - 0s 66ms/step - loss: 0.0747 - accuracy: 1.0000 - val_loss: 1.6589 - val_accuracy: 0.8571\n",
      "Epoch 21/50\n",
      "3/3 [==============================] - 0s 68ms/step - loss: 0.0744 - accuracy: 1.0000 - val_loss: 1.5600 - val_accuracy: 0.8571\n",
      "Epoch 22/50\n",
      "3/3 [==============================] - 0s 66ms/step - loss: 0.0742 - accuracy: 1.0000 - val_loss: 1.4926 - val_accuracy: 0.8571\n",
      "Epoch 23/50\n",
      "3/3 [==============================] - 0s 67ms/step - loss: 0.0740 - accuracy: 1.0000 - val_loss: 1.4325 - val_accuracy: 0.7857\n",
      "Epoch 24/50\n",
      "3/3 [==============================] - 0s 68ms/step - loss: 0.0737 - accuracy: 1.0000 - val_loss: 1.3854 - val_accuracy: 0.7857\n",
      "Epoch 25/50\n",
      "3/3 [==============================] - 0s 66ms/step - loss: 0.0735 - accuracy: 1.0000 - val_loss: 1.4008 - val_accuracy: 0.7857\n",
      "Epoch 26/50\n",
      "3/3 [==============================] - 0s 66ms/step - loss: 0.0733 - accuracy: 1.0000 - val_loss: 1.4578 - val_accuracy: 0.8571\n",
      "Epoch 27/50\n",
      "3/3 [==============================] - 0s 69ms/step - loss: 0.0730 - accuracy: 1.0000 - val_loss: 1.5074 - val_accuracy: 0.8571\n",
      "Epoch 28/50\n",
      "3/3 [==============================] - 0s 66ms/step - loss: 0.0728 - accuracy: 1.0000 - val_loss: 1.5579 - val_accuracy: 0.8571\n",
      "Epoch 29/50\n",
      "3/3 [==============================] - 0s 65ms/step - loss: 0.0725 - accuracy: 1.0000 - val_loss: 1.5460 - val_accuracy: 0.8571\n",
      "Epoch 30/50\n",
      "3/3 [==============================] - 0s 70ms/step - loss: 0.0723 - accuracy: 1.0000 - val_loss: 1.5037 - val_accuracy: 0.8571\n",
      "Epoch 31/50\n",
      "3/3 [==============================] - 0s 66ms/step - loss: 0.0721 - accuracy: 1.0000 - val_loss: 1.4636 - val_accuracy: 0.8571\n",
      "Epoch 32/50\n",
      "3/3 [==============================] - 0s 113ms/step - loss: 0.0719 - accuracy: 1.0000 - val_loss: 1.5201 - val_accuracy: 0.8571\n",
      "Epoch 33/50\n",
      "3/3 [==============================] - 0s 71ms/step - loss: 0.0716 - accuracy: 1.0000 - val_loss: 1.6909 - val_accuracy: 0.8571\n",
      "Epoch 34/50\n",
      "3/3 [==============================] - 0s 71ms/step - loss: 0.0714 - accuracy: 1.0000 - val_loss: 1.7039 - val_accuracy: 0.8571\n",
      "Epoch 35/50\n",
      "3/3 [==============================] - 0s 70ms/step - loss: 0.0712 - accuracy: 1.0000 - val_loss: 1.6758 - val_accuracy: 0.8571\n",
      "Epoch 36/50\n",
      "3/3 [==============================] - 0s 77ms/step - loss: 0.0710 - accuracy: 1.0000 - val_loss: 1.6111 - val_accuracy: 0.8571\n",
      "Epoch 37/50\n",
      "3/3 [==============================] - 0s 75ms/step - loss: 0.0708 - accuracy: 1.0000 - val_loss: 1.5480 - val_accuracy: 0.8571\n",
      "Epoch 38/50\n",
      "3/3 [==============================] - 0s 69ms/step - loss: 0.0706 - accuracy: 1.0000 - val_loss: 1.4992 - val_accuracy: 0.8571\n",
      "Epoch 39/50\n",
      "3/3 [==============================] - 0s 70ms/step - loss: 0.0704 - accuracy: 1.0000 - val_loss: 1.5104 - val_accuracy: 0.8571\n",
      "Epoch 40/50\n",
      "3/3 [==============================] - 0s 72ms/step - loss: 0.0702 - accuracy: 1.0000 - val_loss: 1.5408 - val_accuracy: 0.8571\n",
      "Epoch 41/50\n",
      "3/3 [==============================] - 0s 68ms/step - loss: 0.0700 - accuracy: 1.0000 - val_loss: 1.5898 - val_accuracy: 0.8571\n",
      "Epoch 42/50\n",
      "3/3 [==============================] - 0s 70ms/step - loss: 0.0698 - accuracy: 1.0000 - val_loss: 1.6320 - val_accuracy: 0.8571\n",
      "Epoch 43/50\n",
      "3/3 [==============================] - 0s 67ms/step - loss: 0.0696 - accuracy: 1.0000 - val_loss: 1.6378 - val_accuracy: 0.8571\n",
      "Epoch 44/50\n",
      "3/3 [==============================] - 0s 66ms/step - loss: 0.0694 - accuracy: 1.0000 - val_loss: 1.6388 - val_accuracy: 0.8571\n",
      "Epoch 45/50\n",
      "3/3 [==============================] - 0s 67ms/step - loss: 0.0692 - accuracy: 1.0000 - val_loss: 1.6298 - val_accuracy: 0.8571\n",
      "Epoch 46/50\n",
      "3/3 [==============================] - 0s 66ms/step - loss: 0.0691 - accuracy: 1.0000 - val_loss: 1.5905 - val_accuracy: 0.8571\n",
      "Epoch 47/50\n",
      "3/3 [==============================] - 0s 71ms/step - loss: 0.0689 - accuracy: 1.0000 - val_loss: 1.5782 - val_accuracy: 0.8571\n",
      "Epoch 48/50\n",
      "3/3 [==============================] - 0s 68ms/step - loss: 0.0687 - accuracy: 1.0000 - val_loss: 1.6059 - val_accuracy: 0.8571\n",
      "Epoch 49/50\n",
      "3/3 [==============================] - 0s 72ms/step - loss: 0.0685 - accuracy: 1.0000 - val_loss: 1.6335 - val_accuracy: 0.8571\n",
      "Epoch 50/50\n",
      "3/3 [==============================] - 0s 66ms/step - loss: 0.0684 - accuracy: 1.0000 - val_loss: 1.6601 - val_accuracy: 0.8571\n"
     ]
    }
   ],
   "source": [
    "# define and train CNN Model\n",
    "model = tf.keras.Sequential([\n",
    "    tf.keras.layers.Conv2D(32, (2, 2), padding = \"same\",strides = (1,1), activation='relu',\n",
    "                           kernel_regularizer=tf.keras.regularizers.L2(l2=0.001),\n",
    "                           input_shape=(378, 88, 1)),\n",
    "    tf.keras.layers.MaxPooling2D((2, 2)),\n",
    "    tf.keras.layers.Conv2D(16, (2, 2),  padding = \"same\",strides = (1,1),activation='relu',\n",
    "                           kernel_regularizer=tf.keras.regularizers.L2(l2=0.001)),\n",
    "    tf.keras.layers.MaxPooling2D((2, 2)),\n",
    "    # tf.keras.layers.Conv2D(4, (2, 2), activation='relu', padding = \"same\",strides = (1,1),\n",
    "    #                        kernel_regularizer=tf.keras.regularizers.L2(l2=0.001)),\n",
    "    # tf.keras.layers.MaxPooling2D((2, 2)),\n",
    "    tf.keras.layers.Flatten(),\n",
    "    tf.keras.layers.Dense(32, activation='relu',kernel_regularizer=tf.keras.regularizers.L2(l2=0.001)),\n",
    "   \n",
    "    tf.keras.layers.Dense(1, activation='sigmoid')\n",
    "])\n",
    "\n",
    "model.compile(optimizer='adam', loss='binary_crossentropy', metrics=['accuracy'])\n",
    "\n",
    "history = model.fit(features_tensor, depression_labels, epochs=50, batch_size=32, validation_split=0.15)"
   ]
  },
  {
   "cell_type": "code",
   "execution_count": 44,
   "metadata": {},
   "outputs": [
    {
     "name": "stdout",
     "output_type": "stream",
     "text": [
      "Epoch 1/50\n",
      "3/3 [==============================] - 1s 88ms/step - loss: 116.4179 - accuracy: 0.5890 - val_loss: 23.0631 - val_accuracy: 0.8571\n",
      "Epoch 2/50\n",
      "3/3 [==============================] - 0s 54ms/step - loss: 60.0862 - accuracy: 0.6986 - val_loss: 22.5695 - val_accuracy: 0.1429\n",
      "Epoch 3/50\n",
      "3/3 [==============================] - 0s 61ms/step - loss: 27.9820 - accuracy: 0.4247 - val_loss: 17.4046 - val_accuracy: 0.1429\n",
      "Epoch 4/50\n",
      "3/3 [==============================] - 0s 50ms/step - loss: 11.0231 - accuracy: 0.5342 - val_loss: 3.0989 - val_accuracy: 0.8571\n",
      "Epoch 5/50\n",
      "3/3 [==============================] - 0s 48ms/step - loss: 12.2152 - accuracy: 0.7123 - val_loss: 4.5394 - val_accuracy: 0.8571\n",
      "Epoch 6/50\n",
      "3/3 [==============================] - 0s 51ms/step - loss: 12.6394 - accuracy: 0.7260 - val_loss: 3.2404 - val_accuracy: 0.8571\n",
      "Epoch 7/50\n",
      "3/3 [==============================] - 0s 49ms/step - loss: 5.2258 - accuracy: 0.7397 - val_loss: 1.2625 - val_accuracy: 0.8571\n",
      "Epoch 8/50\n",
      "3/3 [==============================] - 0s 50ms/step - loss: 2.1254 - accuracy: 0.7534 - val_loss: 1.7424 - val_accuracy: 0.4286\n",
      "Epoch 9/50\n",
      "3/3 [==============================] - 0s 51ms/step - loss: 2.2516 - accuracy: 0.6986 - val_loss: 2.5595 - val_accuracy: 0.2857\n",
      "Epoch 10/50\n",
      "3/3 [==============================] - 0s 52ms/step - loss: 2.5542 - accuracy: 0.6301 - val_loss: 0.8803 - val_accuracy: 0.5714\n",
      "Epoch 11/50\n",
      "3/3 [==============================] - 0s 54ms/step - loss: 0.6210 - accuracy: 0.8493 - val_loss: 0.3338 - val_accuracy: 0.8571\n",
      "Epoch 12/50\n",
      "3/3 [==============================] - 0s 52ms/step - loss: 0.5129 - accuracy: 0.8904 - val_loss: 0.4857 - val_accuracy: 0.8571\n",
      "Epoch 13/50\n",
      "3/3 [==============================] - 0s 49ms/step - loss: 0.8986 - accuracy: 0.8219 - val_loss: 0.5211 - val_accuracy: 0.8571\n",
      "Epoch 14/50\n",
      "3/3 [==============================] - 0s 49ms/step - loss: 0.7297 - accuracy: 0.8219 - val_loss: 0.4340 - val_accuracy: 0.8571\n",
      "Epoch 15/50\n",
      "3/3 [==============================] - 0s 49ms/step - loss: 0.2334 - accuracy: 0.9178 - val_loss: 0.3290 - val_accuracy: 0.8571\n",
      "Epoch 16/50\n",
      "3/3 [==============================] - 0s 55ms/step - loss: 0.2956 - accuracy: 0.9041 - val_loss: 0.2834 - val_accuracy: 0.8571\n",
      "Epoch 17/50\n",
      "3/3 [==============================] - 0s 54ms/step - loss: 0.3614 - accuracy: 0.8904 - val_loss: 0.2899 - val_accuracy: 0.9286\n",
      "Epoch 18/50\n",
      "3/3 [==============================] - 0s 53ms/step - loss: 0.1482 - accuracy: 0.9315 - val_loss: 0.3038 - val_accuracy: 0.9286\n",
      "Epoch 19/50\n",
      "3/3 [==============================] - 0s 51ms/step - loss: 0.3203 - accuracy: 0.8904 - val_loss: 0.3011 - val_accuracy: 0.9286\n",
      "Epoch 20/50\n",
      "3/3 [==============================] - 0s 48ms/step - loss: 0.1265 - accuracy: 0.9452 - val_loss: 0.3024 - val_accuracy: 0.9286\n",
      "Epoch 21/50\n",
      "3/3 [==============================] - 0s 48ms/step - loss: 0.0754 - accuracy: 0.9589 - val_loss: 0.3053 - val_accuracy: 0.9286\n",
      "Epoch 22/50\n",
      "3/3 [==============================] - 0s 48ms/step - loss: 0.0424 - accuracy: 0.9863 - val_loss: 0.3138 - val_accuracy: 0.8571\n",
      "Epoch 23/50\n",
      "3/3 [==============================] - 0s 49ms/step - loss: 0.1427 - accuracy: 0.9589 - val_loss: 0.3207 - val_accuracy: 0.8571\n",
      "Epoch 24/50\n",
      "3/3 [==============================] - 0s 48ms/step - loss: 0.0673 - accuracy: 0.9726 - val_loss: 0.3251 - val_accuracy: 0.8571\n",
      "Epoch 25/50\n",
      "3/3 [==============================] - 0s 50ms/step - loss: 0.0597 - accuracy: 0.9863 - val_loss: 0.3291 - val_accuracy: 0.8571\n",
      "Epoch 26/50\n",
      "3/3 [==============================] - 0s 47ms/step - loss: 0.0688 - accuracy: 0.9452 - val_loss: 0.3322 - val_accuracy: 0.9286\n",
      "Epoch 27/50\n",
      "3/3 [==============================] - 0s 47ms/step - loss: 0.0427 - accuracy: 0.9863 - val_loss: 0.3329 - val_accuracy: 0.8571\n",
      "Epoch 28/50\n",
      "3/3 [==============================] - 0s 52ms/step - loss: 0.0445 - accuracy: 0.9726 - val_loss: 0.3346 - val_accuracy: 0.8571\n",
      "Epoch 29/50\n",
      "3/3 [==============================] - 0s 53ms/step - loss: 0.0642 - accuracy: 0.9589 - val_loss: 0.3376 - val_accuracy: 0.9286\n",
      "Epoch 30/50\n",
      "3/3 [==============================] - 0s 49ms/step - loss: 0.0619 - accuracy: 0.9452 - val_loss: 0.3423 - val_accuracy: 0.9286\n",
      "Epoch 31/50\n",
      "3/3 [==============================] - 0s 48ms/step - loss: 0.0594 - accuracy: 0.9589 - val_loss: 0.3492 - val_accuracy: 0.9286\n",
      "Epoch 32/50\n",
      "3/3 [==============================] - 0s 50ms/step - loss: 0.0386 - accuracy: 0.9726 - val_loss: 0.3535 - val_accuracy: 0.9286\n",
      "Epoch 33/50\n",
      "3/3 [==============================] - 0s 50ms/step - loss: 0.0580 - accuracy: 0.9589 - val_loss: 0.3584 - val_accuracy: 0.9286\n",
      "Epoch 34/50\n",
      "3/3 [==============================] - 0s 70ms/step - loss: 0.0329 - accuracy: 0.9726 - val_loss: 0.3637 - val_accuracy: 0.9286\n",
      "Epoch 35/50\n",
      "3/3 [==============================] - 0s 50ms/step - loss: 0.0236 - accuracy: 0.9863 - val_loss: 0.3678 - val_accuracy: 0.9286\n",
      "Epoch 36/50\n",
      "3/3 [==============================] - 0s 50ms/step - loss: 0.0171 - accuracy: 0.9863 - val_loss: 0.3704 - val_accuracy: 0.9286\n",
      "Epoch 37/50\n",
      "3/3 [==============================] - 0s 49ms/step - loss: 0.0788 - accuracy: 0.9315 - val_loss: 0.3680 - val_accuracy: 0.9286\n",
      "Epoch 38/50\n",
      "3/3 [==============================] - 0s 49ms/step - loss: 0.0345 - accuracy: 0.9863 - val_loss: 0.3597 - val_accuracy: 0.9286\n",
      "Epoch 39/50\n",
      "3/3 [==============================] - 0s 48ms/step - loss: 0.0407 - accuracy: 0.9726 - val_loss: 0.3569 - val_accuracy: 0.9286\n",
      "Epoch 40/50\n",
      "3/3 [==============================] - 0s 48ms/step - loss: 0.0590 - accuracy: 0.9589 - val_loss: 0.3565 - val_accuracy: 0.9286\n",
      "Epoch 41/50\n",
      "3/3 [==============================] - 0s 47ms/step - loss: 0.0379 - accuracy: 0.9589 - val_loss: 0.3568 - val_accuracy: 0.9286\n",
      "Epoch 42/50\n",
      "3/3 [==============================] - 0s 50ms/step - loss: 0.0465 - accuracy: 0.9589 - val_loss: 0.3565 - val_accuracy: 0.9286\n",
      "Epoch 43/50\n",
      "3/3 [==============================] - 0s 49ms/step - loss: 0.0409 - accuracy: 0.9589 - val_loss: 0.3561 - val_accuracy: 0.9286\n",
      "Epoch 44/50\n",
      "3/3 [==============================] - 0s 48ms/step - loss: 0.0413 - accuracy: 0.9726 - val_loss: 0.3560 - val_accuracy: 0.9286\n",
      "Epoch 45/50\n",
      "3/3 [==============================] - 0s 49ms/step - loss: 0.0169 - accuracy: 1.0000 - val_loss: 0.3534 - val_accuracy: 0.9286\n",
      "Epoch 46/50\n",
      "3/3 [==============================] - 0s 48ms/step - loss: 0.0519 - accuracy: 0.9726 - val_loss: 0.3455 - val_accuracy: 0.9286\n",
      "Epoch 47/50\n",
      "3/3 [==============================] - 0s 48ms/step - loss: 0.0417 - accuracy: 0.9726 - val_loss: 0.3565 - val_accuracy: 0.9286\n",
      "Epoch 48/50\n",
      "3/3 [==============================] - 0s 49ms/step - loss: 0.0453 - accuracy: 0.9863 - val_loss: 0.3642 - val_accuracy: 0.9286\n",
      "Epoch 49/50\n",
      "3/3 [==============================] - 0s 49ms/step - loss: 0.0273 - accuracy: 1.0000 - val_loss: 0.3703 - val_accuracy: 0.9286\n",
      "Epoch 50/50\n",
      "3/3 [==============================] - 0s 49ms/step - loss: 0.0320 - accuracy: 1.0000 - val_loss: 0.3762 - val_accuracy: 0.9286\n"
     ]
    }
   ],
   "source": [
    "# define and train CNN Model\n",
    "model2 = tf.keras.Sequential([\n",
    "    tf.keras.layers.Conv2D(16, (2, 2), padding = \"same\",strides = (1,1), activation='relu',\n",
    "                           input_shape=(378, 88, 1)),\n",
    "    \n",
    "    tf.keras.layers.MaxPooling2D((2, 2)),\n",
    "    tf.keras.layers.Dropout(0.1),\n",
    "    tf.keras.layers.Conv2D(16, (2, 2),  padding = \"same\",strides = (1,1),activation='relu'),\n",
    "  \n",
    "    tf.keras.layers.MaxPooling2D((2, 2)),\n",
    "    tf.keras.layers.Dropout(0.1),\n",
    "    \n",
    "    # tf.keras.layers.Conv2D(4, (2, 2), activation='relu', padding = \"same\",strides = (1,1),\n",
    "    #                        kernel_regularizer=tf.keras.regularizers.L2(l2=0.001)),\n",
    "    # tf.keras.layers.MaxPooling2D((2, 2)),\n",
    "    tf.keras.layers.Flatten(),\n",
    "    tf.keras.layers.Dense(32, activation='relu'),\n",
    "    tf.keras.layers.Dropout(0.1),\n",
    "    tf.keras.layers.Dense(1, activation='sigmoid')\n",
    "])\n",
    "\n",
    "model2.compile(optimizer='adam', loss='binary_crossentropy', metrics=['accuracy'])\n",
    "\n",
    "history2 = model2.fit(features_tensor, depression_labels, epochs=50, batch_size=32, validation_split=0.15)"
   ]
  },
  {
   "cell_type": "code",
   "execution_count": 45,
   "metadata": {},
   "outputs": [
    {
     "data": {
      "image/png": "[encoded data removed]",
      "text/plain": [
       "<Figure size 600x400 with 1 Axes>"
      ]
     },
     "metadata": {},
     "output_type": "display_data"
    }
   ],
   "source": [
    "# plot the model\n",
    "fig, ax = plt.subplots(figsize=(6, 4))\n",
    "plt.plot(history2.history[\"loss\"], label=\"loss\")\n",
    "plt.plot(history2.history[\"val_loss\"], label=\"val_loss\")\n",
    "plt.title(\"Learning Rate = 0.001\")\n",
    "plt.xlabel(\"Epochs\")\n",
    "plt.ylabel(\"Cost\")\n",
    "plt.legend()\n",
    "plt.show()"
   ]
  },
  {
   "cell_type": "code",
   "execution_count": 46,
   "metadata": {},
   "outputs": [
    {
     "data": {
      "image/png": "[encoded data removed]",
      "text/plain": [
       "<Figure size 600x400 with 1 Axes>"
      ]
     },
     "metadata": {},
     "output_type": "display_data"
    }
   ],
   "source": [
    "fig, ax = plt.subplots(figsize=(6, 4))\n",
    "plt.plot(history2.history[\"accuracy\"], label=\"accuracy\")\n",
    "plt.plot(history2.history[\"val_accuracy\"], label=\"val_accuracy\")\n",
    "plt.title(\"Learning Rate = 0.001\")\n",
    "plt.xlabel(\"Epochs\")\n",
    "plt.ylabel(\"Accuracy\")\n",
    "plt.legend()\n",
    "plt.show()"
   ]
  },
  {
   "cell_type": "code",
   "execution_count": null,
   "metadata": {},
   "outputs": [],
   "source": []
  }
 ],
 "metadata": {
  "kernelspec": {
   "display_name": "base",
   "language": "python",
   "name": "python3"
  },
  "language_info": {
   "codemirror_mode": {
    "name": "ipython",
    "version": 3
   },
   "file_extension": ".py",
   "mimetype": "text/x-python",
   "name": "python",
   "nbconvert_exporter": "python",
   "pygments_lexer": "ipython3",
   "version": "3.11.5"
  }
 },
 "nbformat": 4,
 "nbformat_minor": 2
}
